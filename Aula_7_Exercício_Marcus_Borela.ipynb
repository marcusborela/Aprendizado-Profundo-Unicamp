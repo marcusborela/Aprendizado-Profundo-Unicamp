{
  "nbformat": 4,
  "nbformat_minor": 0,
  "metadata": {
    "colab": {
      "name": "Cópia de Aula 7 - Exercício - Marcus Borela",
      "provenance": [],
      "collapsed_sections": [],
      "machine_shape": "hm",
      "include_colab_link": true
    },
    "kernelspec": {
      "name": "python3",
      "display_name": "Python 3"
    },
    "widgets": {
      "application/vnd.jupyter.widget-state+json": {
        "686a6b1387824ac8bf076fa7e51f6036": {
          "model_module": "@jupyter-widgets/controls",
          "model_name": "HBoxModel",
          "model_module_version": "1.5.0",
          "state": {
            "_dom_classes": [],
            "_model_module": "@jupyter-widgets/controls",
            "_model_module_version": "1.5.0",
            "_model_name": "HBoxModel",
            "_view_count": null,
            "_view_module": "@jupyter-widgets/controls",
            "_view_module_version": "1.5.0",
            "_view_name": "HBoxView",
            "box_style": "",
            "children": [
              "IPY_MODEL_448051b4793f417aab8cbb37893da74c",
              "IPY_MODEL_c4c2982422d84f748b621bcd4f8103b7",
              "IPY_MODEL_d0d9e95b3f784ce9aba8e8d58bc5d074"
            ],
            "layout": "IPY_MODEL_73d69281b9d34627891e515a99b19fd2"
          }
        },
        "448051b4793f417aab8cbb37893da74c": {
          "model_module": "@jupyter-widgets/controls",
          "model_name": "HTMLModel",
          "model_module_version": "1.5.0",
          "state": {
            "_dom_classes": [],
            "_model_module": "@jupyter-widgets/controls",
            "_model_module_version": "1.5.0",
            "_model_name": "HTMLModel",
            "_view_count": null,
            "_view_module": "@jupyter-widgets/controls",
            "_view_module_version": "1.5.0",
            "_view_name": "HTMLView",
            "description": "",
            "description_tooltip": null,
            "layout": "IPY_MODEL_4353b88da7fc4cf1b2502a2699c1e054",
            "placeholder": "​",
            "style": "IPY_MODEL_3a6ebc68438e4d1990c3845dad681cc5",
            "value": "Downloading: 100%"
          }
        },
        "c4c2982422d84f748b621bcd4f8103b7": {
          "model_module": "@jupyter-widgets/controls",
          "model_name": "FloatProgressModel",
          "model_module_version": "1.5.0",
          "state": {
            "_dom_classes": [],
            "_model_module": "@jupyter-widgets/controls",
            "_model_module_version": "1.5.0",
            "_model_name": "FloatProgressModel",
            "_view_count": null,
            "_view_module": "@jupyter-widgets/controls",
            "_view_module_version": "1.5.0",
            "_view_name": "ProgressView",
            "bar_style": "success",
            "description": "",
            "description_tooltip": null,
            "layout": "IPY_MODEL_d4f57d402b0547d58e763dc0410f016d",
            "max": 209528,
            "min": 0,
            "orientation": "horizontal",
            "style": "IPY_MODEL_c8210a6bce434a4f800b184430d2d5a8",
            "value": 209528
          }
        },
        "d0d9e95b3f784ce9aba8e8d58bc5d074": {
          "model_module": "@jupyter-widgets/controls",
          "model_name": "HTMLModel",
          "model_module_version": "1.5.0",
          "state": {
            "_dom_classes": [],
            "_model_module": "@jupyter-widgets/controls",
            "_model_module_version": "1.5.0",
            "_model_name": "HTMLModel",
            "_view_count": null,
            "_view_module": "@jupyter-widgets/controls",
            "_view_module_version": "1.5.0",
            "_view_name": "HTMLView",
            "description": "",
            "description_tooltip": null,
            "layout": "IPY_MODEL_35bc1b89f9204a9c928eccb6ac3f9af9",
            "placeholder": "​",
            "style": "IPY_MODEL_6390c3a790004ddf96962cdcae9ea967",
            "value": " 205k/205k [00:00&lt;00:00, 221kB/s]"
          }
        },
        "73d69281b9d34627891e515a99b19fd2": {
          "model_module": "@jupyter-widgets/base",
          "model_name": "LayoutModel",
          "model_module_version": "1.2.0",
          "state": {
            "_model_module": "@jupyter-widgets/base",
            "_model_module_version": "1.2.0",
            "_model_name": "LayoutModel",
            "_view_count": null,
            "_view_module": "@jupyter-widgets/base",
            "_view_module_version": "1.2.0",
            "_view_name": "LayoutView",
            "align_content": null,
            "align_items": null,
            "align_self": null,
            "border": null,
            "bottom": null,
            "display": null,
            "flex": null,
            "flex_flow": null,
            "grid_area": null,
            "grid_auto_columns": null,
            "grid_auto_flow": null,
            "grid_auto_rows": null,
            "grid_column": null,
            "grid_gap": null,
            "grid_row": null,
            "grid_template_areas": null,
            "grid_template_columns": null,
            "grid_template_rows": null,
            "height": null,
            "justify_content": null,
            "justify_items": null,
            "left": null,
            "margin": null,
            "max_height": null,
            "max_width": null,
            "min_height": null,
            "min_width": null,
            "object_fit": null,
            "object_position": null,
            "order": null,
            "overflow": null,
            "overflow_x": null,
            "overflow_y": null,
            "padding": null,
            "right": null,
            "top": null,
            "visibility": null,
            "width": null
          }
        },
        "4353b88da7fc4cf1b2502a2699c1e054": {
          "model_module": "@jupyter-widgets/base",
          "model_name": "LayoutModel",
          "model_module_version": "1.2.0",
          "state": {
            "_model_module": "@jupyter-widgets/base",
            "_model_module_version": "1.2.0",
            "_model_name": "LayoutModel",
            "_view_count": null,
            "_view_module": "@jupyter-widgets/base",
            "_view_module_version": "1.2.0",
            "_view_name": "LayoutView",
            "align_content": null,
            "align_items": null,
            "align_self": null,
            "border": null,
            "bottom": null,
            "display": null,
            "flex": null,
            "flex_flow": null,
            "grid_area": null,
            "grid_auto_columns": null,
            "grid_auto_flow": null,
            "grid_auto_rows": null,
            "grid_column": null,
            "grid_gap": null,
            "grid_row": null,
            "grid_template_areas": null,
            "grid_template_columns": null,
            "grid_template_rows": null,
            "height": null,
            "justify_content": null,
            "justify_items": null,
            "left": null,
            "margin": null,
            "max_height": null,
            "max_width": null,
            "min_height": null,
            "min_width": null,
            "object_fit": null,
            "object_position": null,
            "order": null,
            "overflow": null,
            "overflow_x": null,
            "overflow_y": null,
            "padding": null,
            "right": null,
            "top": null,
            "visibility": null,
            "width": null
          }
        },
        "3a6ebc68438e4d1990c3845dad681cc5": {
          "model_module": "@jupyter-widgets/controls",
          "model_name": "DescriptionStyleModel",
          "model_module_version": "1.5.0",
          "state": {
            "_model_module": "@jupyter-widgets/controls",
            "_model_module_version": "1.5.0",
            "_model_name": "DescriptionStyleModel",
            "_view_count": null,
            "_view_module": "@jupyter-widgets/base",
            "_view_module_version": "1.2.0",
            "_view_name": "StyleView",
            "description_width": ""
          }
        },
        "d4f57d402b0547d58e763dc0410f016d": {
          "model_module": "@jupyter-widgets/base",
          "model_name": "LayoutModel",
          "model_module_version": "1.2.0",
          "state": {
            "_model_module": "@jupyter-widgets/base",
            "_model_module_version": "1.2.0",
            "_model_name": "LayoutModel",
            "_view_count": null,
            "_view_module": "@jupyter-widgets/base",
            "_view_module_version": "1.2.0",
            "_view_name": "LayoutView",
            "align_content": null,
            "align_items": null,
            "align_self": null,
            "border": null,
            "bottom": null,
            "display": null,
            "flex": null,
            "flex_flow": null,
            "grid_area": null,
            "grid_auto_columns": null,
            "grid_auto_flow": null,
            "grid_auto_rows": null,
            "grid_column": null,
            "grid_gap": null,
            "grid_row": null,
            "grid_template_areas": null,
            "grid_template_columns": null,
            "grid_template_rows": null,
            "height": null,
            "justify_content": null,
            "justify_items": null,
            "left": null,
            "margin": null,
            "max_height": null,
            "max_width": null,
            "min_height": null,
            "min_width": null,
            "object_fit": null,
            "object_position": null,
            "order": null,
            "overflow": null,
            "overflow_x": null,
            "overflow_y": null,
            "padding": null,
            "right": null,
            "top": null,
            "visibility": null,
            "width": null
          }
        },
        "c8210a6bce434a4f800b184430d2d5a8": {
          "model_module": "@jupyter-widgets/controls",
          "model_name": "ProgressStyleModel",
          "model_module_version": "1.5.0",
          "state": {
            "_model_module": "@jupyter-widgets/controls",
            "_model_module_version": "1.5.0",
            "_model_name": "ProgressStyleModel",
            "_view_count": null,
            "_view_module": "@jupyter-widgets/base",
            "_view_module_version": "1.2.0",
            "_view_name": "StyleView",
            "bar_color": null,
            "description_width": ""
          }
        },
        "35bc1b89f9204a9c928eccb6ac3f9af9": {
          "model_module": "@jupyter-widgets/base",
          "model_name": "LayoutModel",
          "model_module_version": "1.2.0",
          "state": {
            "_model_module": "@jupyter-widgets/base",
            "_model_module_version": "1.2.0",
            "_model_name": "LayoutModel",
            "_view_count": null,
            "_view_module": "@jupyter-widgets/base",
            "_view_module_version": "1.2.0",
            "_view_name": "LayoutView",
            "align_content": null,
            "align_items": null,
            "align_self": null,
            "border": null,
            "bottom": null,
            "display": null,
            "flex": null,
            "flex_flow": null,
            "grid_area": null,
            "grid_auto_columns": null,
            "grid_auto_flow": null,
            "grid_auto_rows": null,
            "grid_column": null,
            "grid_gap": null,
            "grid_row": null,
            "grid_template_areas": null,
            "grid_template_columns": null,
            "grid_template_rows": null,
            "height": null,
            "justify_content": null,
            "justify_items": null,
            "left": null,
            "margin": null,
            "max_height": null,
            "max_width": null,
            "min_height": null,
            "min_width": null,
            "object_fit": null,
            "object_position": null,
            "order": null,
            "overflow": null,
            "overflow_x": null,
            "overflow_y": null,
            "padding": null,
            "right": null,
            "top": null,
            "visibility": null,
            "width": null
          }
        },
        "6390c3a790004ddf96962cdcae9ea967": {
          "model_module": "@jupyter-widgets/controls",
          "model_name": "DescriptionStyleModel",
          "model_module_version": "1.5.0",
          "state": {
            "_model_module": "@jupyter-widgets/controls",
            "_model_module_version": "1.5.0",
            "_model_name": "DescriptionStyleModel",
            "_view_count": null,
            "_view_module": "@jupyter-widgets/base",
            "_view_module_version": "1.2.0",
            "_view_name": "StyleView",
            "description_width": ""
          }
        },
        "bef3be0756104d6096b67836e7dae18a": {
          "model_module": "@jupyter-widgets/controls",
          "model_name": "HBoxModel",
          "model_module_version": "1.5.0",
          "state": {
            "_dom_classes": [],
            "_model_module": "@jupyter-widgets/controls",
            "_model_module_version": "1.5.0",
            "_model_name": "HBoxModel",
            "_view_count": null,
            "_view_module": "@jupyter-widgets/controls",
            "_view_module_version": "1.5.0",
            "_view_name": "HBoxView",
            "box_style": "",
            "children": [
              "IPY_MODEL_c14aadf9a89f4e31bd5053edbc3cc5d1",
              "IPY_MODEL_d0f2c5f8144f4bd096442220d5055b22",
              "IPY_MODEL_6c4e1c8fa99946298b302fb65285aec8"
            ],
            "layout": "IPY_MODEL_af38ceb3535e4f67b28bcca0e8c87a45"
          }
        },
        "c14aadf9a89f4e31bd5053edbc3cc5d1": {
          "model_module": "@jupyter-widgets/controls",
          "model_name": "HTMLModel",
          "model_module_version": "1.5.0",
          "state": {
            "_dom_classes": [],
            "_model_module": "@jupyter-widgets/controls",
            "_model_module_version": "1.5.0",
            "_model_name": "HTMLModel",
            "_view_count": null,
            "_view_module": "@jupyter-widgets/controls",
            "_view_module_version": "1.5.0",
            "_view_name": "HTMLView",
            "description": "",
            "description_tooltip": null,
            "layout": "IPY_MODEL_07bb6adf275a45ee980390c9d18970dc",
            "placeholder": "​",
            "style": "IPY_MODEL_c1861869180c4655a64bf83dfb079f8f",
            "value": "Downloading: 100%"
          }
        },
        "d0f2c5f8144f4bd096442220d5055b22": {
          "model_module": "@jupyter-widgets/controls",
          "model_name": "FloatProgressModel",
          "model_module_version": "1.5.0",
          "state": {
            "_dom_classes": [],
            "_model_module": "@jupyter-widgets/controls",
            "_model_module_version": "1.5.0",
            "_model_name": "FloatProgressModel",
            "_view_count": null,
            "_view_module": "@jupyter-widgets/controls",
            "_view_module_version": "1.5.0",
            "_view_name": "ProgressView",
            "bar_style": "success",
            "description": "",
            "description_tooltip": null,
            "layout": "IPY_MODEL_74e924faf2e7435fbe85fd7e56b0a09e",
            "max": 2,
            "min": 0,
            "orientation": "horizontal",
            "style": "IPY_MODEL_c0901493fb094f5ba889e47c1f19d40b",
            "value": 2
          }
        },
        "6c4e1c8fa99946298b302fb65285aec8": {
          "model_module": "@jupyter-widgets/controls",
          "model_name": "HTMLModel",
          "model_module_version": "1.5.0",
          "state": {
            "_dom_classes": [],
            "_model_module": "@jupyter-widgets/controls",
            "_model_module_version": "1.5.0",
            "_model_name": "HTMLModel",
            "_view_count": null,
            "_view_module": "@jupyter-widgets/controls",
            "_view_module_version": "1.5.0",
            "_view_name": "HTMLView",
            "description": "",
            "description_tooltip": null,
            "layout": "IPY_MODEL_336c59aced804040a7e4d2d3683a1e9e",
            "placeholder": "​",
            "style": "IPY_MODEL_f2f29cbb4b5f428f8307d3227eca2fbc",
            "value": " 2.00/2.00 [00:00&lt;00:00, 88.4B/s]"
          }
        },
        "af38ceb3535e4f67b28bcca0e8c87a45": {
          "model_module": "@jupyter-widgets/base",
          "model_name": "LayoutModel",
          "model_module_version": "1.2.0",
          "state": {
            "_model_module": "@jupyter-widgets/base",
            "_model_module_version": "1.2.0",
            "_model_name": "LayoutModel",
            "_view_count": null,
            "_view_module": "@jupyter-widgets/base",
            "_view_module_version": "1.2.0",
            "_view_name": "LayoutView",
            "align_content": null,
            "align_items": null,
            "align_self": null,
            "border": null,
            "bottom": null,
            "display": null,
            "flex": null,
            "flex_flow": null,
            "grid_area": null,
            "grid_auto_columns": null,
            "grid_auto_flow": null,
            "grid_auto_rows": null,
            "grid_column": null,
            "grid_gap": null,
            "grid_row": null,
            "grid_template_areas": null,
            "grid_template_columns": null,
            "grid_template_rows": null,
            "height": null,
            "justify_content": null,
            "justify_items": null,
            "left": null,
            "margin": null,
            "max_height": null,
            "max_width": null,
            "min_height": null,
            "min_width": null,
            "object_fit": null,
            "object_position": null,
            "order": null,
            "overflow": null,
            "overflow_x": null,
            "overflow_y": null,
            "padding": null,
            "right": null,
            "top": null,
            "visibility": null,
            "width": null
          }
        },
        "07bb6adf275a45ee980390c9d18970dc": {
          "model_module": "@jupyter-widgets/base",
          "model_name": "LayoutModel",
          "model_module_version": "1.2.0",
          "state": {
            "_model_module": "@jupyter-widgets/base",
            "_model_module_version": "1.2.0",
            "_model_name": "LayoutModel",
            "_view_count": null,
            "_view_module": "@jupyter-widgets/base",
            "_view_module_version": "1.2.0",
            "_view_name": "LayoutView",
            "align_content": null,
            "align_items": null,
            "align_self": null,
            "border": null,
            "bottom": null,
            "display": null,
            "flex": null,
            "flex_flow": null,
            "grid_area": null,
            "grid_auto_columns": null,
            "grid_auto_flow": null,
            "grid_auto_rows": null,
            "grid_column": null,
            "grid_gap": null,
            "grid_row": null,
            "grid_template_areas": null,
            "grid_template_columns": null,
            "grid_template_rows": null,
            "height": null,
            "justify_content": null,
            "justify_items": null,
            "left": null,
            "margin": null,
            "max_height": null,
            "max_width": null,
            "min_height": null,
            "min_width": null,
            "object_fit": null,
            "object_position": null,
            "order": null,
            "overflow": null,
            "overflow_x": null,
            "overflow_y": null,
            "padding": null,
            "right": null,
            "top": null,
            "visibility": null,
            "width": null
          }
        },
        "c1861869180c4655a64bf83dfb079f8f": {
          "model_module": "@jupyter-widgets/controls",
          "model_name": "DescriptionStyleModel",
          "model_module_version": "1.5.0",
          "state": {
            "_model_module": "@jupyter-widgets/controls",
            "_model_module_version": "1.5.0",
            "_model_name": "DescriptionStyleModel",
            "_view_count": null,
            "_view_module": "@jupyter-widgets/base",
            "_view_module_version": "1.2.0",
            "_view_name": "StyleView",
            "description_width": ""
          }
        },
        "74e924faf2e7435fbe85fd7e56b0a09e": {
          "model_module": "@jupyter-widgets/base",
          "model_name": "LayoutModel",
          "model_module_version": "1.2.0",
          "state": {
            "_model_module": "@jupyter-widgets/base",
            "_model_module_version": "1.2.0",
            "_model_name": "LayoutModel",
            "_view_count": null,
            "_view_module": "@jupyter-widgets/base",
            "_view_module_version": "1.2.0",
            "_view_name": "LayoutView",
            "align_content": null,
            "align_items": null,
            "align_self": null,
            "border": null,
            "bottom": null,
            "display": null,
            "flex": null,
            "flex_flow": null,
            "grid_area": null,
            "grid_auto_columns": null,
            "grid_auto_flow": null,
            "grid_auto_rows": null,
            "grid_column": null,
            "grid_gap": null,
            "grid_row": null,
            "grid_template_areas": null,
            "grid_template_columns": null,
            "grid_template_rows": null,
            "height": null,
            "justify_content": null,
            "justify_items": null,
            "left": null,
            "margin": null,
            "max_height": null,
            "max_width": null,
            "min_height": null,
            "min_width": null,
            "object_fit": null,
            "object_position": null,
            "order": null,
            "overflow": null,
            "overflow_x": null,
            "overflow_y": null,
            "padding": null,
            "right": null,
            "top": null,
            "visibility": null,
            "width": null
          }
        },
        "c0901493fb094f5ba889e47c1f19d40b": {
          "model_module": "@jupyter-widgets/controls",
          "model_name": "ProgressStyleModel",
          "model_module_version": "1.5.0",
          "state": {
            "_model_module": "@jupyter-widgets/controls",
            "_model_module_version": "1.5.0",
            "_model_name": "ProgressStyleModel",
            "_view_count": null,
            "_view_module": "@jupyter-widgets/base",
            "_view_module_version": "1.2.0",
            "_view_name": "StyleView",
            "bar_color": null,
            "description_width": ""
          }
        },
        "336c59aced804040a7e4d2d3683a1e9e": {
          "model_module": "@jupyter-widgets/base",
          "model_name": "LayoutModel",
          "model_module_version": "1.2.0",
          "state": {
            "_model_module": "@jupyter-widgets/base",
            "_model_module_version": "1.2.0",
            "_model_name": "LayoutModel",
            "_view_count": null,
            "_view_module": "@jupyter-widgets/base",
            "_view_module_version": "1.2.0",
            "_view_name": "LayoutView",
            "align_content": null,
            "align_items": null,
            "align_self": null,
            "border": null,
            "bottom": null,
            "display": null,
            "flex": null,
            "flex_flow": null,
            "grid_area": null,
            "grid_auto_columns": null,
            "grid_auto_flow": null,
            "grid_auto_rows": null,
            "grid_column": null,
            "grid_gap": null,
            "grid_row": null,
            "grid_template_areas": null,
            "grid_template_columns": null,
            "grid_template_rows": null,
            "height": null,
            "justify_content": null,
            "justify_items": null,
            "left": null,
            "margin": null,
            "max_height": null,
            "max_width": null,
            "min_height": null,
            "min_width": null,
            "object_fit": null,
            "object_position": null,
            "order": null,
            "overflow": null,
            "overflow_x": null,
            "overflow_y": null,
            "padding": null,
            "right": null,
            "top": null,
            "visibility": null,
            "width": null
          }
        },
        "f2f29cbb4b5f428f8307d3227eca2fbc": {
          "model_module": "@jupyter-widgets/controls",
          "model_name": "DescriptionStyleModel",
          "model_module_version": "1.5.0",
          "state": {
            "_model_module": "@jupyter-widgets/controls",
            "_model_module_version": "1.5.0",
            "_model_name": "DescriptionStyleModel",
            "_view_count": null,
            "_view_module": "@jupyter-widgets/base",
            "_view_module_version": "1.2.0",
            "_view_name": "StyleView",
            "description_width": ""
          }
        },
        "6c6bf50ee6604ddbb67e74e9a1dc08cf": {
          "model_module": "@jupyter-widgets/controls",
          "model_name": "HBoxModel",
          "model_module_version": "1.5.0",
          "state": {
            "_dom_classes": [],
            "_model_module": "@jupyter-widgets/controls",
            "_model_module_version": "1.5.0",
            "_model_name": "HBoxModel",
            "_view_count": null,
            "_view_module": "@jupyter-widgets/controls",
            "_view_module_version": "1.5.0",
            "_view_name": "HBoxView",
            "box_style": "",
            "children": [
              "IPY_MODEL_04839b87b90a441498c0da37a050b507",
              "IPY_MODEL_21d2229af6b4445b998e78175f1f895b",
              "IPY_MODEL_de1d321f788f4791b735d6d6c98d49fe"
            ],
            "layout": "IPY_MODEL_c29d9eb8e38d4a3fbe8d360b6e49292b"
          }
        },
        "04839b87b90a441498c0da37a050b507": {
          "model_module": "@jupyter-widgets/controls",
          "model_name": "HTMLModel",
          "model_module_version": "1.5.0",
          "state": {
            "_dom_classes": [],
            "_model_module": "@jupyter-widgets/controls",
            "_model_module_version": "1.5.0",
            "_model_name": "HTMLModel",
            "_view_count": null,
            "_view_module": "@jupyter-widgets/controls",
            "_view_module_version": "1.5.0",
            "_view_name": "HTMLView",
            "description": "",
            "description_tooltip": null,
            "layout": "IPY_MODEL_f22b6a90d8004d568f2b5dbfeb461920",
            "placeholder": "​",
            "style": "IPY_MODEL_09b47cd0ae9a4de288af31cf958a9772",
            "value": "Downloading: 100%"
          }
        },
        "21d2229af6b4445b998e78175f1f895b": {
          "model_module": "@jupyter-widgets/controls",
          "model_name": "FloatProgressModel",
          "model_module_version": "1.5.0",
          "state": {
            "_dom_classes": [],
            "_model_module": "@jupyter-widgets/controls",
            "_model_module_version": "1.5.0",
            "_model_name": "FloatProgressModel",
            "_view_count": null,
            "_view_module": "@jupyter-widgets/controls",
            "_view_module_version": "1.5.0",
            "_view_name": "ProgressView",
            "bar_style": "success",
            "description": "",
            "description_tooltip": null,
            "layout": "IPY_MODEL_f44d5060c8824cd096f33cc8e9d9992a",
            "max": 112,
            "min": 0,
            "orientation": "horizontal",
            "style": "IPY_MODEL_bbd25caf26704857ac8c0138942429b8",
            "value": 112
          }
        },
        "de1d321f788f4791b735d6d6c98d49fe": {
          "model_module": "@jupyter-widgets/controls",
          "model_name": "HTMLModel",
          "model_module_version": "1.5.0",
          "state": {
            "_dom_classes": [],
            "_model_module": "@jupyter-widgets/controls",
            "_model_module_version": "1.5.0",
            "_model_name": "HTMLModel",
            "_view_count": null,
            "_view_module": "@jupyter-widgets/controls",
            "_view_module_version": "1.5.0",
            "_view_name": "HTMLView",
            "description": "",
            "description_tooltip": null,
            "layout": "IPY_MODEL_923333a5c8ca443190cc39fe21c3379f",
            "placeholder": "​",
            "style": "IPY_MODEL_d2794b2e6a0147ec8ba51293a8e40ec3",
            "value": " 112/112 [00:00&lt;00:00, 4.38kB/s]"
          }
        },
        "c29d9eb8e38d4a3fbe8d360b6e49292b": {
          "model_module": "@jupyter-widgets/base",
          "model_name": "LayoutModel",
          "model_module_version": "1.2.0",
          "state": {
            "_model_module": "@jupyter-widgets/base",
            "_model_module_version": "1.2.0",
            "_model_name": "LayoutModel",
            "_view_count": null,
            "_view_module": "@jupyter-widgets/base",
            "_view_module_version": "1.2.0",
            "_view_name": "LayoutView",
            "align_content": null,
            "align_items": null,
            "align_self": null,
            "border": null,
            "bottom": null,
            "display": null,
            "flex": null,
            "flex_flow": null,
            "grid_area": null,
            "grid_auto_columns": null,
            "grid_auto_flow": null,
            "grid_auto_rows": null,
            "grid_column": null,
            "grid_gap": null,
            "grid_row": null,
            "grid_template_areas": null,
            "grid_template_columns": null,
            "grid_template_rows": null,
            "height": null,
            "justify_content": null,
            "justify_items": null,
            "left": null,
            "margin": null,
            "max_height": null,
            "max_width": null,
            "min_height": null,
            "min_width": null,
            "object_fit": null,
            "object_position": null,
            "order": null,
            "overflow": null,
            "overflow_x": null,
            "overflow_y": null,
            "padding": null,
            "right": null,
            "top": null,
            "visibility": null,
            "width": null
          }
        },
        "f22b6a90d8004d568f2b5dbfeb461920": {
          "model_module": "@jupyter-widgets/base",
          "model_name": "LayoutModel",
          "model_module_version": "1.2.0",
          "state": {
            "_model_module": "@jupyter-widgets/base",
            "_model_module_version": "1.2.0",
            "_model_name": "LayoutModel",
            "_view_count": null,
            "_view_module": "@jupyter-widgets/base",
            "_view_module_version": "1.2.0",
            "_view_name": "LayoutView",
            "align_content": null,
            "align_items": null,
            "align_self": null,
            "border": null,
            "bottom": null,
            "display": null,
            "flex": null,
            "flex_flow": null,
            "grid_area": null,
            "grid_auto_columns": null,
            "grid_auto_flow": null,
            "grid_auto_rows": null,
            "grid_column": null,
            "grid_gap": null,
            "grid_row": null,
            "grid_template_areas": null,
            "grid_template_columns": null,
            "grid_template_rows": null,
            "height": null,
            "justify_content": null,
            "justify_items": null,
            "left": null,
            "margin": null,
            "max_height": null,
            "max_width": null,
            "min_height": null,
            "min_width": null,
            "object_fit": null,
            "object_position": null,
            "order": null,
            "overflow": null,
            "overflow_x": null,
            "overflow_y": null,
            "padding": null,
            "right": null,
            "top": null,
            "visibility": null,
            "width": null
          }
        },
        "09b47cd0ae9a4de288af31cf958a9772": {
          "model_module": "@jupyter-widgets/controls",
          "model_name": "DescriptionStyleModel",
          "model_module_version": "1.5.0",
          "state": {
            "_model_module": "@jupyter-widgets/controls",
            "_model_module_version": "1.5.0",
            "_model_name": "DescriptionStyleModel",
            "_view_count": null,
            "_view_module": "@jupyter-widgets/base",
            "_view_module_version": "1.2.0",
            "_view_name": "StyleView",
            "description_width": ""
          }
        },
        "f44d5060c8824cd096f33cc8e9d9992a": {
          "model_module": "@jupyter-widgets/base",
          "model_name": "LayoutModel",
          "model_module_version": "1.2.0",
          "state": {
            "_model_module": "@jupyter-widgets/base",
            "_model_module_version": "1.2.0",
            "_model_name": "LayoutModel",
            "_view_count": null,
            "_view_module": "@jupyter-widgets/base",
            "_view_module_version": "1.2.0",
            "_view_name": "LayoutView",
            "align_content": null,
            "align_items": null,
            "align_self": null,
            "border": null,
            "bottom": null,
            "display": null,
            "flex": null,
            "flex_flow": null,
            "grid_area": null,
            "grid_auto_columns": null,
            "grid_auto_flow": null,
            "grid_auto_rows": null,
            "grid_column": null,
            "grid_gap": null,
            "grid_row": null,
            "grid_template_areas": null,
            "grid_template_columns": null,
            "grid_template_rows": null,
            "height": null,
            "justify_content": null,
            "justify_items": null,
            "left": null,
            "margin": null,
            "max_height": null,
            "max_width": null,
            "min_height": null,
            "min_width": null,
            "object_fit": null,
            "object_position": null,
            "order": null,
            "overflow": null,
            "overflow_x": null,
            "overflow_y": null,
            "padding": null,
            "right": null,
            "top": null,
            "visibility": null,
            "width": null
          }
        },
        "bbd25caf26704857ac8c0138942429b8": {
          "model_module": "@jupyter-widgets/controls",
          "model_name": "ProgressStyleModel",
          "model_module_version": "1.5.0",
          "state": {
            "_model_module": "@jupyter-widgets/controls",
            "_model_module_version": "1.5.0",
            "_model_name": "ProgressStyleModel",
            "_view_count": null,
            "_view_module": "@jupyter-widgets/base",
            "_view_module_version": "1.2.0",
            "_view_name": "StyleView",
            "bar_color": null,
            "description_width": ""
          }
        },
        "923333a5c8ca443190cc39fe21c3379f": {
          "model_module": "@jupyter-widgets/base",
          "model_name": "LayoutModel",
          "model_module_version": "1.2.0",
          "state": {
            "_model_module": "@jupyter-widgets/base",
            "_model_module_version": "1.2.0",
            "_model_name": "LayoutModel",
            "_view_count": null,
            "_view_module": "@jupyter-widgets/base",
            "_view_module_version": "1.2.0",
            "_view_name": "LayoutView",
            "align_content": null,
            "align_items": null,
            "align_self": null,
            "border": null,
            "bottom": null,
            "display": null,
            "flex": null,
            "flex_flow": null,
            "grid_area": null,
            "grid_auto_columns": null,
            "grid_auto_flow": null,
            "grid_auto_rows": null,
            "grid_column": null,
            "grid_gap": null,
            "grid_row": null,
            "grid_template_areas": null,
            "grid_template_columns": null,
            "grid_template_rows": null,
            "height": null,
            "justify_content": null,
            "justify_items": null,
            "left": null,
            "margin": null,
            "max_height": null,
            "max_width": null,
            "min_height": null,
            "min_width": null,
            "object_fit": null,
            "object_position": null,
            "order": null,
            "overflow": null,
            "overflow_x": null,
            "overflow_y": null,
            "padding": null,
            "right": null,
            "top": null,
            "visibility": null,
            "width": null
          }
        },
        "d2794b2e6a0147ec8ba51293a8e40ec3": {
          "model_module": "@jupyter-widgets/controls",
          "model_name": "DescriptionStyleModel",
          "model_module_version": "1.5.0",
          "state": {
            "_model_module": "@jupyter-widgets/controls",
            "_model_module_version": "1.5.0",
            "_model_name": "DescriptionStyleModel",
            "_view_count": null,
            "_view_module": "@jupyter-widgets/base",
            "_view_module_version": "1.2.0",
            "_view_name": "StyleView",
            "description_width": ""
          }
        },
        "5ea7cc5de93e41ceb3d50936e6baafb4": {
          "model_module": "@jupyter-widgets/controls",
          "model_name": "HBoxModel",
          "model_module_version": "1.5.0",
          "state": {
            "_dom_classes": [],
            "_model_module": "@jupyter-widgets/controls",
            "_model_module_version": "1.5.0",
            "_model_name": "HBoxModel",
            "_view_count": null,
            "_view_module": "@jupyter-widgets/controls",
            "_view_module_version": "1.5.0",
            "_view_name": "HBoxView",
            "box_style": "",
            "children": [
              "IPY_MODEL_514340efb4e6421d8f303bbf6b016e62",
              "IPY_MODEL_6e7ab82bceb84a18bf20f97448435cbb",
              "IPY_MODEL_f83ac4775da34068b83caf06bb3c6a3a"
            ],
            "layout": "IPY_MODEL_a7d91aa455cc464fad7253b2b14ef57b"
          }
        },
        "514340efb4e6421d8f303bbf6b016e62": {
          "model_module": "@jupyter-widgets/controls",
          "model_name": "HTMLModel",
          "model_module_version": "1.5.0",
          "state": {
            "_dom_classes": [],
            "_model_module": "@jupyter-widgets/controls",
            "_model_module_version": "1.5.0",
            "_model_name": "HTMLModel",
            "_view_count": null,
            "_view_module": "@jupyter-widgets/controls",
            "_view_module_version": "1.5.0",
            "_view_name": "HTMLView",
            "description": "",
            "description_tooltip": null,
            "layout": "IPY_MODEL_6bdc3f0d840848629c5494a67e438e1e",
            "placeholder": "​",
            "style": "IPY_MODEL_dddc4c2762c241a4ad2002c2c4e3369c",
            "value": "Downloading: 100%"
          }
        },
        "6e7ab82bceb84a18bf20f97448435cbb": {
          "model_module": "@jupyter-widgets/controls",
          "model_name": "FloatProgressModel",
          "model_module_version": "1.5.0",
          "state": {
            "_dom_classes": [],
            "_model_module": "@jupyter-widgets/controls",
            "_model_module_version": "1.5.0",
            "_model_name": "FloatProgressModel",
            "_view_count": null,
            "_view_module": "@jupyter-widgets/controls",
            "_view_module_version": "1.5.0",
            "_view_name": "ProgressView",
            "bar_style": "success",
            "description": "",
            "description_tooltip": null,
            "layout": "IPY_MODEL_16a4a198e5d446b3b5e756bfe21ab956",
            "max": 43,
            "min": 0,
            "orientation": "horizontal",
            "style": "IPY_MODEL_ae14459294b94e01ba912bad6e1b9219",
            "value": 43
          }
        },
        "f83ac4775da34068b83caf06bb3c6a3a": {
          "model_module": "@jupyter-widgets/controls",
          "model_name": "HTMLModel",
          "model_module_version": "1.5.0",
          "state": {
            "_dom_classes": [],
            "_model_module": "@jupyter-widgets/controls",
            "_model_module_version": "1.5.0",
            "_model_name": "HTMLModel",
            "_view_count": null,
            "_view_module": "@jupyter-widgets/controls",
            "_view_module_version": "1.5.0",
            "_view_name": "HTMLView",
            "description": "",
            "description_tooltip": null,
            "layout": "IPY_MODEL_38c9abc6db5d4cc1947c80c3b3a46ef9",
            "placeholder": "​",
            "style": "IPY_MODEL_a3267604c63c4fea86cb57f9cbd4b1f0",
            "value": " 43.0/43.0 [00:00&lt;00:00, 1.81kB/s]"
          }
        },
        "a7d91aa455cc464fad7253b2b14ef57b": {
          "model_module": "@jupyter-widgets/base",
          "model_name": "LayoutModel",
          "model_module_version": "1.2.0",
          "state": {
            "_model_module": "@jupyter-widgets/base",
            "_model_module_version": "1.2.0",
            "_model_name": "LayoutModel",
            "_view_count": null,
            "_view_module": "@jupyter-widgets/base",
            "_view_module_version": "1.2.0",
            "_view_name": "LayoutView",
            "align_content": null,
            "align_items": null,
            "align_self": null,
            "border": null,
            "bottom": null,
            "display": null,
            "flex": null,
            "flex_flow": null,
            "grid_area": null,
            "grid_auto_columns": null,
            "grid_auto_flow": null,
            "grid_auto_rows": null,
            "grid_column": null,
            "grid_gap": null,
            "grid_row": null,
            "grid_template_areas": null,
            "grid_template_columns": null,
            "grid_template_rows": null,
            "height": null,
            "justify_content": null,
            "justify_items": null,
            "left": null,
            "margin": null,
            "max_height": null,
            "max_width": null,
            "min_height": null,
            "min_width": null,
            "object_fit": null,
            "object_position": null,
            "order": null,
            "overflow": null,
            "overflow_x": null,
            "overflow_y": null,
            "padding": null,
            "right": null,
            "top": null,
            "visibility": null,
            "width": null
          }
        },
        "6bdc3f0d840848629c5494a67e438e1e": {
          "model_module": "@jupyter-widgets/base",
          "model_name": "LayoutModel",
          "model_module_version": "1.2.0",
          "state": {
            "_model_module": "@jupyter-widgets/base",
            "_model_module_version": "1.2.0",
            "_model_name": "LayoutModel",
            "_view_count": null,
            "_view_module": "@jupyter-widgets/base",
            "_view_module_version": "1.2.0",
            "_view_name": "LayoutView",
            "align_content": null,
            "align_items": null,
            "align_self": null,
            "border": null,
            "bottom": null,
            "display": null,
            "flex": null,
            "flex_flow": null,
            "grid_area": null,
            "grid_auto_columns": null,
            "grid_auto_flow": null,
            "grid_auto_rows": null,
            "grid_column": null,
            "grid_gap": null,
            "grid_row": null,
            "grid_template_areas": null,
            "grid_template_columns": null,
            "grid_template_rows": null,
            "height": null,
            "justify_content": null,
            "justify_items": null,
            "left": null,
            "margin": null,
            "max_height": null,
            "max_width": null,
            "min_height": null,
            "min_width": null,
            "object_fit": null,
            "object_position": null,
            "order": null,
            "overflow": null,
            "overflow_x": null,
            "overflow_y": null,
            "padding": null,
            "right": null,
            "top": null,
            "visibility": null,
            "width": null
          }
        },
        "dddc4c2762c241a4ad2002c2c4e3369c": {
          "model_module": "@jupyter-widgets/controls",
          "model_name": "DescriptionStyleModel",
          "model_module_version": "1.5.0",
          "state": {
            "_model_module": "@jupyter-widgets/controls",
            "_model_module_version": "1.5.0",
            "_model_name": "DescriptionStyleModel",
            "_view_count": null,
            "_view_module": "@jupyter-widgets/base",
            "_view_module_version": "1.2.0",
            "_view_name": "StyleView",
            "description_width": ""
          }
        },
        "16a4a198e5d446b3b5e756bfe21ab956": {
          "model_module": "@jupyter-widgets/base",
          "model_name": "LayoutModel",
          "model_module_version": "1.2.0",
          "state": {
            "_model_module": "@jupyter-widgets/base",
            "_model_module_version": "1.2.0",
            "_model_name": "LayoutModel",
            "_view_count": null,
            "_view_module": "@jupyter-widgets/base",
            "_view_module_version": "1.2.0",
            "_view_name": "LayoutView",
            "align_content": null,
            "align_items": null,
            "align_self": null,
            "border": null,
            "bottom": null,
            "display": null,
            "flex": null,
            "flex_flow": null,
            "grid_area": null,
            "grid_auto_columns": null,
            "grid_auto_flow": null,
            "grid_auto_rows": null,
            "grid_column": null,
            "grid_gap": null,
            "grid_row": null,
            "grid_template_areas": null,
            "grid_template_columns": null,
            "grid_template_rows": null,
            "height": null,
            "justify_content": null,
            "justify_items": null,
            "left": null,
            "margin": null,
            "max_height": null,
            "max_width": null,
            "min_height": null,
            "min_width": null,
            "object_fit": null,
            "object_position": null,
            "order": null,
            "overflow": null,
            "overflow_x": null,
            "overflow_y": null,
            "padding": null,
            "right": null,
            "top": null,
            "visibility": null,
            "width": null
          }
        },
        "ae14459294b94e01ba912bad6e1b9219": {
          "model_module": "@jupyter-widgets/controls",
          "model_name": "ProgressStyleModel",
          "model_module_version": "1.5.0",
          "state": {
            "_model_module": "@jupyter-widgets/controls",
            "_model_module_version": "1.5.0",
            "_model_name": "ProgressStyleModel",
            "_view_count": null,
            "_view_module": "@jupyter-widgets/base",
            "_view_module_version": "1.2.0",
            "_view_name": "StyleView",
            "bar_color": null,
            "description_width": ""
          }
        },
        "38c9abc6db5d4cc1947c80c3b3a46ef9": {
          "model_module": "@jupyter-widgets/base",
          "model_name": "LayoutModel",
          "model_module_version": "1.2.0",
          "state": {
            "_model_module": "@jupyter-widgets/base",
            "_model_module_version": "1.2.0",
            "_model_name": "LayoutModel",
            "_view_count": null,
            "_view_module": "@jupyter-widgets/base",
            "_view_module_version": "1.2.0",
            "_view_name": "LayoutView",
            "align_content": null,
            "align_items": null,
            "align_self": null,
            "border": null,
            "bottom": null,
            "display": null,
            "flex": null,
            "flex_flow": null,
            "grid_area": null,
            "grid_auto_columns": null,
            "grid_auto_flow": null,
            "grid_auto_rows": null,
            "grid_column": null,
            "grid_gap": null,
            "grid_row": null,
            "grid_template_areas": null,
            "grid_template_columns": null,
            "grid_template_rows": null,
            "height": null,
            "justify_content": null,
            "justify_items": null,
            "left": null,
            "margin": null,
            "max_height": null,
            "max_width": null,
            "min_height": null,
            "min_width": null,
            "object_fit": null,
            "object_position": null,
            "order": null,
            "overflow": null,
            "overflow_x": null,
            "overflow_y": null,
            "padding": null,
            "right": null,
            "top": null,
            "visibility": null,
            "width": null
          }
        },
        "a3267604c63c4fea86cb57f9cbd4b1f0": {
          "model_module": "@jupyter-widgets/controls",
          "model_name": "DescriptionStyleModel",
          "model_module_version": "1.5.0",
          "state": {
            "_model_module": "@jupyter-widgets/controls",
            "_model_module_version": "1.5.0",
            "_model_name": "DescriptionStyleModel",
            "_view_count": null,
            "_view_module": "@jupyter-widgets/base",
            "_view_module_version": "1.2.0",
            "_view_name": "StyleView",
            "description_width": ""
          }
        },
        "9273d6338a3f43108dcb0bebaffcd901": {
          "model_module": "@jupyter-widgets/controls",
          "model_name": "HBoxModel",
          "model_module_version": "1.5.0",
          "state": {
            "_dom_classes": [],
            "_model_module": "@jupyter-widgets/controls",
            "_model_module_version": "1.5.0",
            "_model_name": "HBoxModel",
            "_view_count": null,
            "_view_module": "@jupyter-widgets/controls",
            "_view_module_version": "1.5.0",
            "_view_name": "HBoxView",
            "box_style": "",
            "children": [
              "IPY_MODEL_f97a8e0813cd41c09ebff1e106ccad29",
              "IPY_MODEL_83589a15010e45c2ae1acb9dfe9dbd5b",
              "IPY_MODEL_800514ea48634b1881f022e02c0f5300"
            ],
            "layout": "IPY_MODEL_86037ca2259d484396f7c278b3541736"
          }
        },
        "f97a8e0813cd41c09ebff1e106ccad29": {
          "model_module": "@jupyter-widgets/controls",
          "model_name": "HTMLModel",
          "model_module_version": "1.5.0",
          "state": {
            "_dom_classes": [],
            "_model_module": "@jupyter-widgets/controls",
            "_model_module_version": "1.5.0",
            "_model_name": "HTMLModel",
            "_view_count": null,
            "_view_module": "@jupyter-widgets/controls",
            "_view_module_version": "1.5.0",
            "_view_name": "HTMLView",
            "description": "",
            "description_tooltip": null,
            "layout": "IPY_MODEL_a92f67a3aaac4929befe6442456cfd76",
            "placeholder": "​",
            "style": "IPY_MODEL_e9e364c1cb2e4ac5b717257b04ffc04d",
            "value": "Downloading: 100%"
          }
        },
        "83589a15010e45c2ae1acb9dfe9dbd5b": {
          "model_module": "@jupyter-widgets/controls",
          "model_name": "FloatProgressModel",
          "model_module_version": "1.5.0",
          "state": {
            "_dom_classes": [],
            "_model_module": "@jupyter-widgets/controls",
            "_model_module_version": "1.5.0",
            "_model_name": "FloatProgressModel",
            "_view_count": null,
            "_view_module": "@jupyter-widgets/controls",
            "_view_module_version": "1.5.0",
            "_view_name": "ProgressView",
            "bar_style": "success",
            "description": "",
            "description_tooltip": null,
            "layout": "IPY_MODEL_fcb7279e515249c480931667124c2283",
            "max": 647,
            "min": 0,
            "orientation": "horizontal",
            "style": "IPY_MODEL_8654a3a004534c6a9b8e1f670526b580",
            "value": 647
          }
        },
        "800514ea48634b1881f022e02c0f5300": {
          "model_module": "@jupyter-widgets/controls",
          "model_name": "HTMLModel",
          "model_module_version": "1.5.0",
          "state": {
            "_dom_classes": [],
            "_model_module": "@jupyter-widgets/controls",
            "_model_module_version": "1.5.0",
            "_model_name": "HTMLModel",
            "_view_count": null,
            "_view_module": "@jupyter-widgets/controls",
            "_view_module_version": "1.5.0",
            "_view_name": "HTMLView",
            "description": "",
            "description_tooltip": null,
            "layout": "IPY_MODEL_8573ed31ab9d4e0da3d3c8e1f5dd903c",
            "placeholder": "​",
            "style": "IPY_MODEL_e8bbf62ff10143409d34282806a2c0f9",
            "value": " 647/647 [00:00&lt;00:00, 26.9kB/s]"
          }
        },
        "86037ca2259d484396f7c278b3541736": {
          "model_module": "@jupyter-widgets/base",
          "model_name": "LayoutModel",
          "model_module_version": "1.2.0",
          "state": {
            "_model_module": "@jupyter-widgets/base",
            "_model_module_version": "1.2.0",
            "_model_name": "LayoutModel",
            "_view_count": null,
            "_view_module": "@jupyter-widgets/base",
            "_view_module_version": "1.2.0",
            "_view_name": "LayoutView",
            "align_content": null,
            "align_items": null,
            "align_self": null,
            "border": null,
            "bottom": null,
            "display": null,
            "flex": null,
            "flex_flow": null,
            "grid_area": null,
            "grid_auto_columns": null,
            "grid_auto_flow": null,
            "grid_auto_rows": null,
            "grid_column": null,
            "grid_gap": null,
            "grid_row": null,
            "grid_template_areas": null,
            "grid_template_columns": null,
            "grid_template_rows": null,
            "height": null,
            "justify_content": null,
            "justify_items": null,
            "left": null,
            "margin": null,
            "max_height": null,
            "max_width": null,
            "min_height": null,
            "min_width": null,
            "object_fit": null,
            "object_position": null,
            "order": null,
            "overflow": null,
            "overflow_x": null,
            "overflow_y": null,
            "padding": null,
            "right": null,
            "top": null,
            "visibility": null,
            "width": null
          }
        },
        "a92f67a3aaac4929befe6442456cfd76": {
          "model_module": "@jupyter-widgets/base",
          "model_name": "LayoutModel",
          "model_module_version": "1.2.0",
          "state": {
            "_model_module": "@jupyter-widgets/base",
            "_model_module_version": "1.2.0",
            "_model_name": "LayoutModel",
            "_view_count": null,
            "_view_module": "@jupyter-widgets/base",
            "_view_module_version": "1.2.0",
            "_view_name": "LayoutView",
            "align_content": null,
            "align_items": null,
            "align_self": null,
            "border": null,
            "bottom": null,
            "display": null,
            "flex": null,
            "flex_flow": null,
            "grid_area": null,
            "grid_auto_columns": null,
            "grid_auto_flow": null,
            "grid_auto_rows": null,
            "grid_column": null,
            "grid_gap": null,
            "grid_row": null,
            "grid_template_areas": null,
            "grid_template_columns": null,
            "grid_template_rows": null,
            "height": null,
            "justify_content": null,
            "justify_items": null,
            "left": null,
            "margin": null,
            "max_height": null,
            "max_width": null,
            "min_height": null,
            "min_width": null,
            "object_fit": null,
            "object_position": null,
            "order": null,
            "overflow": null,
            "overflow_x": null,
            "overflow_y": null,
            "padding": null,
            "right": null,
            "top": null,
            "visibility": null,
            "width": null
          }
        },
        "e9e364c1cb2e4ac5b717257b04ffc04d": {
          "model_module": "@jupyter-widgets/controls",
          "model_name": "DescriptionStyleModel",
          "model_module_version": "1.5.0",
          "state": {
            "_model_module": "@jupyter-widgets/controls",
            "_model_module_version": "1.5.0",
            "_model_name": "DescriptionStyleModel",
            "_view_count": null,
            "_view_module": "@jupyter-widgets/base",
            "_view_module_version": "1.2.0",
            "_view_name": "StyleView",
            "description_width": ""
          }
        },
        "fcb7279e515249c480931667124c2283": {
          "model_module": "@jupyter-widgets/base",
          "model_name": "LayoutModel",
          "model_module_version": "1.2.0",
          "state": {
            "_model_module": "@jupyter-widgets/base",
            "_model_module_version": "1.2.0",
            "_model_name": "LayoutModel",
            "_view_count": null,
            "_view_module": "@jupyter-widgets/base",
            "_view_module_version": "1.2.0",
            "_view_name": "LayoutView",
            "align_content": null,
            "align_items": null,
            "align_self": null,
            "border": null,
            "bottom": null,
            "display": null,
            "flex": null,
            "flex_flow": null,
            "grid_area": null,
            "grid_auto_columns": null,
            "grid_auto_flow": null,
            "grid_auto_rows": null,
            "grid_column": null,
            "grid_gap": null,
            "grid_row": null,
            "grid_template_areas": null,
            "grid_template_columns": null,
            "grid_template_rows": null,
            "height": null,
            "justify_content": null,
            "justify_items": null,
            "left": null,
            "margin": null,
            "max_height": null,
            "max_width": null,
            "min_height": null,
            "min_width": null,
            "object_fit": null,
            "object_position": null,
            "order": null,
            "overflow": null,
            "overflow_x": null,
            "overflow_y": null,
            "padding": null,
            "right": null,
            "top": null,
            "visibility": null,
            "width": null
          }
        },
        "8654a3a004534c6a9b8e1f670526b580": {
          "model_module": "@jupyter-widgets/controls",
          "model_name": "ProgressStyleModel",
          "model_module_version": "1.5.0",
          "state": {
            "_model_module": "@jupyter-widgets/controls",
            "_model_module_version": "1.5.0",
            "_model_name": "ProgressStyleModel",
            "_view_count": null,
            "_view_module": "@jupyter-widgets/base",
            "_view_module_version": "1.2.0",
            "_view_name": "StyleView",
            "bar_color": null,
            "description_width": ""
          }
        },
        "8573ed31ab9d4e0da3d3c8e1f5dd903c": {
          "model_module": "@jupyter-widgets/base",
          "model_name": "LayoutModel",
          "model_module_version": "1.2.0",
          "state": {
            "_model_module": "@jupyter-widgets/base",
            "_model_module_version": "1.2.0",
            "_model_name": "LayoutModel",
            "_view_count": null,
            "_view_module": "@jupyter-widgets/base",
            "_view_module_version": "1.2.0",
            "_view_name": "LayoutView",
            "align_content": null,
            "align_items": null,
            "align_self": null,
            "border": null,
            "bottom": null,
            "display": null,
            "flex": null,
            "flex_flow": null,
            "grid_area": null,
            "grid_auto_columns": null,
            "grid_auto_flow": null,
            "grid_auto_rows": null,
            "grid_column": null,
            "grid_gap": null,
            "grid_row": null,
            "grid_template_areas": null,
            "grid_template_columns": null,
            "grid_template_rows": null,
            "height": null,
            "justify_content": null,
            "justify_items": null,
            "left": null,
            "margin": null,
            "max_height": null,
            "max_width": null,
            "min_height": null,
            "min_width": null,
            "object_fit": null,
            "object_position": null,
            "order": null,
            "overflow": null,
            "overflow_x": null,
            "overflow_y": null,
            "padding": null,
            "right": null,
            "top": null,
            "visibility": null,
            "width": null
          }
        },
        "e8bbf62ff10143409d34282806a2c0f9": {
          "model_module": "@jupyter-widgets/controls",
          "model_name": "DescriptionStyleModel",
          "model_module_version": "1.5.0",
          "state": {
            "_model_module": "@jupyter-widgets/controls",
            "_model_module_version": "1.5.0",
            "_model_name": "DescriptionStyleModel",
            "_view_count": null,
            "_view_module": "@jupyter-widgets/base",
            "_view_module_version": "1.2.0",
            "_view_name": "StyleView",
            "description_width": ""
          }
        }
      }
    },
    "accelerator": "GPU"
  },
  "cells": [
    {
      "cell_type": "markdown",
      "metadata": {
        "id": "view-in-github",
        "colab_type": "text"
      },
      "source": [
        "<a href=\"https://colab.research.google.com/github/marcusborela/Aprendizado-Profundo-Unicamp/blob/main/Aula_7_Exerc%C3%ADcio_Marcus_Borela.ipynb\" target=\"_parent\"><img src=\"https://colab.research.google.com/assets/colab-badge.svg\" alt=\"Open In Colab\"/></a>"
      ]
    },
    {
      "cell_type": "code",
      "source": [
        "nome = \"Marcus Vinicius Borela de Castro\"\n",
        "print(f'Meu nome é {nome}')"
      ],
      "metadata": {
        "colab": {
          "base_uri": "https://localhost:8080/"
        },
        "id": "jOdQB41_4ZxG",
        "outputId": "02b277d8-ecb2-4a96-f864-8bf94ec28091"
      },
      "execution_count": 2,
      "outputs": [
        {
          "output_type": "stream",
          "name": "stdout",
          "text": [
            "Meu nome é Marcus Vinicius Borela de Castro\n"
          ]
        }
      ]
    },
    {
      "cell_type": "markdown",
      "metadata": {
        "id": "2IbuChoAPMEn"
      },
      "source": [
        "#  Exercício: Modelo de Linguagem (Bengio 2003) - MLP + Embeddings"
      ]
    },
    {
      "cell_type": "markdown",
      "metadata": {
        "id": "p_DBb0-Klwf2"
      },
      "source": [
        "Neste exercício iremos treinar uma rede neural simples para prever a proxima palavra de um texto, data as palavras anteriores como entrada. Esta tarefa é chamada de \"Modelagem da Língua\".\n",
        "\n",
        "Este dataset já possui um tamanho razoável e é bem provável que você vai precisar rodar seus experimentos com GPU.\n",
        "\n",
        "Alguns conselhos úteis:\n",
        "- **ATENÇÃO:** o dataset é bem grande. Não dê comando de imprimí-lo.\n",
        "- Durante a depuração, faça seu dataset ficar bem pequeno, para que a depuração seja mais rápida e não precise de GPU. Somente ligue a GPU quando o seu laço de treinamento já está funcionando\n",
        "- Não deixe para fazer esse exercício na véspera. Ele é trabalhoso."
      ]
    },
    {
      "cell_type": "markdown",
      "source": [
        "# Preparação do ambiente"
      ],
      "metadata": {
        "id": "R_19GeXbBGsj"
      }
    },
    {
      "cell_type": "code",
      "source": [
        "# iremos utilizar a biblioteca dos transformers para ter acesso ao tokenizador do BERT.\n",
        "!pip install transformers"
      ],
      "metadata": {
        "id": "3twP0YJC4jmJ",
        "colab": {
          "base_uri": "https://localhost:8080/"
        },
        "outputId": "bfab46d7-309b-442e-9c28-a96885d2e201"
      },
      "execution_count": 1,
      "outputs": [
        {
          "output_type": "stream",
          "name": "stdout",
          "text": [
            "Collecting transformers\n",
            "  Downloading transformers-4.19.2-py3-none-any.whl (4.2 MB)\n",
            "\u001b[K     |████████████████████████████████| 4.2 MB 4.3 MB/s \n",
            "\u001b[?25hRequirement already satisfied: regex!=2019.12.17 in /usr/local/lib/python3.7/dist-packages (from transformers) (2019.12.20)\n",
            "Requirement already satisfied: packaging>=20.0 in /usr/local/lib/python3.7/dist-packages (from transformers) (21.3)\n",
            "Requirement already satisfied: importlib-metadata in /usr/local/lib/python3.7/dist-packages (from transformers) (4.11.3)\n",
            "Collecting tokenizers!=0.11.3,<0.13,>=0.11.1\n",
            "  Downloading tokenizers-0.12.1-cp37-cp37m-manylinux_2_12_x86_64.manylinux2010_x86_64.whl (6.6 MB)\n",
            "\u001b[K     |████████████████████████████████| 6.6 MB 49.4 MB/s \n",
            "\u001b[?25hCollecting pyyaml>=5.1\n",
            "  Downloading PyYAML-6.0-cp37-cp37m-manylinux_2_5_x86_64.manylinux1_x86_64.manylinux_2_12_x86_64.manylinux2010_x86_64.whl (596 kB)\n",
            "\u001b[K     |████████████████████████████████| 596 kB 57.6 MB/s \n",
            "\u001b[?25hCollecting huggingface-hub<1.0,>=0.1.0\n",
            "  Downloading huggingface_hub-0.6.0-py3-none-any.whl (84 kB)\n",
            "\u001b[K     |████████████████████████████████| 84 kB 3.8 MB/s \n",
            "\u001b[?25hRequirement already satisfied: tqdm>=4.27 in /usr/local/lib/python3.7/dist-packages (from transformers) (4.64.0)\n",
            "Requirement already satisfied: numpy>=1.17 in /usr/local/lib/python3.7/dist-packages (from transformers) (1.21.6)\n",
            "Requirement already satisfied: requests in /usr/local/lib/python3.7/dist-packages (from transformers) (2.23.0)\n",
            "Requirement already satisfied: filelock in /usr/local/lib/python3.7/dist-packages (from transformers) (3.7.0)\n",
            "Requirement already satisfied: typing-extensions>=3.7.4.3 in /usr/local/lib/python3.7/dist-packages (from huggingface-hub<1.0,>=0.1.0->transformers) (4.2.0)\n",
            "Requirement already satisfied: pyparsing!=3.0.5,>=2.0.2 in /usr/local/lib/python3.7/dist-packages (from packaging>=20.0->transformers) (3.0.9)\n",
            "Requirement already satisfied: zipp>=0.5 in /usr/local/lib/python3.7/dist-packages (from importlib-metadata->transformers) (3.8.0)\n",
            "Requirement already satisfied: idna<3,>=2.5 in /usr/local/lib/python3.7/dist-packages (from requests->transformers) (2.10)\n",
            "Requirement already satisfied: certifi>=2017.4.17 in /usr/local/lib/python3.7/dist-packages (from requests->transformers) (2021.10.8)\n",
            "Requirement already satisfied: urllib3!=1.25.0,!=1.25.1,<1.26,>=1.21.1 in /usr/local/lib/python3.7/dist-packages (from requests->transformers) (1.24.3)\n",
            "Requirement already satisfied: chardet<4,>=3.0.2 in /usr/local/lib/python3.7/dist-packages (from requests->transformers) (3.0.4)\n",
            "Installing collected packages: pyyaml, tokenizers, huggingface-hub, transformers\n",
            "  Attempting uninstall: pyyaml\n",
            "    Found existing installation: PyYAML 3.13\n",
            "    Uninstalling PyYAML-3.13:\n",
            "      Successfully uninstalled PyYAML-3.13\n",
            "Successfully installed huggingface-hub-0.6.0 pyyaml-6.0 tokenizers-0.12.1 transformers-4.19.2\n"
          ]
        }
      ]
    },
    {
      "cell_type": "markdown",
      "metadata": {
        "id": "YnyhJZtTRNMx"
      },
      "source": [
        "## Importação dos pacotes"
      ]
    },
    {
      "cell_type": "code",
      "metadata": {
        "id": "qlIOVCajPWcU"
      },
      "source": [
        "import collections\n",
        "import itertools\n",
        "import functools\n",
        "import math\n",
        "import random\n",
        "\n",
        "import torch\n",
        "import torch.nn as nn\n",
        "import numpy as np\n",
        "from torch.utils.data import DataLoader\n",
        "from tqdm import tqdm_notebook\n"
      ],
      "execution_count": 3,
      "outputs": []
    },
    {
      "cell_type": "code",
      "source": [
        "import time"
      ],
      "metadata": {
        "id": "LTF06xq49F24"
      },
      "execution_count": 4,
      "outputs": []
    },
    {
      "cell_type": "code",
      "source": [
        "from tqdm import tqdm_notebook as tqdm"
      ],
      "metadata": {
        "id": "4bKt1hyS9GvY"
      },
      "execution_count": 5,
      "outputs": []
    },
    {
      "cell_type": "code",
      "source": [
        "# Check which GPU we are using\n",
        "!nvidia-smi"
      ],
      "metadata": {
        "id": "w9f3PfifAwpU",
        "colab": {
          "base_uri": "https://localhost:8080/"
        },
        "outputId": "5cc8d1cb-5bac-4da9-b13c-c25b9f801da0"
      },
      "execution_count": 6,
      "outputs": [
        {
          "output_type": "stream",
          "name": "stdout",
          "text": [
            "Tue May 17 22:43:11 2022       \n",
            "+-----------------------------------------------------------------------------+\n",
            "| NVIDIA-SMI 460.32.03    Driver Version: 460.32.03    CUDA Version: 11.2     |\n",
            "|-------------------------------+----------------------+----------------------+\n",
            "| GPU  Name        Persistence-M| Bus-Id        Disp.A | Volatile Uncorr. ECC |\n",
            "| Fan  Temp  Perf  Pwr:Usage/Cap|         Memory-Usage | GPU-Util  Compute M. |\n",
            "|                               |                      |               MIG M. |\n",
            "|===============================+======================+======================|\n",
            "|   0  Tesla P100-PCIE...  Off  | 00000000:00:04.0 Off |                    0 |\n",
            "| N/A   38C    P0    27W / 250W |      0MiB / 16280MiB |      0%      Default |\n",
            "|                               |                      |                  N/A |\n",
            "+-------------------------------+----------------------+----------------------+\n",
            "                                                                               \n",
            "+-----------------------------------------------------------------------------+\n",
            "| Processes:                                                                  |\n",
            "|  GPU   GI   CI        PID   Type   Process name                  GPU Memory |\n",
            "|        ID   ID                                                   Usage      |\n",
            "|=============================================================================|\n",
            "|  No running processes found                                                 |\n",
            "+-----------------------------------------------------------------------------+\n"
          ]
        }
      ]
    },
    {
      "cell_type": "code",
      "source": [
        "if torch.cuda.is_available(): \n",
        "   dev = \"cuda:0\"\n",
        "else: \n",
        "   dev = \"cpu\"\n",
        "device = torch.device(dev)\n",
        "print('Using {}'.format(device))"
      ],
      "metadata": {
        "id": "whTCe2i7AtoV",
        "colab": {
          "base_uri": "https://localhost:8080/"
        },
        "outputId": "52aa51e8-5066-45a1-9e9b-d4ee3578adef"
      },
      "execution_count": 7,
      "outputs": [
        {
          "output_type": "stream",
          "name": "stdout",
          "text": [
            "Using cuda:0\n"
          ]
        }
      ]
    },
    {
      "cell_type": "markdown",
      "source": [
        "## Fixando as seeds"
      ],
      "metadata": {
        "id": "achvQ78sa3p3"
      }
    },
    {
      "cell_type": "code",
      "metadata": {
        "id": "bkETIyWGkbOf"
      },
      "source": [
        "def inicializa_seed(num_semente:int=123):\n",
        "  \"\"\"\n",
        "  É recomendado reiniciar as seeds antes de inicializar o modelo, pois assim\n",
        "  garantimos que os pesos vao ser sempre os mesmos.\n",
        "  fontes de apoio: \n",
        "      http://nlp.seas.harvard.edu/2018/04/03/attention.html\n",
        "      https://github.com/CyberZHG/torch-multi-head-attention/blob/master/torch_multi_head_attention/multi_head_attention.py#L15\n",
        "  \"\"\"\n",
        "  random.seed(num_semente)\n",
        "  np.random.seed(num_semente)\n",
        "  torch.manual_seed(num_semente)\n",
        "  #torch.cuda.manual_seed(num_semente)\n",
        "  #Cuda algorithms\n",
        "  #torch.backends.cudnn.deterministic = True "
      ],
      "execution_count": 8,
      "outputs": []
    },
    {
      "cell_type": "code",
      "metadata": {
        "id": "ViMcw_kVkbOf"
      },
      "source": [
        "inicializa_seed(123)"
      ],
      "execution_count": 9,
      "outputs": []
    },
    {
      "cell_type": "markdown",
      "source": [
        "## Definindo Hiperparâmetros iniciais"
      ],
      "metadata": {
        "id": "hABkY5GRtH9H"
      }
    },
    {
      "cell_type": "code",
      "source": [
        "def inicia_hparam()->dict:\n",
        "  # Inicialização dos parâmetros\n",
        "  hparam = {}\n",
        "  hparam[\"num_workers_dataloader\"] = 2\n",
        "  hparam[\"device\"] = torch.device('cuda:0' if torch.cuda.is_available() else 'cpu')\n",
        "  if torch.cuda.is_available(): print(torch. cuda. get_device_name(hparam[\"device\"]))    \n",
        "  return hparam"
      ],
      "metadata": {
        "id": "6OOO6ogjtG3Y"
      },
      "execution_count": 10,
      "outputs": []
    },
    {
      "cell_type": "code",
      "source": [
        "hparam=inicia_hparam()"
      ],
      "metadata": {
        "id": "MkTH4FkstTFn",
        "colab": {
          "base_uri": "https://localhost:8080/"
        },
        "outputId": "95d4e3da-28f5-4aa8-d8d4-ec7021a67541"
      },
      "execution_count": 11,
      "outputs": [
        {
          "output_type": "stream",
          "name": "stdout",
          "text": [
            "Tesla P100-PCIE-16GB\n"
          ]
        }
      ]
    },
    {
      "cell_type": "markdown",
      "source": [
        "## Preparando para debug"
      ],
      "metadata": {
        "id": "8v2gtkEPhA0t"
      }
    },
    {
      "cell_type": "markdown",
      "source": [
        "https://zohaib.me/debugging-in-google-collab-notebook/"
      ],
      "metadata": {
        "id": "4ZEqQ7mKg5fs"
      }
    },
    {
      "cell_type": "code",
      "source": [
        "!pip install -Uqq ipdb\n",
        "import ipdb\n",
        "# %pdb off # desativa debug em exceção\n",
        "# %pdb on  # ativa debug em exceção\n",
        "# ipdb.set_trace(context=8)  para execução nesse ponto"
      ],
      "metadata": {
        "id": "LjrlXHq1hC8n",
        "colab": {
          "base_uri": "https://localhost:8080/"
        },
        "outputId": "c606d995-7aa5-4505-b0c0-5d440a42a49e"
      },
      "execution_count": 12,
      "outputs": [
        {
          "output_type": "stream",
          "name": "stdout",
          "text": [
            "\u001b[K     |████████████████████████████████| 793 kB 4.2 MB/s \n",
            "\u001b[K     |████████████████████████████████| 381 kB 57.2 MB/s \n",
            "\u001b[?25h  Building wheel for ipdb (setup.py) ... \u001b[?25l\u001b[?25hdone\n",
            "\u001b[31mERROR: pip's dependency resolver does not currently take into account all the packages that are installed. This behaviour is the source of the following dependency conflicts.\n",
            "jupyter-console 5.2.0 requires prompt-toolkit<2.0.0,>=1.0.0, but you have prompt-toolkit 3.0.29 which is incompatible.\n",
            "google-colab 1.0.0 requires ipython~=5.5.0, but you have ipython 7.33.0 which is incompatible.\u001b[0m\n"
          ]
        }
      ]
    },
    {
      "cell_type": "code",
      "source": [
        "# %xmode Verbose \n",
        "# %xmode Plain"
      ],
      "metadata": {
        "id": "qQkwh-z_D3V5"
      },
      "execution_count": 13,
      "outputs": []
    },
    {
      "cell_type": "markdown",
      "metadata": {
        "id": "7wEkY_g7kgp-"
      },
      "source": [
        "## Rastro (neptune.ai)\n",
        "\n",
        "Gerado rastro da execução no Neptune (detalhes no artigo [Rastro-DM: Mineração de Dados com Rastro](https://revista.tcu.gov.br/ojs/index.php/RTCU/article/view/1664))\n"
      ]
    },
    {
      "cell_type": "markdown",
      "metadata": {
        "id": "anygzoSagczS"
      },
      "source": [
        "### Importação de libraries para Rastro"
      ]
    },
    {
      "cell_type": "code",
      "metadata": {
        "colab": {
          "base_uri": "https://localhost:8080/"
        },
        "id": "TsylYpdWdmsZ",
        "outputId": "f219e6ae-c9cb-4bef-d92c-e407ce2f3ba7"
      },
      "source": [
        "try:\n",
        "  from torchviz import make_dot \n",
        "except ImportError:\n",
        "  !pip install torchviz\n",
        "  from torchviz import make_dot \n"
      ],
      "execution_count": 14,
      "outputs": [
        {
          "output_type": "stream",
          "name": "stdout",
          "text": [
            "Collecting torchviz\n",
            "  Downloading torchviz-0.0.2.tar.gz (4.9 kB)\n",
            "Requirement already satisfied: torch in /usr/local/lib/python3.7/dist-packages (from torchviz) (1.11.0+cu113)\n",
            "Requirement already satisfied: graphviz in /usr/local/lib/python3.7/dist-packages (from torchviz) (0.10.1)\n",
            "Requirement already satisfied: typing-extensions in /usr/local/lib/python3.7/dist-packages (from torch->torchviz) (4.2.0)\n",
            "Building wheels for collected packages: torchviz\n",
            "  Building wheel for torchviz (setup.py) ... \u001b[?25l\u001b[?25hdone\n",
            "  Created wheel for torchviz: filename=torchviz-0.0.2-py3-none-any.whl size=4150 sha256=61402658cd701a15319279488d5199bbf9bbbc59b1af9af8c7e0978d6ec96bcf\n",
            "  Stored in directory: /root/.cache/pip/wheels/04/38/f5/dc4f85c3909051823df49901e72015d2d750bd26b086480ec2\n",
            "Successfully built torchviz\n",
            "Installing collected packages: torchviz\n",
            "Successfully installed torchviz-0.0.2\n"
          ]
        }
      ]
    },
    {
      "cell_type": "code",
      "metadata": {
        "id": "DotwpZ4JdmsZ"
      },
      "source": [
        "import getpass\n",
        "import copy\n",
        "import time\n",
        "import re\n",
        "import tempfile\n",
        "import os\n"
      ],
      "execution_count": 15,
      "outputs": []
    },
    {
      "cell_type": "code",
      "source": [
        "import time\n"
      ],
      "metadata": {
        "id": "Cb6dD2aI0-Qg"
      },
      "execution_count": 16,
      "outputs": []
    },
    {
      "cell_type": "markdown",
      "metadata": {
        "id": "V2glxk01UfDk"
      },
      "source": [
        "### Código Rastro\n",
        "\n",
        "Busca implementar o rastro proposto em [Rastro-DM: Mineração de Dados com Rastro](https://revista.tcu.gov.br/ojs/index.php/RTCU/article/view/1664), autores Marcus Vinícius Borela de Castro e Remis Balaniuk, com o apoio da [solução Neptune](https://app.neptune.ai/)\n",
        "\n"
      ]
    },
    {
      "cell_type": "code",
      "metadata": {
        "id": "Q-iQwMPiLXO3"
      },
      "source": [
        "def converte_optimizer_state_dict(parm_optimizer)-> dict:\n",
        "  # return str(hparam['optimizer'])\n",
        "  return parm_optimizer.state_dict()['param_groups'][0]"
      ],
      "execution_count": 17,
      "outputs": []
    },
    {
      "cell_type": "code",
      "metadata": {
        "id": "GwnX3SrGfq4Z"
      },
      "source": [
        "class NeptuneRastroRun():\n",
        "    se_geracao_rastro = True \n",
        "    neptune_project = \"\"\n",
        "    tag_contexto_rastro = \"\"\n",
        "    neptune_api_token = \"\"\n",
        "\n",
        "    def __init__(self, parm_params:dict,  parm_lista_tag:list = None):\n",
        "      # print(f\"NeptuneRastroRun.init: se_geracao_rastro {self.__class__.se_geracao_rastro} parm_params `{parm_params} \")\n",
        "      if self.__class__.se_geracao_rastro:      \n",
        "        self.run_neptune = neptune.init(project=self.__class__.neptune_project, api_token=self.__class__.neptune_api_token, capture_hardware_metrics=True)\n",
        "        self.run_neptune['sys/name'] = self.__class__.tag_contexto_rastro\n",
        "        vparams = copy.deepcopy(parm_params)\n",
        "        if \"optimizer\" in vparams:\n",
        "          vparams[\"optimizer\"] = converte_optimizer_state_dict(vparams[\"optimizer\"])\n",
        "        if 'criterion'  in vparams:\n",
        "          vparams[\"criterion\"] = str(vparams[\"criterion\"])\n",
        "        if 'scheduler'  in vparams:\n",
        "          vparams[\"scheduler\"] = str(type(scheduler))\n",
        "        if 'device' in vparams:\n",
        "          vparams['device'] = str(vparams[\"device\"])\n",
        "        self.device = vparams[\"device\"]\n",
        "        for tag in parm_lista_tag:\n",
        "          self.run_neptune['sys/tags'].add(tag)\n",
        "        self.run_neptune['parameters'] = vparams\n",
        "        self.tmpDir = tempfile.mkdtemp()\n",
        "\n",
        "    @property\n",
        "    def run():\n",
        "      return self.run_neptune\n",
        "\n",
        "    @classmethod\n",
        "    def ativa_geracao_rastro(cls):\n",
        "     cls.se_geracao_rastro = True      \n",
        "\n",
        "    @classmethod\n",
        "    def def_contexto(cls):\n",
        "     cls.se_geracao_rastro = True      \n",
        "\n",
        "    @classmethod\n",
        "    def desativa_geracao_rastro(cls):\n",
        "     cls.se_geracao_rastro = False      \n",
        "\n",
        "    @classmethod\n",
        "    def retorna_status_geracao_rastro(cls):\n",
        "     return cls.se_geracao_rastro      \n",
        "\n",
        "    @classmethod\n",
        "    def retorna_tag_contexto_rastro(cls):\n",
        "     return cls.tag_contexto_rastro \n",
        "\n",
        "    @classmethod\n",
        "    def inicia_contexto(cls, neptune_project, tag_contexto_rastro, neptune_api_token):\n",
        "      assert '.' not in tag_contexto_rastro, \"NeptuneRastroRun.init(): tag_contexto_rastro não pode possuir ponto, pois será usado para gravar nome de arquivo\"      \n",
        "      cls.neptune_api_token = neptune_api_token\n",
        "      cls.tag_contexto_rastro = tag_contexto_rastro\n",
        "      cls.neptune_project = neptune_project\n",
        "\n",
        "    def salva_metrica(self, parm_metricas={}):\n",
        "      #print(f\"NeptuneRastroRun.salva_metrica: se_geracao_rastro {self.__class__.se_geracao_rastro} parm_metricas:{parm_metricas} \")\n",
        "      if self.__class__.se_geracao_rastro:\n",
        "        for metrica, valor in parm_metricas.items(): \n",
        "          self.run_neptune[metrica].log(valor)\n",
        " \n",
        "    def gera_grafico_modelo(self, loader_train, model):\n",
        "      if self.__class__.se_geracao_rastro: \n",
        "        # efetuar um forward \n",
        "        \"\"\"\n",
        "        se dataloader devolver x e y:\n",
        "        \"\"\"\n",
        "        x_, y_ = next(iter(loader_train))\n",
        "        x_ = x_.to(self.device)\n",
        "        outputs = model(x_)\n",
        "        \"\"\"\n",
        "        # se dataloader devolver dict:\n",
        "        dados_ = next(iter(loader_train))\n",
        "        outputs = model(dados_['x'].to(self.device))\n",
        "        #outputs = model(x_['input_ids'].to(self.device), x_['attention_mask'].to(self.device))\n",
        "        \"\"\"\n",
        "        nome_arquivo = os.path.join(self.tmpDir, \"modelo \"+ self.__class__.tag_contexto_rastro + time.strftime(\"%Y-%b-%d %H:%M:%S\"))\n",
        "        make_dot(outputs, params=dict(model.named_parameters()), show_attrs=True, show_saved=True).render(nome_arquivo, format=\"png\")\n",
        "        self.run_neptune[\"parameters/model_graph\"].upload(nome_arquivo+'.png')\n",
        "        self.run_neptune['parameters/model'] = re.sub('<bound method Module.state_dict of ', '',str(model.state_dict))      \n",
        "\n",
        "\n",
        "\n",
        "    def stop(self):\n",
        "      if self.__class__.se_geracao_rastro:         \n",
        "        self.run_neptune.stop()\n"
      ],
      "execution_count": 18,
      "outputs": []
    },
    {
      "cell_type": "markdown",
      "metadata": {
        "id": "O488oyu5l8kC"
      },
      "source": [
        "### Definindo parâmetros para o rastro\n",
        "\n"
      ]
    },
    {
      "cell_type": "code",
      "metadata": {
        "id": "zY4Hjvp1wR9k",
        "colab": {
          "base_uri": "https://localhost:8080/"
        },
        "outputId": "9bcaf913-1aea-4fcd-d322-19d57ab854c5"
      },
      "source": [
        "NeptuneRastroRun.inicia_contexto('marcusborela/IA025', 'Aula 7 - Modelo de linguagem',   getpass.getpass('Informe NEPTUNE_API_TOKEN'))\n",
        "#NeptuneRastroRun.desativa_geracao_rastro()"
      ],
      "execution_count": 19,
      "outputs": [
        {
          "name": "stdout",
          "output_type": "stream",
          "text": [
            "Informe NEPTUNE_API_TOKEN··········\n"
          ]
        }
      ]
    },
    {
      "cell_type": "markdown",
      "metadata": {
        "id": "9ZfxgV2DUk58"
      },
      "source": [
        "# Implementação do MyDataset"
      ]
    },
    {
      "cell_type": "code",
      "metadata": {
        "id": "n_xhKm1EZ3bQ"
      },
      "source": [
        "from typing import List"
      ],
      "execution_count": 20,
      "outputs": []
    },
    {
      "cell_type": "code",
      "source": [
        "def tokenize(text: str, tokenizer):\n",
        "    return tokenizer(text, return_tensors=None, add_special_tokens=False).input_ids\n"
      ],
      "metadata": {
        "id": "wjJskE24A1DM"
      },
      "execution_count": 21,
      "outputs": []
    },
    {
      "cell_type": "code",
      "source": [
        "class MyDataset():\n",
        "    def __init__(self, texts: List[str], tokenizer, context_size: int):\n",
        "      # Escreva seu código aqui\n",
        "      assert isinstance(texts,list), 'texts deve ser do tipo list'\n",
        "      assert isinstance(texts[0],str), 'texts deve ser do tipo iterator of iterator of strings'\n",
        "      assert isinstance(context_size,int), 'context_size deve ser do tipo int'\n",
        "      self.tokenizer = tokenizer\n",
        "      self.context_size = context_size\n",
        "      ind_primeira_vez = True\n",
        "      for cnt_texto, texto in enumerate(texts): \n",
        "        texto_numericalizado = torch.LongTensor(tokenize(texto, self.tokenizer))\n",
        "        num_palavras_texto = len(texto_numericalizado)\n",
        "        for num_amostra_texto in range(0,num_palavras_texto-self.context_size):\n",
        "          # ipdb.set_trace(context=6)\n",
        "          if ind_primeira_vez:\n",
        "            ind_primeira_vez = False\n",
        "            self.x_data = texto_numericalizado[num_amostra_texto:num_amostra_texto + self.context_size].unsqueeze(0)\n",
        "            self.y_data = texto_numericalizado[num_amostra_texto + self.context_size].unsqueeze(0)  # nesse ponto unsqueeze transforma tensor(x) em tensor([x]) \n",
        "          else:\n",
        "            self.x_data = torch.cat((self.x_data,texto_numericalizado[num_amostra_texto:num_amostra_texto + self.context_size].unsqueeze(0)))\n",
        "            self.y_data = torch.cat((self.y_data, texto_numericalizado[num_amostra_texto + self.context_size].unsqueeze(0)))  # nesse ponto unsqueeze transforma tensor(x) em tensor([x]) \n",
        "        # ipdb.set_trace(context=6)\n",
        "        if cnt_texto % 50 == 0:\n",
        "           print(F'\\tMontando Mydataset cnt_texto: {cnt_texto+1};  Momento: {time.strftime(\"[%Y-%b-%d %H:%M:%S]\")}')\n",
        "    def __len__(self):\n",
        "        # Escreva seu código aqui\n",
        "        return len(self.y_data)\n",
        "\n",
        "    def __getitem__(self, idx):\n",
        "        # Escreva seu código aqui\n",
        "        return self.x_data[idx], self.y_data[idx]"
      ],
      "metadata": {
        "id": "cg-7js9PA3V8"
      },
      "execution_count": 22,
      "outputs": []
    },
    {
      "cell_type": "markdown",
      "source": [
        "## Teste se sua implementação do MyDataset está correta"
      ],
      "metadata": {
        "id": "wew-gFbWeBTq"
      }
    },
    {
      "cell_type": "code",
      "source": [
        "from transformers import BertTokenizer\n",
        "tokenizer = BertTokenizer.from_pretrained(\"neuralmind/bert-base-portuguese-cased\")"
      ],
      "metadata": {
        "id": "8r7jBFFUeApe",
        "colab": {
          "base_uri": "https://localhost:8080/",
          "height": 177,
          "referenced_widgets": [
            "686a6b1387824ac8bf076fa7e51f6036",
            "448051b4793f417aab8cbb37893da74c",
            "c4c2982422d84f748b621bcd4f8103b7",
            "d0d9e95b3f784ce9aba8e8d58bc5d074",
            "73d69281b9d34627891e515a99b19fd2",
            "4353b88da7fc4cf1b2502a2699c1e054",
            "3a6ebc68438e4d1990c3845dad681cc5",
            "d4f57d402b0547d58e763dc0410f016d",
            "c8210a6bce434a4f800b184430d2d5a8",
            "35bc1b89f9204a9c928eccb6ac3f9af9",
            "6390c3a790004ddf96962cdcae9ea967",
            "bef3be0756104d6096b67836e7dae18a",
            "c14aadf9a89f4e31bd5053edbc3cc5d1",
            "d0f2c5f8144f4bd096442220d5055b22",
            "6c4e1c8fa99946298b302fb65285aec8",
            "af38ceb3535e4f67b28bcca0e8c87a45",
            "07bb6adf275a45ee980390c9d18970dc",
            "c1861869180c4655a64bf83dfb079f8f",
            "74e924faf2e7435fbe85fd7e56b0a09e",
            "c0901493fb094f5ba889e47c1f19d40b",
            "336c59aced804040a7e4d2d3683a1e9e",
            "f2f29cbb4b5f428f8307d3227eca2fbc",
            "6c6bf50ee6604ddbb67e74e9a1dc08cf",
            "04839b87b90a441498c0da37a050b507",
            "21d2229af6b4445b998e78175f1f895b",
            "de1d321f788f4791b735d6d6c98d49fe",
            "c29d9eb8e38d4a3fbe8d360b6e49292b",
            "f22b6a90d8004d568f2b5dbfeb461920",
            "09b47cd0ae9a4de288af31cf958a9772",
            "f44d5060c8824cd096f33cc8e9d9992a",
            "bbd25caf26704857ac8c0138942429b8",
            "923333a5c8ca443190cc39fe21c3379f",
            "d2794b2e6a0147ec8ba51293a8e40ec3",
            "5ea7cc5de93e41ceb3d50936e6baafb4",
            "514340efb4e6421d8f303bbf6b016e62",
            "6e7ab82bceb84a18bf20f97448435cbb",
            "f83ac4775da34068b83caf06bb3c6a3a",
            "a7d91aa455cc464fad7253b2b14ef57b",
            "6bdc3f0d840848629c5494a67e438e1e",
            "dddc4c2762c241a4ad2002c2c4e3369c",
            "16a4a198e5d446b3b5e756bfe21ab956",
            "ae14459294b94e01ba912bad6e1b9219",
            "38c9abc6db5d4cc1947c80c3b3a46ef9",
            "a3267604c63c4fea86cb57f9cbd4b1f0",
            "9273d6338a3f43108dcb0bebaffcd901",
            "f97a8e0813cd41c09ebff1e106ccad29",
            "83589a15010e45c2ae1acb9dfe9dbd5b",
            "800514ea48634b1881f022e02c0f5300",
            "86037ca2259d484396f7c278b3541736",
            "a92f67a3aaac4929befe6442456cfd76",
            "e9e364c1cb2e4ac5b717257b04ffc04d",
            "fcb7279e515249c480931667124c2283",
            "8654a3a004534c6a9b8e1f670526b580",
            "8573ed31ab9d4e0da3d3c8e1f5dd903c",
            "e8bbf62ff10143409d34282806a2c0f9"
          ]
        },
        "outputId": "101354a3-17b6-4f0e-e687-f3a1a3653528"
      },
      "execution_count": 23,
      "outputs": [
        {
          "output_type": "display_data",
          "data": {
            "text/plain": [
              "Downloading:   0%|          | 0.00/205k [00:00<?, ?B/s]"
            ],
            "application/vnd.jupyter.widget-view+json": {
              "version_major": 2,
              "version_minor": 0,
              "model_id": "686a6b1387824ac8bf076fa7e51f6036"
            }
          },
          "metadata": {}
        },
        {
          "output_type": "display_data",
          "data": {
            "text/plain": [
              "Downloading:   0%|          | 0.00/2.00 [00:00<?, ?B/s]"
            ],
            "application/vnd.jupyter.widget-view+json": {
              "version_major": 2,
              "version_minor": 0,
              "model_id": "bef3be0756104d6096b67836e7dae18a"
            }
          },
          "metadata": {}
        },
        {
          "output_type": "display_data",
          "data": {
            "text/plain": [
              "Downloading:   0%|          | 0.00/112 [00:00<?, ?B/s]"
            ],
            "application/vnd.jupyter.widget-view+json": {
              "version_major": 2,
              "version_minor": 0,
              "model_id": "6c6bf50ee6604ddbb67e74e9a1dc08cf"
            }
          },
          "metadata": {}
        },
        {
          "output_type": "display_data",
          "data": {
            "text/plain": [
              "Downloading:   0%|          | 0.00/43.0 [00:00<?, ?B/s]"
            ],
            "application/vnd.jupyter.widget-view+json": {
              "version_major": 2,
              "version_minor": 0,
              "model_id": "5ea7cc5de93e41ceb3d50936e6baafb4"
            }
          },
          "metadata": {}
        },
        {
          "output_type": "display_data",
          "data": {
            "text/plain": [
              "Downloading:   0%|          | 0.00/647 [00:00<?, ?B/s]"
            ],
            "application/vnd.jupyter.widget-view+json": {
              "version_major": 2,
              "version_minor": 0,
              "model_id": "9273d6338a3f43108dcb0bebaffcd901"
            }
          },
          "metadata": {}
        }
      ]
    },
    {
      "cell_type": "code",
      "source": [
        "dummy_texts = ['Eu gosto de correr', 'Ela gosta muito de comer pizza']"
      ],
      "metadata": {
        "id": "SKwP0mWxA_c8"
      },
      "execution_count": 24,
      "outputs": []
    },
    {
      "cell_type": "code",
      "source": [
        "tokenize(dummy_texts, tokenizer)"
      ],
      "metadata": {
        "colab": {
          "base_uri": "https://localhost:8080/"
        },
        "id": "XnOus13p1lhD",
        "outputId": "974f08df-2959-4402-f84a-7566b216de89"
      },
      "execution_count": 25,
      "outputs": [
        {
          "output_type": "execute_result",
          "data": {
            "text/plain": [
              "[[3396, 10303, 125, 13239], [1660, 5971, 785, 125, 1847, 13779, 15616]]"
            ]
          },
          "metadata": {},
          "execution_count": 25
        }
      ]
    },
    {
      "cell_type": "code",
      "source": [
        "dummy_dataset = MyDataset(texts=dummy_texts, tokenizer=tokenizer, context_size=3)\n",
        "dummy_loader = DataLoader(dummy_dataset, batch_size=6, shuffle=False)\n",
        "assert len(dummy_dataset) == 5\n",
        "print('passou no assert de tamanho do dataset')"
      ],
      "metadata": {
        "colab": {
          "base_uri": "https://localhost:8080/"
        },
        "id": "yEL0PKVjUaGC",
        "outputId": "9e898035-f79e-42ba-c1e6-263f4192ccbf"
      },
      "execution_count": 26,
      "outputs": [
        {
          "output_type": "stream",
          "name": "stdout",
          "text": [
            "\tMontando Mydataset cnt_texto: 1;  Momento: [2022-May-17 22:45:31]\n",
            "passou no assert de tamanho do dataset\n"
          ]
        }
      ]
    },
    {
      "cell_type": "code",
      "source": [
        "dummy_texto_tokenizado = tokenize(dummy_texts,tokenizer)\n",
        "type(dummy_texto_tokenizado), dummy_texto_tokenizado"
      ],
      "metadata": {
        "colab": {
          "base_uri": "https://localhost:8080/"
        },
        "id": "-zlErQeRDSUp",
        "outputId": "200a66d0-7197-4242-aa32-88b65a6a3a37"
      },
      "execution_count": 27,
      "outputs": [
        {
          "output_type": "execute_result",
          "data": {
            "text/plain": [
              "(list, [[3396, 10303, 125, 13239], [1660, 5971, 785, 125, 1847, 13779, 15616]])"
            ]
          },
          "metadata": {},
          "execution_count": 27
        }
      ]
    },
    {
      "cell_type": "code",
      "source": [
        "first_batch_input, first_batch_target = next(iter(dummy_loader))"
      ],
      "metadata": {
        "id": "aR2NxthgG0j1"
      },
      "execution_count": 28,
      "outputs": []
    },
    {
      "cell_type": "code",
      "source": [
        "correct_first_batch_input = torch.LongTensor(\n",
        "    [[ 3396, 10303,   125],\n",
        "     [ 1660,  5971,   785],\n",
        "     [ 5971,   785,   125],\n",
        "     [  785,   125,  1847],\n",
        "     [  125,  1847, 13779]])\n",
        "\n",
        "correct_first_batch_target = torch.LongTensor([13239,   125,  1847, 13779, 15616])\n",
        "\n",
        "assert torch.equal(first_batch_input, correct_first_batch_input)\n",
        "print('Passou no assert de input')\n",
        "assert torch.equal(first_batch_target, correct_first_batch_target)\n",
        "print('Passou no assert de target')"
      ],
      "metadata": {
        "colab": {
          "base_uri": "https://localhost:8080/"
        },
        "id": "a5IbbfpDNfAo",
        "outputId": "d9d60c69-9163-4d8d-8635-aa825a479ee3"
      },
      "execution_count": 29,
      "outputs": [
        {
          "output_type": "stream",
          "name": "stdout",
          "text": [
            "Passou no assert de input\n",
            "Passou no assert de target\n"
          ]
        }
      ]
    },
    {
      "cell_type": "markdown",
      "metadata": {
        "id": "4LfrHHouleJ0"
      },
      "source": [
        "# Carregamento do dataset "
      ]
    },
    {
      "cell_type": "markdown",
      "metadata": {
        "id": "V2vFWjsSkmop"
      },
      "source": [
        "Iremos usar uma pequena amostra do dataset [BrWaC](https://www.inf.ufrgs.br/pln/wiki/index.php?title=BrWaC) para treinar e avaliar nosso modelo de linguagem."
      ]
    },
    {
      "cell_type": "code",
      "source": [
        "import io"
      ],
      "metadata": {
        "id": "3x0aW5OA-lt4"
      },
      "execution_count": 30,
      "outputs": []
    },
    {
      "cell_type": "code",
      "source": [
        "from google.colab import drive\n",
        "drive.mount('/content/drive')"
      ],
      "metadata": {
        "id": "dT0J_aFS-h2w",
        "colab": {
          "base_uri": "https://localhost:8080/"
        },
        "outputId": "f7941734-2438-4202-c1ad-3bea83103489"
      },
      "execution_count": 31,
      "outputs": [
        {
          "output_type": "stream",
          "name": "stdout",
          "text": [
            "Mounted at /content/drive\n"
          ]
        }
      ]
    },
    {
      "cell_type": "code",
      "source": [
        "#@title Boolean fields\n",
        "datasets_carregados_previamente = True #@param {type:\"boolean\"}\n",
        "\n",
        "print(datasets_carregados_previamente)"
      ],
      "metadata": {
        "colab": {
          "base_uri": "https://localhost:8080/"
        },
        "id": "vpaUUp9e9-dZ",
        "outputId": "f813fc75-0c3b-438b-ce8c-96a608fa6679"
      },
      "execution_count": 34,
      "outputs": [
        {
          "output_type": "stream",
          "name": "stdout",
          "text": [
            "True\n"
          ]
        }
      ]
    },
    {
      "cell_type": "code",
      "source": [
        "if datasets_carregados_previamente:\n",
        "  hparam['num_sentenca_train'] = 800 #@param [800, 2300] {type:'raw'}\n",
        "  hparam['num_sentenca_valid'] = 100 # 100\n",
        "  hparam['num_sentenca_test'] = 100 # 100\n",
        "  hparam['context_size'] = 9  \n",
        "print(type(hparam['num_sentenca_train']), hparam['num_sentenca_train'])"
      ],
      "metadata": {
        "colab": {
          "base_uri": "https://localhost:8080/"
        },
        "id": "2VaheqdZNunw",
        "outputId": "23f36a94-b645-49db-a772-0e07dfa9f5d5"
      },
      "execution_count": 37,
      "outputs": [
        {
          "output_type": "stream",
          "name": "stdout",
          "text": [
            "<class 'int'> 800\n"
          ]
        }
      ]
    },
    {
      "cell_type": "code",
      "source": [
        "total = hparam['num_sentenca_train']+hparam['num_sentenca_valid']+hparam['num_sentenca_test']\n",
        "print(total)\n",
        "nomearq='/content/drive/My Drive/ia025/aula7/test_dataset_text_'+str(total)+'.pt'"
      ],
      "metadata": {
        "colab": {
          "base_uri": "https://localhost:8080/"
        },
        "id": "4ByMkqhHQ8yV",
        "outputId": "6a9878f7-7caf-4fb4-cdc8-1b75a1d2c56e"
      },
      "execution_count": 41,
      "outputs": [
        {
          "output_type": "stream",
          "name": "stdout",
          "text": [
            "1000\n"
          ]
        }
      ]
    },
    {
      "cell_type": "code",
      "source": [
        "nomearq"
      ],
      "metadata": {
        "colab": {
          "base_uri": "https://localhost:8080/",
          "height": 36
        },
        "id": "NfbOTgPKRDkM",
        "outputId": "0879eed1-c799-4581-bf1b-2b1903f38812"
      },
      "execution_count": 42,
      "outputs": [
        {
          "output_type": "execute_result",
          "data": {
            "text/plain": [
              "'/content/drive/My Drive/ia025/aula7/test_dataset_text_1000.pt'"
            ],
            "application/vnd.google.colaboratory.intrinsic+json": {
              "type": "string"
            }
          },
          "metadata": {},
          "execution_count": 42
        }
      ]
    },
    {
      "cell_type": "code",
      "source": [
        "  with open('/content/drive/My Drive/ia025/aula7/test_dataset_text_'+str(total)+'.pt', 'rb') as f:\n",
        "    buffer = io.BytesIO(f.read())\n"
      ],
      "metadata": {
        "id": "iq9R6umvRP_M"
      },
      "execution_count": null,
      "outputs": []
    },
    {
      "cell_type": "code",
      "source": [
        "if datasets_carregados_previamente:\n",
        "  total = hparam['num_sentenca_train']+hparam['num_sentenca_valid']+hparam['num_sentenca_test']\n",
        "  print(total)\n",
        "  with open('/content/drive/My Drive/ia025/aula7/test_dataset_text_'+str(total)+'.pt', 'rb') as f:\n",
        "    buffer = io.BytesIO(f.read())\n",
        "  test_dataset = torch.load(buffer)\n",
        "  with open('/content/drive/My Drive/ia025/aula7/valid_dataset_text_'+str(total)+'.pt', 'rb') as f:\n",
        "    buffer = io.BytesIO(f.read())\n",
        "  valid_dataset = torch.load(buffer)\n",
        "  with open('/content/drive/My Drive/ia025/aula7/train_dataset_text_'+str(total)+'.pt', 'rb') as f:\n",
        "    buffer = io.BytesIO(f.read())\n",
        "  train_dataset = torch.load(buffer)    "
      ],
      "metadata": {
        "id": "z8b5dzCj-RGZ",
        "colab": {
          "base_uri": "https://localhost:8080/"
        },
        "outputId": "b97ca143-557d-4429-8afc-81aee496c038"
      },
      "execution_count": 44,
      "outputs": [
        {
          "output_type": "stream",
          "name": "stdout",
          "text": [
            "1000\n"
          ]
        }
      ]
    },
    {
      "cell_type": "code",
      "source": [
        "if not datasets_carregados_previamente:\n",
        "  hparam['num_sentenca_train'] = 700 #@param {type:\"slider\", min:500, max:1500, step:10}\n",
        "  hparam['num_sentenca_valid'] = 100 #@param {type:\"slider\", min:80, max:150, step:10}\n",
        "  hparam['num_sentenca_test'] = 100 #@param {type:\"slider\", min:80, max:150, step:10}\n",
        "  hparam['context_size'] = 9 #@param {type:\"slider\", min:3, max:15, step:1}\n",
        "  total = hparam['num_sentenca_train']+hparam['num_sentenca_valid']+hparam['num_sentenca_test']\n",
        "  assert total not in (1000, 2500), f\"Carga com esse total de sentenças não pode ser {total} pois já foi realizada!\"\n",
        "  !wget -nc https://storage.googleapis.com/unicamp-dl/ia025a_2022s1/aula7/sample_brwac.txt  \n",
        "\n",
        "  texts = open('sample_brwac.txt').readlines() # são 2500 textos\n",
        "  print('Truncating for debugging purposes.')\n",
        "  texts = texts[:total]  \n",
        "  valid_texts = texts[-(hparam['num_sentenca_valid'] + hparam['num_sentenca_test']):-hparam['num_sentenca_test']]\n",
        "  test_texts = texts[-hparam['num_sentenca_test']:]\n",
        "  train_texts = texts[:-(hparam['num_sentenca_valid'] + hparam['num_sentenca_test'])]\n",
        "\n",
        "  print(\"carregando valid_dataset\")\n",
        "  valid_dataset = MyDataset(texts=valid_texts, tokenizer=tokenizer, context_size=hparam['context_size'])\n",
        "  torch.save(valid_dataset, '/content/drive/My Drive/ia025/aula7/valid_dataset_text_'+str(total)+'.pt')\n",
        "\n",
        "  print(\"carregando test_dataset\")\n",
        "  test_dataset = MyDataset(texts=test_texts, tokenizer=tokenizer, context_size=hparam['context_size'])\n",
        "  torch.save(test_dataset, '/content/drive/My Drive/ia025/aula7/test_dataset_text_'+str(total)+'.pt')\n",
        "  \n",
        "  print(\"carregando train_dataset\")\n",
        "  train_dataset = MyDataset(texts=train_texts, tokenizer=tokenizer, context_size=hparam['context_size'])\n",
        "\n",
        "\n",
        "  torch.save(train_dataset, '/content/drive/My Drive/ia025/aula7/train_dataset_text_'+str(total)+'.pt')\n",
        "  drive.flush_and_unmount()\n",
        "  print('All changes made in this colab session should now be visible in Drive.')"
      ],
      "metadata": {
        "id": "pzG9Q3V91OcA"
      },
      "execution_count": 45,
      "outputs": []
    },
    {
      "cell_type": "code",
      "source": [
        "hparam['train_size'] = len(train_dataset) \n",
        "hparam['valid_size'] = len(valid_dataset) \n",
        "hparam['test_size'] = len(test_dataset) \n",
        "\n",
        "\n",
        "print(f\"training examples: {hparam['train_size']}\")\n",
        "print(f\"valid examples: {hparam['valid_size']}\")\n",
        "print(f\"test examples: {hparam['test_size']}\")"
      ],
      "metadata": {
        "id": "WQLvFAhH_5-x",
        "colab": {
          "base_uri": "https://localhost:8080/"
        },
        "outputId": "4014acb7-fc28-4f6b-8fd0-3e3f23b9bf88"
      },
      "execution_count": 48,
      "outputs": [
        {
          "output_type": "stream",
          "name": "stdout",
          "text": [
            "training examples: 927195\n",
            "valid examples: 130102\n",
            "test examples: 99902\n"
          ]
        }
      ]
    },
    {
      "cell_type": "markdown",
      "source": [
        "# Language Model (proposed by Bengio et al.)"
      ],
      "metadata": {
        "id": "edN1e3SEFwJg"
      }
    },
    {
      "cell_type": "markdown",
      "source": [
        "![image.png](data:image/png;base64,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)"
      ],
      "metadata": {
        "id": "4iqh9wVRF03-"
      }
    },
    {
      "cell_type": "code",
      "metadata": {
        "id": "hGaAjYDfWdd1"
      },
      "source": [
        "class LanguageModel(torch.nn.Module):\n",
        "\n",
        "    def __init__(self, vocab_size, context_size, embedding_dim, hidden_size, ind_tipo_nao_linearidade:str='relu', se_projecao_direta:bool=False, verbose=False):\n",
        "      \"\"\"\n",
        "      Implements the Neural Language Model proposed by Bengio et al.\"\n",
        "      Sem operação residual\n",
        "\n",
        "      Args:\n",
        "          vocab_size (int): Size of the input vocabulary.\n",
        "          context_size (int): Size of the sequence to consider as context for prediction.\n",
        "          embedding_dim (int): Dimension of the embedding layer for each word in the context.\n",
        "          hidden_size (int): Size of the hidden layer.\n",
        "      \n",
        "      Fonte apoio:\n",
        "        https://abhinavcreed13.github.io/blog/bengio-trigram-nplm-using-pytorch/\n",
        "\n",
        "      \"\"\"\n",
        "      # Escreva seu código aqui.\n",
        "      assert isinstance(vocab_size,int), 'vocab_size deve ser do tipo int'      \n",
        "      assert isinstance(context_size,int), 'context_size deve ser do tipo int'      \n",
        "      assert isinstance(embedding_dim,int), 'embedding_dim deve ser do tipo int'      \n",
        "      assert isinstance(hidden_size,int), 'hidden_size deve ser do tipo int'      \n",
        "      assert ind_tipo_nao_linearidade in ('relu','tanh'), 'ind_tipo_nao_linearidade deve ser um dos valores: (relu,tanh)'\n",
        "      super().__init__()\n",
        "      self.context_size = context_size\n",
        "      self.embedding_dim = embedding_dim\n",
        "      self.vocab_size = vocab_size\n",
        "      self.hidden_size = hidden_size\n",
        "      self.verbose = verbose\n",
        "      self.ind_tipo_nao_linearidade = ind_tipo_nao_linearidade\n",
        "\n",
        "      self.embeddings = nn.Embedding(self.vocab_size, self.embedding_dim)     \n",
        "      self.linear1 = nn.Linear(self.context_size * self.embedding_dim, self.hidden_size, bias=True)\n",
        "      self.linear2 = nn.Linear(self.hidden_size, self.vocab_size, bias = False)\n",
        "      self.se_projecao_direta = se_projecao_direta\n",
        "      if self.se_projecao_direta:\n",
        "        # Com residual (bypass) conection:\n",
        "        # y = b + Wx + U*tanh(d +Hx)\n",
        "        self.projecao_direta = nn.Linear(self.context_size * self.embedding_dim, self.vocab_size, bias=True)\n",
        "      self.init_weights()\n",
        "\n",
        "    def init_weights(self):\n",
        "      initrange = 0.1\n",
        "      nn.init.uniform_(self.embeddings.weight, -initrange, initrange)\n",
        "      nn.init.uniform_(self.linear1.weight, -initrange, initrange)\n",
        "      nn.init.zeros_(self.linear1.bias)\n",
        "      nn.init.uniform_(self.linear2.weight, -initrange, initrange)\n",
        "      if self.se_projecao_direta:\n",
        "        nn.init.uniform_(self.projecao_direta.weight, -initrange, initrange)\n",
        "        nn.init.zeros_(self.projecao_direta.bias)\n",
        "\n",
        "    def forward(self, inputs):\n",
        "      \"\"\"\n",
        "      Args:\n",
        "          inputs is a LongTensor of shape (batch_size, context_size)\n",
        "      \"\"\"\n",
        "      # Escreva seu código aqui.\n",
        "      # compute x': concatenation of x1 and x2 embeddings \n",
        "      assert inputs.shape[1] == self.context_size, f\"Esperado inputs com {self.context_size} tokens\"\n",
        "      num_batchs = inputs.shape[0]\n",
        "      if self.verbose:\n",
        "        print(f\"Entrou forward: inputs.shape = {inputs.shape}. Dim esperada num_batchs, context_size = ({num_batchs} , {self.context_size})\")      \n",
        "      embeds = self.embeddings(inputs).view((num_batchs,self.context_size * self.embedding_dim)) # BATCH_SIZE,  self.context_size * self.embedding_dim\n",
        "      if self.verbose:\n",
        "        print(f\"Após self.embeddings: embeds.shape = {embeds.shape}. Dim esperada num_batchs, context_size * self.embedding_dim= ({num_batchs}, {self.embedding_dim * self.context_size})\")      \n",
        "      if self.ind_tipo_nao_linearidade == 'tanh':\n",
        "        # no paper usa tanh\n",
        "        out = torch.nn.functional.tanh(self.linear1(embeds)) # BATCH_SIZE,  self.hidden_size\n",
        "      elif self.ind_tipo_nao_linearidade == 'relu':\n",
        "        out = torch.nn.functional.relu(self.linear1(embeds))      \n",
        "      if self.verbose:\n",
        "        print(f\"Após não_linear(linear1(embeds)): out.shape = {out.shape}. Dim esperada num_batchs, hidden_size = ({num_batchs} , {self.hidden_size})\") \n",
        "      out = self.linear2(out) # BATCH_SIZE, vocab_size\n",
        "      if self.verbose:\n",
        "        print(f\"Após linear2(out): out.shape = {out.shape}. Dim esperada num_batchs, vocab_size = ({num_batchs} , {self.vocab_size})\")       \n",
        "      if self.se_projecao_direta:\n",
        "        proj_direta = self.projecao_direta(embeds) # BATCH_SIZE, vocab_size\n",
        "        if self.verbose:\n",
        "          print(f\"Após projecao_direta(embeds): proj_direta.shape = {proj_direta.shape}. Dim esperada num_batchs, vocab_size = ({num_batchs} , {self.vocab_size})\")       \n",
        "        out += proj_direta # BATCH_SIZE, vocab_size\n",
        "        if self.verbose:\n",
        "          print(f\"Após out += projecao_direta(embeds): out.shape = {out.shape}. Dim esperada num_batchs, vocab_size = ({num_batchs} , {self.vocab_size})\")        \n",
        "\n",
        "      # compute y: log_softmax\n",
        "      #log_probs = torch.nn.functional.softmax(out, dim=1) # BATCH_SIZE, vocab_size     \n",
        "      #if self.verbose:\n",
        "      #  print(f\"Após probs: probs.shape = {log_probs.shape}. Dim esperada num_batchs, vocab_size = ({num_batchs} , {self.vocab_size})\")             \n",
        "      #if self.verbose:\n",
        "      #  print(f\"Soma probs\", log_probs.sum(dim=1))\n",
        "      return out\n"
      ],
      "execution_count": 50,
      "outputs": []
    },
    {
      "cell_type": "code",
      "source": [
        ""
      ],
      "metadata": {
        "id": "dw_bZa-zS09T"
      },
      "execution_count": null,
      "outputs": []
    },
    {
      "cell_type": "markdown",
      "source": [
        "# Assert da Perplexidade\n"
      ],
      "metadata": {
        "id": "8nhbUVsYnVAp"
      }
    },
    {
      "cell_type": "code",
      "source": [
        "inicializa_seed(123)"
      ],
      "metadata": {
        "id": "zJ6x9ky5u9rH"
      },
      "execution_count": 67,
      "outputs": []
    },
    {
      "cell_type": "code",
      "source": [
        "def perplexity(logits, target):\n",
        "    \"\"\"\n",
        "    Computes the perplexity.\n",
        "\n",
        "    Args:\n",
        "        logits: a FloatTensor of shape (batch_size, vocab_size)\n",
        "        target: a LongTensor of shape (batch_size,)\n",
        "\n",
        "    Returns:\n",
        "        A float corresponding to the perplexity.\n",
        "    \"\"\"\n",
        "    # Escreva seu código aqui.\n",
        "\n",
        "    # calculando loss com cross entropy\n",
        "    # loss = torch.nn.functional.cross_entropy(logits, target)\n",
        "\n",
        "    loss = torch.nn.functional.cross_entropy(logits, target)\n",
        "\n",
        "    # calculando perplexidade \n",
        "    return torch.exp(loss)  \n",
        "    "
      ],
      "metadata": {
        "id": "gbMP8VAUncfX"
      },
      "execution_count": 68,
      "outputs": []
    },
    {
      "cell_type": "markdown",
      "source": [
        "## Teste o modelo e a função de perplexidade com um exemplo"
      ],
      "metadata": {
        "id": "Rm6_PTH2i98e"
      }
    },
    {
      "cell_type": "code",
      "source": [
        "hparam['vocab_size']=tokenizer.vocab_size\n",
        "hparam['embedding_dim']=64\n",
        "hparam['hidden_size']=128\n",
        "\n",
        "#documentação\n",
        "hparam['num_classes']=hparam['vocab_size']\n",
        "\n",
        "hparam"
      ],
      "metadata": {
        "colab": {
          "base_uri": "https://localhost:8080/"
        },
        "id": "McvufVnXGlBt",
        "outputId": "20b0b066-d1d7-4f77-f577-1d48f74057f0"
      },
      "execution_count": 69,
      "outputs": [
        {
          "output_type": "execute_result",
          "data": {
            "text/plain": [
              "{'context_size': 9,\n",
              " 'device': device(type='cuda', index=0),\n",
              " 'embedding_dim': 64,\n",
              " 'hidden_size': 128,\n",
              " 'num_classes': 29794,\n",
              " 'num_sentenca_test': 100,\n",
              " 'num_sentenca_train': 800,\n",
              " 'num_sentenca_valid': 100,\n",
              " 'num_workers_dataloader': 2,\n",
              " 'test_size': 99902,\n",
              " 'train_size': 927195,\n",
              " 'valid_size': 130102,\n",
              " 'vocab_size': 29794}"
            ]
          },
          "metadata": {},
          "execution_count": 69
        }
      ]
    },
    {
      "cell_type": "code",
      "metadata": {
        "id": "RwnxfZlrZoT_"
      },
      "source": [
        "model = LanguageModel(\n",
        "    vocab_size=hparam['vocab_size'],\n",
        "    context_size=hparam['context_size'],\n",
        "    embedding_dim=hparam['embedding_dim'],\n",
        "    hidden_size=hparam['hidden_size'],\n",
        "    ind_tipo_nao_linearidade='relu',\n",
        "    se_projecao_direta=False,\n",
        "    verbose=True\n",
        ").to(device)\n"
      ],
      "execution_count": 70,
      "outputs": []
    },
    {
      "cell_type": "code",
      "source": [
        "sample_train_x, sample_train_y = next(iter(DataLoader(train_dataset,batch_size=1)))\n",
        "sample_train_x_gpu = sample_train_x.to(device)\n",
        "print(f\"sample_train_y.shape: {sample_train_y.shape}, sample_train_y: {sample_train_y}\")\n",
        "print(f\"sample_train_x.shape: {sample_train_x.shape}, sample_train_x: {sample_train_x}\")\n"
      ],
      "metadata": {
        "colab": {
          "base_uri": "https://localhost:8080/"
        },
        "id": "CgeqpYyoHV6-",
        "outputId": "51ccd722-4c48-494a-f27d-57feafb43a3d"
      },
      "execution_count": 71,
      "outputs": [
        {
          "output_type": "stream",
          "name": "stdout",
          "text": [
            "sample_train_y.shape: torch.Size([1]), sample_train_y: tensor([13254])\n",
            "sample_train_x.shape: torch.Size([1, 9]), sample_train_x: tensor([[20100,  2308,  3074,  1089,   481,   117,   146,  1189,   125]])\n"
          ]
        }
      ]
    },
    {
      "cell_type": "code",
      "source": [
        "saida = model(sample_train_x_gpu)"
      ],
      "metadata": {
        "colab": {
          "base_uri": "https://localhost:8080/"
        },
        "id": "0KzkMqPk8aU0",
        "outputId": "6f3d80b2-0547-4abd-add2-1c28eb1f157b"
      },
      "execution_count": 72,
      "outputs": [
        {
          "output_type": "stream",
          "name": "stdout",
          "text": [
            "Entrou forward: inputs.shape = torch.Size([1, 9]). Dim esperada num_batchs, context_size = (1 , 9)\n",
            "Após self.embeddings: embeds.shape = torch.Size([1, 576]). Dim esperada num_batchs, context_size * self.embedding_dim= (1, 576)\n",
            "Após não_linear(linear1(embeds)): out.shape = torch.Size([1, 128]). Dim esperada num_batchs, hidden_size = (1 , 128)\n",
            "Após linear2(out): out.shape = torch.Size([1, 29794]). Dim esperada num_batchs, vocab_size = (1 , 29794)\n"
          ]
        }
      ]
    },
    {
      "cell_type": "code",
      "source": [
        "saida\n"
      ],
      "metadata": {
        "colab": {
          "base_uri": "https://localhost:8080/"
        },
        "id": "zQLXpWioatai",
        "outputId": "caa6918b-8734-479b-b04d-1f8466c01b80"
      },
      "execution_count": 73,
      "outputs": [
        {
          "output_type": "execute_result",
          "data": {
            "text/plain": [
              "tensor([[-0.0052, -0.0623, -0.0502,  ...,  0.0569,  0.0057,  0.0521]],\n",
              "       device='cuda:0', grad_fn=<MmBackward0>)"
            ]
          },
          "metadata": {},
          "execution_count": 73
        }
      ]
    },
    {
      "cell_type": "code",
      "source": [
        "assert saida.shape[1] == hparam['vocab_size'], \"Saída deveria ser do tamanho do vocabulário\""
      ],
      "metadata": {
        "id": "J0Ct-TaTIICk"
      },
      "execution_count": 74,
      "outputs": []
    },
    {
      "cell_type": "code",
      "source": [
        "del saida"
      ],
      "metadata": {
        "id": "N6Vk4ROvIiFM"
      },
      "execution_count": 75,
      "outputs": []
    },
    {
      "cell_type": "code",
      "source": [
        "model = LanguageModel(\n",
        "    vocab_size=hparam['vocab_size'],\n",
        "    context_size=hparam['context_size'],\n",
        "    embedding_dim=hparam['embedding_dim'],\n",
        "    hidden_size=hparam['hidden_size'],\n",
        "    ind_tipo_nao_linearidade='relu',    \n",
        "    se_projecao_direta=False,\n",
        "    verbose=True\n",
        ").to(device)"
      ],
      "metadata": {
        "id": "U5tL-R5ov3de"
      },
      "execution_count": 77,
      "outputs": []
    },
    {
      "cell_type": "code",
      "source": [
        "n_examples = 1000\n",
        "sample_train, target_token_ids = next(iter(DataLoader(train_dataset, batch_size=n_examples)))\n",
        "sample_train_gpu = sample_train.to(device)\n",
        "target_token_ids = target_token_ids.to(device)\n",
        "logits = model(sample_train_gpu)\n"
      ],
      "metadata": {
        "colab": {
          "base_uri": "https://localhost:8080/"
        },
        "id": "VFbOL1UMImGL",
        "outputId": "1fc0bbc8-fe60-4bc8-d28c-81bcb3421546"
      },
      "execution_count": 78,
      "outputs": [
        {
          "output_type": "stream",
          "name": "stdout",
          "text": [
            "Entrou forward: inputs.shape = torch.Size([1000, 9]). Dim esperada num_batchs, context_size = (1000 , 9)\n",
            "Após self.embeddings: embeds.shape = torch.Size([1000, 576]). Dim esperada num_batchs, context_size * self.embedding_dim= (1000, 576)\n",
            "Após não_linear(linear1(embeds)): out.shape = torch.Size([1000, 128]). Dim esperada num_batchs, hidden_size = (1000 , 128)\n",
            "Após linear2(out): out.shape = torch.Size([1000, 29794]). Dim esperada num_batchs, vocab_size = (1000 , 29794)\n"
          ]
        }
      ]
    },
    {
      "cell_type": "code",
      "source": [
        "my_perplexity = perplexity(logits=logits, target=target_token_ids)\n",
        "\n",
        "print(f'my perplexity:              {int(my_perplexity)}')\n",
        "print(f'correct initial perplexity: {tokenizer.vocab_size}')\n"
      ],
      "metadata": {
        "colab": {
          "base_uri": "https://localhost:8080/"
        },
        "id": "bF-vpOZtgzH8",
        "outputId": "0a2ca1a4-518d-49e4-dc00-8eeca25140f1"
      },
      "execution_count": 79,
      "outputs": [
        {
          "output_type": "stream",
          "name": "stdout",
          "text": [
            "my perplexity:              29825\n",
            "correct initial perplexity: 29794\n"
          ]
        }
      ]
    },
    {
      "cell_type": "code",
      "source": [
        "assert math.isclose(my_perplexity, tokenizer.vocab_size, abs_tol=2000)\n",
        "print('Passou o no assert da perplexidade')"
      ],
      "metadata": {
        "colab": {
          "base_uri": "https://localhost:8080/"
        },
        "id": "n7lZdvwGKoEB",
        "outputId": "58a8e363-48ed-4e35-eb93-593ee1040ac0"
      },
      "execution_count": 80,
      "outputs": [
        {
          "output_type": "stream",
          "name": "stdout",
          "text": [
            "Passou o no assert da perplexidade\n"
          ]
        }
      ]
    },
    {
      "cell_type": "markdown",
      "source": [
        "# Treinamento e Validação"
      ],
      "metadata": {
        "id": "KiJtrsqPnE_l"
      }
    },
    {
      "cell_type": "markdown",
      "source": [
        "## Funções auxiliares ao treinamento"
      ],
      "metadata": {
        "id": "12HRQXz_NHIA"
      }
    },
    {
      "cell_type": "code",
      "source": [
        "def validation_step(input, target, parm_model):\n",
        "    logits = parm_model(input)\n",
        "    loss = torch.nn.functional.cross_entropy(logits, target)\n",
        "    return loss.item()\n"
      ],
      "metadata": {
        "id": "M3XfDRtAMUFw"
      },
      "execution_count": null,
      "outputs": []
    },
    {
      "cell_type": "code",
      "source": [
        "def count_parameters(model):\n",
        "  return sum(p.numel() for p in model.parameters() if p.requires_grad)"
      ],
      "metadata": {
        "id": "uwMnuznWtiAd"
      },
      "execution_count": null,
      "outputs": []
    },
    {
      "cell_type": "markdown",
      "source": [
        "A weight decay penalty of 10−4 was used in the Brown experiments and a weight decay of 10−5 was used in the APNews experiments  (not applied to bias)\n",
        "\n",
        "fonte: https://raberrytv.wordpress.com/2017/10/29/pytorch-weight-decay-made-easy/"
      ],
      "metadata": {
        "id": "crS2WSQbciwk"
      }
    },
    {
      "cell_type": "code",
      "source": [
        "def add_param_weight_decay(net, l2_value, skip_list=()):\n",
        " decay, no_decay = [], []\n",
        " for name, param in net.named_parameters():\n",
        "  if not param.requires_grad: continue # frozen weights\t\t            \n",
        "  if len(param.shape) == 1 or name.endswith(\".bias\") or name in skip_list: no_decay.append(param)\n",
        "  else: decay.append(param)\n",
        " return [{'params': no_decay, 'weight_decay': 0.}, {'params': decay, 'weight_decay': l2_value}]"
      ],
      "metadata": {
        "id": "os0oYoIScCN0"
      },
      "execution_count": null,
      "outputs": []
    },
    {
      "cell_type": "code",
      "source": [
        "def gera_tag_rastro_experiencia_treino(parm_aula:str, hparam:dict)->str:\n",
        "  lista_tag = []\n",
        "  lista_chaves = ['embedding_dim', 'hidden_size', 'ind_tipo_nao_linearidade', 'se_projecao_direta', 'batch_size', 'learning_rate', 'weight_decay', 'amsgrad', 'decrease_factor_lr', 'max_examples', 'eval_every_steps']\n",
        "  for chave in lista_chaves:\n",
        "    tag = f\"{chave} {hparam[chave]}\"\n",
        "    lista_tag.append(tag)\n",
        "  return lista_tag"
      ],
      "metadata": {
        "id": "2Qa0fxN4IDOP"
      },
      "execution_count": null,
      "outputs": []
    },
    {
      "cell_type": "code",
      "source": [
        "def treina_modelo (parm_model, parm_loader_train, parm_loader_valid, parm_loader_test, hparam:dict, parm_tags_rastro:list, parm_se_apenas_um_batch:bool=False, parm_verbose:bool = True, parm_intervalo_print = 10):\n",
        "  \"\"\"\n",
        "  \"\"\"\n",
        "  rastro_neptune = NeptuneRastroRun(hparam, parm_lista_tag=parm_tags_rastro)\n",
        "  try:\n",
        "    \n",
        "    train_losses = []\n",
        "    n_examples = 0\n",
        "    step_avaliacao = 0\n",
        "    best_perplexidade_validacao = 9999\n",
        "    best_step = 0\n",
        "    history = []\n",
        "    model.eval()\n",
        "    with torch.no_grad():\n",
        "        valid_ppl = np.exp(np.average([\n",
        "            validation_step(input.to(device), target.to(device), parm_model)\n",
        "            for input, target in validation_loader]))\n",
        "    metrica_rastro = {\"valid/perplexidade\": valid_ppl}  \n",
        "    history.append(metrica_rastro)\n",
        "    rastro_neptune.salva_metrica(metrica_rastro)\n",
        "\n",
        "    print(f'Momento: {time.strftime(\"[%Y-%b-%d %H:%M:%S]\")} Métricas iniciais em validação: {metrica_rastro}')\n",
        "    time_inicio_treino = time.time()\n",
        "    \n",
        "    while n_examples < hparam['max_examples']:\n",
        "        for qtd_param_update, (input, target) in tqdm(enumerate(parm_loader_train), desc='Training'):  \n",
        "            ultimo_step_treinado = qtd_param_update \n",
        "            parm_model.train()\n",
        "            logits = parm_model(input.to(device))\n",
        "            target = target.to(device)\n",
        "            hparam['optimizer'].zero_grad()            \n",
        "            loss = torch.nn.functional.cross_entropy(logits, target)\n",
        "            loss = hparam['criterion'](logits, target)\n",
        "            loss.backward()\n",
        "            hparam['optimizer'].step()\n",
        "            hparam['scheduler'].step()\n",
        "            train_losses.append(loss.item())\n",
        "\n",
        "            if qtd_param_update % hparam['eval_every_steps'] == 0:\n",
        "                train_ppl = np.exp(np.average(train_losses))\n",
        "                parm_model.eval()\n",
        "                with torch.no_grad():\n",
        "                    valid_ppl = np.exp(np.average([\n",
        "                        validation_step(input.to(device), target.to(device))\n",
        "                        for input, target in parm_loader_valid]))\n",
        "\n",
        "                print(f'{qtd_param_update} steps; {n_examples} examples so far; train ppl: {train_ppl:.2f}, valid ppl: {valid_ppl:.2f};  Momento: {time.strftime(\"[%Y-%b-%d %H:%M:%S]\")}; ')\n",
        "                train_losses = []\n",
        "\n",
        "                metrica_rastro = {\"train/perplexidade\": train_ppl,\n",
        "                                  \"train/loss\": loss.item(), \n",
        "                                  \"valid/perplexidade\": valid_ppl}  \n",
        "                history.append(metrica_rastro)\n",
        "                rastro_neptune.salva_metrica(metrica_rastro)\n",
        "                if parm_intervalo_print > 0:\n",
        "                  if (qtd_param_update)%parm_intervalo_print == 0: \n",
        "                    print(f'Step: {(qtd_param_update):d}/{hparam[\"max_examples\"]:d}  Momento: {time.strftime(\"[%Y-%b-%d %H:%M:%S]\")} Train loss: {loss.item():.6f} perplexidade: {train_ppl:.6f} Validação perplexidade: {valid_ppl:.6f} ')\n",
        "\n",
        "                # Salvando o melhor modelo de acordo com a loss de validação\n",
        "                if valid_ppl < best_perplexidade_validacao:\n",
        "                    best_model_dict = parm_model.state_dict()\n",
        "                    # torch.save(parm_model.state_dict(), 'best_model' + NeptuneRastroRun.retorna_tag_contexto_rastro() + '.pt')\n",
        "                    best_perplexidade_validacao = valid_ppl\n",
        "                    best_step = qtd_param_update\n",
        "                    # print('best model')\n",
        "                elif hparam['early_stop'] <= (qtd_param_update - best_step):\n",
        "                    print(f\"Parando por critério de early_stop no step {qtd_param_update} sendo best_step {best_step} e ealy_stop {hparam['early_stop']}\")\n",
        "                    break\n",
        "            \n",
        "\n",
        "\n",
        "\n",
        "            n_examples += len(input)  # Increment of batch size\n",
        "            if n_examples >= hparam['max_examples']:\n",
        "                break    \n",
        "            \n",
        "            # apenas para teste da lógica, tratar um batch por época\n",
        "            if parm_se_apenas_um_batch:\n",
        "              break\n",
        "\n",
        "    # calculando tempo gasto e médio por step\n",
        "    tempo_treino = time.time() - time_inicio_treino   \n",
        "    rastro_neptune.run_neptune[\"tempo_treino\"].log(tempo_treino)\n",
        "    rastro_neptune.run_neptune[\"tempo_treino_por_step\"].log(tempo_treino/ultimo_step_treinado)\n",
        "    print(f\"Tempo gasto total {tempo_treino:9.5f}, steps: {ultimo_step_treinado}, tempo por step {tempo_treino/ultimo_step_treinado:9.5f}\")\n",
        "\n",
        "    print(f'Final: {ultimo_step_treinado:d}/{hparam[\"max_epochs\"]:d}  Momento: {time.strftime(\"[%Y-%b-%d %H:%M:%S]\")} Train loss: {loss.item():.6f} perplexidade: {train_ppl:.6f} Validação perplexidade: {valid_ppl:.6f} ')\n",
        "\n",
        "    rastro_neptune.run_neptune[\"valid/best_step\"].log(best_step)\n",
        "\n",
        "    parm_model.load_state_dict(best_model_dict)\n",
        "    parm_model.to(hparam['device'])\n",
        "    \n",
        "    with torch.no_grad():\n",
        "    test_ppl = np.exp(np.average([\n",
        "        validation_step(input.to(device), target.to(device))\n",
        "        for input, target in parm_loader_test\n",
        "    ]))\n",
        "\n",
        "    metrica_rastro = {\"test/perplexidade\": test_ppl}      \n",
        "    print(f\" Resultado com dados de teste: {metrica_rastro}\")\n",
        "    rastro_neptune.salva_metrica(metrica_rastro)\n",
        "    rastro_neptune.gera_grafico_modelo(parm_loader_train, parm_model)\n",
        "\n",
        "  finally:\n",
        "    rastro_neptune.stop()\n",
        "\n",
        "\n",
        "  return {\"perplexidade_test\":test_ppl, \"perplexidade_treino\":train_ppl, \"best_perplexidade_validacao\":best_perplexidade_validacao,  \"best_step\": best_step} #, \"best_model_dict\": best_model_dict}"
      ],
      "metadata": {
        "id": "UkNIPj_LuMJO"
      },
      "execution_count": null,
      "outputs": []
    },
    {
      "cell_type": "markdown",
      "source": [
        "For training the neural networks, the initial learning rate was set to εo = 10−3 (after a few trials\n",
        "with a tiny data set), and gradually decreased according to the following schedule: $ε_{t} = \\frac{εo}{(1+rt)}$ where\n",
        "t represents the number of parameter updates done and r is a decrease factor that was heuristically\n",
        "chosen to be r = 10−8."
      ],
      "metadata": {
        "id": "GB9z8fWGUShW"
      }
    },
    {
      "cell_type": "markdown",
      "source": [
        "https://stackoverflow.com/questions/67770232/difference-between-multiplicativelr-and-lambdalr "
      ],
      "metadata": {
        "id": "YtLXwhbPUIUU"
      }
    },
    {
      "cell_type": "code",
      "source": [
        "hparam['decrease_factor_lr'] = 1e-8\n",
        "lambdalr = lambda qtd_param_update: 1/(1 + qtd_param_update * hparam['decrease_factor_lr'] )"
      ],
      "metadata": {
        "id": "P5iuFyi3UDBU"
      },
      "execution_count": null,
      "outputs": []
    },
    {
      "cell_type": "markdown",
      "source": [
        "## Treinamento laço"
      ],
      "metadata": {
        "id": "vVhtXQpXbgLh"
      }
    },
    {
      "cell_type": "code",
      "metadata": {
        "id": "zIMSaY-UUGUE"
      },
      "source": [
        "hparam['batch_size'] = 2048  # experimentar múltiplos de 2\n",
        "hparam['drop_last'] = True\n",
        "train_loader = DataLoader(train_dataset, batch_size=hparam['batch_size'], shuffle=True, drop_last=hparam['drop_last'], num_workers=hparam['num_workers_dataloader'])\n",
        "validation_loader = DataLoader(valid_dataset, batch_size=hparam['batch_size'], num_workers=hparam[\"num_workers_dataloader\"])\n"
      ],
      "execution_count": null,
      "outputs": []
    },
    {
      "cell_type": "code",
      "source": [
        "hparam['max_examples'] = 100_000_000 # 100_000_000\n",
        "hparam['eval_every_steps'] = 5000\n",
        "hparam['early_stop'] = 3 * hparam['eval_every_steps']\n",
        "hparam['criterion'] = torch.nn.CrossEntropyLoss()\n",
        "#hparam['ind_tipo_nao_linearidade'] = 'tanh' \n",
        "hparam['ind_tipo_nao_linearidade'] = 'relu' \n",
        "\n",
        "# loss_cross_entropy já calcula softmax\n"
      ],
      "metadata": {
        "id": "LMXwSeuFC2j3"
      },
      "execution_count": null,
      "outputs": []
    },
    {
      "cell_type": "code",
      "source": [
        "hparam['se_projecao_direta'] = False"
      ],
      "metadata": {
        "id": "4WB2j8gFxS0V"
      },
      "execution_count": null,
      "outputs": []
    },
    {
      "cell_type": "code",
      "source": [
        "model = LanguageModel(\n",
        "    vocab_size=hparam['vocab_size'],\n",
        "    context_size=hparam['context_size'],\n",
        "    embedding_dim=hparam['embedding_dim'],\n",
        "    hidden_size=hparam['hidden_size'],\n",
        "    ind_tipo_nao_linearidade=hparam['ind_tipo_nao_linearidade'],\n",
        "    se_projecao_direta=hparam['se_projecao_direta'],\n",
        "    verbose=False    \n",
        ").to(device)\n"
      ],
      "metadata": {
        "id": "jPiTWDyqHgLC"
      },
      "execution_count": null,
      "outputs": []
    },
    {
      "cell_type": "code",
      "source": [
        "hparam['num_params'] = count_parameters(model)\n",
        "print(f\"Number of model parameters: {hparam['num_params']}\")"
      ],
      "metadata": {
        "id": "BlxYwHt-ttam"
      },
      "execution_count": null,
      "outputs": []
    },
    {
      "cell_type": "code",
      "source": [
        "hparam['learning_rate'] =  3e-5 # 1e-3\n",
        "hparam['weight_decay'] = 1e-4\n",
        "params = add_param_weight_decay(model, hparam['weight_decay'])\n",
        "hparam['amsgrad']=False\n",
        "hparam['optimizer'] = torch.optim.Adam(params, lr=hparam['learning_rate'], weight_decay= hparam['weight_decay'], amsgrad=hparam['amsgrad'])\n",
        "hparam['scheduler'] = torch.optim.lr_scheduler.LambdaLR(hparam['optimizer'], lr_lambda=lambdalr, verbose=True)"
      ],
      "metadata": {
        "id": "URFCRxwiDG4G"
      },
      "execution_count": null,
      "outputs": []
    },
    {
      "cell_type": "code",
      "source": [
        "hparam['lista_tag_rastro_experiencia_treino'] =  gera_tag_rastro_experiencia_treino(parm_aula='aula7', hparam) "
      ],
      "metadata": {
        "id": "RSlXO9KiFo75"
      },
      "execution_count": null,
      "outputs": []
    },
    {
      "cell_type": "code",
      "source": [
        "resultado = treina_modelo(model, parm_loader_train=train_loader, parm_loader_valid=val_loader,\n",
        "                          parm_loader_test=test_loader, hparam=hparam,\n",
        "                          parm_tags_rastro=hparam['lista_tag_rastro_experiencia_treino']'\n",
        "                          parm_verbose=True, parm_intervalo_print=1)"
      ],
      "metadata": {
        "id": "JznMaUstEoMq"
      },
      "execution_count": null,
      "outputs": []
    },
    {
      "cell_type": "code",
      "source": [
        "hparam['se_projecao_direta'] = True"
      ],
      "metadata": {
        "id": "-zdQHc1hHD6b"
      },
      "execution_count": null,
      "outputs": []
    },
    {
      "cell_type": "code",
      "source": [
        "hparam['lista_tag_rastro_experiencia_treino'] =  gera_tag_rastro_experiencia_treino(parm_aula='aula7', hparam) "
      ],
      "metadata": {
        "id": "c43SywcJH1Fw"
      },
      "execution_count": null,
      "outputs": []
    },
    {
      "cell_type": "code",
      "source": [
        "resultado = treina_modelo(model, parm_loader_train=train_loader, parm_loader_valid=val_loader,\n",
        "                          parm_loader_test=test_loader, hparam=hparam,\n",
        "                          parm_tags_rastro=hparam['lista_tag_rastro_experiencia_treino']'\n",
        "                          parm_verbose=True, parm_intervalo_print=1)"
      ],
      "metadata": {
        "id": "P_hXRPCeH1Fx"
      },
      "execution_count": null,
      "outputs": []
    },
    {
      "cell_type": "code",
      "source": [
        "hparam['amsgrad']=True"
      ],
      "metadata": {
        "id": "YkbXUMq_HERf"
      },
      "execution_count": null,
      "outputs": []
    },
    {
      "cell_type": "code",
      "source": [
        "hparam['lista_tag_rastro_experiencia_treino'] =  gera_tag_rastro_experiencia_treino(parm_aula='aula7', hparam) "
      ],
      "metadata": {
        "id": "QzZQ-zQEH2Uo"
      },
      "execution_count": null,
      "outputs": []
    },
    {
      "cell_type": "code",
      "source": [
        "resultado = treina_modelo(model, parm_loader_train=train_loader, parm_loader_valid=val_loader,\n",
        "                          parm_loader_test=test_loader, hparam=hparam,\n",
        "                          parm_tags_rastro=hparam['lista_tag_rastro_experiencia_treino']'\n",
        "                          parm_verbose=True, parm_intervalo_print=1)"
      ],
      "metadata": {
        "id": "jcfUjiRIH2h-"
      },
      "execution_count": null,
      "outputs": []
    },
    {
      "cell_type": "code",
      "source": [
        "train_losses = []\n",
        "n_examples = 0\n",
        "step = 0\n",
        "while n_examples < hparam['max_examples']:\n",
        "    for qtd_param_update, (input, target) in enumerate(train_loader):  \n",
        "        loss = train_step(input.to(device), target.to(device)) \n",
        "        train_losses.append(loss)\n",
        "        hparam['scheduler'].step()\n",
        "\n",
        "        if step % hparam['eval_every_steps'] == 0:\n",
        "            train_ppl = np.exp(np.average(train_losses))\n",
        "            model.eval()\n",
        "            with torch.no_grad():\n",
        "                valid_ppl = np.exp(np.average([\n",
        "                    validation_step(input.to(device), target.to(device))\n",
        "                    for input, target in validation_loader]))\n",
        "\n",
        "            print(f'{step} steps; {n_examples} examples so far; train ppl: {train_ppl:.2f}, valid ppl: {valid_ppl:.2f};  Momento: {time.strftime(\"[%Y-%b-%d %H:%M:%S]\")}; ')\n",
        "            train_losses = []\n",
        "\n",
        "        n_examples += len(input)  # Increment of batch size\n",
        "        step += 1\n",
        "        if n_examples >= hparam['max_examples']:\n",
        "            break"
      ],
      "metadata": {
        "colab": {
          "base_uri": "https://localhost:8080/",
          "height": 835
        },
        "id": "hxxvnvAcxm59",
        "outputId": "c493d176-407b-4bf8-e772-db0db7d0240b"
      },
      "execution_count": null,
      "outputs": [
        {
          "output_type": "stream",
          "name": "stdout",
          "text": [
            "0 steps; 0 examples so far; train ppl: 30379.19, valid ppl: 30767.93;  Momento: [2022-May-16 17:19:40]; \n",
            "5000 steps; 320000 examples so far; train ppl: 3437.17, valid ppl: 6019.83;  Momento: [2022-May-16 17:20:09]; \n",
            "10000 steps; 640000 examples so far; train ppl: 969.59, valid ppl: 8373.45;  Momento: [2022-May-16 17:20:38]; \n",
            "15000 steps; 960000 examples so far; train ppl: 765.66, valid ppl: 10068.87;  Momento: [2022-May-16 17:21:07]; \n",
            "20000 steps; 1280000 examples so far; train ppl: 608.88, valid ppl: 11074.10;  Momento: [2022-May-16 17:21:37]; \n",
            "25000 steps; 1600000 examples so far; train ppl: 484.31, valid ppl: 11752.63;  Momento: [2022-May-16 17:22:06]; \n",
            "30000 steps; 1920000 examples so far; train ppl: 382.48, valid ppl: 12261.33;  Momento: [2022-May-16 17:22:35]; \n",
            "35000 steps; 2240000 examples so far; train ppl: 301.68, valid ppl: 12637.92;  Momento: [2022-May-16 17:23:04]; \n",
            "40000 steps; 2560000 examples so far; train ppl: 237.90, valid ppl: 13027.20;  Momento: [2022-May-16 17:23:33]; \n",
            "45000 steps; 2880000 examples so far; train ppl: 187.64, valid ppl: 13412.14;  Momento: [2022-May-16 17:24:02]; \n",
            "50000 steps; 3200000 examples so far; train ppl: 148.42, valid ppl: 13854.08;  Momento: [2022-May-16 17:24:31]; \n",
            "55000 steps; 3520000 examples so far; train ppl: 117.42, valid ppl: 14459.81;  Momento: [2022-May-16 17:25:00]; \n",
            "60000 steps; 3840000 examples so far; train ppl: 93.25, valid ppl: 15014.05;  Momento: [2022-May-16 17:25:29]; \n",
            "65000 steps; 4160000 examples so far; train ppl: 74.31, valid ppl: 15758.71;  Momento: [2022-May-16 17:25:58]; \n",
            "70000 steps; 4480000 examples so far; train ppl: 59.45, valid ppl: 16605.27;  Momento: [2022-May-16 17:26:28]; \n",
            "75000 steps; 4800000 examples so far; train ppl: 47.76, valid ppl: 17512.64;  Momento: [2022-May-16 17:26:57]; \n",
            "80000 steps; 5120000 examples so far; train ppl: 38.61, valid ppl: 18623.62;  Momento: [2022-May-16 17:27:26]; \n",
            "85000 steps; 5440000 examples so far; train ppl: 31.37, valid ppl: 19875.28;  Momento: [2022-May-16 17:27:55]; \n",
            "90000 steps; 5760000 examples so far; train ppl: 25.68, valid ppl: 21207.27;  Momento: [2022-May-16 17:28:24]; \n",
            "95000 steps; 6080000 examples so far; train ppl: 21.22, valid ppl: 22698.91;  Momento: [2022-May-16 17:28:53]; \n",
            "100000 steps; 6400000 examples so far; train ppl: 17.59, valid ppl: 24426.70;  Momento: [2022-May-16 17:29:22]; \n",
            "105000 steps; 6720000 examples so far; train ppl: 14.75, valid ppl: 26307.58;  Momento: [2022-May-16 17:29:51]; \n",
            "110000 steps; 7040000 examples so far; train ppl: 12.46, valid ppl: 28266.43;  Momento: [2022-May-16 17:30:21]; \n"
          ]
        },
        {
          "output_type": "error",
          "ename": "KeyboardInterrupt",
          "evalue": "ignored",
          "traceback": [
            "\u001b[0;31m---------------------------------------------------------------------------\u001b[0m",
            "\u001b[0;31mKeyboardInterrupt\u001b[0m                         Traceback (most recent call last)",
            "\u001b[0;32m<ipython-input-259-47b4eefe636a>\u001b[0m in \u001b[0;36m<module>\u001b[0;34m()\u001b[0m\n\u001b[1;32m      4\u001b[0m \u001b[0;32mwhile\u001b[0m \u001b[0mn_examples\u001b[0m \u001b[0;34m<\u001b[0m \u001b[0mhparam\u001b[0m\u001b[0;34m[\u001b[0m\u001b[0;34m'max_examples'\u001b[0m\u001b[0;34m]\u001b[0m\u001b[0;34m:\u001b[0m\u001b[0;34m\u001b[0m\u001b[0;34m\u001b[0m\u001b[0m\n\u001b[1;32m      5\u001b[0m     \u001b[0;32mfor\u001b[0m \u001b[0minput\u001b[0m\u001b[0;34m,\u001b[0m \u001b[0mtarget\u001b[0m \u001b[0;32min\u001b[0m \u001b[0mtrain_loader\u001b[0m\u001b[0;34m:\u001b[0m\u001b[0;34m\u001b[0m\u001b[0;34m\u001b[0m\u001b[0m\n\u001b[0;32m----> 6\u001b[0;31m         \u001b[0mloss\u001b[0m \u001b[0;34m=\u001b[0m \u001b[0mtrain_step\u001b[0m\u001b[0;34m(\u001b[0m\u001b[0minput\u001b[0m\u001b[0;34m.\u001b[0m\u001b[0mto\u001b[0m\u001b[0;34m(\u001b[0m\u001b[0mdevice\u001b[0m\u001b[0;34m)\u001b[0m\u001b[0;34m,\u001b[0m \u001b[0mtarget\u001b[0m\u001b[0;34m.\u001b[0m\u001b[0mto\u001b[0m\u001b[0;34m(\u001b[0m\u001b[0mdevice\u001b[0m\u001b[0;34m)\u001b[0m\u001b[0;34m)\u001b[0m\u001b[0;34m\u001b[0m\u001b[0;34m\u001b[0m\u001b[0m\n\u001b[0m\u001b[1;32m      7\u001b[0m         \u001b[0mtrain_losses\u001b[0m\u001b[0;34m.\u001b[0m\u001b[0mappend\u001b[0m\u001b[0;34m(\u001b[0m\u001b[0mloss\u001b[0m\u001b[0;34m)\u001b[0m\u001b[0;34m\u001b[0m\u001b[0;34m\u001b[0m\u001b[0m\n\u001b[1;32m      8\u001b[0m \u001b[0;34m\u001b[0m\u001b[0m\n",
            "\u001b[0;32m<ipython-input-252-b36344112b4f>\u001b[0m in \u001b[0;36mtrain_step\u001b[0;34m(input, target)\u001b[0m\n\u001b[1;32m      9\u001b[0m     \u001b[0;31m#loss = hparam['criterion'](logits, target)\u001b[0m\u001b[0;34m\u001b[0m\u001b[0;34m\u001b[0m\u001b[0;34m\u001b[0m\u001b[0m\n\u001b[1;32m     10\u001b[0m     \u001b[0mloss\u001b[0m\u001b[0;34m.\u001b[0m\u001b[0mbackward\u001b[0m\u001b[0;34m(\u001b[0m\u001b[0;34m)\u001b[0m\u001b[0;34m\u001b[0m\u001b[0;34m\u001b[0m\u001b[0m\n\u001b[0;32m---> 11\u001b[0;31m     \u001b[0mhparam\u001b[0m\u001b[0;34m[\u001b[0m\u001b[0;34m'optimizer'\u001b[0m\u001b[0;34m]\u001b[0m\u001b[0;34m.\u001b[0m\u001b[0mstep\u001b[0m\u001b[0;34m(\u001b[0m\u001b[0;34m)\u001b[0m\u001b[0;34m\u001b[0m\u001b[0;34m\u001b[0m\u001b[0m\n\u001b[0m\u001b[1;32m     12\u001b[0m     \u001b[0;32mreturn\u001b[0m \u001b[0mloss\u001b[0m\u001b[0;34m.\u001b[0m\u001b[0mitem\u001b[0m\u001b[0;34m(\u001b[0m\u001b[0;34m)\u001b[0m\u001b[0;34m\u001b[0m\u001b[0;34m\u001b[0m\u001b[0m\n\u001b[1;32m     13\u001b[0m \u001b[0;34m\u001b[0m\u001b[0m\n",
            "\u001b[0;32m/usr/local/lib/python3.7/dist-packages/torch/optim/optimizer.py\u001b[0m in \u001b[0;36mwrapper\u001b[0;34m(*args, **kwargs)\u001b[0m\n\u001b[1;32m     86\u001b[0m                 \u001b[0mprofile_name\u001b[0m \u001b[0;34m=\u001b[0m \u001b[0;34m\"Optimizer.step#{}.step\"\u001b[0m\u001b[0;34m.\u001b[0m\u001b[0mformat\u001b[0m\u001b[0;34m(\u001b[0m\u001b[0mobj\u001b[0m\u001b[0;34m.\u001b[0m\u001b[0m__class__\u001b[0m\u001b[0;34m.\u001b[0m\u001b[0m__name__\u001b[0m\u001b[0;34m)\u001b[0m\u001b[0;34m\u001b[0m\u001b[0;34m\u001b[0m\u001b[0m\n\u001b[1;32m     87\u001b[0m                 \u001b[0;32mwith\u001b[0m \u001b[0mtorch\u001b[0m\u001b[0;34m.\u001b[0m\u001b[0mautograd\u001b[0m\u001b[0;34m.\u001b[0m\u001b[0mprofiler\u001b[0m\u001b[0;34m.\u001b[0m\u001b[0mrecord_function\u001b[0m\u001b[0;34m(\u001b[0m\u001b[0mprofile_name\u001b[0m\u001b[0;34m)\u001b[0m\u001b[0;34m:\u001b[0m\u001b[0;34m\u001b[0m\u001b[0;34m\u001b[0m\u001b[0m\n\u001b[0;32m---> 88\u001b[0;31m                     \u001b[0;32mreturn\u001b[0m \u001b[0mfunc\u001b[0m\u001b[0;34m(\u001b[0m\u001b[0;34m*\u001b[0m\u001b[0margs\u001b[0m\u001b[0;34m,\u001b[0m \u001b[0;34m**\u001b[0m\u001b[0mkwargs\u001b[0m\u001b[0;34m)\u001b[0m\u001b[0;34m\u001b[0m\u001b[0;34m\u001b[0m\u001b[0m\n\u001b[0m\u001b[1;32m     89\u001b[0m             \u001b[0;32mreturn\u001b[0m \u001b[0mwrapper\u001b[0m\u001b[0;34m\u001b[0m\u001b[0;34m\u001b[0m\u001b[0m\n\u001b[1;32m     90\u001b[0m \u001b[0;34m\u001b[0m\u001b[0m\n",
            "\u001b[0;32m/usr/local/lib/python3.7/dist-packages/torch/autograd/grad_mode.py\u001b[0m in \u001b[0;36mdecorate_context\u001b[0;34m(*args, **kwargs)\u001b[0m\n\u001b[1;32m     25\u001b[0m         \u001b[0;32mdef\u001b[0m \u001b[0mdecorate_context\u001b[0m\u001b[0;34m(\u001b[0m\u001b[0;34m*\u001b[0m\u001b[0margs\u001b[0m\u001b[0;34m,\u001b[0m \u001b[0;34m**\u001b[0m\u001b[0mkwargs\u001b[0m\u001b[0;34m)\u001b[0m\u001b[0;34m:\u001b[0m\u001b[0;34m\u001b[0m\u001b[0;34m\u001b[0m\u001b[0m\n\u001b[1;32m     26\u001b[0m             \u001b[0;32mwith\u001b[0m \u001b[0mself\u001b[0m\u001b[0;34m.\u001b[0m\u001b[0mclone\u001b[0m\u001b[0;34m(\u001b[0m\u001b[0;34m)\u001b[0m\u001b[0;34m:\u001b[0m\u001b[0;34m\u001b[0m\u001b[0;34m\u001b[0m\u001b[0m\n\u001b[0;32m---> 27\u001b[0;31m                 \u001b[0;32mreturn\u001b[0m \u001b[0mfunc\u001b[0m\u001b[0;34m(\u001b[0m\u001b[0;34m*\u001b[0m\u001b[0margs\u001b[0m\u001b[0;34m,\u001b[0m \u001b[0;34m**\u001b[0m\u001b[0mkwargs\u001b[0m\u001b[0;34m)\u001b[0m\u001b[0;34m\u001b[0m\u001b[0;34m\u001b[0m\u001b[0m\n\u001b[0m\u001b[1;32m     28\u001b[0m         \u001b[0;32mreturn\u001b[0m \u001b[0mcast\u001b[0m\u001b[0;34m(\u001b[0m\u001b[0mF\u001b[0m\u001b[0;34m,\u001b[0m \u001b[0mdecorate_context\u001b[0m\u001b[0;34m)\u001b[0m\u001b[0;34m\u001b[0m\u001b[0;34m\u001b[0m\u001b[0m\n\u001b[1;32m     29\u001b[0m \u001b[0;34m\u001b[0m\u001b[0m\n",
            "\u001b[0;32m/usr/local/lib/python3.7/dist-packages/torch/optim/adam.py\u001b[0m in \u001b[0;36mstep\u001b[0;34m(self, closure)\u001b[0m\n\u001b[1;32m    151\u001b[0m                    \u001b[0mweight_decay\u001b[0m\u001b[0;34m=\u001b[0m\u001b[0mgroup\u001b[0m\u001b[0;34m[\u001b[0m\u001b[0;34m'weight_decay'\u001b[0m\u001b[0;34m]\u001b[0m\u001b[0;34m,\u001b[0m\u001b[0;34m\u001b[0m\u001b[0;34m\u001b[0m\u001b[0m\n\u001b[1;32m    152\u001b[0m                    \u001b[0meps\u001b[0m\u001b[0;34m=\u001b[0m\u001b[0mgroup\u001b[0m\u001b[0;34m[\u001b[0m\u001b[0;34m'eps'\u001b[0m\u001b[0;34m]\u001b[0m\u001b[0;34m,\u001b[0m\u001b[0;34m\u001b[0m\u001b[0;34m\u001b[0m\u001b[0m\n\u001b[0;32m--> 153\u001b[0;31m                    maximize=group['maximize'])\n\u001b[0m\u001b[1;32m    154\u001b[0m         \u001b[0;32mreturn\u001b[0m \u001b[0mloss\u001b[0m\u001b[0;34m\u001b[0m\u001b[0;34m\u001b[0m\u001b[0m\n",
            "\u001b[0;32m/usr/local/lib/python3.7/dist-packages/torch/optim/_functional.py\u001b[0m in \u001b[0;36madam\u001b[0;34m(params, grads, exp_avgs, exp_avg_sqs, max_exp_avg_sqs, state_steps, amsgrad, beta1, beta2, lr, weight_decay, eps, maximize)\u001b[0m\n\u001b[1;32m    108\u001b[0m \u001b[0;34m\u001b[0m\u001b[0m\n\u001b[1;32m    109\u001b[0m         \u001b[0mstep_size\u001b[0m \u001b[0;34m=\u001b[0m \u001b[0mlr\u001b[0m \u001b[0;34m/\u001b[0m \u001b[0mbias_correction1\u001b[0m\u001b[0;34m\u001b[0m\u001b[0;34m\u001b[0m\u001b[0m\n\u001b[0;32m--> 110\u001b[0;31m         \u001b[0mparam\u001b[0m\u001b[0;34m.\u001b[0m\u001b[0maddcdiv_\u001b[0m\u001b[0;34m(\u001b[0m\u001b[0mexp_avg\u001b[0m\u001b[0;34m,\u001b[0m \u001b[0mdenom\u001b[0m\u001b[0;34m,\u001b[0m \u001b[0mvalue\u001b[0m\u001b[0;34m=\u001b[0m\u001b[0;34m-\u001b[0m\u001b[0mstep_size\u001b[0m\u001b[0;34m)\u001b[0m\u001b[0;34m\u001b[0m\u001b[0;34m\u001b[0m\u001b[0m\n\u001b[0m\u001b[1;32m    111\u001b[0m \u001b[0;34m\u001b[0m\u001b[0m\n\u001b[1;32m    112\u001b[0m def adamw(params: List[Tensor],\n",
            "\u001b[0;31mKeyboardInterrupt\u001b[0m: "
          ]
        }
      ]
    },
    {
      "cell_type": "code",
      "source": [
        ""
      ],
      "metadata": {
        "id": "Vb93QuJrxnVk"
      },
      "execution_count": null,
      "outputs": []
    },
    {
      "cell_type": "code",
      "source": [
        "train_losses = []\n",
        "n_examples = 0\n",
        "step = 0\n",
        "while n_examples < hparam['max_examples']:\n",
        "    for input, target in train_loader:\n",
        "        loss = train_step(input.to(device), target.to(device)) \n",
        "        train_losses.append(loss)\n",
        "        \n",
        "        if step % hparam['eval_every_steps'] == 0:\n",
        "            train_ppl = np.exp(np.average(train_losses))\n",
        "            model.eval()\n",
        "            with torch.no_grad():\n",
        "                valid_ppl = np.exp(np.average([\n",
        "                    validation_step(input.to(device), target.to(device))\n",
        "                    for input, target in validation_loader]))\n",
        "\n",
        "            print(f'{step} steps; {n_examples} examples so far; train ppl: {train_ppl:.2f}, valid ppl: {valid_ppl:.2f};  Momento: {time.strftime(\"[%Y-%b-%d %H:%M:%S]\")}; ')\n",
        "            train_losses = []\n",
        "\n",
        "        n_examples += len(input)  # Increment of batch size\n",
        "        step += 1\n",
        "        if n_examples >= hparam['max_examples']:\n",
        "            break"
      ],
      "metadata": {
        "colab": {
          "base_uri": "https://localhost:8080/",
          "height": 798
        },
        "id": "G6ofD47Ubrhq",
        "outputId": "1c69047b-9df8-4e36-d952-b1d3fb2c8fd8"
      },
      "execution_count": null,
      "outputs": [
        {
          "output_type": "stream",
          "name": "stdout",
          "text": [
            "0 steps; 0 examples so far; train ppl: 29524.97, valid ppl: 30916.09;  Momento: [2022-May-16 15:31:36]; \n",
            "5000 steps; 320000 examples so far; train ppl: 3669.22, valid ppl: 5779.64;  Momento: [2022-May-16 15:32:04]; \n",
            "10000 steps; 640000 examples so far; train ppl: 961.02, valid ppl: 8214.21;  Momento: [2022-May-16 15:32:33]; \n",
            "15000 steps; 960000 examples so far; train ppl: 757.40, valid ppl: 10156.55;  Momento: [2022-May-16 15:33:00]; \n",
            "20000 steps; 1280000 examples so far; train ppl: 597.53, valid ppl: 11446.45;  Momento: [2022-May-16 15:33:28]; \n",
            "25000 steps; 1600000 examples so far; train ppl: 469.71, valid ppl: 12310.45;  Momento: [2022-May-16 15:33:56]; \n",
            "30000 steps; 1920000 examples so far; train ppl: 367.85, valid ppl: 12857.47;  Momento: [2022-May-16 15:34:23]; \n"
          ]
        },
        {
          "output_type": "stream",
          "name": "stderr",
          "text": [
            "Process Process-583:\n",
            "Traceback (most recent call last):\n",
            "  File \"/usr/lib/python3.7/multiprocessing/process.py\", line 285, in _bootstrap\n",
            "    util._close_stdin()\n",
            "  File \"/usr/lib/python3.7/multiprocessing/util.py\", line 415, in _close_stdin\n",
            "    sys.stdin.close()\n",
            "KeyboardInterrupt\n",
            "Exception ignored in: <function _releaseLock at 0x7fd5b21108c0>\n",
            "Traceback (most recent call last):\n",
            "  File \"/usr/lib/python3.7/logging/__init__.py\", line 221, in _releaseLock\n",
            "    def _releaseLock():\n",
            "KeyboardInterrupt\n"
          ]
        },
        {
          "output_type": "error",
          "ename": "RuntimeError",
          "evalue": "ignored",
          "traceback": [
            "\u001b[0;31m---------------------------------------------------------------------------\u001b[0m",
            "\u001b[0;31mRuntimeError\u001b[0m                              Traceback (most recent call last)",
            "\u001b[0;32m/usr/local/lib/python3.7/dist-packages/torch/utils/data/dataloader.py\u001b[0m in \u001b[0;36m_try_get_data\u001b[0;34m(self, timeout)\u001b[0m\n\u001b[1;32m   1010\u001b[0m         \u001b[0;32mtry\u001b[0m\u001b[0;34m:\u001b[0m\u001b[0;34m\u001b[0m\u001b[0;34m\u001b[0m\u001b[0m\n\u001b[0;32m-> 1011\u001b[0;31m             \u001b[0mdata\u001b[0m \u001b[0;34m=\u001b[0m \u001b[0mself\u001b[0m\u001b[0;34m.\u001b[0m\u001b[0m_data_queue\u001b[0m\u001b[0;34m.\u001b[0m\u001b[0mget\u001b[0m\u001b[0;34m(\u001b[0m\u001b[0mtimeout\u001b[0m\u001b[0;34m=\u001b[0m\u001b[0mtimeout\u001b[0m\u001b[0;34m)\u001b[0m\u001b[0;34m\u001b[0m\u001b[0;34m\u001b[0m\u001b[0m\n\u001b[0m\u001b[1;32m   1012\u001b[0m             \u001b[0;32mreturn\u001b[0m \u001b[0;34m(\u001b[0m\u001b[0;32mTrue\u001b[0m\u001b[0;34m,\u001b[0m \u001b[0mdata\u001b[0m\u001b[0;34m)\u001b[0m\u001b[0;34m\u001b[0m\u001b[0;34m\u001b[0m\u001b[0m\n",
            "\u001b[0;32m/usr/lib/python3.7/multiprocessing/queues.py\u001b[0m in \u001b[0;36mget\u001b[0;34m(self, block, timeout)\u001b[0m\n\u001b[1;32m    103\u001b[0m                     \u001b[0mtimeout\u001b[0m \u001b[0;34m=\u001b[0m \u001b[0mdeadline\u001b[0m \u001b[0;34m-\u001b[0m \u001b[0mtime\u001b[0m\u001b[0;34m.\u001b[0m\u001b[0mmonotonic\u001b[0m\u001b[0;34m(\u001b[0m\u001b[0;34m)\u001b[0m\u001b[0;34m\u001b[0m\u001b[0;34m\u001b[0m\u001b[0m\n\u001b[0;32m--> 104\u001b[0;31m                     \u001b[0;32mif\u001b[0m \u001b[0;32mnot\u001b[0m \u001b[0mself\u001b[0m\u001b[0;34m.\u001b[0m\u001b[0m_poll\u001b[0m\u001b[0;34m(\u001b[0m\u001b[0mtimeout\u001b[0m\u001b[0;34m)\u001b[0m\u001b[0;34m:\u001b[0m\u001b[0;34m\u001b[0m\u001b[0;34m\u001b[0m\u001b[0m\n\u001b[0m\u001b[1;32m    105\u001b[0m                         \u001b[0;32mraise\u001b[0m \u001b[0mEmpty\u001b[0m\u001b[0;34m\u001b[0m\u001b[0;34m\u001b[0m\u001b[0m\n",
            "\u001b[0;32m/usr/lib/python3.7/multiprocessing/connection.py\u001b[0m in \u001b[0;36mpoll\u001b[0;34m(self, timeout)\u001b[0m\n\u001b[1;32m    256\u001b[0m         \u001b[0mself\u001b[0m\u001b[0;34m.\u001b[0m\u001b[0m_check_readable\u001b[0m\u001b[0;34m(\u001b[0m\u001b[0;34m)\u001b[0m\u001b[0;34m\u001b[0m\u001b[0;34m\u001b[0m\u001b[0m\n\u001b[0;32m--> 257\u001b[0;31m         \u001b[0;32mreturn\u001b[0m \u001b[0mself\u001b[0m\u001b[0;34m.\u001b[0m\u001b[0m_poll\u001b[0m\u001b[0;34m(\u001b[0m\u001b[0mtimeout\u001b[0m\u001b[0;34m)\u001b[0m\u001b[0;34m\u001b[0m\u001b[0;34m\u001b[0m\u001b[0m\n\u001b[0m\u001b[1;32m    258\u001b[0m \u001b[0;34m\u001b[0m\u001b[0m\n",
            "\u001b[0;32m/usr/lib/python3.7/multiprocessing/connection.py\u001b[0m in \u001b[0;36m_poll\u001b[0;34m(self, timeout)\u001b[0m\n\u001b[1;32m    413\u001b[0m     \u001b[0;32mdef\u001b[0m \u001b[0m_poll\u001b[0m\u001b[0;34m(\u001b[0m\u001b[0mself\u001b[0m\u001b[0;34m,\u001b[0m \u001b[0mtimeout\u001b[0m\u001b[0;34m)\u001b[0m\u001b[0;34m:\u001b[0m\u001b[0;34m\u001b[0m\u001b[0;34m\u001b[0m\u001b[0m\n\u001b[0;32m--> 414\u001b[0;31m         \u001b[0mr\u001b[0m \u001b[0;34m=\u001b[0m \u001b[0mwait\u001b[0m\u001b[0;34m(\u001b[0m\u001b[0;34m[\u001b[0m\u001b[0mself\u001b[0m\u001b[0;34m]\u001b[0m\u001b[0;34m,\u001b[0m \u001b[0mtimeout\u001b[0m\u001b[0;34m)\u001b[0m\u001b[0;34m\u001b[0m\u001b[0;34m\u001b[0m\u001b[0m\n\u001b[0m\u001b[1;32m    415\u001b[0m         \u001b[0;32mreturn\u001b[0m \u001b[0mbool\u001b[0m\u001b[0;34m(\u001b[0m\u001b[0mr\u001b[0m\u001b[0;34m)\u001b[0m\u001b[0;34m\u001b[0m\u001b[0;34m\u001b[0m\u001b[0m\n",
            "\u001b[0;32m/usr/lib/python3.7/multiprocessing/connection.py\u001b[0m in \u001b[0;36mwait\u001b[0;34m(object_list, timeout)\u001b[0m\n\u001b[1;32m    920\u001b[0m             \u001b[0;32mwhile\u001b[0m \u001b[0;32mTrue\u001b[0m\u001b[0;34m:\u001b[0m\u001b[0;34m\u001b[0m\u001b[0;34m\u001b[0m\u001b[0m\n\u001b[0;32m--> 921\u001b[0;31m                 \u001b[0mready\u001b[0m \u001b[0;34m=\u001b[0m \u001b[0mselector\u001b[0m\u001b[0;34m.\u001b[0m\u001b[0mselect\u001b[0m\u001b[0;34m(\u001b[0m\u001b[0mtimeout\u001b[0m\u001b[0;34m)\u001b[0m\u001b[0;34m\u001b[0m\u001b[0;34m\u001b[0m\u001b[0m\n\u001b[0m\u001b[1;32m    922\u001b[0m                 \u001b[0;32mif\u001b[0m \u001b[0mready\u001b[0m\u001b[0;34m:\u001b[0m\u001b[0;34m\u001b[0m\u001b[0;34m\u001b[0m\u001b[0m\n",
            "\u001b[0;32m/usr/lib/python3.7/selectors.py\u001b[0m in \u001b[0;36mselect\u001b[0;34m(self, timeout)\u001b[0m\n\u001b[1;32m    414\u001b[0m         \u001b[0;32mtry\u001b[0m\u001b[0;34m:\u001b[0m\u001b[0;34m\u001b[0m\u001b[0;34m\u001b[0m\u001b[0m\n\u001b[0;32m--> 415\u001b[0;31m             \u001b[0mfd_event_list\u001b[0m \u001b[0;34m=\u001b[0m \u001b[0mself\u001b[0m\u001b[0;34m.\u001b[0m\u001b[0m_selector\u001b[0m\u001b[0;34m.\u001b[0m\u001b[0mpoll\u001b[0m\u001b[0;34m(\u001b[0m\u001b[0mtimeout\u001b[0m\u001b[0;34m)\u001b[0m\u001b[0;34m\u001b[0m\u001b[0;34m\u001b[0m\u001b[0m\n\u001b[0m\u001b[1;32m    416\u001b[0m         \u001b[0;32mexcept\u001b[0m \u001b[0mInterruptedError\u001b[0m\u001b[0;34m:\u001b[0m\u001b[0;34m\u001b[0m\u001b[0;34m\u001b[0m\u001b[0m\n",
            "\u001b[0;32m/usr/local/lib/python3.7/dist-packages/torch/utils/data/_utils/signal_handling.py\u001b[0m in \u001b[0;36mhandler\u001b[0;34m(signum, frame)\u001b[0m\n\u001b[1;32m     65\u001b[0m         \u001b[0;31m# Python can still get and update the process status successfully.\u001b[0m\u001b[0;34m\u001b[0m\u001b[0;34m\u001b[0m\u001b[0;34m\u001b[0m\u001b[0m\n\u001b[0;32m---> 66\u001b[0;31m         \u001b[0m_error_if_any_worker_fails\u001b[0m\u001b[0;34m(\u001b[0m\u001b[0;34m)\u001b[0m\u001b[0;34m\u001b[0m\u001b[0;34m\u001b[0m\u001b[0m\n\u001b[0m\u001b[1;32m     67\u001b[0m         \u001b[0;32mif\u001b[0m \u001b[0mprevious_handler\u001b[0m \u001b[0;32mis\u001b[0m \u001b[0;32mnot\u001b[0m \u001b[0;32mNone\u001b[0m\u001b[0;34m:\u001b[0m\u001b[0;34m\u001b[0m\u001b[0;34m\u001b[0m\u001b[0m\n",
            "\u001b[0;31mRuntimeError\u001b[0m: DataLoader worker (pid 4560) exited unexpectedly with exit code 1. Details are lost due to multiprocessing. Rerunning with num_workers=0 may give better error trace.",
            "\nThe above exception was the direct cause of the following exception:\n",
            "\u001b[0;31mRuntimeError\u001b[0m                              Traceback (most recent call last)",
            "\u001b[0;32m<ipython-input-181-47b4eefe636a>\u001b[0m in \u001b[0;36m<module>\u001b[0;34m()\u001b[0m\n\u001b[1;32m      3\u001b[0m \u001b[0mstep\u001b[0m \u001b[0;34m=\u001b[0m \u001b[0;36m0\u001b[0m\u001b[0;34m\u001b[0m\u001b[0;34m\u001b[0m\u001b[0m\n\u001b[1;32m      4\u001b[0m \u001b[0;32mwhile\u001b[0m \u001b[0mn_examples\u001b[0m \u001b[0;34m<\u001b[0m \u001b[0mhparam\u001b[0m\u001b[0;34m[\u001b[0m\u001b[0;34m'max_examples'\u001b[0m\u001b[0;34m]\u001b[0m\u001b[0;34m:\u001b[0m\u001b[0;34m\u001b[0m\u001b[0;34m\u001b[0m\u001b[0m\n\u001b[0;32m----> 5\u001b[0;31m     \u001b[0;32mfor\u001b[0m \u001b[0minput\u001b[0m\u001b[0;34m,\u001b[0m \u001b[0mtarget\u001b[0m \u001b[0;32min\u001b[0m \u001b[0mtrain_loader\u001b[0m\u001b[0;34m:\u001b[0m\u001b[0;34m\u001b[0m\u001b[0;34m\u001b[0m\u001b[0m\n\u001b[0m\u001b[1;32m      6\u001b[0m         \u001b[0mloss\u001b[0m \u001b[0;34m=\u001b[0m \u001b[0mtrain_step\u001b[0m\u001b[0;34m(\u001b[0m\u001b[0minput\u001b[0m\u001b[0;34m.\u001b[0m\u001b[0mto\u001b[0m\u001b[0;34m(\u001b[0m\u001b[0mdevice\u001b[0m\u001b[0;34m)\u001b[0m\u001b[0;34m,\u001b[0m \u001b[0mtarget\u001b[0m\u001b[0;34m.\u001b[0m\u001b[0mto\u001b[0m\u001b[0;34m(\u001b[0m\u001b[0mdevice\u001b[0m\u001b[0;34m)\u001b[0m\u001b[0;34m)\u001b[0m\u001b[0;34m\u001b[0m\u001b[0;34m\u001b[0m\u001b[0m\n\u001b[1;32m      7\u001b[0m         \u001b[0mtrain_losses\u001b[0m\u001b[0;34m.\u001b[0m\u001b[0mappend\u001b[0m\u001b[0;34m(\u001b[0m\u001b[0mloss\u001b[0m\u001b[0;34m)\u001b[0m\u001b[0;34m\u001b[0m\u001b[0;34m\u001b[0m\u001b[0m\n",
            "\u001b[0;32m/usr/local/lib/python3.7/dist-packages/torch/utils/data/dataloader.py\u001b[0m in \u001b[0;36m__next__\u001b[0;34m(self)\u001b[0m\n\u001b[1;32m    528\u001b[0m             \u001b[0;32mif\u001b[0m \u001b[0mself\u001b[0m\u001b[0;34m.\u001b[0m\u001b[0m_sampler_iter\u001b[0m \u001b[0;32mis\u001b[0m \u001b[0;32mNone\u001b[0m\u001b[0;34m:\u001b[0m\u001b[0;34m\u001b[0m\u001b[0;34m\u001b[0m\u001b[0m\n\u001b[1;32m    529\u001b[0m                 \u001b[0mself\u001b[0m\u001b[0;34m.\u001b[0m\u001b[0m_reset\u001b[0m\u001b[0;34m(\u001b[0m\u001b[0;34m)\u001b[0m\u001b[0;34m\u001b[0m\u001b[0;34m\u001b[0m\u001b[0m\n\u001b[0;32m--> 530\u001b[0;31m             \u001b[0mdata\u001b[0m \u001b[0;34m=\u001b[0m \u001b[0mself\u001b[0m\u001b[0;34m.\u001b[0m\u001b[0m_next_data\u001b[0m\u001b[0;34m(\u001b[0m\u001b[0;34m)\u001b[0m\u001b[0;34m\u001b[0m\u001b[0;34m\u001b[0m\u001b[0m\n\u001b[0m\u001b[1;32m    531\u001b[0m             \u001b[0mself\u001b[0m\u001b[0;34m.\u001b[0m\u001b[0m_num_yielded\u001b[0m \u001b[0;34m+=\u001b[0m \u001b[0;36m1\u001b[0m\u001b[0;34m\u001b[0m\u001b[0;34m\u001b[0m\u001b[0m\n\u001b[1;32m    532\u001b[0m             \u001b[0;32mif\u001b[0m \u001b[0mself\u001b[0m\u001b[0;34m.\u001b[0m\u001b[0m_dataset_kind\u001b[0m \u001b[0;34m==\u001b[0m \u001b[0m_DatasetKind\u001b[0m\u001b[0;34m.\u001b[0m\u001b[0mIterable\u001b[0m \u001b[0;32mand\u001b[0m\u001b[0;31m \u001b[0m\u001b[0;31m\\\u001b[0m\u001b[0;34m\u001b[0m\u001b[0;34m\u001b[0m\u001b[0m\n",
            "\u001b[0;32m/usr/local/lib/python3.7/dist-packages/torch/utils/data/dataloader.py\u001b[0m in \u001b[0;36m_next_data\u001b[0;34m(self)\u001b[0m\n\u001b[1;32m   1205\u001b[0m \u001b[0;34m\u001b[0m\u001b[0m\n\u001b[1;32m   1206\u001b[0m             \u001b[0;32massert\u001b[0m \u001b[0;32mnot\u001b[0m \u001b[0mself\u001b[0m\u001b[0;34m.\u001b[0m\u001b[0m_shutdown\u001b[0m \u001b[0;32mand\u001b[0m \u001b[0mself\u001b[0m\u001b[0;34m.\u001b[0m\u001b[0m_tasks_outstanding\u001b[0m \u001b[0;34m>\u001b[0m \u001b[0;36m0\u001b[0m\u001b[0;34m\u001b[0m\u001b[0;34m\u001b[0m\u001b[0m\n\u001b[0;32m-> 1207\u001b[0;31m             \u001b[0midx\u001b[0m\u001b[0;34m,\u001b[0m \u001b[0mdata\u001b[0m \u001b[0;34m=\u001b[0m \u001b[0mself\u001b[0m\u001b[0;34m.\u001b[0m\u001b[0m_get_data\u001b[0m\u001b[0;34m(\u001b[0m\u001b[0;34m)\u001b[0m\u001b[0;34m\u001b[0m\u001b[0;34m\u001b[0m\u001b[0m\n\u001b[0m\u001b[1;32m   1208\u001b[0m             \u001b[0mself\u001b[0m\u001b[0;34m.\u001b[0m\u001b[0m_tasks_outstanding\u001b[0m \u001b[0;34m-=\u001b[0m \u001b[0;36m1\u001b[0m\u001b[0;34m\u001b[0m\u001b[0;34m\u001b[0m\u001b[0m\n\u001b[1;32m   1209\u001b[0m             \u001b[0;32mif\u001b[0m \u001b[0mself\u001b[0m\u001b[0;34m.\u001b[0m\u001b[0m_dataset_kind\u001b[0m \u001b[0;34m==\u001b[0m \u001b[0m_DatasetKind\u001b[0m\u001b[0;34m.\u001b[0m\u001b[0mIterable\u001b[0m\u001b[0;34m:\u001b[0m\u001b[0;34m\u001b[0m\u001b[0;34m\u001b[0m\u001b[0m\n",
            "\u001b[0;32m/usr/local/lib/python3.7/dist-packages/torch/utils/data/dataloader.py\u001b[0m in \u001b[0;36m_get_data\u001b[0;34m(self)\u001b[0m\n\u001b[1;32m   1171\u001b[0m         \u001b[0;32melse\u001b[0m\u001b[0;34m:\u001b[0m\u001b[0;34m\u001b[0m\u001b[0;34m\u001b[0m\u001b[0m\n\u001b[1;32m   1172\u001b[0m             \u001b[0;32mwhile\u001b[0m \u001b[0;32mTrue\u001b[0m\u001b[0;34m:\u001b[0m\u001b[0;34m\u001b[0m\u001b[0;34m\u001b[0m\u001b[0m\n\u001b[0;32m-> 1173\u001b[0;31m                 \u001b[0msuccess\u001b[0m\u001b[0;34m,\u001b[0m \u001b[0mdata\u001b[0m \u001b[0;34m=\u001b[0m \u001b[0mself\u001b[0m\u001b[0;34m.\u001b[0m\u001b[0m_try_get_data\u001b[0m\u001b[0;34m(\u001b[0m\u001b[0;34m)\u001b[0m\u001b[0;34m\u001b[0m\u001b[0;34m\u001b[0m\u001b[0m\n\u001b[0m\u001b[1;32m   1174\u001b[0m                 \u001b[0;32mif\u001b[0m \u001b[0msuccess\u001b[0m\u001b[0;34m:\u001b[0m\u001b[0;34m\u001b[0m\u001b[0;34m\u001b[0m\u001b[0m\n\u001b[1;32m   1175\u001b[0m                     \u001b[0;32mreturn\u001b[0m \u001b[0mdata\u001b[0m\u001b[0;34m\u001b[0m\u001b[0;34m\u001b[0m\u001b[0m\n",
            "\u001b[0;32m/usr/local/lib/python3.7/dist-packages/torch/utils/data/dataloader.py\u001b[0m in \u001b[0;36m_try_get_data\u001b[0;34m(self, timeout)\u001b[0m\n\u001b[1;32m   1022\u001b[0m             \u001b[0;32mif\u001b[0m \u001b[0mlen\u001b[0m\u001b[0;34m(\u001b[0m\u001b[0mfailed_workers\u001b[0m\u001b[0;34m)\u001b[0m \u001b[0;34m>\u001b[0m \u001b[0;36m0\u001b[0m\u001b[0;34m:\u001b[0m\u001b[0;34m\u001b[0m\u001b[0;34m\u001b[0m\u001b[0m\n\u001b[1;32m   1023\u001b[0m                 \u001b[0mpids_str\u001b[0m \u001b[0;34m=\u001b[0m \u001b[0;34m', '\u001b[0m\u001b[0;34m.\u001b[0m\u001b[0mjoin\u001b[0m\u001b[0;34m(\u001b[0m\u001b[0mstr\u001b[0m\u001b[0;34m(\u001b[0m\u001b[0mw\u001b[0m\u001b[0;34m.\u001b[0m\u001b[0mpid\u001b[0m\u001b[0;34m)\u001b[0m \u001b[0;32mfor\u001b[0m \u001b[0mw\u001b[0m \u001b[0;32min\u001b[0m \u001b[0mfailed_workers\u001b[0m\u001b[0;34m)\u001b[0m\u001b[0;34m\u001b[0m\u001b[0;34m\u001b[0m\u001b[0m\n\u001b[0;32m-> 1024\u001b[0;31m                 \u001b[0;32mraise\u001b[0m \u001b[0mRuntimeError\u001b[0m\u001b[0;34m(\u001b[0m\u001b[0;34m'DataLoader worker (pid(s) {}) exited unexpectedly'\u001b[0m\u001b[0;34m.\u001b[0m\u001b[0mformat\u001b[0m\u001b[0;34m(\u001b[0m\u001b[0mpids_str\u001b[0m\u001b[0;34m)\u001b[0m\u001b[0;34m)\u001b[0m \u001b[0;32mfrom\u001b[0m \u001b[0me\u001b[0m\u001b[0;34m\u001b[0m\u001b[0;34m\u001b[0m\u001b[0m\n\u001b[0m\u001b[1;32m   1025\u001b[0m             \u001b[0;32mif\u001b[0m \u001b[0misinstance\u001b[0m\u001b[0;34m(\u001b[0m\u001b[0me\u001b[0m\u001b[0;34m,\u001b[0m \u001b[0mqueue\u001b[0m\u001b[0;34m.\u001b[0m\u001b[0mEmpty\u001b[0m\u001b[0;34m)\u001b[0m\u001b[0;34m:\u001b[0m\u001b[0;34m\u001b[0m\u001b[0;34m\u001b[0m\u001b[0m\n\u001b[1;32m   1026\u001b[0m                 \u001b[0;32mreturn\u001b[0m \u001b[0;34m(\u001b[0m\u001b[0;32mFalse\u001b[0m\u001b[0;34m,\u001b[0m \u001b[0;32mNone\u001b[0m\u001b[0;34m)\u001b[0m\u001b[0;34m\u001b[0m\u001b[0;34m\u001b[0m\u001b[0m\n",
            "\u001b[0;31mRuntimeError\u001b[0m: DataLoader worker (pid(s) 4560) exited unexpectedly"
          ]
        }
      ]
    },
    {
      "cell_type": "code",
      "source": [
        ""
      ],
      "metadata": {
        "id": "Cd7l5Ux8buXv"
      },
      "execution_count": null,
      "outputs": []
    },
    {
      "cell_type": "code",
      "source": [
        "train_losses = []\n",
        "n_examples = 0\n",
        "step = 0\n",
        "while n_examples < hparam['max_examples']:\n",
        "    for input, target in train_loader:\n",
        "        loss = train_step(input.to(device), target.to(device)) \n",
        "        train_losses.append(loss)\n",
        "        \n",
        "        if step % hparam['eval_every_steps'] == 0:\n",
        "            train_ppl = np.exp(np.average(train_losses))\n",
        "            model.eval()\n",
        "            with torch.no_grad():\n",
        "                valid_ppl = np.exp(np.average([\n",
        "                    validation_step(input.to(device), target.to(device))\n",
        "                    for input, target in validation_loader]))\n",
        "\n",
        "            print(f'{step} steps; {n_examples} examples so far; train ppl: {train_ppl:.2f}, valid ppl: {valid_ppl:.2f};  Momento: {time.strftime(\"[%Y-%b-%d %H:%M:%S]\")}; ')\n",
        "            train_losses = []\n",
        "\n",
        "        n_examples += len(input)  # Increment of batch size\n",
        "        step += 1\n",
        "        if n_examples >= hparam['max_examples']:\n",
        "            break"
      ],
      "metadata": {
        "colab": {
          "base_uri": "https://localhost:8080/"
        },
        "id": "zrQP5ywTMVSw",
        "outputId": "6a16d6fb-9c41-4152-8fdd-8e043ad2b428"
      },
      "execution_count": null,
      "outputs": [
        {
          "output_type": "stream",
          "name": "stdout",
          "text": [
            "0 steps; 0 examples so far; train ppl: 31611.81, valid ppl: 30857.83;  Momento: [2022-May-16 15:10:25]; \n",
            "5000 steps; 320000 examples so far; train ppl: 3659.75, valid ppl: 5751.84;  Momento: [2022-May-16 15:10:53]; \n",
            "10000 steps; 640000 examples so far; train ppl: 949.17, valid ppl: 7786.19;  Momento: [2022-May-16 15:11:20]; \n",
            "15000 steps; 960000 examples so far; train ppl: 732.74, valid ppl: 9138.04;  Momento: [2022-May-16 15:11:48]; \n"
          ]
        }
      ]
    },
    {
      "cell_type": "markdown",
      "source": [
        "## Avaliação final no dataset de teste\n",
        "\n",
        "\n",
        "Bonus: o modelo com menor perplexidade no dataset de testes ganhará 0.5 ponto na nota final."
      ],
      "metadata": {
        "id": "VgdNymJdNPXP"
      }
    },
    {
      "cell_type": "markdown",
      "source": [
        "Perplexidade original em teste"
      ],
      "metadata": {
        "id": "oC363P61PK6e"
      }
    },
    {
      "cell_type": "code",
      "source": [
        ""
      ],
      "metadata": {
        "id": "3FUrPL7WPJWG"
      },
      "execution_count": null,
      "outputs": []
    },
    {
      "cell_type": "markdown",
      "source": [
        "## Teste seu modelo com uma sentença\n",
        "\n",
        "Escolha uma sentença gerada pelo modelo que ache interessante."
      ],
      "metadata": {
        "id": "BHvEs8mPszy_"
      }
    },
    {
      "cell_type": "code",
      "source": [
        "prompt = 'Eu gosto de comer pizza pois me faz'  # Ex: 'Eu gosto de comer pizza pois me faz'\n",
        "max_output_tokens = 10\n",
        "\n",
        "for _ in range(max_output_tokens):\n",
        "    input_ids = tokenize(text=prompt, tokenizer=tokenizer)\n",
        "    input_ids_truncated = input_ids[-hparam[\"context_size\"]:]\n",
        "    logits = model(torch.LongTensor(input_ids_truncated).unsqueeze(0).to(device))    # nesse ponto unsqueeze transforma tensor(x) em tensor([x])  \n",
        "    # Ao usarmos o argmax, a saída do modelo em cada passo é token de maior probabilidade.\n",
        "    # Isso se chama decodificação gulosa (greedy decoding).\n",
        "    predicted_id = torch.argmax(logits).item()\n",
        "    input_ids += [predicted_id]  # Concatenamos a entrada com o token escolhido nesse passo.\n",
        "    prompt = tokenizer.decode(input_ids)\n",
        "    print(prompt)"
      ],
      "metadata": {
        "id": "-CFElf4tsytW",
        "colab": {
          "base_uri": "https://localhost:8080/"
        },
        "outputId": "faba1b43-ad7f-4e5e-ab03-b3022cff5ec6"
      },
      "execution_count": null,
      "outputs": [
        {
          "output_type": "stream",
          "name": "stdout",
          "text": [
            "Eu gosto de comer pizza pois me faz se\n",
            "Eu gosto de comer pizza pois me faz se,\n",
            "Eu gosto de comer pizza pois me faz se, o\n",
            "Eu gosto de comer pizza pois me faz se, o que\n",
            "Eu gosto de comer pizza pois me faz se, o que do\n",
            "Eu gosto de comer pizza pois me faz se, o que do o\n",
            "Eu gosto de comer pizza pois me faz se, o que do o de\n",
            "Eu gosto de comer pizza pois me faz se, o que do o de da\n",
            "Eu gosto de comer pizza pois me faz se, o que do o de da a\n",
            "Eu gosto de comer pizza pois me faz se, o que do o de da a,\n"
          ]
        }
      ]
    },
    {
      "cell_type": "markdown",
      "source": [
        "# todo "
      ],
      "metadata": {
        "id": "3Ujj7dl-PzA5"
      }
    },
    {
      "cell_type": "markdown",
      "source": [
        "For training the neural networks, the initial learning rate was set to εo = 10−3 (after a few trials\n",
        "with a tiny data set), and gradually decreased according to the following schedule: $ε_{t} = \\frac{εo}{(1+r_{t})}$ where\n",
        "t represents the number of parameter updates done and r is a decrease factor that was heuristically\n",
        "chosen to be r = 10−8."
      ],
      "metadata": {
        "id": "gO4o_MdRP0XY"
      }
    },
    {
      "cell_type": "markdown",
      "source": [
        "# Rascunho"
      ],
      "metadata": {
        "id": "n4LktPU-RWtU"
      }
    },
    {
      "cell_type": "code",
      "source": [
        "raise Exception(\"Abaixo só rascunho - não cabe execuções fora de contexto \")"
      ],
      "metadata": {
        "id": "c76LLkBiRYBE"
      },
      "execution_count": null,
      "outputs": []
    },
    {
      "cell_type": "markdown",
      "source": [
        "## Dataset"
      ],
      "metadata": {
        "id": "UahI_BCKWG-4"
      }
    },
    {
      "cell_type": "code",
      "source": [
        "lista_sentenca_numericalizada =  tokenize(dummy_texts, tokenizer)\n",
        "type(lista_sentenca_numericalizada)"
      ],
      "metadata": {
        "colab": {
          "base_uri": "https://localhost:8080/"
        },
        "id": "RyjnrGR9Unax",
        "outputId": "e9a08fe4-19d6-46dc-b8d6-279ca8ad0c07"
      },
      "execution_count": null,
      "outputs": [
        {
          "output_type": "execute_result",
          "data": {
            "text/plain": [
              "list"
            ]
          },
          "metadata": {},
          "execution_count": 166
        }
      ]
    },
    {
      "cell_type": "code",
      "source": [
        "lista_sentenca_numericalizada"
      ],
      "metadata": {
        "colab": {
          "base_uri": "https://localhost:8080/"
        },
        "id": "SX1L8IWYVJGa",
        "outputId": "e959f3e1-44ab-4711-dadd-0c61984e7e09"
      },
      "execution_count": null,
      "outputs": [
        {
          "output_type": "execute_result",
          "data": {
            "text/plain": [
              "[[3396, 10303, 125, 13239], [1660, 5971, 785, 125, 1847, 13779, 15616]]"
            ]
          },
          "metadata": {},
          "execution_count": 169
        }
      ]
    },
    {
      "cell_type": "code",
      "source": [
        "len(lista_sentenca_numericalizada)"
      ],
      "metadata": {
        "colab": {
          "base_uri": "https://localhost:8080/"
        },
        "id": "kGryWwOFVGPx",
        "outputId": "d31e3493-09d7-40b3-b87f-aa9ce1a9c8b2"
      },
      "execution_count": null,
      "outputs": [
        {
          "output_type": "execute_result",
          "data": {
            "text/plain": [
              "2"
            ]
          },
          "metadata": {},
          "execution_count": 168
        }
      ]
    },
    {
      "cell_type": "code",
      "source": [
        "torch.Tensor(lista_sentenca_numericalizada)\n"
      ],
      "metadata": {
        "colab": {
          "base_uri": "https://localhost:8080/",
          "height": 172
        },
        "id": "U5RXM2DXU_Ph",
        "outputId": "0b52aad3-ad4a-4088-d091-a96e9cb21289"
      },
      "execution_count": null,
      "outputs": [
        {
          "output_type": "error",
          "ename": "ValueError",
          "evalue": "ignored",
          "traceback": [
            "\u001b[0;31m---------------------------------------------------------------------------\u001b[0m",
            "\u001b[0;31mValueError\u001b[0m                                Traceback (most recent call last)",
            "\u001b[0;32m<ipython-input-170-a645c1ed2f8c>\u001b[0m in \u001b[0;36m<module>\u001b[0;34m()\u001b[0m\n\u001b[0;32m----> 1\u001b[0;31m \u001b[0mtorch\u001b[0m\u001b[0;34m.\u001b[0m\u001b[0mTensor\u001b[0m\u001b[0;34m(\u001b[0m\u001b[0mlista_sentenca_numericalizada\u001b[0m\u001b[0;34m)\u001b[0m\u001b[0;34m\u001b[0m\u001b[0;34m\u001b[0m\u001b[0m\n\u001b[0m",
            "\u001b[0;31mValueError\u001b[0m: expected sequence of length 4 at dim 1 (got 7)"
          ]
        }
      ]
    },
    {
      "cell_type": "code",
      "source": [
        " tensor_dtt=torch.LongTensor(dummy_texto_tokenizado[0])"
      ],
      "metadata": {
        "id": "_ivfg8mpHrSn"
      },
      "execution_count": null,
      "outputs": []
    },
    {
      "cell_type": "code",
      "source": [
        "tensor_dtt\n"
      ],
      "metadata": {
        "colab": {
          "base_uri": "https://localhost:8080/"
        },
        "id": "1rhZF2x3H1cs",
        "outputId": "b06947cd-83df-451c-fdef-e88eab9d23e7"
      },
      "execution_count": null,
      "outputs": [
        {
          "output_type": "execute_result",
          "data": {
            "text/plain": [
              "tensor([ 3396, 10303,   125, 13239])"
            ]
          },
          "metadata": {},
          "execution_count": 29
        }
      ]
    },
    {
      "cell_type": "code",
      "source": [
        "tensor_dtt[1:3]"
      ],
      "metadata": {
        "colab": {
          "base_uri": "https://localhost:8080/"
        },
        "id": "WqXy-R_lH3Ed",
        "outputId": "d52252c8-1ff4-408a-ee8e-f0d24408c7b0"
      },
      "execution_count": null,
      "outputs": [
        {
          "output_type": "execute_result",
          "data": {
            "text/plain": [
              "tensor([10303,   125])"
            ]
          },
          "metadata": {},
          "execution_count": 30
        }
      ]
    },
    {
      "cell_type": "code",
      "source": [
        "dummy_dataset = MyDataset(texts=dummy_texts, tokenizer=tokenizer, context_size=3)"
      ],
      "metadata": {
        "id": "IbBnbhOYBPYb"
      },
      "execution_count": null,
      "outputs": []
    },
    {
      "cell_type": "code",
      "source": [
        "dummy_loader = DataLoader(dummy_dataset, batch_size=6, shuffle=False, num_workers=hparam[\"num_workers_dataloader\")\n",
        "assert len(dummy_dataset) == 5\n",
        "print('passou no assert de tamanho do dataset')\n"
      ],
      "metadata": {
        "colab": {
          "base_uri": "https://localhost:8080/"
        },
        "id": "UJFkDQ6XHLBG",
        "outputId": "e77ff581-cb88-4ae4-b3e4-b1f774a5f870"
      },
      "execution_count": null,
      "outputs": [
        {
          "output_type": "stream",
          "name": "stdout",
          "text": [
            "passou no assert de tamanho do dataset\n"
          ]
        }
      ]
    },
    {
      "cell_type": "code",
      "source": [
        "first_batch_input, first_batch_target = next(iter(dummy_loader))\n"
      ],
      "metadata": {
        "id": "_mEmcunhNAcR"
      },
      "execution_count": null,
      "outputs": []
    },
    {
      "cell_type": "code",
      "source": [
        "first_batch_target\n"
      ],
      "metadata": {
        "colab": {
          "base_uri": "https://localhost:8080/"
        },
        "id": "UxCAivvqNg2J",
        "outputId": "80151346-11e4-44fe-eca4-028ea2e6210b"
      },
      "execution_count": null,
      "outputs": [
        {
          "output_type": "execute_result",
          "data": {
            "text/plain": [
              "tensor([13239,   125,  1847, 13779, 15616])"
            ]
          },
          "metadata": {},
          "execution_count": 129
        }
      ]
    },
    {
      "cell_type": "code",
      "source": [
        "first_batch_input"
      ],
      "metadata": {
        "colab": {
          "base_uri": "https://localhost:8080/"
        },
        "id": "1VCMqYe0NmSh",
        "outputId": "cb0187d7-111d-46ef-f8f0-be1e50acbb3e"
      },
      "execution_count": null,
      "outputs": [
        {
          "output_type": "execute_result",
          "data": {
            "text/plain": [
              "tensor([[ 3396, 10303,   125],\n",
              "        [ 1660,  5971,   785],\n",
              "        [ 5971,   785,   125],\n",
              "        [  785,   125,  1847],\n",
              "        [  125,  1847, 13779]])"
            ]
          },
          "metadata": {},
          "execution_count": 130
        }
      ]
    },
    {
      "cell_type": "code",
      "source": [
        "t1 = torch.LongTensor([]) \n",
        "t1"
      ],
      "metadata": {
        "colab": {
          "base_uri": "https://localhost:8080/"
        },
        "id": "dDq_oAp6PVRn",
        "outputId": "ea2c9743-c0d0-4206-e782-89dc8662afc7"
      },
      "execution_count": null,
      "outputs": [
        {
          "output_type": "execute_result",
          "data": {
            "text/plain": [
              "tensor([], size=(1, 0), dtype=torch.int64)"
            ]
          },
          "metadata": {},
          "execution_count": 111
        }
      ]
    },
    {
      "cell_type": "code",
      "source": [
        "t2 = torch.LongTensor([ 3396, 10303,   125])\n",
        "t2"
      ],
      "metadata": {
        "colab": {
          "base_uri": "https://localhost:8080/"
        },
        "id": "4PRgOW7OPZOX",
        "outputId": "e751146b-22e6-4912-d03b-170a95ba0eb6"
      },
      "execution_count": null,
      "outputs": [
        {
          "output_type": "execute_result",
          "data": {
            "text/plain": [
              "tensor([ 3396, 10303,   125])"
            ]
          },
          "metadata": {},
          "execution_count": 117
        }
      ]
    },
    {
      "cell_type": "code",
      "source": [
        "t2.view(1, -1)"
      ],
      "metadata": {
        "colab": {
          "base_uri": "https://localhost:8080/"
        },
        "id": "bh1UqWoCP_ou",
        "outputId": "58deb5d7-d1e7-4550-f5ab-cbef014cffdb"
      },
      "execution_count": null,
      "outputs": [
        {
          "output_type": "execute_result",
          "data": {
            "text/plain": [
              "tensor([[ 3396, 10303,   125]])"
            ]
          },
          "metadata": {},
          "execution_count": 116
        }
      ]
    },
    {
      "cell_type": "code",
      "source": [
        "t2.reshape(1,-1)"
      ],
      "metadata": {
        "colab": {
          "base_uri": "https://localhost:8080/"
        },
        "id": "NVdSjiBUQmpO",
        "outputId": "2b801051-cb2d-4f23-af4b-7f8219b5b391"
      },
      "execution_count": null,
      "outputs": [
        {
          "output_type": "execute_result",
          "data": {
            "text/plain": [
              "tensor([[ 3396, 10303,   125]])"
            ]
          },
          "metadata": {},
          "execution_count": 118
        }
      ]
    },
    {
      "cell_type": "code",
      "source": [
        "t2.unsqueeze(0)"
      ],
      "metadata": {
        "colab": {
          "base_uri": "https://localhost:8080/"
        },
        "id": "aD6bIgY8QtCd",
        "outputId": "744d7606-a4ad-45db-bd97-b2601a8146d6"
      },
      "execution_count": null,
      "outputs": [
        {
          "output_type": "execute_result",
          "data": {
            "text/plain": [
              "tensor([[ 3396, 10303,   125]])"
            ]
          },
          "metadata": {},
          "execution_count": 122
        }
      ]
    },
    {
      "cell_type": "code",
      "source": [
        "torch.LongTensor([t2])"
      ],
      "metadata": {
        "colab": {
          "base_uri": "https://localhost:8080/",
          "height": 172
        },
        "id": "OnS-eeImP4B-",
        "outputId": "985ed1ac-c9b2-4086-c45c-d959de06c006"
      },
      "execution_count": null,
      "outputs": [
        {
          "output_type": "error",
          "ename": "ValueError",
          "evalue": "ignored",
          "traceback": [
            "\u001b[0;31m---------------------------------------------------------------------------\u001b[0m",
            "\u001b[0;31mValueError\u001b[0m                                Traceback (most recent call last)",
            "\u001b[0;32m<ipython-input-112-383441611b41>\u001b[0m in \u001b[0;36m<module>\u001b[0;34m()\u001b[0m\n\u001b[0;32m----> 1\u001b[0;31m \u001b[0mtorch\u001b[0m\u001b[0;34m.\u001b[0m\u001b[0mLongTensor\u001b[0m\u001b[0;34m(\u001b[0m\u001b[0;34m[\u001b[0m\u001b[0mt2\u001b[0m\u001b[0;34m]\u001b[0m\u001b[0;34m)\u001b[0m\u001b[0;34m\u001b[0m\u001b[0;34m\u001b[0m\u001b[0m\n\u001b[0m",
            "\u001b[0;31mValueError\u001b[0m: only one element tensors can be converted to Python scalars"
          ]
        }
      ]
    },
    {
      "cell_type": "code",
      "source": [
        "torch.cat((t1, t2))"
      ],
      "metadata": {
        "colab": {
          "base_uri": "https://localhost:8080/"
        },
        "id": "O__Q3N4cPgM-",
        "outputId": "719d2b35-0319-40ef-c6fe-363799f41935"
      },
      "execution_count": null,
      "outputs": [
        {
          "output_type": "execute_result",
          "data": {
            "text/plain": [
              "tensor([ 3396, 10303,   125])"
            ]
          },
          "metadata": {},
          "execution_count": 110
        }
      ]
    }
  ]
}