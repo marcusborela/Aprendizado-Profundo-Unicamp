{
  "nbformat": 4,
  "nbformat_minor": 0,
  "metadata": {
    "colab": {
      "name": "classificandoImagensdeSatelite.ipynb",
      "provenance": [],
      "collapsed_sections": [],
      "include_colab_link": true
    },
    "kernelspec": {
      "name": "python3",
      "display_name": "Python 3"
    },
    "language_info": {
      "name": "python"
    },
    "accelerator": "GPU"
  },
  "cells": [
    {
      "cell_type": "markdown",
      "metadata": {
        "id": "view-in-github",
        "colab_type": "text"
      },
      "source": [
        "<a href=\"https://colab.research.google.com/github/marcusborela/Aprendizado-Profundo-Unicamp/blob/main/classificandoImagensdeSatelite.ipynb\" target=\"_parent\"><img src=\"https://colab.research.google.com/assets/colab-badge.svg\" alt=\"Open In Colab\"/></a>"
      ]
    },
    {
      "cell_type": "markdown",
      "source": [
        "# Ensaio de classificação de imagens de satélite Sentinel 2\n",
        "\n",
        "Remis Balaniuk, PhD\n",
        "\n",
        "Nesse caderno abordaremos as principais etapas e tarefas necessárias para implementar e treinar um rede convolucional na tarefa de classificação de imagens de satélite multi espectrais.\n"
      ],
      "metadata": {
        "id": "MHeIcJMsA5s3"
      }
    },
    {
      "cell_type": "code",
      "metadata": {
        "id": "Fqo4fDgNeEpX",
        "colab": {
          "base_uri": "https://localhost:8080/"
        },
        "outputId": "2f162f66-6274-4793-cbd5-580f4625f786"
      },
      "source": [
        "from __future__ import absolute_import, division, print_function, unicode_literals\n",
        "!pip install rasterio\n",
        "!pip install gputil\n",
        "!pip install psutil\n",
        "!pip install humanize\n",
        "!pip install simplekml\n",
        "import simplekml\n",
        "import psutil\n",
        "import humanize\n",
        "import GPUtil as GPU\n",
        "import rasterio\n",
        "import tensorflow as tf\n",
        "from tensorflow.keras import layers, models\n",
        "import numpy as np\n",
        "import matplotlib.pyplot as plt\n",
        "import PIL\n",
        "from PIL import Image\n",
        "import gc\n",
        "import glob\n",
        "import pickle as pi\n",
        "import re\n",
        "import math\n",
        "from random import shuffle\n",
        "import gdal\n",
        "import os\n",
        "from tempfile import NamedTemporaryFile\n",
        "import h5py\n",
        "import sys\n",
        "from tqdm import tqdm\n",
        "import itertools\n",
        "from sklearn.model_selection import KFold\n",
        "from sklearn import metrics\n",
        "from sklearn.metrics import confusion_matrix,accuracy_score,f1_score\n",
        "from google.colab import drive\n",
        "from IPython.display import IFrame\n",
        "\n",
        "\n",
        "drive.mount('/content/drive/')\n",
        "\n",
        "%matplotlib inline\n",
        "\n",
        "rseed = 100\n",
        "np.random.seed(rseed)\n"
      ],
      "execution_count": 1,
      "outputs": [
        {
          "output_type": "stream",
          "name": "stdout",
          "text": [
            "Looking in indexes: https://pypi.org/simple, https://us-python.pkg.dev/colab-wheels/public/simple/\n",
            "Collecting rasterio\n",
            "  Downloading rasterio-1.2.10-cp37-cp37m-manylinux1_x86_64.whl (19.3 MB)\n",
            "\u001b[K     |████████████████████████████████| 19.3 MB 1.3 MB/s \n",
            "\u001b[?25hCollecting affine\n",
            "  Downloading affine-2.3.1-py2.py3-none-any.whl (16 kB)\n",
            "Collecting snuggs>=1.4.1\n",
            "  Downloading snuggs-1.4.7-py3-none-any.whl (5.4 kB)\n",
            "Requirement already satisfied: click>=4.0 in /usr/local/lib/python3.7/dist-packages (from rasterio) (7.1.2)\n",
            "Collecting cligj>=0.5\n",
            "  Downloading cligj-0.7.2-py3-none-any.whl (7.1 kB)\n",
            "Collecting click-plugins\n",
            "  Downloading click_plugins-1.1.1-py2.py3-none-any.whl (7.5 kB)\n",
            "Requirement already satisfied: certifi in /usr/local/lib/python3.7/dist-packages (from rasterio) (2022.5.18.1)\n",
            "Requirement already satisfied: numpy in /usr/local/lib/python3.7/dist-packages (from rasterio) (1.21.6)\n",
            "Requirement already satisfied: attrs in /usr/local/lib/python3.7/dist-packages (from rasterio) (21.4.0)\n",
            "Requirement already satisfied: setuptools in /usr/local/lib/python3.7/dist-packages (from rasterio) (57.4.0)\n",
            "Requirement already satisfied: pyparsing>=2.1.6 in /usr/local/lib/python3.7/dist-packages (from snuggs>=1.4.1->rasterio) (3.0.9)\n",
            "Installing collected packages: snuggs, cligj, click-plugins, affine, rasterio\n",
            "Successfully installed affine-2.3.1 click-plugins-1.1.1 cligj-0.7.2 rasterio-1.2.10 snuggs-1.4.7\n",
            "Looking in indexes: https://pypi.org/simple, https://us-python.pkg.dev/colab-wheels/public/simple/\n",
            "Collecting gputil\n",
            "  Downloading GPUtil-1.4.0.tar.gz (5.5 kB)\n",
            "Building wheels for collected packages: gputil\n",
            "  Building wheel for gputil (setup.py) ... \u001b[?25l\u001b[?25hdone\n",
            "  Created wheel for gputil: filename=GPUtil-1.4.0-py3-none-any.whl size=7411 sha256=3d9469b02592d8ea56e2c34ecd620a11d45e4b10dfd2b153c663ff695bdaea85\n",
            "  Stored in directory: /root/.cache/pip/wheels/6e/f8/83/534c52482d6da64622ddbf72cd93c35d2ef2881b78fd08ff0c\n",
            "Successfully built gputil\n",
            "Installing collected packages: gputil\n",
            "Successfully installed gputil-1.4.0\n",
            "Looking in indexes: https://pypi.org/simple, https://us-python.pkg.dev/colab-wheels/public/simple/\n",
            "Requirement already satisfied: psutil in /usr/local/lib/python3.7/dist-packages (5.4.8)\n",
            "Looking in indexes: https://pypi.org/simple, https://us-python.pkg.dev/colab-wheels/public/simple/\n",
            "Requirement already satisfied: humanize in /usr/local/lib/python3.7/dist-packages (0.5.1)\n",
            "Looking in indexes: https://pypi.org/simple, https://us-python.pkg.dev/colab-wheels/public/simple/\n",
            "Collecting simplekml\n",
            "  Downloading simplekml-1.3.6.tar.gz (52 kB)\n",
            "\u001b[K     |████████████████████████████████| 52 kB 1.3 MB/s \n",
            "\u001b[?25hBuilding wheels for collected packages: simplekml\n",
            "  Building wheel for simplekml (setup.py) ... \u001b[?25l\u001b[?25hdone\n",
            "  Created wheel for simplekml: filename=simplekml-1.3.6-py3-none-any.whl size=65876 sha256=c75dd09ebba219651b608880812fe8837d57588097cb58cdedae007edc47e9b2\n",
            "  Stored in directory: /root/.cache/pip/wheels/5c/ec/e6/10af1a1fb29ffca95151d4c886d6e06fc309c68f46519892de\n",
            "Successfully built simplekml\n",
            "Installing collected packages: simplekml\n",
            "Successfully installed simplekml-1.3.6\n",
            "Mounted at /content/drive/\n"
          ]
        }
      ]
    },
    {
      "cell_type": "markdown",
      "source": [
        "# Organização dos dados\n",
        "\n",
        "Vamos assumir que as imagens estão separadas em subdiretórios, um para cada classe.\n",
        "\n",
        "Posicione-se no seu diretório de diretórios de imagens.\n",
        "\n"
      ],
      "metadata": {
        "id": "wyZgFYGnKipN"
      }
    },
    {
      "cell_type": "code",
      "source": [
        "%pwd"
      ],
      "metadata": {
        "colab": {
          "base_uri": "https://localhost:8080/",
          "height": 36
        },
        "id": "Um9lb7mNL1qX",
        "outputId": "4246a686-e690-4b3b-8af2-6c77eeabd0fb"
      },
      "execution_count": 2,
      "outputs": [
        {
          "output_type": "execute_result",
          "data": {
            "text/plain": [
              "'/content'"
            ],
            "application/vnd.google.colaboratory.intrinsic+json": {
              "type": "string"
            }
          },
          "metadata": {},
          "execution_count": 2
        }
      ]
    },
    {
      "cell_type": "code",
      "source": [
        "%cd /content/drive/MyDrive/DataForTailingDamDetection/Data/SentinelMinesDams/train/"
      ],
      "metadata": {
        "colab": {
          "base_uri": "https://localhost:8080/"
        },
        "id": "sLWByLfRL3U8",
        "outputId": "c7a20be7-7fab-4714-81ce-43faf14be11f"
      },
      "execution_count": 3,
      "outputs": [
        {
          "output_type": "stream",
          "name": "stdout",
          "text": [
            "/content/drive/.shortcut-targets-by-id/1aIK9Gf7J0xpdioKfUv6YsB1Br4r2vNYp/DataForTailingDamDetection/Data/SentinelMinesDams/train\n"
          ]
        }
      ]
    },
    {
      "cell_type": "code",
      "source": [
        "%ls"
      ],
      "metadata": {
        "colab": {
          "base_uri": "https://localhost:8080/"
        },
        "id": "2vDOmos4NyMX",
        "outputId": "0bb46b48-8d81-469c-883b-0978cb5d5dcd"
      },
      "execution_count": 4,
      "outputs": [
        {
          "output_type": "stream",
          "name": "stdout",
          "text": [
            "\u001b[0m\u001b[01;34mmine\u001b[0m/  \u001b[01;34mnotmine\u001b[0m/\n"
          ]
        }
      ]
    },
    {
      "cell_type": "code",
      "source": [
        "char_labels = []\n",
        "for label_num, subdir in enumerate(next(os.walk('./'))[1]):\n",
        "    char_labels.append(subdir)\n"
      ],
      "metadata": {
        "id": "IDCTOyOlNczb"
      },
      "execution_count": 5,
      "outputs": []
    },
    {
      "cell_type": "code",
      "source": [
        "char_labels"
      ],
      "metadata": {
        "colab": {
          "base_uri": "https://localhost:8080/"
        },
        "id": "3fi2Ue7uN5aI",
        "outputId": "2bbc4294-b3dd-4bcf-fefb-b676e60abaa8"
      },
      "execution_count": 6,
      "outputs": [
        {
          "output_type": "execute_result",
          "data": {
            "text/plain": [
              "['mine', 'notmine']"
            ]
          },
          "metadata": {},
          "execution_count": 6
        }
      ]
    },
    {
      "cell_type": "code",
      "source": [
        "n_imagens = 0\n",
        "\n",
        "for subdir in char_labels:\n",
        "  n_imagens += len(os.listdir(subdir))"
      ],
      "metadata": {
        "id": "QTVvmWzKLV3N"
      },
      "execution_count": 7,
      "outputs": []
    },
    {
      "cell_type": "code",
      "source": [
        "n_imagens"
      ],
      "metadata": {
        "colab": {
          "base_uri": "https://localhost:8080/"
        },
        "id": "Qx6brDf0MI8r",
        "outputId": "071e79b5-a59f-4e89-ffda-0b35a1ce1feb"
      },
      "execution_count": 8,
      "outputs": [
        {
          "output_type": "execute_result",
          "data": {
            "text/plain": [
              "2860"
            ]
          },
          "metadata": {},
          "execution_count": 8
        }
      ]
    },
    {
      "cell_type": "markdown",
      "source": [
        "## Definições iniciais:\n",
        "\n",
        "As imagens podem ter pequenas variações em número de pixels. Vamos estabelecer um tamanho padrão e adequar as imagens.\n",
        "\n",
        "Sentinel-2 Bands\tCentral Wavelength (µm)\tResolution (m)\n",
        "- Band 1 - Coastal aerosol\t0.443\t60\n",
        "- Band 2 - Blue\t0.490\t10\n",
        "- Band 3 - Green\t0.560\t10\n",
        "- Band 4 - Red\t0.665\t10\n",
        "- Band 5 - Vegetation Red Edge\t0.705\t20\n",
        "- Band 6 - Vegetation Red Edge\t0.740\t20\n",
        "- Band 7 - Vegetation Red Edge\t0.783\t20\n",
        "- Band 8 - NIR\t0.842\t10\n",
        "- Band 8A - Vegetation Red Edge\t0.865\t20\n",
        "- Band 9 - Water vapour\t0.945\t60\n",
        "- Band 10 - SWIR - Cirrus\t1.375\t60\n",
        "- Band 11 - SWIR\t1.610\t20\n",
        "- Band 12 - SWIR\t2.190\t20\n"
      ],
      "metadata": {
        "id": "JH2qIR5mLeMk"
      }
    },
    {
      "cell_type": "code",
      "source": [
        "image_width = 200\n",
        "image_height = 200\n",
        "\n",
        "Nbands = 7\n",
        "\n",
        "# este script assume que estamos usando imagens do Sentinel 2 com 12 spectral bands mas selecionaremos só 10 \n",
        "#opt_string = '-outsize {} {} -b 2 -b 3 -b 4 -b 5 -b 6 -b 7 -b 8 -b 8A -b 11 -b 12'.format(image_height, image_width)\n",
        "\n",
        "# este script assume que estamos usando imagens do Sentinel 2 com 12 spectral bands mas selecionaremos só 7 por limitações de memória \n",
        "opt_string = '-outsize {} {} -b 2 -b 3 -b 4 -b 5 -b 7 -b 8 -b 11'.format(image_height, image_width)\n",
        "\n",
        "\n",
        "# quantas classes?\n",
        "n_classes = 2"
      ],
      "metadata": {
        "id": "F2AbiMrCKhVW"
      },
      "execution_count": null,
      "outputs": []
    },
    {
      "cell_type": "markdown",
      "source": [
        "## Definindo os arrays para as imagens a priori para evitar variações de tamanho nos dados."
      ],
      "metadata": {
        "id": "3rzkMY0jP4Jf"
      }
    },
    {
      "cell_type": "code",
      "source": [
        "del imagens\n",
        "del labels"
      ],
      "metadata": {
        "id": "NVLXd3qtXaOI"
      },
      "execution_count": null,
      "outputs": []
    },
    {
      "cell_type": "code",
      "source": [
        "imagens = np.zeros((n_imagens, image_width, image_height, Nbands), dtype=np.float32)\n",
        "labels = -1 * np.ones((n_imagens,), dtype=np.int64)\n"
      ],
      "metadata": {
        "id": "0U_0vC0WMPrL"
      },
      "execution_count": null,
      "outputs": []
    },
    {
      "cell_type": "markdown",
      "source": [
        "## Carregando as imagens\n",
        "\n",
        "Para carregar e pré processar as imagens geoespaciais precisaremos usar uma biblioteca especializada chamada GDAL - Geospatial Data Abstraction Library https://gdal.org/api/python.html.\n",
        "\n",
        "É possível que a memória da VM do Colab não suporte um volume muito grande de imagens. "
      ],
      "metadata": {
        "id": "6C1wP3S2CUZk"
      }
    },
    {
      "cell_type": "code",
      "source": [
        "image_counter = 0\n",
        "for i in range(len(char_labels)):\n",
        "\n",
        "  subdir = char_labels[i]\n",
        "  print(\"Carregando imagens para classe\", subdir)\n",
        "\n",
        "  files = np.array(os.listdir(subdir))\n",
        "  # fazendo permutação para evitar vies\n",
        "  permutation = np.random.permutation(len(files))\n",
        "  files = files[permutation]\n",
        "  \n",
        "  for file in files:\n",
        "      img_dataset = gdal.Translate(NamedTemporaryFile(delete=False).name,\n",
        "                                    gdal.Open(subdir + '/' + file, gdal.GA_ReadOnly),\n",
        "                                    options=opt_string)\n",
        "\n",
        "      img_array = np.transpose(np.array(img_dataset.ReadAsArray(),dtype = 'float32'), axes=(1, 2, 0))\n",
        "\n",
        "      linhas = min(image_height,img_array.shape[0])\n",
        "      colunas = min(image_height,img_array.shape[1])\n",
        "\n",
        "      imagens[image_counter, :linhas, :colunas, :] = img_array[:linhas,:colunas,0:Nbands]\n",
        "      labels[image_counter] = i\n",
        "      image_counter += 1\n"
      ],
      "metadata": {
        "colab": {
          "base_uri": "https://localhost:8080/"
        },
        "id": "j45kdMPGOL23",
        "outputId": "f4b79b47-8f45-46c9-823c-aba0f70a07bd"
      },
      "execution_count": null,
      "outputs": [
        {
          "output_type": "stream",
          "name": "stdout",
          "text": [
            "Carregando imagens para classe mine\n",
            "Carregando imagens para classe notmine\n"
          ]
        }
      ]
    },
    {
      "cell_type": "code",
      "source": [
        "%cd  /content/drive/MyDrive/TCU/curso sensoriamento remoto/Sensoriamento Remoto e Deep Learning/material alunos/minas"
      ],
      "metadata": {
        "colab": {
          "base_uri": "https://localhost:8080/"
        },
        "id": "WibtYAMVUadF",
        "outputId": "b1f0451a-d53a-4a6f-a990-d7fbc4152781"
      },
      "execution_count": null,
      "outputs": [
        {
          "output_type": "stream",
          "name": "stdout",
          "text": [
            "/content/drive/MyDrive/TCU/curso sensoriamento remoto/Sensoriamento Remoto e Deep Learning/material alunos/minas\n"
          ]
        }
      ]
    },
    {
      "cell_type": "markdown",
      "source": [
        "## Salvando as imagens em formato numpy \n",
        "\n",
        "Caso a VM caia..."
      ],
      "metadata": {
        "id": "fHNjTGJhY5fk"
      }
    },
    {
      "cell_type": "code",
      "source": [
        "np.savez('./imagens',\n",
        "            images=imagens,\n",
        "            labels=labels,\n",
        "            charlabels = char_labels)"
      ],
      "metadata": {
        "id": "y-bkGpV-Ygqt"
      },
      "execution_count": null,
      "outputs": []
    },
    {
      "cell_type": "markdown",
      "source": [
        "# Separando em conjuntos de treinamento e teste"
      ],
      "metadata": {
        "id": "One08x01TdjV"
      }
    },
    {
      "cell_type": "code",
      "source": [
        "# defina aqui o percentual a ser usado no treinamento\n",
        "split_ratio = 0.8\n",
        "\n",
        "permutation = np.random.permutation(n_imagens)\n",
        "imagens = imagens[permutation]\n",
        "labels = labels[permutation]\n",
        "\n",
        "Ntrain = int(n_imagens*split_ratio)\n",
        "\n",
        "train_images = imagens[:Ntrain] \n",
        "train_labels = labels[:Ntrain] \n",
        "\n",
        "test_images = imagens[Ntrain:]\n",
        "test_labels = labels[Ntrain:]"
      ],
      "metadata": {
        "id": "e64tM-_uTdGt"
      },
      "execution_count": null,
      "outputs": []
    },
    {
      "cell_type": "markdown",
      "source": [
        "## Normalizando os dados\n"
      ],
      "metadata": {
        "id": "1j6gNcTWS7ZF"
      }
    },
    {
      "cell_type": "code",
      "source": [
        "nmean = np.zeros(Nbands)\n",
        "nmax = np.zeros(Nbands)\n",
        "\n",
        "# Normalizando pixels usando z-score\n",
        "for i in range(Nbands):\n",
        "  nmean[i] = np.mean(train_images[:,:,:,i])  # média \n",
        "  nmax[i] = np.std(train_images[:,:,:,i])    # desvio padrão\n",
        "  train_images[:,:,:,i]=train_images[:,:,:,i]-nmean[i]\n",
        "  train_images[:,:,:,i]=train_images[:,:,:,i]/nmax[i]\n",
        "  test_images[:,:,:,i]=test_images[:,:,:,i]-nmean[i]\n",
        "  test_images[:,:,:,i]=test_images[:,:,:,i]/nmax[i]\n",
        "\n"
      ],
      "metadata": {
        "id": "TW956BT8S6yO"
      },
      "execution_count": null,
      "outputs": []
    },
    {
      "cell_type": "markdown",
      "source": [
        "## Salvando dados de treinamento pré processados para carga mais rápida.\n",
        "\n",
        "Salvareremos também a média e o desvio padrão estimados na base de treinamento para uso posterior no pré processamento da base de teste.\n",
        "\n",
        "Posicione-se num diretório no qual você possa salvar dados do experimento. Tipicamente você vai realizar diversos experimentos, com diferentes configurações e arquiteturas, por isso é interessante deixar pastas separadas para cada um."
      ],
      "metadata": {
        "id": "yzGEpqwNSdgf"
      }
    },
    {
      "cell_type": "code",
      "source": [
        "np.savez('./trainingData',\n",
        "            images=train_images,\n",
        "            labels=train_labels,\n",
        "            charlabels = char_labels)\n",
        "\n",
        "np.savez('./testingData',\n",
        "            images=test_images,\n",
        "            labels=test_labels,\n",
        "            charlabels = char_labels)\n",
        "\n",
        "np.savez('./modelMetaData',\n",
        "            metadata =np.array([image_width,image_height,Nbands,n_classes,char_labels])) \n",
        "\n",
        "np.savez('./trainingDataAvgStd',\n",
        "            median=nmean,\n",
        "            std=nmax)"
      ],
      "metadata": {
        "id": "dhLA7VcdScSX",
        "colab": {
          "base_uri": "https://localhost:8080/"
        },
        "outputId": "2380f9ee-e181-43f2-abfd-701b39e3450f"
      },
      "execution_count": null,
      "outputs": [
        {
          "output_type": "stream",
          "name": "stderr",
          "text": [
            "/usr/local/lib/python3.7/dist-packages/ipykernel_launcher.py:12: VisibleDeprecationWarning: Creating an ndarray from ragged nested sequences (which is a list-or-tuple of lists-or-tuples-or ndarrays with different lengths or shapes) is deprecated. If you meant to do this, you must specify 'dtype=object' when creating the ndarray.\n",
            "  if sys.path[0] == '':\n"
          ]
        }
      ]
    },
    {
      "cell_type": "markdown",
      "source": [
        "## Carregando datasets pré-processados de arquivo\n",
        "\n",
        "Só execute se for recomeçar desse ponto."
      ],
      "metadata": {
        "id": "a0v0Y4cLB6Gd"
      }
    },
    {
      "cell_type": "code",
      "source": [
        "%cd  /content/drive/MyDrive/TCU/curso sensoriamento remoto/Sensoriamento Remoto e Deep Learning/material alunos/minas"
      ],
      "metadata": {
        "colab": {
          "base_uri": "https://localhost:8080/"
        },
        "id": "lWaj4qwTcY79",
        "outputId": "cf136c85-981e-4434-d069-c4256ee8c3e8"
      },
      "execution_count": null,
      "outputs": [
        {
          "output_type": "stream",
          "name": "stdout",
          "text": [
            "/content/drive/MyDrive/TCU/curso sensoriamento remoto/Sensoriamento Remoto e Deep Learning/material alunos/minas\n"
          ]
        }
      ]
    },
    {
      "cell_type": "code",
      "source": [
        "npzfile = np.load('./trainingData.npz')\n",
        "train_images =     npzfile['images']\n",
        "train_labels =     npzfile['labels']\n",
        "char_labels =      npzfile['charlabels']\n",
        "\n",
        "npzfile = np.load('./testingData.npz')\n",
        "test_images =     npzfile['images']\n",
        "test_labels =     npzfile['labels']\n",
        "char_labels =      npzfile['charlabels']\n",
        "\n",
        "n_images = train_images.shape[0] + test_images.shape[0]\n",
        "metadata = np.load('./modelMetaData.npz',allow_pickle=True)\n",
        "image_width,image_height,Nbands,n_classes,char_labels = metadata['metadata'] \n",
        "\n",
        "# os dados de treinamento foram salvos já normalizados\n",
        "npzfile = np.load('./trainingDataAvgStd.npz',)\n",
        "nmean = npzfile['median']\n",
        "nmax = npzfile['std']\n"
      ],
      "metadata": {
        "id": "4gNtAosTHEN6"
      },
      "execution_count": null,
      "outputs": []
    },
    {
      "cell_type": "code",
      "source": [
        "test_images.shape"
      ],
      "metadata": {
        "colab": {
          "base_uri": "https://localhost:8080/"
        },
        "id": "Bj8z_H2hYFFO",
        "outputId": "7ff344aa-bdea-4e28-a46a-b95b9353b73a"
      },
      "execution_count": null,
      "outputs": [
        {
          "output_type": "execute_result",
          "data": {
            "text/plain": [
              "(572, 200, 200, 7)"
            ]
          },
          "metadata": {},
          "execution_count": 4
        }
      ]
    },
    {
      "cell_type": "markdown",
      "source": [
        "# Definindo a arquitetura da rede"
      ],
      "metadata": {
        "id": "iEGoCUhXIm6f"
      }
    },
    {
      "cell_type": "code",
      "source": [
        "def tf_cross_entropy_with_logits(y_true, y_pred):\n",
        "    return tf.reduce_mean(tf.nn.softmax_cross_entropy_with_logits(labels=y_true, logits=y_pred))\n",
        "\n",
        "def custom_sparse_categorical_accuracy(y_true,y_pred):\n",
        "  sh=tf.shape(y_pred)\n",
        "  y_pred = tf.reshape(y_pred, [sh[0]*sh[1],n_classes])   # adjust the last argument for the number of classes \n",
        "  y_true = tf.reshape(y_true, [sh[0]*sh[1],1])\n",
        "  \n",
        "  return tf.keras.metrics.sparse_categorical_accuracy(y_true,y_pred)\n",
        "\n",
        "def custom_sparse_categorical_crossentropy(y_true,y_pred):\n",
        "  sh=tf.shape(y_pred)\n",
        "  y_pred = tf.reshape(y_pred, [sh[0]*sh[1],n_classes]) # adjust the last argument for the number of classes \n",
        "  y_true = tf.reshape(y_true, [sh[0]*sh[1],1])\n",
        " \n",
        "  return tf.keras.losses.sparse_categorical_crossentropy(y_true,y_pred)\n"
      ],
      "metadata": {
        "id": "smKPv9foaWy5"
      },
      "execution_count": null,
      "outputs": []
    },
    {
      "cell_type": "code",
      "source": [
        "def define_FCN_discovery(image_width,image_height,Nbands):\n",
        "\n",
        "  #global n_classes\n",
        "  #n_classes = nc\n",
        "  kx = math.ceil((image_width-32)/27)  \n",
        "  ky = math.ceil((image_height-32)/27)  \n",
        "  # define the Fully Convolution Neural Network\n",
        "  input=layers.Input(shape=(None, None, Nbands))\n",
        "  x0=layers.Conv2D(32, (3, 3), (1,1), activation='relu', padding='SAME')(input)\n",
        "  x1=layers.MaxPooling2D((3, 3))(x0)\n",
        "  x2=layers.Conv2D(64, (3, 3), (1,1), activation='relu', padding='SAME')(x1)\n",
        "  x3=layers.MaxPooling2D((3, 3))(x2)\n",
        "  x4=layers.Conv2D(64, (3, 3), (1,1), activation='relu', padding='SAME')(x3)\n",
        "  x5=layers.MaxPooling2D((3,3))(x4)\n",
        "  x6=layers.Conv2D(64, (kx,ky), (1,1), activation = 'relu')(x5)  # the convolution kernel size must be adapted for image size \n",
        "  x7=layers.Dropout(0.5)(x6)\n",
        "  x8=layers.Conv2D(n_classes, (1,1), (1,1), padding='VALID', activation='softmax')(x7)\n",
        "  model=models.Model(input,x8)\n",
        "  model.summary()\n",
        "\n",
        "  model.compile(optimizer='adam',\n",
        "              loss=custom_sparse_categorical_crossentropy,\n",
        "              metrics=[custom_sparse_categorical_accuracy])\n",
        "             \n",
        "  return model\n"
      ],
      "metadata": {
        "id": "cC6xlxRs8wa-"
      },
      "execution_count": null,
      "outputs": []
    },
    {
      "cell_type": "code",
      "source": [
        "model = define_FCN_discovery(image_width,image_height,Nbands)"
      ],
      "metadata": {
        "colab": {
          "base_uri": "https://localhost:8080/"
        },
        "id": "OBKfqepS-6G6",
        "outputId": "d528351c-c92d-4ede-e494-25bb5f8ecfe0"
      },
      "execution_count": null,
      "outputs": [
        {
          "output_type": "stream",
          "name": "stdout",
          "text": [
            "Model: \"model\"\n",
            "_________________________________________________________________\n",
            " Layer (type)                Output Shape              Param #   \n",
            "=================================================================\n",
            " input_1 (InputLayer)        [(None, None, None, 7)]   0         \n",
            "                                                                 \n",
            " conv2d (Conv2D)             (None, None, None, 32)    2048      \n",
            "                                                                 \n",
            " max_pooling2d (MaxPooling2D  (None, None, None, 32)   0         \n",
            " )                                                               \n",
            "                                                                 \n",
            " conv2d_1 (Conv2D)           (None, None, None, 64)    18496     \n",
            "                                                                 \n",
            " max_pooling2d_1 (MaxPooling  (None, None, None, 64)   0         \n",
            " 2D)                                                             \n",
            "                                                                 \n",
            " conv2d_2 (Conv2D)           (None, None, None, 64)    36928     \n",
            "                                                                 \n",
            " max_pooling2d_2 (MaxPooling  (None, None, None, 64)   0         \n",
            " 2D)                                                             \n",
            "                                                                 \n",
            " conv2d_3 (Conv2D)           (None, None, None, 64)    200768    \n",
            "                                                                 \n",
            " dropout (Dropout)           (None, None, None, 64)    0         \n",
            "                                                                 \n",
            " conv2d_4 (Conv2D)           (None, None, None, 2)     130       \n",
            "                                                                 \n",
            "=================================================================\n",
            "Total params: 258,370\n",
            "Trainable params: 258,370\n",
            "Non-trainable params: 0\n",
            "_________________________________________________________________\n"
          ]
        }
      ]
    },
    {
      "cell_type": "markdown",
      "source": [
        "## Treinando a CNN"
      ],
      "metadata": {
        "id": "lU_g67OGI3dW"
      }
    },
    {
      "cell_type": "code",
      "source": [
        "# Criando um callback  que salve os pesos do modelo\n",
        "  \n",
        "epochs = 20\n",
        "batchsize = 10 # cuidado com o tamanho para não derrubar a máquina\n",
        "\n",
        "cp_callback = tf.keras.callbacks.ModelCheckpoint(filepath= './trained_model/weights.ckpt',\n",
        "                                                save_weights_only=True,\n",
        "                                                verbose=1)\n",
        "\n",
        "fit = model.fit(train_images, train_labels, epochs=epochs, batch_size=batchsize,callbacks=[cp_callback])\n",
        "\n",
        "accuracy = fit.history[list(fit.history.keys())[-1]]\n",
        "\n",
        "plt.plot(range(epochs), accuracy, 'r--', label='train')\n",
        "plt.title('Training accuracy')\n",
        "plt.show()"
      ],
      "metadata": {
        "colab": {
          "base_uri": "https://localhost:8080/",
          "height": 1000
        },
        "id": "bILCGr_iI5gO",
        "outputId": "0e798840-9fae-41d1-e392-9a6cb9114091"
      },
      "execution_count": null,
      "outputs": [
        {
          "output_type": "stream",
          "name": "stdout",
          "text": [
            "Epoch 1/20\n",
            "229/229 [==============================] - ETA: 0s - loss: 0.4377 - custom_sparse_categorical_accuracy: 0.8247\n",
            "Epoch 1: saving model to ./trained_model/weights.ckpt\n",
            "229/229 [==============================] - 24s 24ms/step - loss: 0.4377 - custom_sparse_categorical_accuracy: 0.8247\n",
            "Epoch 2/20\n",
            "229/229 [==============================] - ETA: 0s - loss: 0.2705 - custom_sparse_categorical_accuracy: 0.8903\n",
            "Epoch 2: saving model to ./trained_model/weights.ckpt\n",
            "229/229 [==============================] - 4s 18ms/step - loss: 0.2705 - custom_sparse_categorical_accuracy: 0.8903\n",
            "Epoch 3/20\n",
            "229/229 [==============================] - ETA: 0s - loss: 0.2048 - custom_sparse_categorical_accuracy: 0.9209\n",
            "Epoch 3: saving model to ./trained_model/weights.ckpt\n",
            "229/229 [==============================] - 4s 15ms/step - loss: 0.2048 - custom_sparse_categorical_accuracy: 0.9209\n",
            "Epoch 4/20\n",
            "229/229 [==============================] - ETA: 0s - loss: 0.1874 - custom_sparse_categorical_accuracy: 0.9318\n",
            "Epoch 4: saving model to ./trained_model/weights.ckpt\n",
            "229/229 [==============================] - 4s 16ms/step - loss: 0.1874 - custom_sparse_categorical_accuracy: 0.9318\n",
            "Epoch 5/20\n",
            "227/229 [============================>.] - ETA: 0s - loss: 0.1838 - custom_sparse_categorical_accuracy: 0.9361\n",
            "Epoch 5: saving model to ./trained_model/weights.ckpt\n",
            "229/229 [==============================] - 3s 15ms/step - loss: 0.1857 - custom_sparse_categorical_accuracy: 0.9358\n",
            "Epoch 6/20\n",
            "227/229 [============================>.] - ETA: 0s - loss: 0.1671 - custom_sparse_categorical_accuracy: 0.9445\n",
            "Epoch 6: saving model to ./trained_model/weights.ckpt\n",
            "229/229 [==============================] - 3s 15ms/step - loss: 0.1659 - custom_sparse_categorical_accuracy: 0.9449\n",
            "Epoch 7/20\n",
            "227/229 [============================>.] - ETA: 0s - loss: 0.1128 - custom_sparse_categorical_accuracy: 0.9612\n",
            "Epoch 7: saving model to ./trained_model/weights.ckpt\n",
            "229/229 [==============================] - 3s 15ms/step - loss: 0.1127 - custom_sparse_categorical_accuracy: 0.9611\n",
            "Epoch 8/20\n",
            "228/229 [============================>.] - ETA: 0s - loss: 0.0972 - custom_sparse_categorical_accuracy: 0.9689\n",
            "Epoch 8: saving model to ./trained_model/weights.ckpt\n",
            "229/229 [==============================] - 3s 15ms/step - loss: 0.0970 - custom_sparse_categorical_accuracy: 0.9690\n",
            "Epoch 9/20\n",
            "228/229 [============================>.] - ETA: 0s - loss: 0.0950 - custom_sparse_categorical_accuracy: 0.9697\n",
            "Epoch 9: saving model to ./trained_model/weights.ckpt\n",
            "229/229 [==============================] - 4s 15ms/step - loss: 0.0950 - custom_sparse_categorical_accuracy: 0.9698\n",
            "Epoch 10/20\n",
            "226/229 [============================>.] - ETA: 0s - loss: 0.0812 - custom_sparse_categorical_accuracy: 0.9743\n",
            "Epoch 10: saving model to ./trained_model/weights.ckpt\n",
            "229/229 [==============================] - 4s 15ms/step - loss: 0.0810 - custom_sparse_categorical_accuracy: 0.9747\n",
            "Epoch 11/20\n",
            "226/229 [============================>.] - ETA: 0s - loss: 0.0795 - custom_sparse_categorical_accuracy: 0.9796\n",
            "Epoch 11: saving model to ./trained_model/weights.ckpt\n",
            "229/229 [==============================] - 3s 15ms/step - loss: 0.0789 - custom_sparse_categorical_accuracy: 0.9799\n",
            "Epoch 12/20\n",
            "227/229 [============================>.] - ETA: 0s - loss: 0.0522 - custom_sparse_categorical_accuracy: 0.9819\n",
            "Epoch 12: saving model to ./trained_model/weights.ckpt\n",
            "229/229 [==============================] - 3s 15ms/step - loss: 0.0519 - custom_sparse_categorical_accuracy: 0.9821\n",
            "Epoch 13/20\n",
            "227/229 [============================>.] - ETA: 0s - loss: 0.0325 - custom_sparse_categorical_accuracy: 0.9890\n",
            "Epoch 13: saving model to ./trained_model/weights.ckpt\n",
            "229/229 [==============================] - 4s 16ms/step - loss: 0.0346 - custom_sparse_categorical_accuracy: 0.9886\n",
            "Epoch 14/20\n",
            "228/229 [============================>.] - ETA: 0s - loss: 0.1004 - custom_sparse_categorical_accuracy: 0.9658\n",
            "Epoch 14: saving model to ./trained_model/weights.ckpt\n",
            "229/229 [==============================] - 4s 16ms/step - loss: 0.1000 - custom_sparse_categorical_accuracy: 0.9659\n",
            "Epoch 15/20\n",
            "226/229 [============================>.] - ETA: 0s - loss: 0.0321 - custom_sparse_categorical_accuracy: 0.9898\n",
            "Epoch 15: saving model to ./trained_model/weights.ckpt\n",
            "229/229 [==============================] - 3s 15ms/step - loss: 0.0326 - custom_sparse_categorical_accuracy: 0.9895\n",
            "Epoch 16/20\n",
            "226/229 [============================>.] - ETA: 0s - loss: 0.0276 - custom_sparse_categorical_accuracy: 0.9903\n",
            "Epoch 16: saving model to ./trained_model/weights.ckpt\n",
            "229/229 [==============================] - 4s 15ms/step - loss: 0.0273 - custom_sparse_categorical_accuracy: 0.9904\n",
            "Epoch 17/20\n",
            "227/229 [============================>.] - ETA: 0s - loss: 0.0368 - custom_sparse_categorical_accuracy: 0.9877\n",
            "Epoch 17: saving model to ./trained_model/weights.ckpt\n",
            "229/229 [==============================] - 3s 15ms/step - loss: 0.0367 - custom_sparse_categorical_accuracy: 0.9878\n",
            "Epoch 18/20\n",
            "228/229 [============================>.] - ETA: 0s - loss: 0.0524 - custom_sparse_categorical_accuracy: 0.9820\n",
            "Epoch 18: saving model to ./trained_model/weights.ckpt\n",
            "229/229 [==============================] - 4s 15ms/step - loss: 0.0522 - custom_sparse_categorical_accuracy: 0.9821\n",
            "Epoch 19/20\n",
            "228/229 [============================>.] - ETA: 0s - loss: 0.0460 - custom_sparse_categorical_accuracy: 0.9846\n",
            "Epoch 19: saving model to ./trained_model/weights.ckpt\n",
            "229/229 [==============================] - 4s 15ms/step - loss: 0.0458 - custom_sparse_categorical_accuracy: 0.9847\n",
            "Epoch 20/20\n",
            "227/229 [============================>.] - ETA: 0s - loss: 0.0198 - custom_sparse_categorical_accuracy: 0.9930\n",
            "Epoch 20: saving model to ./trained_model/weights.ckpt\n",
            "229/229 [==============================] - 4s 15ms/step - loss: 0.0197 - custom_sparse_categorical_accuracy: 0.9930\n"
          ]
        },
        {
          "output_type": "display_data",
          "data": {
            "text/plain": [
              "<Figure size 432x288 with 1 Axes>"
            ],
            "image/png": "[encoded data removed]"
          },
          "metadata": {
            "needs_background": "light"
          }
        }
      ]
    },
    {
      "cell_type": "markdown",
      "source": [
        "## Carregando um model salvo"
      ],
      "metadata": {
        "id": "TkvCdPezJl5d"
      }
    },
    {
      "cell_type": "code",
      "source": [
        "%cd  /content/drive/MyDrive/TCU/curso sensoriamento remoto/Sensoriamento Remoto e Deep Learning/material alunos/minas"
      ],
      "metadata": {
        "colab": {
          "base_uri": "https://localhost:8080/"
        },
        "id": "R-zEr2yh_zRF",
        "outputId": "4458f1f2-9af2-4771-eff7-387051aca77d"
      },
      "execution_count": null,
      "outputs": [
        {
          "output_type": "stream",
          "name": "stdout",
          "text": [
            "/content/drive/MyDrive/TCU/curso sensoriamento remoto/Sensoriamento Remoto e Deep Learning/material alunos/minas\n"
          ]
        }
      ]
    },
    {
      "cell_type": "code",
      "source": [
        "if os.path.exists('./trained_model/checkpoint'): \n",
        "  metadata = np.load('./modelMetaData.npz',allow_pickle=True)\n",
        "  image_width,image_height,Nbands,n_classes,char_labels = metadata['metadata'] \n",
        "\n",
        "  model = define_FCN_discovery(image_width,image_height,Nbands)\n",
        "  \n",
        "  model.load_weights('./trained_model/weights.ckpt')\n",
        "    \n",
        "  npzfile = np.load('./trainingDataAvgStd.npz',)\n",
        "  nmean = npzfile['median']\n",
        "  nmax = npzfile['std']"
      ],
      "metadata": {
        "id": "aCyIdWwrJo-U",
        "colab": {
          "base_uri": "https://localhost:8080/"
        },
        "outputId": "05c0216b-45d9-46a3-bbb3-8892f3e7a401"
      },
      "execution_count": null,
      "outputs": [
        {
          "output_type": "stream",
          "name": "stdout",
          "text": [
            "Model: \"model\"\n",
            "_________________________________________________________________\n",
            " Layer (type)                Output Shape              Param #   \n",
            "=================================================================\n",
            " input_1 (InputLayer)        [(None, None, None, 7)]   0         \n",
            "                                                                 \n",
            " conv2d (Conv2D)             (None, None, None, 32)    2048      \n",
            "                                                                 \n",
            " max_pooling2d (MaxPooling2D  (None, None, None, 32)   0         \n",
            " )                                                               \n",
            "                                                                 \n",
            " conv2d_1 (Conv2D)           (None, None, None, 64)    18496     \n",
            "                                                                 \n",
            " max_pooling2d_1 (MaxPooling  (None, None, None, 64)   0         \n",
            " 2D)                                                             \n",
            "                                                                 \n",
            " conv2d_2 (Conv2D)           (None, None, None, 64)    36928     \n",
            "                                                                 \n",
            " max_pooling2d_2 (MaxPooling  (None, None, None, 64)   0         \n",
            " 2D)                                                             \n",
            "                                                                 \n",
            " conv2d_3 (Conv2D)           (None, None, None, 64)    200768    \n",
            "                                                                 \n",
            " dropout (Dropout)           (None, None, None, 64)    0         \n",
            "                                                                 \n",
            " conv2d_4 (Conv2D)           (None, None, None, 2)     130       \n",
            "                                                                 \n",
            "=================================================================\n",
            "Total params: 258,370\n",
            "Trainable params: 258,370\n",
            "Non-trainable params: 0\n",
            "_________________________________________________________________\n"
          ]
        }
      ]
    },
    {
      "cell_type": "markdown",
      "source": [
        "## Testando o modelo "
      ],
      "metadata": {
        "id": "fNMqMTAgJ9pK"
      }
    },
    {
      "cell_type": "code",
      "source": [
        "prediction = model.predict(train_images)\n",
        "\n",
        "predics = np.zeros(len(prediction))\n",
        "\n",
        "predics = prediction[:,0,0,:].argmax(axis=1) \n",
        "\n",
        "print(confusion_matrix(train_labels, predics))\n"
      ],
      "metadata": {
        "id": "Dfv0HjxLZ1Rp"
      },
      "execution_count": null,
      "outputs": []
    },
    {
      "cell_type": "code",
      "source": [
        "# testing\n",
        "print(\"Testing:\")\n",
        "prediction = model.predict(test_images)\n",
        "\n",
        "predics = np.zeros(len(prediction))\n",
        "\n",
        "predics = prediction[:,0,0,:].argmax(axis=1) \n",
        "\n",
        "print(confusion_matrix(test_labels, predics))\n",
        "\n",
        "y_true = test_labels\n",
        "y_pred = predics\n",
        "\n",
        "if n_classes==2:\n",
        "  print(\"Precision: \", metrics.precision_score(y_true, y_pred))\n",
        "  print(\"Recall: \", metrics.recall_score(y_true, y_pred))\n",
        "  print(\"F1 score: \", metrics.f1_score(y_true, y_pred))\n",
        "  print(\"Mean accuracy: \", metrics.accuracy_score(y_true, y_pred))\n",
        "  print(\"AUC: \", metrics.roc_auc_score(y_true, y_pred))\n",
        "  print(\"mcc: \", metrics.matthews_corrcoef(y_true, y_pred))\n",
        "  print(\"kappa: \", metrics.cohen_kappa_score(y_true, y_pred))\n"
      ],
      "metadata": {
        "id": "pYymY3CpJ7mt",
        "colab": {
          "base_uri": "https://localhost:8080/"
        },
        "outputId": "d9d57f85-a879-44f5-a30d-3bf628860618"
      },
      "execution_count": null,
      "outputs": [
        {
          "output_type": "stream",
          "name": "stdout",
          "text": [
            "Testing:\n",
            "[[268   5]\n",
            " [  1 298]]\n",
            "Precision:  0.9834983498349835\n",
            "Recall:  0.9966555183946488\n",
            "F1 score:  0.9900332225913622\n",
            "Mean accuracy:  0.9895104895104895\n",
            "AUC:  0.9891702500398153\n",
            "mcc:  0.9790604240153693\n",
            "kappa:  0.9789641434262948\n"
          ]
        }
      ]
    },
    {
      "cell_type": "markdown",
      "metadata": {
        "id": "UgXd8fGorPxz"
      },
      "source": [
        "# Aplicando o modelo em grandes imagens"
      ]
    },
    {
      "cell_type": "code",
      "source": [
        "def predict(modelo,labels,experiment_name,image_width,image_height,nmean,nmax,Nbands,path_to_predict_images,path_to_results,slicing = 1):\n",
        "\n",
        "  countImages = 0\n",
        "  \n",
        "  print(\"Escolha a classe alvo: \")\n",
        "  for i in range(0, len(labels)):\n",
        "    print(i,\":\",labels[i])\n",
        "  try:\n",
        "    save=int(input('Input:'))\n",
        "  except ValueError:\n",
        "    print(\"Not a number\")\n",
        "\n",
        "  kmlFull=simplekml.Kml()\n",
        "  resultsFull = [] \n",
        "\n",
        "  # processa cada imagem no diretório de predição\n",
        "  for file in os.listdir(path_to_predict_images):\n",
        "    print(path_to_predict_images + file)\n",
        "\n",
        "    starthere = len(resultsFull)\n",
        "\n",
        "    testimage = gdal.Translate(NamedTemporaryFile(delete=False).name,\n",
        "                                  gdal.Open(path_to_predict_images + file, gdal.GA_ReadOnly),\n",
        "                                  options = '-b 2 -b 3 -b 4 -b 5 -b 7 -b 8 -b 11')           # use as mesmas bandas\n",
        "\n",
        "    print(\"imagem carregada\")\n",
        "    testimage = np.transpose(np.array(testimage.ReadAsArray(),dtype = 'float32'), axes=(1, 2, 0))\n",
        "    testimage = testimage[:,:,0:Nbands]\n",
        "    for i in range(Nbands):\n",
        "      testimage[:,:,i]=testimage[:,:,i]-nmean[i]\n",
        "      testimage[:,:,i]=testimage[:,:,i]/nmax[i]\n",
        "\n",
        "    # corta a imagem para previsão se for muito grande para o colab. \n",
        "    # divide a imagem em patches regulares 2D \n",
        "    # Adapte o \"slicing\" ao seu tamanho de imagem e disponibilidade de memória no colab  \n",
        "    \n",
        "    sh = np.array(testimage.shape)\n",
        "    sh[0] = sh[0]//slicing\n",
        "    sh[1] = sh[1]//slicing\n",
        "    prediction = None\n",
        "\n",
        "    print(\"imagem processada\")\n",
        "\n",
        "    for i in range(0,slicing):  \n",
        "      for j in range(0,slicing):\n",
        "        patch = np.expand_dims(testimage[sh[0]*i:sh[0]*(i+1),sh[1]*j:sh[1]*(j+1),:],axis=0) \n",
        "        # compute prediction of the FCN\n",
        "        if prediction is None:\n",
        "          prediction = model.predict(patch)\n",
        "        else:\n",
        "          prediction = np.append(prediction,model.predict(patch), axis=0)\n",
        "      \n",
        "    # locate the predictions on the patches\n",
        "\n",
        "    shp = prediction.shape\n",
        "    results = []\n",
        "    lpatches = []\n",
        "    kml=simplekml.Kml()\n",
        "    count_positives = 0\n",
        "\n",
        "    with rasterio.open(path_to_predict_images+file) as map_layer:\n",
        "      for i in range(0,slicing):  \n",
        "        for j in range(0,slicing): \n",
        " \n",
        "          print('slice:',i,j)\n",
        "          pos = i*slicing+j\n",
        "          \n",
        "          pred_classes = tf.greater(prediction[pos,:,:,save],0.6) # considerando um limite de probabilidade de 60% para aceitar um resultado\n",
        "          shpc = tf.shape(pred_classes)\n",
        "\n",
        "          inds = tf.where(pred_classes==True)\n",
        "\n",
        "          # recalculando a posição para a dimensão original da imagem\n",
        "          \n",
        "          xloc = i*sh[0]+np.array(tf.gather(np.linspace(image_width/2.0,sh[0]-image_width/2.0,num=shpc[0]),inds[:,0]))\n",
        "          yloc = j*sh[1]+np.array(tf.gather(np.linspace(image_height/2.0,sh[1]-image_height/2.0,num=shpc[1]),inds[:,1]))\n",
        "          predloc = prediction[pos,inds[:,0],inds[:,1],save]\n",
        "\n",
        "          for k in range(0,len(xloc)):\n",
        "            pixels2coords = map_layer.xy(xloc[k] , yloc[k]) \n",
        "\n",
        "            r = np.ones(4)*-1      \n",
        "            \n",
        "            r[0] = pixels2coords[0]\n",
        "            r[1] = pixels2coords[1]\n",
        "            r[2] = predloc[k]\n",
        "\n",
        "            tag = labels[save]\n",
        "              \n",
        "            kml.newpoint(name=tag, coords=[(pixels2coords[0],pixels2coords[1])])\n",
        "            kmlFull.newpoint(name=tag, coords=[(pixels2coords[0],pixels2coords[1])])\n",
        "\n",
        "            results.append(r)\n",
        "            resultsFull.append(r)\n",
        "\n",
        "    # save prediction files to the results folder\n",
        "    np.savetxt(path_to_results + 'prediction_{}.csv'.format(file), results, delimiter=\",\")\n",
        "    kml.save(path_to_results + 'predictions_{}.kml'.format(file))  \n",
        "\n",
        "    countImages+=1\n",
        "\n",
        "    del testimage\n",
        "    del patch\n",
        "    del prediction\n",
        "    del results\n",
        "    del kml\n",
        "    gc.collect()\n",
        "\n",
        "  np.savetxt(path_to_results + 'prediction_{}.csv'.format(experiment_name), np.array(resultsFull), delimiter=\",\")\n",
        "  kmlFull.save(path_to_results + 'predictions_{}.kml'.format(experiment_name))  \n"
      ],
      "metadata": {
        "id": "T4BrW-WRbQ6x"
      },
      "execution_count": null,
      "outputs": []
    },
    {
      "cell_type": "markdown",
      "source": [
        "## Ajuste os diretórios"
      ],
      "metadata": {
        "id": "hinQYPLbAPYk"
      }
    },
    {
      "cell_type": "code",
      "source": [
        "path_to_results =   '/content/drive/MyDrive/TCU/curso sensoriamento remoto/Sensoriamento Remoto e Deep Learning/material alunos/minas/'\n",
        "path_to_predict_images = '/content/drive/MyDrive/DataForTailingDamDetection/Data/SentinelMinesDams/predict/'\n",
        "\n",
        "predict(model,char_labels,'minas',image_width,image_height,nmean,nmax,Nbands,path_to_predict_images,path_to_results,slicing=10)"
      ],
      "metadata": {
        "id": "qla53ZZg_EM3"
      },
      "execution_count": null,
      "outputs": []
    },
    {
      "cell_type": "markdown",
      "metadata": {
        "id": "ROODv-k5gnr8"
      },
      "source": [
        "## A previsão gera arquivos csv e kml com coordenadas dos pontos encontrados"
      ]
    }
  ]
}