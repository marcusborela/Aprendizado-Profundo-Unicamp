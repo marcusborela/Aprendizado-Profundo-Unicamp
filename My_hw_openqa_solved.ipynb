{
  "cells": [
    {
      "cell_type": "markdown",
      "metadata": {
        "id": "view-in-github",
        "colab_type": "text"
      },
      "source": [
        "<a href=\"https://colab.research.google.com/github/marcusborela/Aprendizado-Profundo-Unicamp/blob/main/My_hw_openqa_solved.ipynb\" target=\"_parent\"><img src=\"https://colab.research.google.com/assets/colab-badge.svg\" alt=\"Open In Colab\"/></a>"
      ]
    },
    {
      "cell_type": "markdown",
      "metadata": {
        "id": "G0qZfMf4Yreh"
      },
      "source": [
        "# Few-shot OpenQA with ColBERT retrieval"
      ]
    },
    {
      "cell_type": "code",
      "execution_count": 1,
      "metadata": {
        "id": "NqUPAnWuYrej"
      },
      "outputs": [],
      "source": [
        "__author__ = \"Christopher Potts and Omar Khattab\"\n",
        "__version__ = \"CS224u, Stanford, Spring 2022\"\n",
        "\n",
        "# fonte: https://github.com/cgpotts/cs224u/blob/master/hw_openqa.ipynb"
      ]
    },
    {
      "cell_type": "markdown",
      "metadata": {
        "id": "R6TRA3gNYrek"
      },
      "source": [
        "## Contents\n",
        "\n",
        "1. [Contents](#Contents)\n",
        "1. [Visão geral](#Overview)\n",
        "1. [Set-up](#Set-up)\n",
        "    1. [Google Colab set-up](#Google-Colab-set-up)\n",
        "    1. [General set-up](#General-set-up)\n",
        "    1. [Language model set-up](#Language-model-set-up)\n",
        "    1. [ColBERT set-up](#ColBERT-set-up)\n",
        "1. [Language models](#Language-models)\n",
        "    1. [Answerhood](#Answerhood)\n",
        "    1. [Eleuther models from Hugging Face](#Eleuther-models-from-Hugging-Face)\n",
        "    1. [GPT-3](#GPT-3)\n",
        "1. [SQuAD](#SQuAD)\n",
        "    1. [SQuAD dev](#SQuAD-dev)\n",
        "    1. [SQuAD dev sample](#SQuAD-dev-sample)\n",
        "    1. [SQuAD train](#SQuAD-train)\n",
        "1. [Evaluation](#Evaluation)\n",
        "1. [Open QA with no context](#Open-QA-with-no-context)\n",
        "1. [Few-shot QA](#Few-shot-QA)\n",
        "1. [ColBERT](#ColBERT)\n",
        "    1. [ColBERT parameters](#ColBERT-parameters)\n",
        "    1. [ColBERT index](#ColBERT-index)\n",
        "    1. [Search](#Search)\n",
        "    1. [Retrieval evaluation](#Retrieval-evaluation)\n",
        "1. [Zero-shot OpenQA with ColBERT retrieval](#Zero-shot-OpenQA-with-ColBERT-retrieval)\n",
        "1. [Homework questions](#Homework-questions)\n",
        "    1. [Few-shot OpenQA with no context [2 points]](#Few-shot-OpenQA-with-no-context-[2-points])\n",
        "    1. [Few-shot OpenQA [2 points]](#Few-shot-OpenQA-[2-points])\n",
        "    1. [Answer scoring [2 points]](#Answer-scoring-[2-points])\n",
        "    1. [Your original system [3 points]](#Your-original-system-[3-points])\n",
        "1. [Bake-off [1 point]](#Bake-off-[1-point])"
      ]
    },
    {
      "cell_type": "markdown",
      "metadata": {
        "id": "MXqIujoUYrek"
      },
      "source": [
        "## Overview\n",
        "\n",
        "The goal of this homework is to explore few-shot (or, prompt-based) learning in the context of open-domain question answering. This is an exciting area that brings together a number of recent task ideas and modeling innovations.\n",
        "\n",
        "Our core task is __open-domain question answering (OpenQA)__. In this task, all that is given by the dataset is a question text, and the task is to answer that question. By contrast, in modern QA tasks, the dataset provides a text and a gold passage, with a guarantee that the answer will be a substring of the passage. \n",
        "\n",
        "OpenQA is substantially harder than standard QA. The usual strategy is to use a _retriever_ to find passages in a large collection of texts and train a _reader_ to find answers in those passages. This means we have no guarantee that the retrieved passage will contain the answer we need. If we don't retrieve a passage containing the answer, our reader has no hope of succeeding. Although this is challenging, it is much more realistic and widely applicable than standard QA. After all, with the right retriever, an OpenQA system could be deployed over the entire Web.\n",
        "\n",
        "The task posed by this homework is harder even than OpenQA. We are calling this task __few-shot OpenQA__. The defining feature of this task is that the reader is simply a general purpose autoregressive language model. It accepts string inputs (prompts) and produces text in response. It is not trained to answer questions per se, and nothing about its structure ensures that it will respond with a substring of the prompt corresponding to anything like an answer.\n",
        "\n",
        "__Few-shot QA__ (but not OpenQA!) is explored in the famous GPT-3 paper ([Brown et al. 2020](https://arxiv.org/abs/2005.14165)). The authors are able to get traction on the problem using GPT-3, an incredible finding. Our task here – __few-shot OpenQA__ – pushes this even further by retrieving passages to use in the prompt rather than assuming that the gold passage can be used in the prompt. If we can make this work, then it should be a major step towards flexibly and easily deploying QA technologies in new domains.\n",
        "\n",
        "In summary:\n",
        "\n",
        "| Task             | Passage given | Task-specific reader training |Task-specific retriever training  | \n",
        "|-----------------:|:-------------:|:-----------------------------:|:--------------------------------:|\n",
        "| QA               | yes           | yes                           | n/a                              |\n",
        "| OpenQA           | no            | yes                           | maybe                            |\n",
        "| Few-shot QA      | yes           | no                            | n/a                              |\n",
        "| Few-shot OpenQA  | no            | no                            | maybe                            | \n",
        "\n",
        "Just to repeat: your mission (should you choose to accept it!) is to explore the final line in this table. The core notebook and assignment don't address the issue of training the retriever in a task-specific way, but we've given some pointers on this in the context of [the original system question at the bottom of this notebook](#Your-original-system-[3-points]).\n",
        "\n",
        "As usual, this notebook sets up the task and provides starter code. We proceed through a series of approaches:\n",
        "\n",
        "* _Open QA with no context_: the prompt consists of the question, and we just see what comes back. This is not particularly fair to the system since it doesn't unambiguously convey what we want it to do, but it's a start.\n",
        "\n",
        "* _Few-shot QA_: the prompt contains one or more examples formatted so as to indirectly convey what we want the system to do, and it uses the gold passage associated with the example. This is the approach of the GPT-3 paper. It works only for datasets with gold passages.\n",
        "\n",
        "* _Open QA with ColBERT retrieval_: This is roughly as in the previous case, but now we presume no access to a gold passage for our example. Rather, we retrieve a passage from a large corpus using the neural information retrieval model ColBERT.\n",
        "\n",
        "The above examples are followed by some assignment questions aimed at helping you to think creatively about the problem. These problems improve on the above approaches in various ways.\n",
        "\n",
        "All of this culminates in an original system question and some code and unlabeled data (here, just a list of questions) for the bake-off.\n",
        "\n",
        "It is a requirement of the bake-off that a pure autoregressive model be used. In particular, trained QA systems cannot be used at all. See the original system question at the bottom of this message for the full list of allowed models.\n",
        "\n",
        "Note: the models we are working with here are _big_. This poses a challenge that is increasingly common in NLP: you have to pay one way or another. You can pay to use the GPT-3 API, or you can pay to use an Eleuther model on a heavy-duty cluster computer, or you can pay with time by using an Eleuther model on a more modest computer. If none of these options is palatable, you might consider instead doing the [color reference assignment](hw_colors.ipynb)!"
      ]
    },
    {
      "cell_type": "markdown",
      "metadata": {
        "id": "dKB9zXRBYrel"
      },
      "source": [
        "## Set-up"
      ]
    },
    {
      "cell_type": "markdown",
      "metadata": {
        "id": "1JwiISlVYrel"
      },
      "source": [
        "### Google Colab set-up"
      ]
    },
    {
      "cell_type": "markdown",
      "metadata": {
        "id": "lbnxdvg7Yrem"
      },
      "source": [
        "We have sought to make this notebook self-contained so that it can easily be run as a Google Colab. If you are running it in Colab, make sure to select a GPU instance. The notebook will run on a CPU-only instance or CPU-only machine, but it should be much faster with GPU support.\n",
        "\n",
        "The following are all installed as part of course set-up, but you'll want to run this cell if you are working in a Colab:"
      ]
    },
    {
      "cell_type": "code",
      "source": [
        "!pip install transformers\n"
      ],
      "metadata": {
        "colab": {
          "base_uri": "https://localhost:8080/"
        },
        "id": "EJJnzz_cnCf5",
        "outputId": "9414eac5-8b98-4ae0-ca2e-9ba9dedadc89"
      },
      "execution_count": 2,
      "outputs": [
        {
          "output_type": "stream",
          "name": "stdout",
          "text": [
            "Looking in indexes: https://pypi.org/simple, https://us-python.pkg.dev/colab-wheels/public/simple/\n",
            "Collecting transformers\n",
            "  Downloading transformers-4.19.2-py3-none-any.whl (4.2 MB)\n",
            "\u001b[K     |████████████████████████████████| 4.2 MB 4.3 MB/s \n",
            "\u001b[?25hCollecting pyyaml>=5.1\n",
            "  Downloading PyYAML-6.0-cp37-cp37m-manylinux_2_5_x86_64.manylinux1_x86_64.manylinux_2_12_x86_64.manylinux2010_x86_64.whl (596 kB)\n",
            "\u001b[K     |████████████████████████████████| 596 kB 46.1 MB/s \n",
            "\u001b[?25hRequirement already satisfied: filelock in /usr/local/lib/python3.7/dist-packages (from transformers) (3.7.0)\n",
            "Requirement already satisfied: regex!=2019.12.17 in /usr/local/lib/python3.7/dist-packages (from transformers) (2019.12.20)\n",
            "Requirement already satisfied: numpy>=1.17 in /usr/local/lib/python3.7/dist-packages (from transformers) (1.21.6)\n",
            "Collecting tokenizers!=0.11.3,<0.13,>=0.11.1\n",
            "  Downloading tokenizers-0.12.1-cp37-cp37m-manylinux_2_12_x86_64.manylinux2010_x86_64.whl (6.6 MB)\n",
            "\u001b[K     |████████████████████████████████| 6.6 MB 81.2 MB/s \n",
            "\u001b[?25hRequirement already satisfied: tqdm>=4.27 in /usr/local/lib/python3.7/dist-packages (from transformers) (4.64.0)\n",
            "Collecting huggingface-hub<1.0,>=0.1.0\n",
            "  Downloading huggingface_hub-0.7.0-py3-none-any.whl (86 kB)\n",
            "\u001b[K     |████████████████████████████████| 86 kB 5.3 MB/s \n",
            "\u001b[?25hRequirement already satisfied: requests in /usr/local/lib/python3.7/dist-packages (from transformers) (2.23.0)\n",
            "Requirement already satisfied: packaging>=20.0 in /usr/local/lib/python3.7/dist-packages (from transformers) (21.3)\n",
            "Requirement already satisfied: importlib-metadata in /usr/local/lib/python3.7/dist-packages (from transformers) (4.11.4)\n",
            "Requirement already satisfied: typing-extensions>=3.7.4.3 in /usr/local/lib/python3.7/dist-packages (from huggingface-hub<1.0,>=0.1.0->transformers) (4.2.0)\n",
            "Requirement already satisfied: pyparsing!=3.0.5,>=2.0.2 in /usr/local/lib/python3.7/dist-packages (from packaging>=20.0->transformers) (3.0.9)\n",
            "Requirement already satisfied: zipp>=0.5 in /usr/local/lib/python3.7/dist-packages (from importlib-metadata->transformers) (3.8.0)\n",
            "Requirement already satisfied: idna<3,>=2.5 in /usr/local/lib/python3.7/dist-packages (from requests->transformers) (2.10)\n",
            "Requirement already satisfied: chardet<4,>=3.0.2 in /usr/local/lib/python3.7/dist-packages (from requests->transformers) (3.0.4)\n",
            "Requirement already satisfied: urllib3!=1.25.0,!=1.25.1,<1.26,>=1.21.1 in /usr/local/lib/python3.7/dist-packages (from requests->transformers) (1.24.3)\n",
            "Requirement already satisfied: certifi>=2017.4.17 in /usr/local/lib/python3.7/dist-packages (from requests->transformers) (2022.5.18.1)\n",
            "Installing collected packages: pyyaml, tokenizers, huggingface-hub, transformers\n",
            "  Attempting uninstall: pyyaml\n",
            "    Found existing installation: PyYAML 3.13\n",
            "    Uninstalling PyYAML-3.13:\n",
            "      Successfully uninstalled PyYAML-3.13\n",
            "Successfully installed huggingface-hub-0.7.0 pyyaml-6.0 tokenizers-0.12.1 transformers-4.19.2\n"
          ]
        }
      ]
    },
    {
      "cell_type": "code",
      "source": [
        "!pip install datasets"
      ],
      "metadata": {
        "colab": {
          "base_uri": "https://localhost:8080/"
        },
        "id": "_Xq9FL8BnLQX",
        "outputId": "93f48695-4047-4c37-840d-1330aa955698"
      },
      "execution_count": 3,
      "outputs": [
        {
          "output_type": "stream",
          "name": "stdout",
          "text": [
            "Looking in indexes: https://pypi.org/simple, https://us-python.pkg.dev/colab-wheels/public/simple/\n",
            "Collecting datasets\n",
            "  Downloading datasets-2.2.2-py3-none-any.whl (346 kB)\n",
            "\u001b[K     |████████████████████████████████| 346 kB 4.2 MB/s \n",
            "\u001b[?25hRequirement already satisfied: pyarrow>=6.0.0 in /usr/local/lib/python3.7/dist-packages (from datasets) (6.0.1)\n",
            "Collecting fsspec[http]>=2021.05.0\n",
            "  Downloading fsspec-2022.5.0-py3-none-any.whl (140 kB)\n",
            "\u001b[K     |████████████████████████████████| 140 kB 71.5 MB/s \n",
            "\u001b[?25hRequirement already satisfied: importlib-metadata in /usr/local/lib/python3.7/dist-packages (from datasets) (4.11.4)\n",
            "Requirement already satisfied: packaging in /usr/local/lib/python3.7/dist-packages (from datasets) (21.3)\n",
            "Collecting aiohttp\n",
            "  Downloading aiohttp-3.8.1-cp37-cp37m-manylinux_2_5_x86_64.manylinux1_x86_64.manylinux_2_12_x86_64.manylinux2010_x86_64.whl (1.1 MB)\n",
            "\u001b[K     |████████████████████████████████| 1.1 MB 79.6 MB/s \n",
            "\u001b[?25hRequirement already satisfied: huggingface-hub<1.0.0,>=0.1.0 in /usr/local/lib/python3.7/dist-packages (from datasets) (0.7.0)\n",
            "Requirement already satisfied: requests>=2.19.0 in /usr/local/lib/python3.7/dist-packages (from datasets) (2.23.0)\n",
            "Requirement already satisfied: pandas in /usr/local/lib/python3.7/dist-packages (from datasets) (1.3.5)\n",
            "Requirement already satisfied: multiprocess in /usr/local/lib/python3.7/dist-packages (from datasets) (0.70.13)\n",
            "Requirement already satisfied: tqdm>=4.62.1 in /usr/local/lib/python3.7/dist-packages (from datasets) (4.64.0)\n",
            "Collecting dill<0.3.5\n",
            "  Downloading dill-0.3.4-py2.py3-none-any.whl (86 kB)\n",
            "\u001b[K     |████████████████████████████████| 86 kB 6.1 MB/s \n",
            "\u001b[?25hRequirement already satisfied: numpy>=1.17 in /usr/local/lib/python3.7/dist-packages (from datasets) (1.21.6)\n",
            "Collecting xxhash\n",
            "  Downloading xxhash-3.0.0-cp37-cp37m-manylinux_2_17_x86_64.manylinux2014_x86_64.whl (212 kB)\n",
            "\u001b[K     |████████████████████████████████| 212 kB 73.6 MB/s \n",
            "\u001b[?25hCollecting responses<0.19\n",
            "  Downloading responses-0.18.0-py3-none-any.whl (38 kB)\n",
            "Requirement already satisfied: filelock in /usr/local/lib/python3.7/dist-packages (from huggingface-hub<1.0.0,>=0.1.0->datasets) (3.7.0)\n",
            "Requirement already satisfied: pyyaml>=5.1 in /usr/local/lib/python3.7/dist-packages (from huggingface-hub<1.0.0,>=0.1.0->datasets) (6.0)\n",
            "Requirement already satisfied: typing-extensions>=3.7.4.3 in /usr/local/lib/python3.7/dist-packages (from huggingface-hub<1.0.0,>=0.1.0->datasets) (4.2.0)\n",
            "Requirement already satisfied: pyparsing!=3.0.5,>=2.0.2 in /usr/local/lib/python3.7/dist-packages (from packaging->datasets) (3.0.9)\n",
            "Requirement already satisfied: idna<3,>=2.5 in /usr/local/lib/python3.7/dist-packages (from requests>=2.19.0->datasets) (2.10)\n",
            "Requirement already satisfied: chardet<4,>=3.0.2 in /usr/local/lib/python3.7/dist-packages (from requests>=2.19.0->datasets) (3.0.4)\n",
            "Requirement already satisfied: urllib3!=1.25.0,!=1.25.1,<1.26,>=1.21.1 in /usr/local/lib/python3.7/dist-packages (from requests>=2.19.0->datasets) (1.24.3)\n",
            "Requirement already satisfied: certifi>=2017.4.17 in /usr/local/lib/python3.7/dist-packages (from requests>=2.19.0->datasets) (2022.5.18.1)\n",
            "Collecting urllib3!=1.25.0,!=1.25.1,<1.26,>=1.21.1\n",
            "  Downloading urllib3-1.25.11-py2.py3-none-any.whl (127 kB)\n",
            "\u001b[K     |████████████████████████████████| 127 kB 53.5 MB/s \n",
            "\u001b[?25hCollecting aiosignal>=1.1.2\n",
            "  Downloading aiosignal-1.2.0-py3-none-any.whl (8.2 kB)\n",
            "Requirement already satisfied: attrs>=17.3.0 in /usr/local/lib/python3.7/dist-packages (from aiohttp->datasets) (21.4.0)\n",
            "Collecting yarl<2.0,>=1.0\n",
            "  Downloading yarl-1.7.2-cp37-cp37m-manylinux_2_5_x86_64.manylinux1_x86_64.manylinux_2_12_x86_64.manylinux2010_x86_64.whl (271 kB)\n",
            "\u001b[K     |████████████████████████████████| 271 kB 50.2 MB/s \n",
            "\u001b[?25hCollecting async-timeout<5.0,>=4.0.0a3\n",
            "  Downloading async_timeout-4.0.2-py3-none-any.whl (5.8 kB)\n",
            "Collecting multidict<7.0,>=4.5\n",
            "  Downloading multidict-6.0.2-cp37-cp37m-manylinux_2_17_x86_64.manylinux2014_x86_64.whl (94 kB)\n",
            "\u001b[K     |████████████████████████████████| 94 kB 2.6 MB/s \n",
            "\u001b[?25hCollecting asynctest==0.13.0\n",
            "  Downloading asynctest-0.13.0-py3-none-any.whl (26 kB)\n",
            "Requirement already satisfied: charset-normalizer<3.0,>=2.0 in /usr/local/lib/python3.7/dist-packages (from aiohttp->datasets) (2.0.12)\n",
            "Collecting frozenlist>=1.1.1\n",
            "  Downloading frozenlist-1.3.0-cp37-cp37m-manylinux_2_5_x86_64.manylinux1_x86_64.manylinux_2_17_x86_64.manylinux2014_x86_64.whl (144 kB)\n",
            "\u001b[K     |████████████████████████████████| 144 kB 80.1 MB/s \n",
            "\u001b[?25hRequirement already satisfied: zipp>=0.5 in /usr/local/lib/python3.7/dist-packages (from importlib-metadata->datasets) (3.8.0)\n",
            "Collecting multiprocess\n",
            "  Downloading multiprocess-0.70.12.2-py37-none-any.whl (112 kB)\n",
            "\u001b[K     |████████████████████████████████| 112 kB 52.8 MB/s \n",
            "\u001b[?25hRequirement already satisfied: pytz>=2017.3 in /usr/local/lib/python3.7/dist-packages (from pandas->datasets) (2022.1)\n",
            "Requirement already satisfied: python-dateutil>=2.7.3 in /usr/local/lib/python3.7/dist-packages (from pandas->datasets) (2.8.2)\n",
            "Requirement already satisfied: six>=1.5 in /usr/local/lib/python3.7/dist-packages (from python-dateutil>=2.7.3->pandas->datasets) (1.15.0)\n",
            "Installing collected packages: multidict, frozenlist, yarl, urllib3, asynctest, async-timeout, aiosignal, fsspec, dill, aiohttp, xxhash, responses, multiprocess, datasets\n",
            "  Attempting uninstall: urllib3\n",
            "    Found existing installation: urllib3 1.24.3\n",
            "    Uninstalling urllib3-1.24.3:\n",
            "      Successfully uninstalled urllib3-1.24.3\n",
            "  Attempting uninstall: dill\n",
            "    Found existing installation: dill 0.3.5.1\n",
            "    Uninstalling dill-0.3.5.1:\n",
            "      Successfully uninstalled dill-0.3.5.1\n",
            "  Attempting uninstall: multiprocess\n",
            "    Found existing installation: multiprocess 0.70.13\n",
            "    Uninstalling multiprocess-0.70.13:\n",
            "      Successfully uninstalled multiprocess-0.70.13\n",
            "\u001b[31mERROR: pip's dependency resolver does not currently take into account all the packages that are installed. This behaviour is the source of the following dependency conflicts.\n",
            "datascience 0.10.6 requires folium==0.2.1, but you have folium 0.8.3 which is incompatible.\u001b[0m\n",
            "Successfully installed aiohttp-3.8.1 aiosignal-1.2.0 async-timeout-4.0.2 asynctest-0.13.0 datasets-2.2.2 dill-0.3.4 frozenlist-1.3.0 fsspec-2022.5.0 multidict-6.0.2 multiprocess-0.70.12.2 responses-0.18.0 urllib3-1.25.11 xxhash-3.0.0 yarl-1.7.2\n"
          ]
        }
      ]
    },
    {
      "cell_type": "code",
      "source": [
        "!pip install ujson"
      ],
      "metadata": {
        "colab": {
          "base_uri": "https://localhost:8080/"
        },
        "id": "Ar9ss0KGp1gs",
        "outputId": "bc1b2931-aeeb-4618-fb88-a76cd88f0efd"
      },
      "execution_count": 4,
      "outputs": [
        {
          "output_type": "stream",
          "name": "stdout",
          "text": [
            "Looking in indexes: https://pypi.org/simple, https://us-python.pkg.dev/colab-wheels/public/simple/\n",
            "Collecting ujson\n",
            "  Downloading ujson-5.3.0-cp37-cp37m-manylinux_2_17_x86_64.manylinux2014_x86_64.whl (45 kB)\n",
            "\u001b[K     |████████████████████████████████| 45 kB 1.9 MB/s \n",
            "\u001b[?25hInstalling collected packages: ujson\n",
            "Successfully installed ujson-5.3.0\n"
          ]
        }
      ]
    },
    {
      "cell_type": "code",
      "source": [
        "!pip install gitpython"
      ],
      "metadata": {
        "colab": {
          "base_uri": "https://localhost:8080/"
        },
        "id": "gxrj2Tsatb6R",
        "outputId": "680ac905-6482-488d-c51c-9be4bcc284b6"
      },
      "execution_count": 5,
      "outputs": [
        {
          "output_type": "stream",
          "name": "stdout",
          "text": [
            "Looking in indexes: https://pypi.org/simple, https://us-python.pkg.dev/colab-wheels/public/simple/\n",
            "Collecting gitpython\n",
            "  Downloading GitPython-3.1.27-py3-none-any.whl (181 kB)\n",
            "\u001b[K     |████████████████████████████████| 181 kB 4.3 MB/s \n",
            "\u001b[?25hRequirement already satisfied: typing-extensions>=3.7.4.3 in /usr/local/lib/python3.7/dist-packages (from gitpython) (4.2.0)\n",
            "Collecting gitdb<5,>=4.0.1\n",
            "  Downloading gitdb-4.0.9-py3-none-any.whl (63 kB)\n",
            "\u001b[K     |████████████████████████████████| 63 kB 1.6 MB/s \n",
            "\u001b[?25hCollecting smmap<6,>=3.0.1\n",
            "  Downloading smmap-5.0.0-py3-none-any.whl (24 kB)\n",
            "Installing collected packages: smmap, gitdb, gitpython\n",
            "Successfully installed gitdb-4.0.9 gitpython-3.1.27 smmap-5.0.0\n"
          ]
        }
      ]
    },
    {
      "cell_type": "markdown",
      "source": [
        "Se necessário, instalar:\n",
        "\n",
        "* !pip install torch==1.10.0\n",
        "* !pip install spacy\n",
        "* "
      ],
      "metadata": {
        "id": "P2TXnN9HYrem"
      }
    },
    {
      "cell_type": "markdown",
      "metadata": {
        "id": "hlk-FsfZYrem"
      },
      "source": [
        "If you are indeed on a GPU machine, then run the following to ensure complete CUDA support:"
      ]
    },
    {
      "cell_type": "code",
      "execution_count": 6,
      "metadata": {
        "id": "Fl5wBNCxYrem",
        "colab": {
          "base_uri": "https://localhost:8080/"
        },
        "outputId": "1695157e-7f9c-4781-a147-d043a159c2dd"
      },
      "outputs": [
        {
          "output_type": "stream",
          "name": "stdout",
          "text": [
            "Looking in indexes: https://pypi.org/simple, https://us-python.pkg.dev/colab-wheels/public/simple/\n",
            "Requirement already satisfied: cupy-cuda111 in /usr/local/lib/python3.7/dist-packages (9.4.0)\n",
            "Requirement already satisfied: numpy<1.24,>=1.17 in /usr/local/lib/python3.7/dist-packages (from cupy-cuda111) (1.21.6)\n",
            "Requirement already satisfied: fastrlock>=0.5 in /usr/local/lib/python3.7/dist-packages (from cupy-cuda111) (0.8)\n"
          ]
        }
      ],
      "source": [
        "import torch\n",
        "\n",
        "if torch.cuda.is_available():\n",
        "    !pip install cupy-cuda111"
      ]
    },
    {
      "cell_type": "markdown",
      "metadata": {
        "id": "Ej8kZeh6Yren"
      },
      "source": [
        "If the above doesn't work, it might be because you don't have CUDA version 11.1. Run "
      ]
    },
    {
      "cell_type": "code",
      "execution_count": 7,
      "metadata": {
        "id": "PojRXsuPYren",
        "colab": {
          "base_uri": "https://localhost:8080/"
        },
        "outputId": "6ce25b73-3eb3-4474-c602-50eb74eb0d89"
      },
      "outputs": [
        {
          "output_type": "stream",
          "name": "stdout",
          "text": [
            "nvcc: NVIDIA (R) Cuda compiler driver\n",
            "Copyright (c) 2005-2020 NVIDIA Corporation\n",
            "Built on Mon_Oct_12_20:09:46_PDT_2020\n",
            "Cuda compilation tools, release 11.1, V11.1.105\n",
            "Build cuda_11.1.TC455_06.29190527_0\n"
          ]
        }
      ],
      "source": [
        "import torch\n",
        "\n",
        "if torch.cuda.is_available():\n",
        "    !nvcc --version"
      ]
    },
    {
      "cell_type": "markdown",
      "metadata": {
        "id": "VfZEOAL2Yren"
      },
      "source": [
        "and then install the corresponding `cupy-cuda`. See [this table](https://docs.cupy.dev/en/stable/install.html#installing-cupy-from-pypi) for details on which one to install for different scenarios."
      ]
    },
    {
      "cell_type": "markdown",
      "metadata": {
        "id": "sFM54iO7Yren"
      },
      "source": [
        "### General set-up"
      ]
    },
    {
      "cell_type": "code",
      "execution_count": 8,
      "metadata": {
        "id": "hL9AAtTzYren"
      },
      "outputs": [],
      "source": [
        "import collections\n",
        "from contextlib import nullcontext\n",
        "from collections import namedtuple\n",
        "from datasets import load_dataset\n",
        "import datasets\n",
        "import json\n",
        "import numpy as np\n",
        "import random\n",
        "import re \n",
        "import string\n",
        "import torch\n",
        "from typing import List\n",
        "from getpass import getpass"
      ]
    },
    {
      "cell_type": "markdown",
      "metadata": {
        "id": "vNXANb8fYreo"
      },
      "source": [
        "Try to set all the seeds for reproducibility (won't extend to GPT-3):"
      ]
    },
    {
      "cell_type": "code",
      "execution_count": 9,
      "metadata": {
        "id": "MIvsYoIpYreo"
      },
      "outputs": [],
      "source": [
        "seed = 1\n",
        "\n",
        "np.random.seed(seed)\n",
        "random.seed(seed)\n",
        "torch.manual_seed(seed)\n",
        "torch.backends.cudnn.deterministic = True\n",
        "torch.backends.cudnn.benchmark = False"
      ]
    },
    {
      "cell_type": "markdown",
      "metadata": {
        "id": "oKp57bQZYrep"
      },
      "source": [
        "The following should install the version of [Faiss](https://github.com/facebookresearch/faiss) that will cooperate with your set-up:"
      ]
    },
    {
      "cell_type": "code",
      "execution_count": 10,
      "metadata": {
        "id": "aGUj1O9wYrep",
        "colab": {
          "base_uri": "https://localhost:8080/"
        },
        "outputId": "7849a94f-52fa-4b52-fa36-a491dc03cd39"
      },
      "outputs": [
        {
          "output_type": "stream",
          "name": "stdout",
          "text": [
            "Looking in indexes: https://pypi.org/simple, https://us-python.pkg.dev/colab-wheels/public/simple/\n",
            "Collecting faiss-gpu==1.7.0\n",
            "  Downloading faiss_gpu-1.7.0-cp37-cp37m-manylinux2014_x86_64.whl (89.4 MB)\n",
            "\u001b[K     |████████████████████████████████| 89.4 MB 168 kB/s \n",
            "\u001b[?25hInstalling collected packages: faiss-gpu\n",
            "Successfully installed faiss-gpu-1.7.0\n"
          ]
        }
      ],
      "source": [
        "import torch\n",
        "\n",
        "if torch.cuda.is_available():\n",
        "    !pip install faiss-gpu==1.7.0\n",
        "else:\n",
        "    !pip install faiss-cpu==1.7.0"
      ]
    },
    {
      "cell_type": "markdown",
      "metadata": {
        "id": "-mp1C-oyYreq"
      },
      "source": [
        "### Language model set-up"
      ]
    },
    {
      "cell_type": "markdown",
      "metadata": {
        "id": "pEUY5P8GYreq"
      },
      "source": [
        "To use the GPT-3 API, install the OpenAI library:"
      ]
    },
    {
      "cell_type": "code",
      "execution_count": 11,
      "metadata": {
        "id": "4FclKZiuYreq",
        "colab": {
          "base_uri": "https://localhost:8080/",
          "height": 661
        },
        "outputId": "f89d70de-2ba7-49b9-b364-ef9f9ccad615"
      },
      "outputs": [
        {
          "output_type": "stream",
          "name": "stdout",
          "text": [
            "Looking in indexes: https://pypi.org/simple, https://us-python.pkg.dev/colab-wheels/public/simple/\n",
            "Collecting openai\n",
            "  Downloading openai-0.19.0.tar.gz (42 kB)\n",
            "\u001b[K     |████████████████████████████████| 42 kB 916 kB/s \n",
            "\u001b[?25h  Installing build dependencies ... \u001b[?25l\u001b[?25hdone\n",
            "  Getting requirements to build wheel ... \u001b[?25l\u001b[?25hdone\n",
            "    Preparing wheel metadata ... \u001b[?25l\u001b[?25hdone\n",
            "Collecting pandas-stubs>=1.1.0.11\n",
            "  Downloading pandas_stubs-1.2.0.61-py3-none-any.whl (163 kB)\n",
            "\u001b[K     |████████████████████████████████| 163 kB 7.0 MB/s \n",
            "\u001b[?25hRequirement already satisfied: pandas>=1.2.3 in /usr/local/lib/python3.7/dist-packages (from openai) (1.3.5)\n",
            "Requirement already satisfied: openpyxl>=3.0.7 in /usr/local/lib/python3.7/dist-packages (from openai) (3.0.10)\n",
            "Requirement already satisfied: tqdm in /usr/local/lib/python3.7/dist-packages (from openai) (4.64.0)\n",
            "Requirement already satisfied: requests>=2.20 in /usr/local/lib/python3.7/dist-packages (from openai) (2.23.0)\n",
            "Requirement already satisfied: et-xmlfile in /usr/local/lib/python3.7/dist-packages (from openpyxl>=3.0.7->openai) (1.1.0)\n",
            "Requirement already satisfied: numpy>=1.17.3 in /usr/local/lib/python3.7/dist-packages (from pandas>=1.2.3->openai) (1.21.6)\n",
            "Requirement already satisfied: pytz>=2017.3 in /usr/local/lib/python3.7/dist-packages (from pandas>=1.2.3->openai) (2022.1)\n",
            "Requirement already satisfied: python-dateutil>=2.7.3 in /usr/local/lib/python3.7/dist-packages (from pandas>=1.2.3->openai) (2.8.2)\n",
            "Requirement already satisfied: typing-extensions>=3.7.4.3 in /usr/local/lib/python3.7/dist-packages (from pandas-stubs>=1.1.0.11->openai) (4.2.0)\n",
            "Requirement already satisfied: six>=1.5 in /usr/local/lib/python3.7/dist-packages (from python-dateutil>=2.7.3->pandas>=1.2.3->openai) (1.15.0)\n",
            "Requirement already satisfied: idna<3,>=2.5 in /usr/local/lib/python3.7/dist-packages (from requests>=2.20->openai) (2.10)\n",
            "Requirement already satisfied: urllib3!=1.25.0,!=1.25.1,<1.26,>=1.21.1 in /usr/local/lib/python3.7/dist-packages (from requests>=2.20->openai) (1.25.11)\n",
            "Requirement already satisfied: certifi>=2017.4.17 in /usr/local/lib/python3.7/dist-packages (from requests>=2.20->openai) (2022.5.18.1)\n",
            "Requirement already satisfied: chardet<4,>=3.0.2 in /usr/local/lib/python3.7/dist-packages (from requests>=2.20->openai) (3.0.4)\n",
            "Building wheels for collected packages: openai\n",
            "  Building wheel for openai (PEP 517) ... \u001b[?25l\u001b[?25hdone\n",
            "  Created wheel for openai: filename=openai-0.19.0-py3-none-any.whl size=53535 sha256=80b0d0eea1f99a34ee34e62aa3883a6dc4be052023908c06e72464260a829ffc\n",
            "  Stored in directory: /root/.cache/pip/wheels/94/b5/c0/928013bd6418b23b9c5d89fb24cdeb1faae899c11377d69609\n",
            "Successfully built openai\n",
            "Installing collected packages: pandas-stubs, openai\n",
            "Successfully installed openai-0.19.0 pandas-stubs-1.2.0.61\n"
          ]
        },
        {
          "output_type": "display_data",
          "data": {
            "application/vnd.colab-display-data+json": {
              "pip_warning": {
                "packages": [
                  "pandas"
                ]
              }
            }
          },
          "metadata": {}
        }
      ],
      "source": [
        "!pip install openai"
      ]
    },
    {
      "cell_type": "code",
      "execution_count": 12,
      "metadata": {
        "id": "5cbE328hYrer"
      },
      "outputs": [],
      "source": [
        "import openai\n",
        "import transformers\n",
        "from transformers import AutoTokenizer, AutoModelForCausalLM"
      ]
    },
    {
      "cell_type": "code",
      "execution_count": 13,
      "metadata": {
        "id": "TKQEIYGDYrer"
      },
      "outputs": [],
      "source": [
        "#datasets.utils.logging.set_verbosity_error()\n",
        "#transformers.utils.logging.set_verbosity_error()\n",
        "datasets.utils.logging.set_verbosity_warning()\n",
        "transformers.utils.logging.set_verbosity_info()"
      ]
    },
    {
      "cell_type": "markdown",
      "metadata": {
        "id": "axUPfnNmYrer"
      },
      "source": [
        "### ColBERT set-up\n",
        "\n",
        "Our retriever will be a ColbERT-based model ([Khattab and Zaharia 2020](https://arxiv.org/abs/2004.12832)). ColBERT is a powerful neural information retrieval (Neural IR) model that has proven extremely successful in retrieval applications and as a component in a variety of different systems for OpenQA and other knowledge-intensive tasks (e.g., [Khattab et al. 2021a](https://aclanthology.org/2021.tacl-1.55/); [Khattab et al. 2021b](https://proceedings.neurips.cc/paper/2021/hash/e8b1cbd05f6e6a358a81dee52493dd06-Abstract.html); [Santhanam, Khattab, et al. 2021](https://arxiv.org/abs/2112.01488)).\n",
        "\n",
        "The following will clone the ColBERTv2 repository for use in this notebook:"
      ]
    },
    {
      "cell_type": "code",
      "execution_count": 14,
      "metadata": {
        "id": "L5wP933JYrer",
        "colab": {
          "base_uri": "https://localhost:8080/"
        },
        "outputId": "4b312ce2-f393-41c9-c865-8005e2b913e2"
      },
      "outputs": [
        {
          "output_type": "stream",
          "name": "stdout",
          "text": [
            "Cloning into 'ColBERT'...\n",
            "remote: Enumerating objects: 772, done.\u001b[K\n",
            "remote: Counting objects: 100% (395/395), done.\u001b[K\n",
            "remote: Compressing objects: 100% (146/146), done.\u001b[K\n",
            "remote: Total 772 (delta 279), reused 324 (delta 249), pack-reused 377\u001b[K\n",
            "Receiving objects: 100% (772/772), 306.28 KiB | 2.55 MiB/s, done.\n",
            "Resolving deltas: 100% (425/425), done.\n"
          ]
        }
      ],
      "source": [
        "!git clone -b cpu_inference https://github.com/stanford-futuredata/ColBERT.git"
      ]
    },
    {
      "cell_type": "code",
      "execution_count": 15,
      "metadata": {
        "id": "6LWz4f-3Yres",
        "colab": {
          "base_uri": "https://localhost:8080/"
        },
        "outputId": "868bf102-6128-43f0-9092-6bb737f7a01b"
      },
      "outputs": [
        {
          "output_type": "stream",
          "name": "stdout",
          "text": [
            "['', '/content', '/env/python', '/usr/lib/python37.zip', '/usr/lib/python3.7', '/usr/lib/python3.7/lib-dynload', '/usr/local/lib/python3.7/dist-packages', '/usr/lib/python3/dist-packages', '/usr/local/lib/python3.7/dist-packages/IPython/extensions', '/root/.ipython']\n"
          ]
        }
      ],
      "source": [
        "import os\n",
        "import sys\n",
        "print(sys.path)"
      ]
    },
    {
      "cell_type": "code",
      "source": [
        "sys.path.insert(0, 'ColBERT/')\n",
        "#print(sys.path)"
      ],
      "metadata": {
        "id": "75Pzq8AzpiQU"
      },
      "execution_count": 16,
      "outputs": []
    },
    {
      "cell_type": "code",
      "source": [
        "from colbert.infra import Run, RunConfig, ColBERTConfig\n",
        "from colbert.data import Collection\n",
        "from colbert.searcher import Searcher\n",
        "from utility.utils.dpr import has_answer, DPR_normalize"
      ],
      "metadata": {
        "colab": {
          "base_uri": "https://localhost:8080/"
        },
        "id": "3E7axHE5pqaT",
        "outputId": "68ec9b00-c486-47e3-b182-b1c4668ef060"
      },
      "execution_count": 17,
      "outputs": [
        {
          "output_type": "stream",
          "name": "stderr",
          "text": [
            "ColBERT/colbert/indexing/codecs/residual.py:10: SyntaxWarning: assertion is always true, perhaps remove parentheses?\n",
            "  assert(not torch.cuda.is_available(), \"cupy must be installed in GPU mode\")\n"
          ]
        }
      ]
    },
    {
      "cell_type": "markdown",
      "metadata": {
        "id": "U5ganiuNYres"
      },
      "source": [
        "## Language models\n",
        "\n",
        "In few-shot OpenQA, the language model (LM) must read in a prompt and answer the question posed somewhere in the prompt. We propose two basic strategies:\n",
        "\n",
        "* [EleutherAI](https://www.eleuther.ai/) has released GPT-2-style models in a variety of sizes. These are free to use and easy to use via Hugging Face, and the larger ones very effective for our task, with GPT-J competitive with GPT-3 even though it has only 6B parameters (vs. 145B for GPT-3). The downside here is that the larger models in this family might be very slow and very difficult to work with unless you have access to really impressive GPU hardware. In testing with the free version of Google Colab, we were basically able to do everything we needed to do for the 1.3B parameter model, but the larger one caused too many problems to be viable.\n",
        "\n",
        "* OpenAI has outstanding API access to GPT-3. You can sign up for [a free account](https://beta.openai.com/signup), and, as of this writing, you get US$18 in credit when you sign up. This is more than enough for the current assignment provided you are careful about how much testing you do. The benefits here are that the API is blazingly fast and requires nothing of your computer in terms of GPU support, and you're getting responses from a 145B parameter model that is truly exceptional.\n",
        "\n",
        "Our suggestion is to do basic development with `\"gpt-neo-125M\"`, scale up to `\"gpt-neo-1.3B\"` once you have a sense for what your original system will be like, and then do your final bake-off entry with GPT-3. The functions `run_eleuther` and `run_gpt3` defined below are totally interchangeable, so this kind of development path should be easy to take."
      ]
    },
    {
      "cell_type": "markdown",
      "metadata": {
        "id": "Fca8-RXjYres"
      },
      "source": [
        "### Answerhood"
      ]
    },
    {
      "cell_type": "code",
      "execution_count": 18,
      "metadata": {
        "id": "U6KepnjTYret"
      },
      "outputs": [],
      "source": [
        "def _find_generated_answer(tokens, newline=\"\\n\" ): \n",
        "    \"\"\"Our LMs tend to insert initial newline characters before\n",
        "    they begin generating text. This function ensures that we \n",
        "    properly capture the true first line as the answer while\n",
        "    also ensuring that token probabilities are aligned.\"\"\"        \n",
        "    answer_token_indices = []\n",
        "    char_seen = False            \n",
        "    for i, tok in enumerate(tokens):\n",
        "        # This is the main condition: a newline that isn't an initial\n",
        "        # string of newlines:\n",
        "        if tok == newline and char_seen:\n",
        "            break\n",
        "        # Keep the initial newlines for consistency:\n",
        "        elif tok == newline and not char_seen:\n",
        "            answer_token_indices.append(i)\n",
        "        # Proper tokens:\n",
        "        elif tok != newline:\n",
        "            char_seen = True\n",
        "            answer_token_indices.append(i)\n",
        "    return answer_token_indices "
      ]
    },
    {
      "cell_type": "markdown",
      "metadata": {
        "id": "klW12GkAYret"
      },
      "source": [
        "### Eleuther models from Hugging Face"
      ]
    },
    {
      "cell_type": "code",
      "execution_count": 19,
      "metadata": {
        "id": "1-FkbTaUYret",
        "colab": {
          "base_uri": "https://localhost:8080/",
          "height": 1000,
          "referenced_widgets": [
            "60fc978c38de4b7380486c3628a80580",
            "5f094894e4434ec1b8f3035953a54561",
            "b3ca85c21bc54756a79f47c2a1bd3bf2",
            "3539f428334a48dcbbeb93fd65fd567e",
            "0e8a97bab2294583bf0ebf2cb469b404",
            "850c7b8b9a7348b7a717b6949c19d975",
            "5bad75932665486dab40377b41dcae7e",
            "5b3a6c7f95ff4bcfb6a0f6a53e31c363",
            "5040f8d0972c4e1b885394b67fdc964b",
            "d77e4365e28049ecaef374394eed15ef",
            "e97b339812294939be5d6d9870bcbb79",
            "704775c94eef4ca08e575e08cf6e7549",
            "2d384da8922040e7a85b99c68aeb8e1e",
            "0052cafd45474bfaaf2356a809b8ab8f",
            "482d529f86864da49a84b7634c164b4f",
            "e8152eb7d946460ba1ee26697acd1f28",
            "d70ee10baac34852afabb6c5fe377d32",
            "28a095b67fdb4e64849114da743a211b",
            "746831b8b3b24f79b05eab1ede2931d7",
            "093bf95cbcc9471c9788e4b5e53e74ac",
            "882329f06a884864aed2bbb3ad767bfe",
            "2d2aabaf53864d229a24aa4351cde250",
            "5f28af2204f44951af30da8ff19607c1",
            "9affd2c86dab4c1287d858a12bdca36f",
            "2f7e8f2f019f4110b6ff3d2cb1194207",
            "a0b543ae60ae4d8c89bc65fb5e9c2655",
            "b32f26847ed74c338b6a1154b1cbf025",
            "b077e97c40c14df7b24b3b4de5c1c325",
            "3603bdf6e1cd4a92be658847cd05d140",
            "b995d2d434884b95a6ed27ca35f0701e",
            "65dbec85c4c440dc87a2fe83f2c0c6de",
            "9ebc962deaf241409e2f7807ce42d352",
            "e78bad9898274b59b2b187668e3cf86a",
            "c17cfaba919740b2a0737f6467e401a1",
            "7693bba999da4a5aa00f8b80b93033ce",
            "8dda0783b61e4fa0b15b067a3edde7ed",
            "2d3531fa44f8443b8bf6db4ce70c28bf",
            "2d330683ae74434586f39a079ed602cd",
            "64b8a98caa574e05898dfab287daaebc",
            "39d2bfb749e64f1f895e5a46f9fee71f",
            "ffb346b2be2744568c17588151c53978",
            "c2a9aa86e8c94b38b917584a56d8eb81",
            "c3515c902ab94a57b523e3d5dd1afb10",
            "f85bc8c52a5347f6a6e82504b9eebad8",
            "06101e7ee98b4df49564b6584c68fadc",
            "383379fe15b94faf8b41e8f275d671e4",
            "32b1008c4e8f4e7682c031b30bf389c4",
            "e2301a6c44144aecadfd64fb2fcbf9a1",
            "b0feee66ceaf4132a76d5cc8176e1183",
            "31e5a2f3fc6044ac8a08c5286338307e",
            "3ddcad33566f44c4886629e1b09f0163",
            "fbd037a19b0245f3ae0bea1a42e126da",
            "00ee280de0df457ab2927172e86589a9",
            "b4ee18523e4f4c369b2464abd406057e",
            "271abe49dc054863a07a7d4dea6c0865",
            "a7df7dfb55a9475692c3f4cc52619613",
            "c3ddf5db64aa4914b0a56b749ce504ee",
            "488959fbdb9c4fe999284e4d09e094c4",
            "66d57124c640469aae66a6e4104a87a6",
            "91f38f5c3ccb4195b610db621fc17a85",
            "d27d7971acee4e5ba6d532e743be97f2",
            "78a391fb49444ef5a982e7cceafa9d56",
            "c89addfe272a44d8adc56424f95459f3",
            "73a63281463b47c09aba00b2e086cd71",
            "5912f66fcd664f5193c2912559c34572",
            "170b400de66c4da4af17b5a567b2d326"
          ]
        },
        "outputId": "7718b650-14a4-4adb-dae4-823047ed0c65"
      },
      "outputs": [
        {
          "output_type": "stream",
          "name": "stderr",
          "text": [
            "https://huggingface.co/EleutherAI/gpt-neo-125M/resolve/main/tokenizer_config.json not found in cache or force_download set to True, downloading to /root/.cache/huggingface/transformers/tmpzcb7mssp\n"
          ]
        },
        {
          "output_type": "display_data",
          "data": {
            "text/plain": [
              "Downloading:   0%|          | 0.00/560 [00:00<?, ?B/s]"
            ],
            "application/vnd.jupyter.widget-view+json": {
              "version_major": 2,
              "version_minor": 0,
              "model_id": "60fc978c38de4b7380486c3628a80580"
            }
          },
          "metadata": {}
        },
        {
          "output_type": "stream",
          "name": "stderr",
          "text": [
            "storing https://huggingface.co/EleutherAI/gpt-neo-125M/resolve/main/tokenizer_config.json in cache at /root/.cache/huggingface/transformers/3cc88b3aa29bb2546db2dc21783292e2a086bb7158c7b5ceddeb24158a85c183.e74f7c3643ee79eb023ead36008be72fe726dada60fa3b2a0569925cfefa1e74\n",
            "creating metadata file for /root/.cache/huggingface/transformers/3cc88b3aa29bb2546db2dc21783292e2a086bb7158c7b5ceddeb24158a85c183.e74f7c3643ee79eb023ead36008be72fe726dada60fa3b2a0569925cfefa1e74\n",
            "https://huggingface.co/EleutherAI/gpt-neo-125M/resolve/main/config.json not found in cache or force_download set to True, downloading to /root/.cache/huggingface/transformers/tmp7sbidvcr\n"
          ]
        },
        {
          "output_type": "display_data",
          "data": {
            "text/plain": [
              "Downloading:   0%|          | 0.00/0.98k [00:00<?, ?B/s]"
            ],
            "application/vnd.jupyter.widget-view+json": {
              "version_major": 2,
              "version_minor": 0,
              "model_id": "704775c94eef4ca08e575e08cf6e7549"
            }
          },
          "metadata": {}
        },
        {
          "output_type": "stream",
          "name": "stderr",
          "text": [
            "storing https://huggingface.co/EleutherAI/gpt-neo-125M/resolve/main/config.json in cache at /root/.cache/huggingface/transformers/29380fef22a43cbfb3d3a6c8e2f4fd951459584d87c34e4621b30580a54aca84.f0f7ebddfc6e15a23ac33e7fa95cd8cca05edf87cc74f9e3be7905f538a59762\n",
            "creating metadata file for /root/.cache/huggingface/transformers/29380fef22a43cbfb3d3a6c8e2f4fd951459584d87c34e4621b30580a54aca84.f0f7ebddfc6e15a23ac33e7fa95cd8cca05edf87cc74f9e3be7905f538a59762\n",
            "loading configuration file https://huggingface.co/EleutherAI/gpt-neo-125M/resolve/main/config.json from cache at /root/.cache/huggingface/transformers/29380fef22a43cbfb3d3a6c8e2f4fd951459584d87c34e4621b30580a54aca84.f0f7ebddfc6e15a23ac33e7fa95cd8cca05edf87cc74f9e3be7905f538a59762\n",
            "Model config GPTNeoConfig {\n",
            "  \"_name_or_path\": \"EleutherAI/gpt-neo-125M\",\n",
            "  \"activation_function\": \"gelu_new\",\n",
            "  \"architectures\": [\n",
            "    \"GPTNeoForCausalLM\"\n",
            "  ],\n",
            "  \"attention_dropout\": 0,\n",
            "  \"attention_layers\": [\n",
            "    \"global\",\n",
            "    \"local\",\n",
            "    \"global\",\n",
            "    \"local\",\n",
            "    \"global\",\n",
            "    \"local\",\n",
            "    \"global\",\n",
            "    \"local\",\n",
            "    \"global\",\n",
            "    \"local\",\n",
            "    \"global\",\n",
            "    \"local\"\n",
            "  ],\n",
            "  \"attention_types\": [\n",
            "    [\n",
            "      [\n",
            "        \"global\",\n",
            "        \"local\"\n",
            "      ],\n",
            "      6\n",
            "    ]\n",
            "  ],\n",
            "  \"bos_token_id\": 50256,\n",
            "  \"embed_dropout\": 0,\n",
            "  \"eos_token_id\": 50256,\n",
            "  \"gradient_checkpointing\": false,\n",
            "  \"hidden_size\": 768,\n",
            "  \"initializer_range\": 0.02,\n",
            "  \"intermediate_size\": null,\n",
            "  \"layer_norm_epsilon\": 1e-05,\n",
            "  \"max_length\": 2000,\n",
            "  \"max_position_embeddings\": 2048,\n",
            "  \"model_type\": \"gpt_neo\",\n",
            "  \"num_heads\": 12,\n",
            "  \"num_layers\": 12,\n",
            "  \"resid_dropout\": 0,\n",
            "  \"summary_activation\": null,\n",
            "  \"summary_first_dropout\": 0.1,\n",
            "  \"summary_proj_to_labels\": true,\n",
            "  \"summary_type\": \"cls_index\",\n",
            "  \"summary_use_proj\": true,\n",
            "  \"transformers_version\": \"4.19.2\",\n",
            "  \"use_cache\": true,\n",
            "  \"vocab_size\": 50257,\n",
            "  \"window_size\": 256\n",
            "}\n",
            "\n",
            "https://huggingface.co/EleutherAI/gpt-neo-125M/resolve/main/vocab.json not found in cache or force_download set to True, downloading to /root/.cache/huggingface/transformers/tmp62sqg5jn\n"
          ]
        },
        {
          "output_type": "display_data",
          "data": {
            "text/plain": [
              "Downloading:   0%|          | 0.00/878k [00:00<?, ?B/s]"
            ],
            "application/vnd.jupyter.widget-view+json": {
              "version_major": 2,
              "version_minor": 0,
              "model_id": "5f28af2204f44951af30da8ff19607c1"
            }
          },
          "metadata": {}
        },
        {
          "output_type": "stream",
          "name": "stderr",
          "text": [
            "storing https://huggingface.co/EleutherAI/gpt-neo-125M/resolve/main/vocab.json in cache at /root/.cache/huggingface/transformers/08c00c4159e921d4c941ac75732643373aba509d9b352a82bbbb043a94058d98.a552555fdda56a1c7c9a285bccfd44ac8e4b9e26c8c9b307831b3ea3ac782b45\n",
            "creating metadata file for /root/.cache/huggingface/transformers/08c00c4159e921d4c941ac75732643373aba509d9b352a82bbbb043a94058d98.a552555fdda56a1c7c9a285bccfd44ac8e4b9e26c8c9b307831b3ea3ac782b45\n",
            "https://huggingface.co/EleutherAI/gpt-neo-125M/resolve/main/merges.txt not found in cache or force_download set to True, downloading to /root/.cache/huggingface/transformers/tmphu8tpfxc\n"
          ]
        },
        {
          "output_type": "display_data",
          "data": {
            "text/plain": [
              "Downloading:   0%|          | 0.00/446k [00:00<?, ?B/s]"
            ],
            "application/vnd.jupyter.widget-view+json": {
              "version_major": 2,
              "version_minor": 0,
              "model_id": "c17cfaba919740b2a0737f6467e401a1"
            }
          },
          "metadata": {}
        },
        {
          "output_type": "stream",
          "name": "stderr",
          "text": [
            "storing https://huggingface.co/EleutherAI/gpt-neo-125M/resolve/main/merges.txt in cache at /root/.cache/huggingface/transformers/12305762709d884a770efe7b0c68a7f4bc918da44e956058d43da0d12f7bea20.5d12962c5ee615a4c803841266e9c3be9a691a924f72d395d3a6c6c81157788b\n",
            "creating metadata file for /root/.cache/huggingface/transformers/12305762709d884a770efe7b0c68a7f4bc918da44e956058d43da0d12f7bea20.5d12962c5ee615a4c803841266e9c3be9a691a924f72d395d3a6c6c81157788b\n",
            "https://huggingface.co/EleutherAI/gpt-neo-125M/resolve/main/special_tokens_map.json not found in cache or force_download set to True, downloading to /root/.cache/huggingface/transformers/tmpispgdkns\n"
          ]
        },
        {
          "output_type": "display_data",
          "data": {
            "text/plain": [
              "Downloading:   0%|          | 0.00/357 [00:00<?, ?B/s]"
            ],
            "application/vnd.jupyter.widget-view+json": {
              "version_major": 2,
              "version_minor": 0,
              "model_id": "06101e7ee98b4df49564b6584c68fadc"
            }
          },
          "metadata": {}
        },
        {
          "output_type": "stream",
          "name": "stderr",
          "text": [
            "storing https://huggingface.co/EleutherAI/gpt-neo-125M/resolve/main/special_tokens_map.json in cache at /root/.cache/huggingface/transformers/6c3239a63aaf46ec7625b38abfe41fc2ce0b25f90800aefe6526256340d4ab6d.2b8bf81243d08385c806171bc7ced6d2a0dcc7f896ca637f4e777418f7f0cc3c\n",
            "creating metadata file for /root/.cache/huggingface/transformers/6c3239a63aaf46ec7625b38abfe41fc2ce0b25f90800aefe6526256340d4ab6d.2b8bf81243d08385c806171bc7ced6d2a0dcc7f896ca637f4e777418f7f0cc3c\n",
            "loading file https://huggingface.co/EleutherAI/gpt-neo-125M/resolve/main/vocab.json from cache at /root/.cache/huggingface/transformers/08c00c4159e921d4c941ac75732643373aba509d9b352a82bbbb043a94058d98.a552555fdda56a1c7c9a285bccfd44ac8e4b9e26c8c9b307831b3ea3ac782b45\n",
            "loading file https://huggingface.co/EleutherAI/gpt-neo-125M/resolve/main/merges.txt from cache at /root/.cache/huggingface/transformers/12305762709d884a770efe7b0c68a7f4bc918da44e956058d43da0d12f7bea20.5d12962c5ee615a4c803841266e9c3be9a691a924f72d395d3a6c6c81157788b\n",
            "loading file https://huggingface.co/EleutherAI/gpt-neo-125M/resolve/main/tokenizer.json from cache at None\n",
            "loading file https://huggingface.co/EleutherAI/gpt-neo-125M/resolve/main/added_tokens.json from cache at None\n",
            "loading file https://huggingface.co/EleutherAI/gpt-neo-125M/resolve/main/special_tokens_map.json from cache at /root/.cache/huggingface/transformers/6c3239a63aaf46ec7625b38abfe41fc2ce0b25f90800aefe6526256340d4ab6d.2b8bf81243d08385c806171bc7ced6d2a0dcc7f896ca637f4e777418f7f0cc3c\n",
            "loading file https://huggingface.co/EleutherAI/gpt-neo-125M/resolve/main/tokenizer_config.json from cache at /root/.cache/huggingface/transformers/3cc88b3aa29bb2546db2dc21783292e2a086bb7158c7b5ceddeb24158a85c183.e74f7c3643ee79eb023ead36008be72fe726dada60fa3b2a0569925cfefa1e74\n",
            "loading configuration file https://huggingface.co/EleutherAI/gpt-neo-125M/resolve/main/config.json from cache at /root/.cache/huggingface/transformers/29380fef22a43cbfb3d3a6c8e2f4fd951459584d87c34e4621b30580a54aca84.f0f7ebddfc6e15a23ac33e7fa95cd8cca05edf87cc74f9e3be7905f538a59762\n",
            "Model config GPTNeoConfig {\n",
            "  \"_name_or_path\": \"EleutherAI/gpt-neo-125M\",\n",
            "  \"activation_function\": \"gelu_new\",\n",
            "  \"architectures\": [\n",
            "    \"GPTNeoForCausalLM\"\n",
            "  ],\n",
            "  \"attention_dropout\": 0,\n",
            "  \"attention_layers\": [\n",
            "    \"global\",\n",
            "    \"local\",\n",
            "    \"global\",\n",
            "    \"local\",\n",
            "    \"global\",\n",
            "    \"local\",\n",
            "    \"global\",\n",
            "    \"local\",\n",
            "    \"global\",\n",
            "    \"local\",\n",
            "    \"global\",\n",
            "    \"local\"\n",
            "  ],\n",
            "  \"attention_types\": [\n",
            "    [\n",
            "      [\n",
            "        \"global\",\n",
            "        \"local\"\n",
            "      ],\n",
            "      6\n",
            "    ]\n",
            "  ],\n",
            "  \"bos_token_id\": 50256,\n",
            "  \"embed_dropout\": 0,\n",
            "  \"eos_token_id\": 50256,\n",
            "  \"gradient_checkpointing\": false,\n",
            "  \"hidden_size\": 768,\n",
            "  \"initializer_range\": 0.02,\n",
            "  \"intermediate_size\": null,\n",
            "  \"layer_norm_epsilon\": 1e-05,\n",
            "  \"max_position_embeddings\": 2048,\n",
            "  \"model_type\": \"gpt_neo\",\n",
            "  \"num_heads\": 12,\n",
            "  \"num_layers\": 12,\n",
            "  \"resid_dropout\": 0,\n",
            "  \"summary_activation\": null,\n",
            "  \"summary_first_dropout\": 0.1,\n",
            "  \"summary_proj_to_labels\": true,\n",
            "  \"summary_type\": \"cls_index\",\n",
            "  \"summary_use_proj\": true,\n",
            "  \"transformers_version\": \"4.19.2\",\n",
            "  \"use_cache\": true,\n",
            "  \"vocab_size\": 50257,\n",
            "  \"window_size\": 256\n",
            "}\n",
            "\n",
            "loading configuration file https://huggingface.co/EleutherAI/gpt-neo-125M/resolve/main/config.json from cache at /root/.cache/huggingface/transformers/29380fef22a43cbfb3d3a6c8e2f4fd951459584d87c34e4621b30580a54aca84.f0f7ebddfc6e15a23ac33e7fa95cd8cca05edf87cc74f9e3be7905f538a59762\n",
            "Model config GPTNeoConfig {\n",
            "  \"_name_or_path\": \"EleutherAI/gpt-neo-125M\",\n",
            "  \"activation_function\": \"gelu_new\",\n",
            "  \"architectures\": [\n",
            "    \"GPTNeoForCausalLM\"\n",
            "  ],\n",
            "  \"attention_dropout\": 0,\n",
            "  \"attention_layers\": [\n",
            "    \"global\",\n",
            "    \"local\",\n",
            "    \"global\",\n",
            "    \"local\",\n",
            "    \"global\",\n",
            "    \"local\",\n",
            "    \"global\",\n",
            "    \"local\",\n",
            "    \"global\",\n",
            "    \"local\",\n",
            "    \"global\",\n",
            "    \"local\"\n",
            "  ],\n",
            "  \"attention_types\": [\n",
            "    [\n",
            "      [\n",
            "        \"global\",\n",
            "        \"local\"\n",
            "      ],\n",
            "      6\n",
            "    ]\n",
            "  ],\n",
            "  \"bos_token_id\": 50256,\n",
            "  \"embed_dropout\": 0,\n",
            "  \"eos_token_id\": 50256,\n",
            "  \"gradient_checkpointing\": false,\n",
            "  \"hidden_size\": 768,\n",
            "  \"initializer_range\": 0.02,\n",
            "  \"intermediate_size\": null,\n",
            "  \"layer_norm_epsilon\": 1e-05,\n",
            "  \"max_position_embeddings\": 2048,\n",
            "  \"model_type\": \"gpt_neo\",\n",
            "  \"num_heads\": 12,\n",
            "  \"num_layers\": 12,\n",
            "  \"resid_dropout\": 0,\n",
            "  \"summary_activation\": null,\n",
            "  \"summary_first_dropout\": 0.1,\n",
            "  \"summary_proj_to_labels\": true,\n",
            "  \"summary_type\": \"cls_index\",\n",
            "  \"summary_use_proj\": true,\n",
            "  \"transformers_version\": \"4.19.2\",\n",
            "  \"use_cache\": true,\n",
            "  \"vocab_size\": 50257,\n",
            "  \"window_size\": 256\n",
            "}\n",
            "\n",
            "loading configuration file https://huggingface.co/EleutherAI/gpt-neo-125M/resolve/main/config.json from cache at /root/.cache/huggingface/transformers/29380fef22a43cbfb3d3a6c8e2f4fd951459584d87c34e4621b30580a54aca84.f0f7ebddfc6e15a23ac33e7fa95cd8cca05edf87cc74f9e3be7905f538a59762\n",
            "Model config GPTNeoConfig {\n",
            "  \"_name_or_path\": \"EleutherAI/gpt-neo-125M\",\n",
            "  \"activation_function\": \"gelu_new\",\n",
            "  \"architectures\": [\n",
            "    \"GPTNeoForCausalLM\"\n",
            "  ],\n",
            "  \"attention_dropout\": 0,\n",
            "  \"attention_layers\": [\n",
            "    \"global\",\n",
            "    \"local\",\n",
            "    \"global\",\n",
            "    \"local\",\n",
            "    \"global\",\n",
            "    \"local\",\n",
            "    \"global\",\n",
            "    \"local\",\n",
            "    \"global\",\n",
            "    \"local\",\n",
            "    \"global\",\n",
            "    \"local\"\n",
            "  ],\n",
            "  \"attention_types\": [\n",
            "    [\n",
            "      [\n",
            "        \"global\",\n",
            "        \"local\"\n",
            "      ],\n",
            "      6\n",
            "    ]\n",
            "  ],\n",
            "  \"bos_token_id\": 50256,\n",
            "  \"embed_dropout\": 0,\n",
            "  \"eos_token_id\": 50256,\n",
            "  \"gradient_checkpointing\": false,\n",
            "  \"hidden_size\": 768,\n",
            "  \"initializer_range\": 0.02,\n",
            "  \"intermediate_size\": null,\n",
            "  \"layer_norm_epsilon\": 1e-05,\n",
            "  \"max_position_embeddings\": 2048,\n",
            "  \"model_type\": \"gpt_neo\",\n",
            "  \"num_heads\": 12,\n",
            "  \"num_layers\": 12,\n",
            "  \"resid_dropout\": 0,\n",
            "  \"summary_activation\": null,\n",
            "  \"summary_first_dropout\": 0.1,\n",
            "  \"summary_proj_to_labels\": true,\n",
            "  \"summary_type\": \"cls_index\",\n",
            "  \"summary_use_proj\": true,\n",
            "  \"transformers_version\": \"4.19.2\",\n",
            "  \"use_cache\": true,\n",
            "  \"vocab_size\": 50257,\n",
            "  \"window_size\": 256\n",
            "}\n",
            "\n",
            "https://huggingface.co/EleutherAI/gpt-neo-125M/resolve/main/pytorch_model.bin not found in cache or force_download set to True, downloading to /root/.cache/huggingface/transformers/tmp17xh66e5\n"
          ]
        },
        {
          "output_type": "display_data",
          "data": {
            "text/plain": [
              "Downloading:   0%|          | 0.00/502M [00:00<?, ?B/s]"
            ],
            "application/vnd.jupyter.widget-view+json": {
              "version_major": 2,
              "version_minor": 0,
              "model_id": "a7df7dfb55a9475692c3f4cc52619613"
            }
          },
          "metadata": {}
        },
        {
          "output_type": "stream",
          "name": "stderr",
          "text": [
            "storing https://huggingface.co/EleutherAI/gpt-neo-125M/resolve/main/pytorch_model.bin in cache at /root/.cache/huggingface/transformers/b0ace3b93ace62067a246888f1e54e2d3ec20807d4d3e27ac602eef3b7091c0b.6525df88f1d5a2d33d95ce2458ef6af9658fe7d1393d6707e0e318779ccc68ff\n",
            "creating metadata file for /root/.cache/huggingface/transformers/b0ace3b93ace62067a246888f1e54e2d3ec20807d4d3e27ac602eef3b7091c0b.6525df88f1d5a2d33d95ce2458ef6af9658fe7d1393d6707e0e318779ccc68ff\n",
            "loading weights file https://huggingface.co/EleutherAI/gpt-neo-125M/resolve/main/pytorch_model.bin from cache at /root/.cache/huggingface/transformers/b0ace3b93ace62067a246888f1e54e2d3ec20807d4d3e27ac602eef3b7091c0b.6525df88f1d5a2d33d95ce2458ef6af9658fe7d1393d6707e0e318779ccc68ff\n",
            "All model checkpoint weights were used when initializing GPTNeoForCausalLM.\n",
            "\n",
            "All the weights of GPTNeoForCausalLM were initialized from the model checkpoint at EleutherAI/gpt-neo-125M.\n",
            "If your task is similar to the task the model of the checkpoint was trained on, you can already use GPTNeoForCausalLM for predictions without further training.\n"
          ]
        }
      ],
      "source": [
        "# \"gpt-neo-125M\" \"gpt-neo-1.3B\" \"gpt-neo-2.7B\" \"gpt-j-6B\"\n",
        "eleuther_model_name = \"gpt-neo-125M\"\n",
        "\n",
        "eleuther_tokenizer = AutoTokenizer.from_pretrained(\n",
        "    f\"EleutherAI/{eleuther_model_name}\", \n",
        "    padding_side=\"left\", \n",
        "    padding='longest', \n",
        "    truncation='longest_first', max_length=2000)\n",
        "eleuther_tokenizer.pad_token = eleuther_tokenizer.eos_token\n",
        "\n",
        "eleuther_model = AutoModelForCausalLM.from_pretrained(\n",
        "    f\"EleutherAI/{eleuther_model_name}\")\n",
        "\n",
        "device = \"cuda\" if torch.cuda.is_available() else \"cpu\"\n",
        "eleuther_model = eleuther_model.to(device)"
      ]
    },
    {
      "cell_type": "code",
      "execution_count": 20,
      "metadata": {
        "id": "rEo9YKwNYret"
      },
      "outputs": [],
      "source": [
        "def run_eleuther(prompts, temperature=0.1, top_p=0.95, **generate_kwargs): \n",
        "    \"\"\"\n",
        "    Parameters\n",
        "    ----------\n",
        "    prompts : iterable of str\n",
        "    temperature : float\n",
        "        It seems best to set it low for this task!\n",
        "    top_p : float\n",
        "       \n",
        "    For options for `generate_kwargs`, see:\n",
        "    \n",
        "    https://huggingface.co/docs/transformers/master/en/main_classes/text_generation#transformers.generation_utils.GenerationMixin.generate\n",
        "    \n",
        "    Options that are likely to be especially relevant include \n",
        "    `temperature`, `length_penalty`, and the parameters that\n",
        "    determine the decoding strategy. With `num_return_sequences > 1`,\n",
        "    the default parameters in this function do multinomial sampling.\n",
        "    \n",
        "    Returns\n",
        "    -------\n",
        "    list of dicts\n",
        "    \n",
        "    {\"prompt\": str, \n",
        "     \"generated_text\": str, \"generated_tokens\": list of str, \"generated_probs\": list of float,\n",
        "     \"answer\": str, \"answer_tokens\": list of str, \"answer_probs\": list of float\n",
        "    }\n",
        "         \n",
        "    \"\"\"\n",
        "    prompt_ids = eleuther_tokenizer(\n",
        "        prompts, return_tensors=\"pt\", padding=True).input_ids.to(device)\n",
        "        \n",
        "    with torch.inference_mode():\n",
        "        # Automatic mixed precision if possible.\n",
        "        with torch.cuda.amp.autocast() if torch.cuda.is_available() else nullcontext():\n",
        "            model_output = eleuther_model.generate(\n",
        "                prompt_ids,\n",
        "                temperature=temperature,\n",
        "                do_sample=True,\n",
        "                top_p=top_p,           \n",
        "                max_new_tokens=16,\n",
        "                num_return_sequences=1,                \n",
        "                pad_token_id=eleuther_tokenizer.eos_token_id, \n",
        "                return_dict_in_generate=True,\n",
        "                output_scores=True,\n",
        "                **generate_kwargs)\n",
        "        \n",
        "    # Converting output scores using the helpful recipe here:\n",
        "    # https://discuss.huggingface.co/t/generation-probabilities-how-to-compute-probabilities-of-output-scores-for-gpt2/3175\n",
        "    gen_ids = model_output.sequences[:, prompt_ids.shape[-1] :]\n",
        "    gen_probs = torch.stack(model_output.scores, dim=1).softmax(-1)\n",
        "    gen_probs = torch.gather(gen_probs, 2, gen_ids[:, :, None]).squeeze(-1)\n",
        "    \n",
        "    # Generated texts, including the prompts:\n",
        "    gen_texts = eleuther_tokenizer.batch_decode(\n",
        "        model_output.sequences, skip_special_tokens=True)\n",
        "    \n",
        "    data = []     \n",
        "    iterator = zip(prompts, gen_ids, gen_texts, gen_probs)    \n",
        "    for prompt, gen_id, gen_text, gen_prob in iterator:       \n",
        "        gen_tokens = eleuther_tokenizer.convert_ids_to_tokens(gen_id)\n",
        "        generated_text = gen_text[len(prompt): ]\n",
        "        gen_prob = [float(x) for x in gen_prob.cpu().numpy()] # float for JSON storage\n",
        "        ans_indices = _find_generated_answer(gen_tokens, newline=\"Ċ\")\n",
        "        answer_tokens = [gen_tokens[i] for i in ans_indices]\n",
        "        answer_probs = [gen_prob[i] for i in ans_indices]\n",
        "        answer = \"\".join(answer_tokens).replace(\"Ġ\", \" \").replace(\"Ċ\", \"\\n\")                                       \n",
        "        data.append({\n",
        "            \"prompt\": prompt,\n",
        "            \"generated_text\": generated_text,\n",
        "            \"generated_tokens\": gen_tokens,\n",
        "            \"generated_probs\": gen_prob,\n",
        "            \"generated_answer\": answer,\n",
        "            \"generated_answer_probs\": answer_probs,\n",
        "            \"generated_answer_tokens\": answer_tokens})                        \n",
        "\n",
        "    return data"
      ]
    },
    {
      "cell_type": "code",
      "execution_count": 21,
      "metadata": {
        "id": "7fIfuTEGYreu",
        "colab": {
          "base_uri": "https://localhost:8080/"
        },
        "outputId": "ce85529e-5647-41eb-990e-9ccc85bb3536"
      },
      "outputs": [
        {
          "output_type": "execute_result",
          "data": {
            "text/plain": [
              "[{'generated_answer': '\\n\\nThe Stanford University Foundation is a non-profit organization that provides scholarships to',\n",
              "  'generated_answer_probs': [1.0,\n",
              "   1.0,\n",
              "   0.9111328125,\n",
              "   1.0,\n",
              "   1.0,\n",
              "   1.0,\n",
              "   1.0,\n",
              "   1.0,\n",
              "   0.85986328125,\n",
              "   1.0,\n",
              "   1.0,\n",
              "   1.0,\n",
              "   1.0,\n",
              "   0.90966796875,\n",
              "   0.7216796875,\n",
              "   0.671875],\n",
              "  'generated_answer_tokens': ['Ċ',\n",
              "   'Ċ',\n",
              "   'The',\n",
              "   'ĠStanford',\n",
              "   'ĠUniversity',\n",
              "   'ĠFoundation',\n",
              "   'Ġis',\n",
              "   'Ġa',\n",
              "   'Ġnon',\n",
              "   '-',\n",
              "   'profit',\n",
              "   'Ġorganization',\n",
              "   'Ġthat',\n",
              "   'Ġprovides',\n",
              "   'Ġscholarships',\n",
              "   'Ġto'],\n",
              "  'generated_probs': [1.0,\n",
              "   1.0,\n",
              "   0.9111328125,\n",
              "   1.0,\n",
              "   1.0,\n",
              "   1.0,\n",
              "   1.0,\n",
              "   1.0,\n",
              "   0.85986328125,\n",
              "   1.0,\n",
              "   1.0,\n",
              "   1.0,\n",
              "   1.0,\n",
              "   0.90966796875,\n",
              "   0.7216796875,\n",
              "   0.671875],\n",
              "  'generated_text': '\\n\\nThe Stanford University Foundation is a non-profit organization that provides scholarships to',\n",
              "  'generated_tokens': ['Ċ',\n",
              "   'Ċ',\n",
              "   'The',\n",
              "   'ĠStanford',\n",
              "   'ĠUniversity',\n",
              "   'ĠFoundation',\n",
              "   'Ġis',\n",
              "   'Ġa',\n",
              "   'Ġnon',\n",
              "   '-',\n",
              "   'profit',\n",
              "   'Ġorganization',\n",
              "   'Ġthat',\n",
              "   'Ġprovides',\n",
              "   'Ġscholarships',\n",
              "   'Ġto'],\n",
              "  'prompt': 'What year was Stanford University founded?'},\n",
              " {'generated_answer': '\\n\\nThe Stanford University School of Law is a private, non-profit,',\n",
              "  'generated_answer_probs': [1.0,\n",
              "   1.0,\n",
              "   0.8818359375,\n",
              "   1.0,\n",
              "   1.0,\n",
              "   1.0,\n",
              "   1.0,\n",
              "   0.07806396484375,\n",
              "   1.0,\n",
              "   1.0,\n",
              "   1.0,\n",
              "   1.0,\n",
              "   1.0,\n",
              "   1.0,\n",
              "   1.0,\n",
              "   1.0],\n",
              "  'generated_answer_tokens': ['Ċ',\n",
              "   'Ċ',\n",
              "   'The',\n",
              "   'ĠStanford',\n",
              "   'ĠUniversity',\n",
              "   'ĠSchool',\n",
              "   'Ġof',\n",
              "   'ĠLaw',\n",
              "   'Ġis',\n",
              "   'Ġa',\n",
              "   'Ġprivate',\n",
              "   ',',\n",
              "   'Ġnon',\n",
              "   '-',\n",
              "   'profit',\n",
              "   ','],\n",
              "  'generated_probs': [1.0,\n",
              "   1.0,\n",
              "   0.8818359375,\n",
              "   1.0,\n",
              "   1.0,\n",
              "   1.0,\n",
              "   1.0,\n",
              "   0.07806396484375,\n",
              "   1.0,\n",
              "   1.0,\n",
              "   1.0,\n",
              "   1.0,\n",
              "   1.0,\n",
              "   1.0,\n",
              "   1.0,\n",
              "   1.0],\n",
              "  'generated_text': '\\n\\nThe Stanford University School of Law is a private, non-profit,',\n",
              "  'generated_tokens': ['Ċ',\n",
              "   'Ċ',\n",
              "   'The',\n",
              "   'ĠStanford',\n",
              "   'ĠUniversity',\n",
              "   'ĠSchool',\n",
              "   'Ġof',\n",
              "   'ĠLaw',\n",
              "   'Ġis',\n",
              "   'Ġa',\n",
              "   'Ġprivate',\n",
              "   ',',\n",
              "   'Ġnon',\n",
              "   '-',\n",
              "   'profit',\n",
              "   ','],\n",
              "  'prompt': 'In which year did Stanford first enroll students?'}]"
            ]
          },
          "metadata": {},
          "execution_count": 21
        }
      ],
      "source": [
        "eleuther_ex = run_eleuther([    \n",
        "    \"What year was Stanford University founded?\", \n",
        "    \"In which year did Stanford first enroll students?\"])\n",
        "\n",
        "eleuther_ex"
      ]
    },
    {
      "cell_type": "markdown",
      "metadata": {
        "id": "oiN04KynYreu"
      },
      "source": [
        "### GPT-3"
      ]
    },
    {
      "cell_type": "code",
      "source": [
        "# Fill this in with the value from your OpenAI account. First\n",
        "# verify that your account is set up with a spending limit that\n",
        "# you are comfortable with. If you just opened your account,\n",
        "# you should have $18 in credit and so won't need to supply any\n",
        "# payment information.\n",
        "openai.api_key = getpass('Informe openai.api_key ')"
      ],
      "metadata": {
        "colab": {
          "base_uri": "https://localhost:8080/"
        },
        "id": "GRXfd5pJ4F93",
        "outputId": "7072a90d-a680-49fd-9933-9bb6904b1289"
      },
      "execution_count": 22,
      "outputs": [
        {
          "name": "stdout",
          "output_type": "stream",
          "text": [
            "Informe openai.api_key ··········\n"
          ]
        }
      ]
    },
    {
      "cell_type": "code",
      "execution_count": 23,
      "metadata": {
        "id": "5t5HTfRkYreu"
      },
      "outputs": [],
      "source": [
        "def run_gpt3(prompts, engine=\"text-curie-001\", temperature=0.1, top_p=0.95, **gpt3_kwargs):\n",
        "    \"\"\"To use this function, sign up for an OpenAI account at\n",
        "        \n",
        "    https://beta.openai.com/signup\n",
        "    \n",
        "    That should give you $18 in free credits, which is more than enough\n",
        "    for this assignment assuming you are careful with testing.\n",
        "    \n",
        "    Once your account is set up, you can get your API key from your \n",
        "    account dashboard and paste it in below as the value of \n",
        "    `openai.api_key`.\n",
        "    \n",
        "    Parameters\n",
        "    ----------\n",
        "    prompts : iterable of str\n",
        "    engine : str\n",
        "        This has to be one of the models whose name begins with \"text\".\n",
        "        The \"instruct\" class of models can't be used, since they seem\n",
        "        to depend on some kinds of QA-relevant supervision.        \n",
        "        For options, costs, and other details: \n",
        "        https://beta.openai.com/docs/engines/gpt-3                \n",
        "    temperature : float\n",
        "        It seems best to set it low for this task!\n",
        "    top_p : float\n",
        "        \n",
        "    For information about values for `gpt3_kwargs`, see\n",
        "    \n",
        "    https://beta.openai.com/docs/api-reference/completions\n",
        "    \n",
        "    Returns\n",
        "    -------\n",
        "    list of dicts   \n",
        "    \n",
        "    \"\"\"\n",
        "\n",
        "    assert engine.startswith(\"text\"), \\\n",
        "        \"Please use an engine whose name begins with 'text'.\"\n",
        "        \n",
        "    response = openai.Completion.create(\n",
        "        engine=engine,       \n",
        "        prompt=prompts,\n",
        "        temperature=temperature,\n",
        "        top_p=top_p,\n",
        "        echo=False,   # This function will not work\n",
        "        logprobs=1,   # properly if any of these\n",
        "        n=1,          # are changed!\n",
        "        **gpt3_kwargs)\n",
        "    \n",
        "    # From here, we parse each example to get the values\n",
        "    # we need:\n",
        "    data = []\n",
        "    for ex, prompt in zip(response[\"choices\"], prompts):\n",
        "        tokens = ex[\"logprobs\"][\"tokens\"]\n",
        "        logprobs = ex[\"logprobs\"][\"token_logprobs\"]        \n",
        "        probs = list(np.exp(logprobs))\n",
        "        if \"<|endoftext|>\" in tokens:\n",
        "            end_i = tokens.index(\"<|endoftext|>\")\n",
        "            tokens = tokens[ : end_i]  # This leaves off the \"<|endoftext|>\"\n",
        "            probs = probs[ : end_i]    # token -- perhaps dubious.\n",
        "        ans_indices = _find_generated_answer(tokens)\n",
        "        answer_tokens = [tokens[i] for i in ans_indices]\n",
        "        answer_probs = [probs[i] for i in ans_indices]\n",
        "        answer = \"\".join(answer_tokens)        \n",
        "        data.append({\n",
        "            \"prompt\": prompt,\n",
        "            \"generated_text\": ex[\"text\"],\n",
        "            \"generated_tokens\": tokens,\n",
        "            \"generated_probs\": probs,\n",
        "            \"generated_answer\": answer,\n",
        "            \"generated_answer_tokens\": answer_tokens,\n",
        "            \"generated_answer_probs\": answer_probs})\n",
        "        \n",
        "    return data             "
      ]
    },
    {
      "cell_type": "code",
      "execution_count": 24,
      "metadata": {
        "id": "y3jbKTAbYrev",
        "colab": {
          "base_uri": "https://localhost:8080/"
        },
        "outputId": "64b6dac4-a718-4724-d8c6-75f3b52c1dbe"
      },
      "outputs": [
        {
          "output_type": "execute_result",
          "data": {
            "text/plain": [
              "[{'generated_answer': '\\n\\n1891',\n",
              "  'generated_answer_probs': [0.9991431717871095,\n",
              "   0.9997846349243882,\n",
              "   0.5741379962336021,\n",
              "   0.39573849184479504],\n",
              "  'generated_answer_tokens': ['\\n', '\\n', '18', '91'],\n",
              "  'generated_probs': [0.9991431717871095,\n",
              "   0.9997846349243882,\n",
              "   0.5741379962336021,\n",
              "   0.39573849184479504],\n",
              "  'generated_text': '\\n\\n1891',\n",
              "  'generated_tokens': ['\\n', '\\n', '18', '91'],\n",
              "  'prompt': 'What year was Stanford University founded?'},\n",
              " {'generated_answer': '\\n\\nStanford first enrolled students in 1891.',\n",
              "  'generated_answer_probs': [0.9993135207847473,\n",
              "   0.9998701106163566,\n",
              "   0.4383535510647387,\n",
              "   0.9999952788481447,\n",
              "   0.8323608735103043,\n",
              "   0.9814090478885719,\n",
              "   0.9988871687564463,\n",
              "   0.9936751893545676,\n",
              "   0.9917295955365046,\n",
              "   0.6287194545379907,\n",
              "   0.9849397876183434],\n",
              "  'generated_answer_tokens': ['\\n',\n",
              "   '\\n',\n",
              "   'Stan',\n",
              "   'ford',\n",
              "   ' first',\n",
              "   ' enrolled',\n",
              "   ' students',\n",
              "   ' in',\n",
              "   ' 18',\n",
              "   '91',\n",
              "   '.'],\n",
              "  'generated_probs': [0.9993135207847473,\n",
              "   0.9998701106163566,\n",
              "   0.4383535510647387,\n",
              "   0.9999952788481447,\n",
              "   0.8323608735103043,\n",
              "   0.9814090478885719,\n",
              "   0.9988871687564463,\n",
              "   0.9936751893545676,\n",
              "   0.9917295955365046,\n",
              "   0.6287194545379907,\n",
              "   0.9849397876183434],\n",
              "  'generated_text': '\\n\\nStanford first enrolled students in 1891.',\n",
              "  'generated_tokens': ['\\n',\n",
              "   '\\n',\n",
              "   'Stan',\n",
              "   'ford',\n",
              "   ' first',\n",
              "   ' enrolled',\n",
              "   ' students',\n",
              "   ' in',\n",
              "   ' 18',\n",
              "   '91',\n",
              "   '.'],\n",
              "  'prompt': 'In which year did Stanford first enroll students?'}]"
            ]
          },
          "metadata": {},
          "execution_count": 24
        }
      ],
      "source": [
        "gpt3_ex = run_gpt3([\n",
        "     \"What year was Stanford University founded?\",\n",
        "     \"In which year did Stanford first enroll students?\"])\n",
        "\n",
        "gpt3_ex"
      ]
    },
    {
      "cell_type": "markdown",
      "metadata": {
        "id": "XGK3hCs9Yrev"
      },
      "source": [
        "## SQuAD\n",
        "\n",
        "Our core development dataset is [SQuAD](https://rajpurkar.github.io/SQuAD-explorer/). We chose this dataset because it is well-known and widely used, and it is large enough to support lots of meaningful development work, without, though, being so large as to require lots of compute power. It is also useful that it has gold passages supporting the standard QA formulation, so we can see how well our LM performs with an \"oracle\" retriever that always retrieves the gold passage."
      ]
    },
    {
      "cell_type": "code",
      "execution_count": 25,
      "metadata": {
        "id": "YQ_do58EYrev",
        "colab": {
          "base_uri": "https://localhost:8080/",
          "height": 296,
          "referenced_widgets": [
            "dcf8888f65804746ab82fe710f4fb802",
            "fb3294da25154337928648dc383cfbc2",
            "79f5e9c31414450fa1bdc87e85d7cd81",
            "d9778ea303b04613a4905d8162237de9",
            "92e56b2f192849ddb95df3c7d2952d87",
            "04af85837415483f95446c4d836a25f9",
            "e4b4e5bcf80a4e14843a68a9f6ce9bf8",
            "3d38e26c3e924ceca651d0e66f03072d",
            "783246b48afb49c99a1ad4afe4841f32",
            "e3388b84ea4947f1850922ffd27f5e0f",
            "7bee678f05884ad8b38049bf72d4619a",
            "770f7af20b134e149ef191368d53a7c2",
            "91439e97fc164007913518ccfa8123da",
            "25dd9e12b53f406bb9a5adb2f3b98c2d",
            "afb666cd8f9540cbb27c41a2c0e81df8",
            "24575e527f924499b044de5bde74a945",
            "f1cb78bced00432aa33f424bfba79b42",
            "a3dd59a1fd574da6b8736a974b3b5256",
            "431241e7a3c94fdaaa4fd64734e185a1",
            "6477c9cf54ea49e08c5ea84e7e66e287",
            "d84a9976e78f43658a45561e7f250672",
            "80f679e373ce438ab1a9dc7bb1b293a1",
            "e9716f312dbd400ab0c1f70376de05f2",
            "d0eeb84d289d4b6983fadd33761233e0",
            "c7c10f7e5d07497e8c3b6ad4fe1d474d",
            "3d42feaa07614c3bb7f3f5da271d0c95",
            "67e11c695a1c404883ee0d8a9f2cea19",
            "ebe45364fe19440db63d7e6f0f9d7d36",
            "f8c5e5f38e1a4d7fb2460375158185c9",
            "deb0c13909444632b8300e49faeb5bd5",
            "eb94eb8b113f45d6901be947f52f3202",
            "f3d5cc9f5cf542229fbfcc1e69c38e4c",
            "595710ae339844c4ad94e075e3ed83e1",
            "ab53fad46ce541c491e49f1efadb0de1",
            "666dc948c9e643d484e64649574d492b",
            "58c0bac5ee6049b49efb0da75bb12462",
            "7a260735b0ff4e4eb8aa68f860ef7a17",
            "513efc44b3904e62b1baec643245ba52",
            "8d3f177e95154af88f30f835a4a1a63b",
            "e30f075812d94530b66f2fd4067c2fb1",
            "9e791918b23b4ee1a8f17808c41a6bd8",
            "7e9ae5a7bbc847f7aabb3a752f19c1f7",
            "4d985c5892e44fb8979fc878964de8af",
            "f41eebc1bde943a3b064876397daf477",
            "87597c08c77b474d8eb8687b332a12bb",
            "9876071515cf48b59ddeb4d3ea32ca70",
            "c99a500560664175ae18e60f5bd27d8d",
            "fe214c211317419cb6c944cdc3a9ec2c",
            "b6d62d4ae8a8403b9cf48b8f73253824",
            "3a1cca62d50d4eccb10f95161ac061ce",
            "c79ebb1ad08b4b21b8293b87910cf817",
            "7ff8fbb702a5414ea22815a249477a27",
            "99173eb1bb114c638e9424253f7272d8",
            "62034a69044640a28a71c606494691af",
            "6e20c273f0d24081bcae949189fb36e2",
            "fc87e6fce133476489a9ea5aa913da66",
            "af57711dc4094ce2b116bea227a60c6e",
            "ca4e5f7fa2bc44dd9060df515fe56e96",
            "476a9a23231349a1bd2c819be7d8a674",
            "f155f61f1bd84b6fb95037e8406d1ee1",
            "d2d6ff6efda241589fee2b8333be14c7",
            "7436125859d74df7adb340cccc4c87ea",
            "4defed4d176c4872a192df0b8823361e",
            "2f6678c015dd4ff5a455f4703c248a8d",
            "e26043198cfc40ef93a9e037f37499d4",
            "9e74b10a95b64186a554b912d42c66ea",
            "ee49908639d442338e3f1b5dcdce3ee9",
            "b05fa8d522ea4e23a269efa72fe10cd1",
            "7eb034baa7834f9bbeac0193e9532348",
            "c5084d2fc36740f5beee9ce3fc09a68a",
            "4c154002f7884ac490b11d4ce6f259e6",
            "b41ef3c8011a4399996c0c4c144bb61d",
            "1c5f6be1173d42118fab7580c12b574c",
            "7718d3e5084e4653b5346c04847fc7f1",
            "f969a33a7dec4391a8e39be9dbe7ffa9",
            "0e389620aea8454e8d7d14b794b3e169",
            "47b25c6e4f0c432b89d0422edcd2b8fb",
            "747ed3afe4be4bc8b2e08c93f132aabf",
            "a91f71472bee4769835435efd9bfd8cb",
            "8ae566d8e41e404a98e9cee40ab29170",
            "3ad092805a7d42418e38f72f975f2c57",
            "40804ba8572642ffac9f91a6af22e246",
            "210a5a7925dd4648bf3916ebf960aeab",
            "d85d657df0394d208bd06069fcf07fd0",
            "b0fe589bc3844f28b5eb1e921b577df8",
            "ab69c313cf524cf7bd3ee466bd4b651e",
            "51e375e9671f480b89b4479c41b92ecf",
            "558ed1dedf4845f8b2d81fbd248b2f8b",
            "e8797e81652c47c5b5ea068e9a1c2b23",
            "fb1d5dac9f3b494c978a383fd3683dc2",
            "f3c1b941be974312b4c06cb050eafa5c",
            "c7e748b9ec1d43e3abbf3c3f2c51bcee",
            "72b6e86f46fa489caed5c5c19647145d",
            "fd40da80aa7748a5b1ce56cc0b6ed4e7",
            "7b6fdc7715164c49b242286367aa60e3",
            "a2bfee7a046f48acb790a6558aacaece",
            "195845f78def457bb91910a5f2218a9a",
            "36571c9b608a47fe91c4d6b69ae750a3",
            "b05da7c559f44998a1dfc90be5a26c82"
          ]
        },
        "outputId": "bde38e35-a8e9-4afe-a21b-5eec530d6845"
      },
      "outputs": [
        {
          "output_type": "display_data",
          "data": {
            "text/plain": [
              "Downloading builder script:   0%|          | 0.00/1.97k [00:00<?, ?B/s]"
            ],
            "application/vnd.jupyter.widget-view+json": {
              "version_major": 2,
              "version_minor": 0,
              "model_id": "dcf8888f65804746ab82fe710f4fb802"
            }
          },
          "metadata": {}
        },
        {
          "output_type": "display_data",
          "data": {
            "text/plain": [
              "Downloading metadata:   0%|          | 0.00/1.02k [00:00<?, ?B/s]"
            ],
            "application/vnd.jupyter.widget-view+json": {
              "version_major": 2,
              "version_minor": 0,
              "model_id": "770f7af20b134e149ef191368d53a7c2"
            }
          },
          "metadata": {}
        },
        {
          "output_type": "stream",
          "name": "stdout",
          "text": [
            "Downloading and preparing dataset squad/plain_text (download: 33.51 MiB, generated: 85.63 MiB, post-processed: Unknown size, total: 119.14 MiB) to /root/.cache/huggingface/datasets/squad/plain_text/1.0.0/d6ec3ceb99ca480ce37cdd35555d6cb2511d223b9150cce08a837ef62ffea453...\n"
          ]
        },
        {
          "output_type": "display_data",
          "data": {
            "text/plain": [
              "Downloading data files:   0%|          | 0/2 [00:00<?, ?it/s]"
            ],
            "application/vnd.jupyter.widget-view+json": {
              "version_major": 2,
              "version_minor": 0,
              "model_id": "e9716f312dbd400ab0c1f70376de05f2"
            }
          },
          "metadata": {}
        },
        {
          "output_type": "display_data",
          "data": {
            "text/plain": [
              "Downloading data:   0%|          | 0.00/8.12M [00:00<?, ?B/s]"
            ],
            "application/vnd.jupyter.widget-view+json": {
              "version_major": 2,
              "version_minor": 0,
              "model_id": "ab53fad46ce541c491e49f1efadb0de1"
            }
          },
          "metadata": {}
        },
        {
          "output_type": "display_data",
          "data": {
            "text/plain": [
              "Downloading data:   0%|          | 0.00/1.05M [00:00<?, ?B/s]"
            ],
            "application/vnd.jupyter.widget-view+json": {
              "version_major": 2,
              "version_minor": 0,
              "model_id": "87597c08c77b474d8eb8687b332a12bb"
            }
          },
          "metadata": {}
        },
        {
          "output_type": "display_data",
          "data": {
            "text/plain": [
              "Extracting data files:   0%|          | 0/2 [00:00<?, ?it/s]"
            ],
            "application/vnd.jupyter.widget-view+json": {
              "version_major": 2,
              "version_minor": 0,
              "model_id": "fc87e6fce133476489a9ea5aa913da66"
            }
          },
          "metadata": {}
        },
        {
          "output_type": "display_data",
          "data": {
            "text/plain": [
              "Generating train split:   0%|          | 0/87599 [00:00<?, ? examples/s]"
            ],
            "application/vnd.jupyter.widget-view+json": {
              "version_major": 2,
              "version_minor": 0,
              "model_id": "ee49908639d442338e3f1b5dcdce3ee9"
            }
          },
          "metadata": {}
        },
        {
          "output_type": "display_data",
          "data": {
            "text/plain": [
              "Generating validation split:   0%|          | 0/10570 [00:00<?, ? examples/s]"
            ],
            "application/vnd.jupyter.widget-view+json": {
              "version_major": 2,
              "version_minor": 0,
              "model_id": "747ed3afe4be4bc8b2e08c93f132aabf"
            }
          },
          "metadata": {}
        },
        {
          "output_type": "stream",
          "name": "stdout",
          "text": [
            "Dataset squad downloaded and prepared to /root/.cache/huggingface/datasets/squad/plain_text/1.0.0/d6ec3ceb99ca480ce37cdd35555d6cb2511d223b9150cce08a837ef62ffea453. Subsequent calls will reuse this data.\n"
          ]
        },
        {
          "output_type": "display_data",
          "data": {
            "text/plain": [
              "  0%|          | 0/2 [00:00<?, ?it/s]"
            ],
            "application/vnd.jupyter.widget-view+json": {
              "version_major": 2,
              "version_minor": 0,
              "model_id": "e8797e81652c47c5b5ea068e9a1c2b23"
            }
          },
          "metadata": {}
        }
      ],
      "source": [
        "squad = load_dataset(\"squad\")"
      ]
    },
    {
      "cell_type": "markdown",
      "metadata": {
        "id": "VbCUz66GYrev"
      },
      "source": [
        "The following utility just reads a SQuAD split in as a list of `SquadExample` instances:"
      ]
    },
    {
      "cell_type": "code",
      "execution_count": null,
      "metadata": {
        "id": "B9-0hkxgYrew"
      },
      "outputs": [],
      "source": [
        "SquadExample = namedtuple(\"SquadExample\",  \"id title context question answers\")"
      ]
    },
    {
      "cell_type": "code",
      "execution_count": null,
      "metadata": {
        "id": "g2gt0dkeYrew"
      },
      "outputs": [],
      "source": [
        "def get_squad_split(squad, split=\"validation\"):\n",
        "    \"\"\"\n",
        "    Use `split='train'` for the train split.\n",
        "    \n",
        "    Returns\n",
        "    -------\n",
        "    list of SquadExample named tuples with attributes\n",
        "    id, title, context, question, answers\n",
        "    \n",
        "    \"\"\"    \n",
        "    fields = squad[split].features\n",
        "    data = zip(*[squad[split][field] for field in fields])\n",
        "    return [SquadExample(eid, title, context, question, answers[\"text\"]) \n",
        "            for eid, title, context, question, answers in data]"
      ]
    },
    {
      "cell_type": "markdown",
      "metadata": {
        "id": "DwHA-A3okTxc"
      },
      "source": [
        "### SQuAD dev"
      ]
    },
    {
      "cell_type": "code",
      "execution_count": null,
      "metadata": {
        "id": "NatnOLsDYrew"
      },
      "outputs": [],
      "source": [
        "squad_dev = get_squad_split(squad)"
      ]
    },
    {
      "cell_type": "code",
      "execution_count": 29,
      "metadata": {
        "id": "jb-ZrSzoYrew",
        "colab": {
          "base_uri": "https://localhost:8080/"
        },
        "outputId": "9f7f0d61-aa12-4d57-cf55-578fda8e94e9"
      },
      "outputs": [
        {
          "output_type": "execute_result",
          "data": {
            "text/plain": [
              "SquadExample(id='56be4db0acb8001400a502ec', title='Super_Bowl_50', context='Super Bowl 50 was an American football game to determine the champion of the National Football League (NFL) for the 2015 season. The American Football Conference (AFC) champion Denver Broncos defeated the National Football Conference (NFC) champion Carolina Panthers 24–10 to earn their third Super Bowl title. The game was played on February 7, 2016, at Levi\\'s Stadium in the San Francisco Bay Area at Santa Clara, California. As this was the 50th Super Bowl, the league emphasized the \"golden anniversary\" with various gold-themed initiatives, as well as temporarily suspending the tradition of naming each Super Bowl game with Roman numerals (under which the game would have been known as \"Super Bowl L\"), so that the logo could prominently feature the Arabic numerals 50.', question='Which NFL team represented the AFC at Super Bowl 50?', answers=['Denver Broncos', 'Denver Broncos', 'Denver Broncos'])"
            ]
          },
          "metadata": {},
          "execution_count": 29
        }
      ],
      "source": [
        "squad_dev[0]"
      ]
    },
    {
      "cell_type": "markdown",
      "metadata": {
        "id": "qFW_T2O2kTxc"
      },
      "source": [
        "### SQuAD dev sample\n",
        "\n",
        "We'll use this fixed but presumably quite random set of examples for exploration and system development:"
      ]
    },
    {
      "cell_type": "code",
      "execution_count": 30,
      "metadata": {
        "id": "5xYYmrn4kTxc"
      },
      "outputs": [],
      "source": [
        "dev_exs = sorted(squad_dev, key=lambda x: hash(x.id))[: 200]"
      ]
    },
    {
      "cell_type": "markdown",
      "metadata": {
        "id": "CzbfGtSZkTxd"
      },
      "source": [
        "### SQuAD train\n",
        "\n",
        "To build few-shot prompts, we will often sample SQuAD train examples, so we load that split here:"
      ]
    },
    {
      "cell_type": "code",
      "execution_count": null,
      "metadata": {
        "id": "QT4lmA01kTxd"
      },
      "outputs": [],
      "source": [
        "squad_train = get_squad_split(squad, \"train\")"
      ]
    },
    {
      "cell_type": "markdown",
      "metadata": {
        "id": "DZpXMk-0Yrew"
      },
      "source": [
        "## Evaluation\n",
        "\n",
        "Our evaluation protocols are the standard ones for SQuAD and related tasks: exact match of the answer (EM) and token-level F1.\n",
        "\n",
        "We say further that the predicted answer is the first line of generated text after the prompt.\n",
        "\n",
        "The following evaluation code is taken from the [apple/ml-qrecc](https://github.com/apple/ml-qrecc/blob/main/utils/evaluate_qa.py) repository. It performs very basic string normalization before doing the core comparisons."
      ]
    },
    {
      "cell_type": "code",
      "execution_count": null,
      "metadata": {
        "id": "nHHntDSSYrew"
      },
      "outputs": [],
      "source": [
        "def normalize_answer(s: str) -> str:\n",
        "    \"\"\"Lower text and remove punctuation, articles and extra whitespace.\"\"\"\n",
        "\n",
        "    def remove_articles(text):\n",
        "        regex = re.compile(r'\\b(a|an|the)\\b', re.UNICODE)\n",
        "        return re.sub(regex, ' ', text)\n",
        "\n",
        "    def white_space_fix(text):\n",
        "        return ' '.join(text.split())\n",
        "\n",
        "    def remove_punc(text):\n",
        "        exclude = set(string.punctuation)\n",
        "        return ''.join(ch for ch in text if ch not in exclude)\n",
        "\n",
        "    def lower(text):\n",
        "        return text.lower()\n",
        "\n",
        "    return white_space_fix(remove_articles(remove_punc(lower(s))))\n",
        "\n",
        "\n",
        "def get_tokens(s: str) -> List[str]:\n",
        "    \"\"\"Normalize string and split string into tokens.\"\"\"\n",
        "    if not s:\n",
        "        return []\n",
        "    return normalize_answer(s).split()\n",
        "\n",
        "\n",
        "def compute_exact(a_gold: str, a_pred: str) -> int:\n",
        "    \"\"\"Compute the Exact Match score.\"\"\"\n",
        "    return int(normalize_answer(a_gold) == normalize_answer(a_pred))\n",
        "\n",
        "\n",
        "def compute_f1_from_tokens(gold_toks: List[str], pred_toks: List[str]) -> float:\n",
        "    \"\"\"Compute the F1 score from tokenized gold answer and prediction.\"\"\"\n",
        "    common = collections.Counter(gold_toks) & collections.Counter(pred_toks)\n",
        "    num_same = sum(common.values())\n",
        "\n",
        "    if len(gold_toks) == 0 or len(pred_toks) == 0:\n",
        "        # If either is no-answer, then F1 is 1 if they agree, 0 otherwise\n",
        "        return int(gold_toks == pred_toks)\n",
        "\n",
        "    if num_same == 0:\n",
        "        return 0\n",
        "\n",
        "    precision = 1.0 * num_same / len(pred_toks)\n",
        "    recall = 1.0 * num_same / len(gold_toks)\n",
        "    f1 = (2 * precision * recall) / (precision + recall)\n",
        "    return f1\n",
        "\n",
        "\n",
        "def compute_f1(a_gold: str, a_pred: str) -> float:\n",
        "    \"\"\"Compute the F1 score.\"\"\"\n",
        "    gold_toks = get_tokens(a_gold)\n",
        "    pred_toks = get_tokens(a_pred)\n",
        "    return compute_f1_from_tokens(gold_toks, pred_toks)"
      ]
    },
    {
      "cell_type": "markdown",
      "metadata": {
        "id": "lJo6C7pgYrex"
      },
      "source": [
        "The following is our general evaluation function. We will make extensive use of it to evaluate different systems:"
      ]
    },
    {
      "cell_type": "code",
      "execution_count": null,
      "metadata": {
        "id": "bJHSxnA6Yrex"
      },
      "outputs": [],
      "source": [
        "def evaluate(examples, prompts, gens):\n",
        "    \"\"\"Generic evalution function.\n",
        "    \n",
        "    Parameters\n",
        "    ----------\n",
        "    examples: iterable of `SquadExample` instances\n",
        "    prompts: list of str\n",
        "    preds: list of LM-generated texts to evaluate as answers\n",
        "    \n",
        "    Returns\n",
        "    -------\n",
        "    dict with keys \"em_per\", \"macro_f1\", \"examples\", where\n",
        "    each \"examples\" value is a dict\n",
        "    \n",
        "    \"\"\"        \n",
        "    results = []\n",
        "    for ex, prompt, gen in zip(examples, prompts, gens):\n",
        "        answers = ex.answers\n",
        "        pred = gen['generated_answer']\n",
        "        # The result is the highest EM from the available answer strings:\n",
        "        em = max([compute_exact(ans, pred) for ans in answers])\n",
        "        f1 = max([compute_f1(ans, pred) for ans in answers])\n",
        "        gen.update({\n",
        "            \"id\": ex.id, \n",
        "            \"question\": ex.question, \n",
        "            \"prediction\": pred, \n",
        "            \"answers\": answers, \n",
        "            \"em\": em,\n",
        "            \"f1\": f1\n",
        "        })\n",
        "        results.append(gen)\n",
        "    data = {}        \n",
        "    data[\"macro_f1\"] = np.mean([d['f1'] for d in results])\n",
        "    data[\"em_per\"] = sum([d['em'] for d in results]) / len(results)\n",
        "    data[\"examples\"] = results\n",
        "    return data"
      ]
    },
    {
      "cell_type": "markdown",
      "metadata": {
        "id": "fj170C1PYrex"
      },
      "source": [
        "Here is a highly simplified example to help make the logic behind `evaluate` clearer:    "
      ]
    },
    {
      "cell_type": "code",
      "execution_count": null,
      "metadata": {
        "id": "0bgFXLK3Yrex"
      },
      "outputs": [],
      "source": [
        "ex = namedtuple(\"SquadExample\",  \"id title context question answers\")\n",
        "\n",
        "examples = [\n",
        "    ex(\"0\", \"CS224u\", \n",
        "       \"The course to take is NLU!\", \n",
        "       \"What is the course to take?\", \n",
        "       [\"NLU\", \"CS224u\"])]\n",
        "\n",
        "prompts = [\"Dear model, Please answer this question!\\n\\nQ: What is the course to take?\\n\\nA:\"]\n",
        "\n",
        "gens = [{\"generated_answer\": \"NLU\", \"generated_text\": \"NLU\\nWho am I?\"}]\n",
        "\n",
        "evaluate(examples, prompts, gens)"
      ]
    },
    {
      "cell_type": "markdown",
      "metadata": {
        "id": "MHZHve9NYrex"
      },
      "source": [
        "The bake-off uses `macro_f1` as the primary metric."
      ]
    },
    {
      "cell_type": "markdown",
      "metadata": {
        "id": "_3LQv2lbYrex"
      },
      "source": [
        "## Open QA with no context\n",
        "\n",
        "We now have all the pieces we need to begin building few-shot OpenQA systems. Our first system is the simplest and most naive: we simply feed the question text in as the prompt and hope that the model provides an answer as the first line of its generated text."
      ]
    },
    {
      "cell_type": "code",
      "execution_count": null,
      "metadata": {
        "id": "swF4V0ngYrex"
      },
      "outputs": [],
      "source": [
        "def evaluate_no_context(examples, gen_func=run_eleuther, batch_size=20):\n",
        "    prompts = [] \n",
        "    gens = []\n",
        "    for i in range(0, len(examples), batch_size):\n",
        "        ps = [ex.question for ex in examples[i: i+batch_size]]\n",
        "        gs = gen_func(ps)        \n",
        "        prompts += ps\n",
        "        gens += gs    \n",
        "    return evaluate(examples, prompts, gens)    "
      ]
    },
    {
      "cell_type": "code",
      "execution_count": null,
      "metadata": {
        "id": "aPuq5nzDYrex"
      },
      "outputs": [],
      "source": [
        "%%time\n",
        "nocontext_results = evaluate_no_context(dev_exs)\n",
        "\n",
        "print(nocontext_results['macro_f1'])"
      ]
    },
    {
      "cell_type": "code",
      "execution_count": null,
      "metadata": {
        "id": "lWi1r1-oYrey"
      },
      "outputs": [],
      "source": [
        "%%time\n",
        "nocontext_results_gpt3 = evaluate_no_context(dev_exs, gen_func=run_gpt3)\n",
        "\n",
        "print(nocontext_results_gpt3['macro_f1'])"
      ]
    },
    {
      "cell_type": "markdown",
      "metadata": {
        "id": "csAimDMGYrey"
      },
      "source": [
        "## Few-shot QA\n",
        "\n",
        "The above formulation is not especially fair to our model, since it doesn't convey anything about the intended structure of the prompt. We want the model to give us an answer to the input question, but we didn't specify that goal unambiguously. Perhaps we were looking for commentary on the question, or a count of the number of tokens it contains, or a passage containing the question string, or something else entirely.\n",
        "\n",
        "In few-shot QA, we construct a prompt that is intended to convey our intentions more clearly. The first part of the prompt gives some examples of what we want, and the final part provides the set-up for our actual question. In the current formulation, we assume access to the gold passage. For example, if our example of interest is\n",
        "\n",
        "```\n",
        "Title: CS224u\n",
        "\n",
        "Background: The course to take is NLU!\n",
        "\n",
        "Q: What is the course to take?\n",
        "```\n",
        "\n",
        "with gold answer ```NLU```, then we would create a prompt with, say, 2 additional examples preceding this, to yield a full prompt like this:\n",
        "\n",
        "```\n",
        "Title: Pragmatics\n",
        "\n",
        "Background: Pragmatics is the study of language use.\n",
        "\n",
        "Q: What is pragmatics?\n",
        "\n",
        "A: The study of language use\n",
        "\n",
        "Title: Bert\n",
        "\n",
        "Background: Bert is a Muppet who is lives with Ernie.\n",
        "\n",
        "Q: Who is Bert?\n",
        "\n",
        "A: Bert is a  Muppet\n",
        "\n",
        "Title: CS224u\n",
        "\n",
        "Background: The course to take is NLU!\n",
        "\n",
        "Q: What is the course to take?\n",
        "\n",
        "A:\n",
        "```\n",
        "This is essentially the formulation used in the GPT-3 paper for SQuAD. The context examples are drawn randomly from the SQuAD train set. We will adopt this same protocol for now. (You might revisit this in the context of your original system.)"
      ]
    },
    {
      "cell_type": "code",
      "execution_count": null,
      "metadata": {
        "id": "lhsl9yvHYrey"
      },
      "outputs": [],
      "source": [
        "def build_few_shot_qa_prompt(ex, squad_train, n_context=2, joiner=\"\\n\\n\"):\n",
        "    segs = []\n",
        "    train_exs = random.sample(squad_train, k=n_context)    \n",
        "    for t in train_exs:\n",
        "        segs += [\n",
        "            f\"Title: {t.title}\",\n",
        "            f\"Background: {t.context}\",\n",
        "            f\"Q: {t.question}\",\n",
        "            f\"A: {t.answers[0]}\"\n",
        "        ]\n",
        "    segs += [\n",
        "        f\"Title: {ex.title}\",\n",
        "        f\"Background: {ex.context}\",\n",
        "        f\"Q: {ex.question}\",\n",
        "        f\"A:\"\n",
        "    ]\n",
        "    return joiner.join(segs)                "
      ]
    },
    {
      "cell_type": "markdown",
      "metadata": {
        "id": "XzLghzI5Yrez"
      },
      "source": [
        "Here's the sort of output we get with `n_context=1`:"
      ]
    },
    {
      "cell_type": "code",
      "execution_count": null,
      "metadata": {
        "id": "VEuVae4xYrez"
      },
      "outputs": [],
      "source": [
        "print(build_few_shot_qa_prompt(dev_exs[0], squad_train, n_context=1))"
      ]
    },
    {
      "cell_type": "code",
      "execution_count": null,
      "metadata": {
        "id": "VUwgM625Yrez"
      },
      "outputs": [],
      "source": [
        "def evaluate_few_shot_qa(examples, squad_train, gen_func=run_eleuther, batch_size=20, n_context=2):\n",
        "    prompts = []\n",
        "    gens = []\n",
        "    for i in range(0, len(examples), batch_size):\n",
        "        batch = examples[i: i+batch_size]\n",
        "        ps = [build_few_shot_qa_prompt(ex, squad_train, n_context=n_context) for ex in batch]        \n",
        "        gs = gen_func(ps)       \n",
        "        prompts += ps\n",
        "        gens += gs\n",
        "    return evaluate(examples, prompts, gens)"
      ]
    },
    {
      "cell_type": "code",
      "execution_count": null,
      "metadata": {
        "id": "UelblRFCYrez"
      },
      "outputs": [],
      "source": [
        "%%time\n",
        "few_shot_qa_results = evaluate_few_shot_qa(dev_exs, squad_train, n_context=1)\n",
        "\n",
        "print(few_shot_qa_results['macro_f1'])"
      ]
    },
    {
      "cell_type": "code",
      "execution_count": null,
      "metadata": {
        "id": "-fdPsEbmYrez"
      },
      "outputs": [],
      "source": [
        "%%time\n",
        "few_shot_qa_results_gpt3 = evaluate_few_shot_qa(\n",
        "    dev_exs, squad_train, n_context=1, gen_func=run_gpt3)\n",
        "\n",
        "print(few_shot_qa_results_gpt3['macro_f1'])"
      ]
    },
    {
      "cell_type": "markdown",
      "metadata": {
        "id": "WfvVdsGrYre0"
      },
      "source": [
        "## ColBERT\n",
        "\n",
        "It's now just a short step to our core task, few-shot OpenQA. We just need to give up our beloved gold passage and instead try to retrieve the right passage or passages from a corpus. \n",
        "\n",
        "The first step is instantiating the ColBERT retriever and loading in an index. Our ColBERT retriever was initially trained on MS MARCO, and we have pre-indexed a collection of 100K documents that we know to be well-aligned with SQuAD and with the dataset used for the bake-off assessment. (See [the original system question](#Your-original-system-[3-points]) for tips on creating your own index.)"
      ]
    },
    {
      "cell_type": "code",
      "execution_count": null,
      "metadata": {
        "id": "9FYJ-fqPkTxg"
      },
      "outputs": [],
      "source": [
        "index_home = os.path.join(\"experiments\", \"notebook\", \"indexes\")"
      ]
    },
    {
      "cell_type": "markdown",
      "metadata": {
        "id": "NFYxJPpuYre0"
      },
      "source": [
        "### ColBERT parameters"
      ]
    },
    {
      "cell_type": "code",
      "execution_count": null,
      "metadata": {
        "id": "5tnUU2UHYre0"
      },
      "outputs": [],
      "source": [
        "if not os.path.exists(os.path.join(\"data\", \"openqa\", \"colbertv2.0.tar.gz\")):\n",
        "    !mkdir -p data/openqa\n",
        "    # ColBERTv2 checkpoint trained on MS MARCO Passage Ranking (388MB compressed)\n",
        "    !wget https://downloads.cs.stanford.edu/nlp/data/colbert/colbertv2/colbertv2.0.tar.gz -P data/openqa/\n",
        "    !tar -xvzf data/openqa/colbertv2.0.tar.gz -C data/openqa/"
      ]
    },
    {
      "cell_type": "markdown",
      "metadata": {
        "id": "cjZ1hZJnYre0"
      },
      "source": [
        "If something went wrong with the above, you can just download the file https://downloads.cs.stanford.edu/nlp/data/colbert/colbertv2/colbertv2.0.tar.gz, unarchive it, and move the resulting `colbertv2.0` directory into the `data/openqa` directory."
      ]
    },
    {
      "cell_type": "markdown",
      "metadata": {
        "id": "QzRjL61eYre0"
      },
      "source": [
        "### ColBERT index"
      ]
    },
    {
      "cell_type": "code",
      "execution_count": null,
      "metadata": {
        "id": "jD0U5Outa9HU"
      },
      "outputs": [],
      "source": [
        "if not os.path.exists(os.path.join(index_home, \"cs224u.collection.2bits.tgz\")):\n",
        "    !wget https://web.stanford.edu/class/cs224u/data/cs224u.collection.2bits.tgz -P experiments/notebook/indexes\n",
        "    !tar -xvzf experiments/notebook/indexes/cs224u.collection.2bits.tgz -C experiments/notebook/indexes"
      ]
    },
    {
      "cell_type": "markdown",
      "metadata": {
        "id": "61ergQcQYre0"
      },
      "source": [
        "If something went wrong with the above, download the file https://web.stanford.edu/class/cs224u/data/cs224u.collection.2bits.tgz, unarchive it, and move the resulting `cs224u.collection.2bits` directory into the `experiments/notebook/indexes` directory (which you will probably need to create)."
      ]
    },
    {
      "cell_type": "code",
      "execution_count": null,
      "metadata": {
        "id": "XtEGC6MyYre0"
      },
      "outputs": [],
      "source": [
        "collection = os.path.join(index_home, \"cs224u.collection.2bits\", \"cs224u.collection.tsv\")\n",
        "\n",
        "collection = Collection(path=collection)\n",
        "\n",
        "f'Loaded {len(collection):,} passages'"
      ]
    },
    {
      "cell_type": "code",
      "execution_count": null,
      "metadata": {
        "id": "BixmAYizYre0"
      },
      "outputs": [],
      "source": [
        "index_name = \"cs224u.collection.2bits\""
      ]
    },
    {
      "cell_type": "markdown",
      "metadata": {
        "id": "tdGo2VdekTxi"
      },
      "source": [
        "Now we create our `searcher`:"
      ]
    },
    {
      "cell_type": "code",
      "execution_count": null,
      "metadata": {
        "id": "N6wYpChzYre1"
      },
      "outputs": [],
      "source": [
        "with Run().context(RunConfig(experiment='notebook')):\n",
        "    searcher = Searcher(index=index_name)"
      ]
    },
    {
      "cell_type": "markdown",
      "metadata": {
        "id": "dex5KPUTYre1"
      },
      "source": [
        "### Search\n",
        "\n",
        "Now that the index is loaded, you can do searches over it. The index is limited, but retrieval is very solid!"
      ]
    },
    {
      "cell_type": "code",
      "execution_count": null,
      "metadata": {
        "id": "-v2jKaR8Yre1"
      },
      "outputs": [],
      "source": [
        "query = \"linguistics\"\n",
        "\n",
        "print(f\"#> {query}\")\n",
        "\n",
        "# Find the top-3 passages for this query\n",
        "results = searcher.search(query, k=3) \n",
        "\n",
        "# Print out the top-k retrieved passages\n",
        "for passage_id, passage_rank, passage_score in zip(*results):\n",
        "    print(f\"\\t[{passage_rank}]\\t{passage_score:.1f}\\t {searcher.collection[passage_id]}\")"
      ]
    },
    {
      "cell_type": "markdown",
      "metadata": {
        "id": "w9n0_xwdYre1"
      },
      "source": [
        "### Retrieval evaluation\n",
        "\n",
        "For more rigorous evaluations of the retriever alone, we can use Sucess@`k` defined relative to the SQuAD passages and answers. We say that we have a \"success\" if a passage in the top `k` retrieved passages contains any of the answers substrings, and Sucess@`k` is the percentage of such success cases. This is very heuristic (perhaps the answer string happens to occur somewhere in a completely irrelevant passage), but it can still be good guidance."
      ]
    },
    {
      "cell_type": "code",
      "execution_count": null,
      "metadata": {
        "id": "fsNayHzdYre1"
      },
      "outputs": [],
      "source": [
        "def success_at_k(examples, k=20):\n",
        "    scores = []\n",
        "    for ex in examples: \n",
        "        scores.append(evaluate_retrieval_example(ex, k=5))\n",
        "    return sum(scores) / len(scores)\n",
        "        \n",
        "    \n",
        "def evaluate_retrieval_example(ex, k=20):    \n",
        "    results = searcher.search(ex.question, k=k)\n",
        "    for passage_id, passage_rank, passage_score in zip(*results):\n",
        "        passage = searcher.collection[passage_id]\n",
        "        score = has_answer([DPR_normalize(ans) for ans in ex.answers], passage)\n",
        "        if score:\n",
        "            return 1\n",
        "    return 0"
      ]
    },
    {
      "cell_type": "markdown",
      "metadata": {
        "id": "k2U4v58dYre1"
      },
      "source": [
        "Here is Sucess@20 for the SQuAD dev set:"
      ]
    },
    {
      "cell_type": "code",
      "execution_count": null,
      "metadata": {
        "id": "J2oEmspeYre1"
      },
      "outputs": [],
      "source": [
        "%%time\n",
        "if torch.cuda.is_available():\n",
        "    # This will take a few hours on a CPU:\n",
        "    print(success_at_k(squad_dev))\n",
        "else:\n",
        "    # This should be reasonably fast and yields the\n",
        "    # same kind of result:\n",
        "    print(success_at_k(dev_exs))"
      ]
    },
    {
      "cell_type": "markdown",
      "metadata": {
        "id": "teKobQM8Yre1"
      },
      "source": [
        "## Zero-shot OpenQA with ColBERT retrieval\n",
        "\n",
        "We're now in a position to define a system that does our full few-shot OpenQA task. To get this started, we define just a version that doesn't include any SQuaD-training examples in the prompt. So this is really zero-shot OpenQA. (The homework asks you to move to the true few-shot setting.)"
      ]
    },
    {
      "cell_type": "code",
      "execution_count": null,
      "metadata": {
        "id": "jbn4BHr4Yre1"
      },
      "outputs": [],
      "source": [
        "def build_zero_shot_openqa_prompt(question, passage, joiner=\"\\n\\n\"):\n",
        "    title, context = passage.split(\" | \", 1)\n",
        "    segs = [\n",
        "        f\"Title: {title}\",\n",
        "        f\"Background: {context}\",\n",
        "        f\"Q: {question}\",\n",
        "        \"A:\"\n",
        "    ]\n",
        "    return joiner.join(segs)    "
      ]
    },
    {
      "cell_type": "code",
      "execution_count": null,
      "metadata": {
        "id": "Xjz7l_yQYre2"
      },
      "outputs": [],
      "source": [
        "def evaluate_zero_shot_openqa(examples, joiner=\"\\n\\n\", gen_func=run_eleuther, batch_size=20):\n",
        "    prompts = []\n",
        "    gens = []\n",
        "    for i in range(0, len(examples), batch_size):\n",
        "        exs = examples[i: i+batch_size]\n",
        "        results = [searcher.search(ex.question, k=1) for ex in exs]\n",
        "        passages = [searcher.collection[r[0][0]] for r in results]\n",
        "        ps = [build_zero_shot_openqa_prompt(ex.question, psg, joiner=joiner) \n",
        "              for ex, psg in zip(exs, passages)]\n",
        "        gs = gen_func(ps)       \n",
        "        prompts += ps\n",
        "        gens += gs\n",
        "    return evaluate(examples, prompts, gens)"
      ]
    },
    {
      "cell_type": "code",
      "execution_count": null,
      "metadata": {
        "id": "21DfS0hHYre2"
      },
      "outputs": [],
      "source": [
        "%%time\n",
        "zero_shot_openqa_results = evaluate_zero_shot_openqa(dev_exs)\n",
        "\n",
        "print(zero_shot_openqa_results['macro_f1'])"
      ]
    },
    {
      "cell_type": "code",
      "execution_count": null,
      "metadata": {
        "id": "MNhMla71Yre2"
      },
      "outputs": [],
      "source": [
        "%%time\n",
        "zero_shot_openqa_results_gpt3 = evaluate_zero_shot_openqa(dev_exs, gen_func=run_gpt3)\n",
        "\n",
        "zero_shot_openqa_results_gpt3['macro_f1']"
      ]
    },
    {
      "cell_type": "markdown",
      "metadata": {
        "id": "outblNTaYre2"
      },
      "source": [
        "## Homework questions\n",
        "\n",
        "Please embed your homework responses in this notebook, and do not delete any cells from the notebook. (You are free to add as many cells as you like as part of your responses.)"
      ]
    },
    {
      "cell_type": "markdown",
      "metadata": {
        "id": "wKs0WQwzkTxl"
      },
      "source": [
        "### Few-shot OpenQA with no context [2 points]\n",
        "\n",
        "In the section [Open QA with no context](#Open-QA-with-no-context) above, we simply prompted our LM with a question string and looked at what came back. This is arguably unfair to the LM, since we didn't convey anything about our intentions.\n",
        "\n",
        "For a fairer assessment of what the LM alone can do, we should move to the few-shot setting by giving the model a few examples of what we have in mind. The idea here is to create prompts that look like this:\n",
        "\n",
        "   ```   \n",
        "   Q: What is pragmatics?\n",
        "\n",
        "   A: The study of language use\n",
        "\n",
        "   Q: Who is Bert?\n",
        "\n",
        "   A: Bert is one of the Muppets.\n",
        "\n",
        "   Q: What was Stanford University founded?\n",
        "   \n",
        "   A: \n",
        "   ```\n",
        "   \n",
        "This question asks you to write a function for creating such prompts, using SQuAD training examples, and a second function for evaluating this approach. The goal is to have a no context baseline for the other few-shot approaches we are considering.\n",
        "\n",
        "__Task 1___: Complete the function `build_few_shot_no_context_prompt` so that it builds prompts like the above. You can use `test_build_few_shot_no_context_prompt` to check that your function is returning prompts in the desired format.\n",
        "\n",
        "__Task 2__: Complete the function `evaluate_few_shot_no_context` so that you can evaluate this approach. You can use `test_evaluator` to check that your function is performing the desired kind of evaluation."
      ]
    },
    {
      "cell_type": "code",
      "execution_count": null,
      "metadata": {
        "id": "r51ZvoLikTxl"
      },
      "outputs": [],
      "source": [
        "def build_few_shot_no_context_prompt(question, train_exs, joiner=\"\\n\\n\"):\n",
        "    \"\"\"No context few-shot OpenQA prompts.\n",
        "\n",
        "    Parameters\n",
        "    ----------\n",
        "    question : str   \n",
        "    train_exs : iterable of SQuAD train examples. These can be \n",
        "        obtained via a random sample \n",
        "        from `squad_train` as defined above.\n",
        "    joiner : str\n",
        "        The character to use to join pieces of the prompt into \n",
        "        a single str.\n",
        "\n",
        "    Returns\n",
        "    -------\n",
        "    str, the prompt\n",
        "\n",
        "    \"\"\"\n",
        "    ##### YOUR CODE HERE\n",
        "\n",
        "\n"
      ]
    },
    {
      "cell_type": "code",
      "execution_count": null,
      "metadata": {
        "id": "TVpgV_WhkTxl"
      },
      "outputs": [],
      "source": [
        "def test_build_few_shot_no_context_prompt(func):\n",
        "    train_exs = [\n",
        "        SquadExample(0, \"T1\", \"Q1\", \"C1\", [\"A1\"]),\n",
        "        SquadExample(1, \"T2\", \"Q2\", \"C2\", [\"A2\"]),\n",
        "        SquadExample(2, \"T3\", \"Q3\", \"C3\", [\"A3\"])]\n",
        "    question = \"My Q\"\n",
        "    result = func(question, train_exs, joiner=\"\\n\")\n",
        "    expected = \"\"\n",
        "    tests = [\n",
        "        (1, \"\\n\", 'Q: C1\\nA: A1\\nQ: My Q\\nA:'),                \n",
        "        (1, \"\\n\\n\", 'Q: C1\\n\\nA: A1\\n\\nQ: My Q\\n\\nA:'),\n",
        "        (2, \"\\n\", 'Q: C1\\nA: A1\\nQ: C2\\nA: A2\\nQ: My Q\\nA:')]\n",
        "    err_count = 0       \n",
        "    for n_context, joiner, expected in tests:\n",
        "        result = func(question, train_exs[: n_context], joiner=joiner)\n",
        "        if result != expected:\n",
        "            err_count +=1 \n",
        "            print(f\"Error:\\n\\nExpected:\\n\\n{expected}\\n\\nGot:\\n\\n{result}\")    \n",
        "    if err_count == 0:\n",
        "        print(\"No errors detected in `build_few_shot_no_context_prompt`\")     "
      ]
    },
    {
      "cell_type": "code",
      "execution_count": null,
      "metadata": {
        "id": "lGkCrGUEkTxl"
      },
      "outputs": [],
      "source": [
        "test_build_few_shot_no_context_prompt(build_few_shot_no_context_prompt)"
      ]
    },
    {
      "cell_type": "code",
      "execution_count": null,
      "metadata": {
        "id": "m9f_UY4AkTxm"
      },
      "outputs": [],
      "source": [
        "def evaluate_few_shot_no_context(\n",
        "        examples,\n",
        "        squad_train,\n",
        "        batch_size=20,\n",
        "        n_context=2,\n",
        "        joiner=\"\\n\\n\",\n",
        "        gen_func=run_eleuther):\n",
        "    \"\"\"Evaluate a few-shot OpenQA with no context approach \n",
        "    defined by `build_few_shot_no_context_prompt` and `gen_func`.\n",
        "\n",
        "    Parameters\n",
        "    ----------\n",
        "    examples : iterable of SQuAD train examples\n",
        "        Presumably a subset of `squad_dev` as defined above.\n",
        "    squad_train : iterable of SQuAD train examples\n",
        "    batch_size : int\n",
        "        Number of examples to send to `gen_func` at once.\n",
        "    n_context : n\n",
        "        Number of examples to use from `squad_train`.\n",
        "    joiner : str\n",
        "        Used by `build_few_shot_open_qa_prompt` to join segments\n",
        "        of the prompt into a single str.\n",
        "    gen_func : either `run_eleuther` or `run_gpt3`\n",
        "\n",
        "    Returns\n",
        "    -------\n",
        "    dict as determined by `evaluate` above.\n",
        "\n",
        "    \"\"\"\n",
        "    # A list of strings that you build and feed into `gen_func`.\n",
        "    prompts = []\n",
        "\n",
        "    # A list of dicts that you get from `gen_func`.\n",
        "    gens = []\n",
        "\n",
        "    # Iterate through the examples in batches:\n",
        "    for i in range(0, len(examples), batch_size):\n",
        "        # Sample some SQuAD training examples to use with\n",
        "        # `build_few_shot_no_context_prompt` and `ex.question`,\n",
        "        # run the resulting prompt through `gen_func`, and\n",
        "        # add your prompts and results to `prompts` and `gens`.\n",
        "\n",
        "        ##### YOUR CODE HERE\n",
        "\n",
        "\n",
        "\n",
        "    # Return value from a call to `evalaute`, with `examples`\n",
        "    # as provided by the user and the `prompts` and `gens`\n",
        "    # you built:\n",
        "    return evaluate(examples, prompts, gens)"
      ]
    },
    {
      "cell_type": "code",
      "execution_count": null,
      "metadata": {
        "id": "N5_Z8CjlkTxm"
      },
      "outputs": [],
      "source": [
        "def test_evaluator(func):\n",
        "    examples = [SquadExample(0, \"T1\", \"Q1\", \"C1\", [\"A1\"])]    \n",
        "    squad_train = [SquadExample(0, \"sT1\", \"sQ1\", \"sC1\", [\"sA1\"])] \n",
        "    \n",
        "    def gen_func(*prompts):\n",
        "        return [{\n",
        "            \"generated_answer\": \"Constant output\", \n",
        "            \"generated_answer_tokens\": [\"Constant\", \"output\"], \n",
        "            \"generated_answer_probs\": [0.1, 0.2]}]\n",
        "    \n",
        "    batch_size = 1    \n",
        "    n_context = 1    \n",
        "    joiner = \"\\n\"\n",
        "    result = func(\n",
        "        examples, \n",
        "        squad_train, \n",
        "        batch_size=1, \n",
        "        n_context=1, \n",
        "        joiner=joiner, \n",
        "        gen_func=gen_func)\n",
        "    expected_keys = {'em_per', 'examples', 'macro_f1'}\n",
        "    result_keys = set(result.keys())     \n",
        "    if expected_keys != result_keys:\n",
        "        print(f\"Unexpected keys in result. \"\n",
        "              f\"Expected: {expected_keys}; Got: {result_keys}\")\n",
        "        return\n",
        "    expected_ex_keys = {\n",
        "        'f1', 'id', 'em', 'generated_answer_tokens', 'generated_answer_probs',\n",
        "        'prediction', 'generated_answer', 'question', 'answers'}\n",
        "    result_ex_keys = set(result[\"examples\"][0].keys())\n",
        "    if expected_ex_keys != result_ex_keys:\n",
        "        print(f\"Unexpected keys in result['examples']. \"\n",
        "              f\"Expected: {expected_ex_keys}; Got: {result_ex_keys}\")\n",
        "        return\n",
        "    print(\"No errors detected in `evaluate_few_shot_open_qa`\")  "
      ]
    },
    {
      "cell_type": "code",
      "execution_count": null,
      "metadata": {
        "id": "uJGWjjq_kTxm"
      },
      "outputs": [],
      "source": [
        "test_evaluator(evaluate_few_shot_no_context)"
      ]
    },
    {
      "cell_type": "markdown",
      "metadata": {
        "id": "w2mx3Z4HYre2"
      },
      "source": [
        "### Few-shot OpenQA [2 points]\n",
        "\n",
        "In the section [Few-shot QA](Few-shot-QA) above, we used SQuAD training examples to build prompts that we hope will help the model infer our intended semantics for the prompts themselves. When we moved to the open formulation of the problem, in [Open QA with ColBERT retrieval](Open-QA-with-ColBERT-retrieval), we forced the model to deal with prompts that lack these context clues. This is a \"zero-shot\" formulation of the problem. The goal of this homework problem is to improve that system so that it truly supports few-shot OpenQA.\n",
        "\n",
        "__Task 1__: Complete the function `build_few_shot_open_qa_prompt` so that it builds prompts from a question, a passage, and a sample of SQuAD training examples. You can use `test_build_few_shot_open_qa_prompt` to check that your function is returning prompts in the desired format.\n",
        "\n",
        "__Task 2__: Complete the function `evaluate_few_shot_open_qa` so that you can evaluate this approach. You can use `test_evaluator` from above to check that your function is performing the desired kind of evaluation.\n",
        "\n",
        "We will be checking only that the tests pass. We will not be evaluating the quality of the results you obtain using this code."
      ]
    },
    {
      "cell_type": "code",
      "execution_count": null,
      "metadata": {
        "id": "HUuZ5l3gYre2"
      },
      "outputs": [],
      "source": [
        "def build_few_shot_open_qa_prompt(question, passage, train_exs, joiner=\"\\n\\n\"):\n",
        "    \"\"\"Few-shot OpenQA prompts.\n",
        "\n",
        "    Parameters\n",
        "    ----------\n",
        "    question : str\n",
        "    passage : str\n",
        "        Presumably something retrieved via search.\n",
        "    train_exs : iterable of SQuAD train examples\n",
        "        These can be obtained via a random sample from \n",
        "        `squad_train` as defined above.\n",
        "    joiner : str\n",
        "        The character to use to join pieces of the prompt \n",
        "        into a single str.\n",
        "\n",
        "    Returns\n",
        "    -------\n",
        "    str, the prompt\n",
        "\n",
        "    \"\"\"\n",
        "    ##### YOUR CODE HERE\n",
        "\n",
        "\n"
      ]
    },
    {
      "cell_type": "code",
      "execution_count": null,
      "metadata": {
        "id": "vgeNwTu4Yre2"
      },
      "outputs": [],
      "source": [
        "def test_build_few_shot_open_qa_prompt(func):\n",
        "    train_exs = [\n",
        "        SquadExample(0, \"T1\", \"Q1\", \"C1\", [\"A1\"]),\n",
        "        SquadExample(1, \"T2\", \"Q2\", \"C2\", [\"A2\"]),\n",
        "        SquadExample(2, \"T3\", \"Q3\", \"C3\", [\"A3\"])]            \n",
        "    question = \"My Q\"    \n",
        "    passage = \"Title | target passage\"    \n",
        "    tests = [\n",
        "        (1, \"\\n\", ('Title: T1\\nBackground: Q1\\nQ: C1\\nA: A1\\n'\n",
        "                   'Title: Title\\nBackground: target passage\\nQ: My Q\\nA:')),\n",
        "        (1, \"\\n\\n\", ('Title: T1\\n\\nBackground: Q1\\n\\nQ: C1\\n\\nA: A1\\n\\n'\n",
        "                     'Title: Title\\n\\nBackground: target passage\\n\\nQ: My Q\\n\\nA:')),\n",
        "        (2, \"\\n\", ('Title: T1\\nBackground: Q1\\nQ: C1\\nA: A1\\nTitle: T2\\n'\n",
        "                   'Background: Q2\\nQ: C2\\nA: A2\\nTitle: Title\\n'\n",
        "                   'Background: target passage\\nQ: My Q\\nA:'))]\n",
        "    err_count = 0       \n",
        "    for n_context, joiner, expected in tests:\n",
        "        result = func(question, passage, train_exs[: n_context], joiner=joiner)\n",
        "        if result != expected:\n",
        "            err_count +=1 \n",
        "            print(f\"Error:\\n\\nExpected:\\n\\n{expected}\\n\\nGot:\\n\\n{result}\")    \n",
        "    if err_count == 0:\n",
        "        print(\"No errors detected in `build_few_shot_open_qa_prompt`\")"
      ]
    },
    {
      "cell_type": "code",
      "execution_count": null,
      "metadata": {
        "id": "lK991-2AYre3"
      },
      "outputs": [],
      "source": [
        "test_build_few_shot_open_qa_prompt(build_few_shot_open_qa_prompt)"
      ]
    },
    {
      "cell_type": "code",
      "execution_count": null,
      "metadata": {
        "id": "DRhoMeEGYre3"
      },
      "outputs": [],
      "source": [
        "def evaluate_few_shot_open_qa(\n",
        "        examples,\n",
        "        squad_train,\n",
        "        batch_size=20,\n",
        "        n_context=2,\n",
        "        joiner=\"\\n\\n\",\n",
        "        gen_func=run_eleuther):\n",
        "    \"\"\"Evaluate a few-shot OpenQA approach defined by \n",
        "    `build_few_shot_open_qa_prompt` and `gen_func`.\n",
        "\n",
        "    Parameters\n",
        "    ----------\n",
        "    examples : iterable of SQuAD train examples\n",
        "        Presumably a subset of `squad_dev` as defined above.\n",
        "    squad_train : iterable of SQuAD train examples\n",
        "    batch_size : int\n",
        "        Number of examples to send to `gen_func` at once.\n",
        "    joiner : str\n",
        "        Used by `build_few_shot_open_qa_prompt` to join segments\n",
        "        of the prompt into a single str.\n",
        "    gen_func : either `run_eleuther` or `run_gpt3`\n",
        "\n",
        "    Returns\n",
        "    -------\n",
        "    dict as determined by `evaluate` above.\n",
        "\n",
        "    \"\"\"\n",
        "    # A list of strings that you build and feed into `gen_func`.\n",
        "    prompts = []\n",
        "\n",
        "    # A list of dicts that you get from `gen_func`.\n",
        "    gens = []\n",
        "\n",
        "    # Iterate through the examples in batches:\n",
        "    for i in range(0, len(examples), batch_size):\n",
        "        # Use the `searcher` defined above to get passages\n",
        "        # using `ex.question` as the query, and use your\n",
        "        # `build_few_shot_open_qa_prompt` to build prompts.\n",
        "\n",
        "        ##### YOUR CODE HERE\n",
        "\n",
        "\n",
        "\n",
        "    # Return value from a call to `evalaute`, with `examples`\n",
        "    # as provided by the user and the `prompts` and `gens`\n",
        "    # you built:\n",
        "    return evaluate(examples, prompts, gens)"
      ]
    },
    {
      "cell_type": "code",
      "execution_count": null,
      "metadata": {
        "id": "beEyy_eOYre3"
      },
      "outputs": [],
      "source": [
        "test_evaluator(evaluate_few_shot_open_qa)"
      ]
    },
    {
      "cell_type": "code",
      "execution_count": null,
      "metadata": {
        "id": "pXNI9BRNYre3"
      },
      "outputs": [],
      "source": [
        "\n"
      ]
    },
    {
      "cell_type": "markdown",
      "metadata": {
        "id": "oXeQzplkYre3"
      },
      "source": [
        "### Answer scoring [2 points]\n",
        "\n",
        "We have so far been assuming that the top-ranked passage retrieved by ColBERT should be used in the prompt and that the single answer returned by the LM is our prediction. It may be possible to improve on this by scoring answers using the ColBERT scores and the probabilities returned by the LM. This question asks you to explore a basic approach to such scoring. The core scoring function:\n",
        "\n",
        "$$\n",
        "\\textbf{score}_{\\text{prompt-func}}(\\textrm{answer}, \\textrm{passage}, \\textrm{question}) = \n",
        "P(\\textrm{passage} \\mid \\textrm{question}) \\cdot \n",
        "P(\\textrm{answer} \\mid \\text{prompt-func}(\\textrm{question}, \\textrm{passage}) ) \n",
        "$$\n",
        "\n",
        "where we estimate the two conditional probabilities as follows:\n",
        "\n",
        "* $P(\\textrm{passage} \\mid \\textrm{question})$ is defined only for the top $k$ passages and defined by the softmax of the top $k$ scores returned by the retriever.\n",
        "\n",
        "* $P(\\textrm{answer} \\mid \\text{prompt-func}(\\textrm{question}, \\textrm{passage}))$ is simply the product of the per-token probabilities of the generated answer given the prompt determined by $\\text{prompt-func}(\\textrm{question}, \\textrm{passage})$. These values can be extracted from the return values of both `run_eleuther` and `run_gpt3` using the key `\"generated_answer_probs\"`. (Your prompt function might of course have other arguments not represented here.)\n",
        "\n",
        "__Your task__: Implement this scoring function for an individual example. The two required pieces are `get_passages_with_scores` and `answer_scoring`. Starter code for each is below, and each has a unit test you can run to check your work.\n",
        "\n",
        "(With this implemented, it is easy to create a new prediction function that uses the $\\textrm{answer}$ from the highest-scoring $\\textrm{answer}/\\textrm{passage}$ pair as the prediction for input $\\textrm{question}$. You are not required to implement such a prediction function, but you might do this as part of [your original system](#Your-original-system-[3-points]).)"
      ]
    },
    {
      "cell_type": "code",
      "execution_count": null,
      "metadata": {
        "id": "m7PhfMNsYre3"
      },
      "outputs": [],
      "source": [
        "def get_passages_with_scores(question, k=5):\n",
        "    \"\"\"Pseudo-probabilities from the retriever.\n",
        "\n",
        "    Parameters\n",
        "    ----------\n",
        "    question : str\n",
        "    k : int\n",
        "        Number of passages to retrieve.\n",
        "\n",
        "    Returns\n",
        "    -------\n",
        "    passages (list of str), passage_probs (np.array)\n",
        "\n",
        "    \"\"\"\n",
        "    # Use the `searcher` to get `k` passages for `questions`:\n",
        "    ##### YOUR CODE HERE\n",
        "\n",
        "\n",
        "\n",
        "    # Softmax normalize the scores and convert the list to\n",
        "    # a NumPy array:\n",
        "    ##### YOUR CODE HERE\n",
        "\n",
        "\n",
        "\n",
        "    # Get the passages as a list of texts:\n",
        "    ##### YOUR CODE HERE\n",
        "\n",
        "\n"
      ]
    },
    {
      "cell_type": "code",
      "execution_count": null,
      "metadata": {
        "id": "-vqCNOtMYre4"
      },
      "outputs": [],
      "source": [
        "def test_get_passages_with_scores(func):\n",
        "    question = \"What is linguistics?\"        \n",
        "    passages, passage_probs = get_passages_with_scores(question, k=2)    \n",
        "    if len(passages) != len(passage_probs):\n",
        "        print(\"`get_passages_with_scores` should return equal length \"\n",
        "              \"lists of passages and passage probabilities.\")\n",
        "        return\n",
        "    if len(passages) != 2:\n",
        "        print(f\"`get_passages_with_scores` should return `k` passages. Yours returns {len(passages)}\")\n",
        "        return\n",
        "    if not all(isinstance(psg, str) for psg in passages):\n",
        "        print(\"The first return argument should be a list of passage strings.\")\n",
        "        return\n",
        "    if not all(isinstance(p, (float, np.float32, np.float64)) for p in passage_probs): \n",
        "        print(\"The second return argument should be a list of floats.\")\n",
        "        return \n",
        "    print(\"No errors detected in `get_passages_with_scores`\")"
      ]
    },
    {
      "cell_type": "code",
      "execution_count": null,
      "metadata": {
        "id": "kfsb4pyHYre4"
      },
      "outputs": [],
      "source": [
        "test_get_passages_with_scores(get_passages_with_scores)"
      ]
    },
    {
      "cell_type": "code",
      "execution_count": null,
      "metadata": {
        "id": "SwQVdCb6Yre4"
      },
      "outputs": [],
      "source": [
        "def answer_scoring(passages, passage_probs, prompts, gen_func=run_eleuther):\n",
        "    \"\"\"Implements our basic scoring strategy.\n",
        "\n",
        "    Parameters\n",
        "    ----------\n",
        "    passages : list of str\n",
        "    passage_probs : list of float\n",
        "    prompts : list of str\n",
        "    gen_func : either `run_eleuther` or `run_gpt3`\n",
        "\n",
        "    Returns\n",
        "    -------\n",
        "    list of pairs (score, dict), sorted with the largest score first.\n",
        "    `dict` should be the return value of `gen_func` for an example.\n",
        "\n",
        "    \"\"\"\n",
        "    data = []\n",
        "    for passage, passage_prob, prompt in zip(passages, passage_probs, prompts):\n",
        "        # Run `gen_func` on [prompt] (crucially, the singleton list here),\n",
        "        # and get the dictionary `gen` from the singleton list `gen_func`\n",
        "        # returns, and then use the values to score `gen` according to our\n",
        "        # scoring method.\n",
        "        #\n",
        "        # Be sure to use \"generated_answer_probs\" for the scores.\n",
        "        ##### YOUR CODE HERE\n",
        "\n",
        "\n",
        "\n",
        "    # Return `data`, sorted with the highest scoring `(score, gen)`\n",
        "    # pair given first.\n",
        "    ##### YOUR CODE HERE\n",
        "\n",
        "\n"
      ]
    },
    {
      "cell_type": "code",
      "execution_count": null,
      "metadata": {
        "id": "JD7d8ucgYre4"
      },
      "outputs": [],
      "source": [
        "def test_answer_scoring(func):\n",
        "    passages = [\n",
        "        \"Pragmatics is the study of language use.\", \n",
        "        \"Phonology is the study of linguistic sound systems.\"]\n",
        "    passage_probs = [0.75, 0.25]\n",
        "    prompts = passages\n",
        "    \n",
        "    def gen_func(*prompts):\n",
        "        return [{\n",
        "            \"generated_answer\": \"Constant output\", \n",
        "            \"generated_answer_tokens\": [\"Constant\", \"output\"], \n",
        "            \"generated_answer_probs\": [0.1, 0.2]}]\n",
        "    \n",
        "    data = func(passages, passage_probs, prompts, gen_func=gen_func)\n",
        "    \n",
        "    if not all(len(x) == 2 for x in data):\n",
        "        print(\"`answer_scoring` should return a list of pairs (score, gen)\")\n",
        "        return \n",
        "    if not isinstance(data[0][0], (float, np.float32, np.float64)):\n",
        "        print(\"The first member of each pair in `data` should be a score (type `float`).\")\n",
        "        return    \n",
        "    if not isinstance(data[0][1], dict):\n",
        "        print(\"The second member of each pair in `data` should be a dict \" \n",
        "              \"created by running `gen_func` on a single example.\")\n",
        "        return    \n",
        "    if data[0][0] != max([x for x, y in data]):\n",
        "        print(\"`answer_scoring` should sort its data with the highest score first.\")\n",
        "        return \n",
        "    \n",
        "    print(\"No errors detected in `answer_scoring`\")"
      ]
    },
    {
      "cell_type": "code",
      "execution_count": null,
      "metadata": {
        "id": "QWwwDzvBYre4"
      },
      "outputs": [],
      "source": [
        "test_answer_scoring(answer_scoring)"
      ]
    },
    {
      "cell_type": "code",
      "execution_count": null,
      "metadata": {
        "id": "OUcdfU9SYre4"
      },
      "outputs": [],
      "source": [
        "def answer_scoring_demo(question):\n",
        "    \"\"\"Example usage for answer_scoring. Here we extract the top-scoring\n",
        "    results, which can then be used in an evaluation.\"\"\"    \n",
        "    passages, passage_probs = get_passages_with_scores(question)\n",
        "    prompts = [build_zero_shot_openqa_prompt(question, psg) for psg in passages]\n",
        "    data = answer_scoring(passages, passage_probs, prompts)\n",
        "    # Top-scoring answer string:\n",
        "    return data[0][1]"
      ]
    },
    {
      "cell_type": "code",
      "execution_count": null,
      "metadata": {
        "id": "Gyyyk2itkTxq"
      },
      "outputs": [],
      "source": [
        "answer_scoring_demo(\"How long is Moby Dick?\")"
      ]
    },
    {
      "cell_type": "markdown",
      "metadata": {
        "id": "PmURWvoJYre4"
      },
      "source": [
        "### Your original system [3 points]\n",
        "\n",
        "This question asks you to design your own few-shot OpenQA system. All of the code above can be used and modified for this, and the requirement is just that you try something new that goes beyond what we've done so far. \n",
        "\n",
        "Terms for the bake-off:\n",
        "\n",
        "* You can make free use of SQuAD and other publicly available data.\n",
        "* The LM must be an autoregressive language model. No trained QA components can be used. Our list of preallowed models are those available via the OpenAI API whose names begin with \"text\" and the Eluether models \"gpt-neo-125M\", \"gpt-neo-1.3B\", \"gpt-neo-2.7B\", and \"gpt-j-6B\". If you would like to use a model outside of this set, please check with the teaching team first.\n",
        "\n",
        "Here are some ideas for the original system:\n",
        "\n",
        "* We have so far sampled randomly from the SQuaD train set to create few-shot prompts. One might instead sample passages that have some connection to the target question.\n",
        "\n",
        "* We have used actual SQuAD training examples to build contexts. These might be different in meaningful ways from the passages in our corpus. An alternative is to use the SQuAD question–answer pairs to retrieve passages that contain the answer and use the resulting question–answer–passage triple when building prompts.\n",
        "\n",
        "* There are a lot of parameters to our LMs that we have so far ignored. Exploring different values might lead to better results. The `temperature` parameter is highly impactful for our task.\n",
        "\n",
        "* We have distributed a fixed index of 100K passages. These cover SQuAD plus our bake-off data, but there might still be value in creating a different/expanded index. There is starter code for indexing data with ColBERT [here](https://github.com/stanford-futuredata/ColBERT/blob/new_api/docs/intro.ipynb).\n",
        "\n",
        "* [Khattab et al. (2021a)](https://aclanthology.org/2021.tacl-1.55/) fine-tune the retriever through a handful of successive rounds, using weak supervision from the QA dataset. This is an ambitious direction that could quickly build to an original project, as the role of retriever training is under-explored so far in the context of few-shot OpenQA.\n",
        "\n",
        "* In our \"Answer scoring\" question, we don't normalize scores by answer length. Such normalization might be fairer to long answers and so seems worth adding.\n",
        "\n",
        "* Our \"Answer scoring\" question is inspired by the Retrieval Augmented Generation (RAG) model of [Lewis et al. 2020](https://arxiv.org/abs/2005.11401). Their model fully marginalizes over $k$ retrieved passages to create a proper model of $P(\\textrm{answer} \\mid \\textrm{question})$. Implementing this requires having the probabilities for the prompts. For GPT-3, these can be obtained with `echo=False`, which will lead you to have to make changes to the output processing of `run_gpt3`. For the Eleuther models, one needs to do another call to the model forward function. Here is some starter code that could be used to begin modifying `run_eleuther`:\n",
        "\n",
        "   ```\n",
        "    prompt_logits = eleuther_model(prompt_ids).logits                \n",
        "    prompt_probs = prompt_logits.softmax(-1)                                   \n",
        "    prompt_probs = torch.gather(prompt_probs, 2, prompt_ids[:, :, None]).squeeze(-1)\n",
        "    prompt_probs = [list(prompt_prob.numpy()) for p in prompt_probs]\n",
        "   ```\n",
        "\n",
        "__Original system instructions__:\n",
        "\n",
        "In the cell below, please provide a brief technical description of your original system, so that the teaching team can gain an understanding of what it does. This will help us to understand your code and analyze all the submissions to identify patterns and strategies. \n",
        "\n",
        "We also ask that you report the best macro F1 score your system got during development on `dev_exs` [as defined above](#SQuAD-dev-sample), just to help us understand how systems performed overall.\n",
        "\n",
        "Please review the descriptions in the following comment and follow the instructions."
      ]
    },
    {
      "cell_type": "code",
      "execution_count": null,
      "metadata": {
        "id": "D9pfDIrPYre4"
      },
      "outputs": [],
      "source": [
        "# PLEASE MAKE SURE TO INCLUDE THE FOLLOWING BETWEEN THE START AND STOP COMMENTS:\n",
        "#   1) Textual description of your system.\n",
        "#   2) The code for your original system.\n",
        "#   3) The score achieved by your system in place of MY_NUMBER.\n",
        "#        With no other changes to that line.\n",
        "#        You should report your score as a decimal value <=1.0\n",
        "# PLEASE MAKE SURE NOT TO DELETE OR EDIT THE START AND STOP COMMENTS\n",
        "\n",
        "# NOTE: MODULES, CODE AND DATASETS REQUIRED FOR YOUR ORIGINAL SYSTEM\n",
        "# SHOULD BE ADDED BELOW THE 'IS_GRADESCOPE_ENV' CHECK CONDITION. DOING\n",
        "# SO ABOVE THE CHECK MAY CAUSE THE AUTOGRADER TO FAIL.\n",
        "\n",
        "# START COMMENT: Enter your system description in this cell.\n",
        "# My peak score was: MY_NUMBER\n",
        "if 'IS_GRADESCOPE_ENV' not in os.environ:\n",
        "    pass\n",
        "\n",
        "# STOP COMMENT: Please do not remove this comment."
      ]
    },
    {
      "cell_type": "markdown",
      "metadata": {
        "id": "zS3G0Ss7Yre4"
      },
      "source": [
        "## Bake-off [1 point]\n",
        "\n",
        "For the bake-off, you simply need to be able to run your system on the file \n",
        "\n",
        "```data/openqa/cs224u-openqa-test-unlabeled.txt```\n",
        "\n",
        "The following code should download it for you if necessary:"
      ]
    },
    {
      "cell_type": "code",
      "execution_count": null,
      "metadata": {
        "id": "Zb1rod3DkTxr"
      },
      "outputs": [],
      "source": [
        "if not os.path.exists(os.path.join(\"data\", \"openqa\", \"cs224u-openqa-test-unlabeled.txt\")):\n",
        "    !mkdir -p data/openqa\n",
        "    !wget https://web.stanford.edu/class/cs224u/data/cs224u-openqa-test-unlabeled.txt -P data/openqa/"
      ]
    },
    {
      "cell_type": "markdown",
      "metadata": {
        "id": "yFvy_6LmkTxr"
      },
      "source": [
        "If the above fails, you can just download https://web.stanford.edu/class/cs224u/data/cs224u-openqa-test-unlabeled.txt and place it in `data/openqa`.\n",
        "\n",
        "This file contains only questions. The starter code below will help you structure this. It writes a file \"cs224u-openqa-bakeoff-entry.json\" to the current directory. That file should be uploaded as-is. Please do not change its name."
      ]
    },
    {
      "cell_type": "code",
      "execution_count": null,
      "metadata": {
        "id": "GyttYJxoYre4"
      },
      "outputs": [],
      "source": [
        "def create_bakeoff_submission():\n",
        "    filename = os.path.join(\"data\", \"openqa\", \"cs224u-openqa-test-unlabeled.txt\")\n",
        "    \n",
        "    # This should become a mapping from questions (str) to response\n",
        "    # dicts from your system.\n",
        "    gens = {} \n",
        "        \n",
        "    with open(filename) as f:\n",
        "        questions = f.read().splitlines()\n",
        "    \n",
        "    # `questions` is the list of questions you need to evaluate your system on.\n",
        "    # Put whatever code you need to in here to evaluate your system.\n",
        "    # All you need to be sure to do is create a list of dicts with at least\n",
        "    # the keys of the dicts returned by `run_gpt` and `run_eleuther`.\n",
        "    # Add those dicts to `gens`.\n",
        "    #\n",
        "    # Here is an example where we just do \"Open QA with no context\",\n",
        "    # for an \"original system\" that would not earn any credit (since\n",
        "    # it is not original!):\n",
        "    for question in questions:\n",
        "        gens[question] = run_eleuther([question])[0]\n",
        "        \n",
        "    # Quick tests we advise you to run: \n",
        "    # 1. Make sure `gens` is a dict with the questions as the keys:\n",
        "    assert all(q in gens for q in questions)\n",
        "    # 2. Make sure the values are dicts and have the key we will use:\n",
        "    assert all(isinstance(d, dict) and \"generated_answer\" in d for d in gens.values())\n",
        "            \n",
        "    # And finally the output file:\n",
        "    with open(\"cs224u-openqa-bakeoff-entry.json\", \"wt\") as f:\n",
        "        json.dump(gens, f, indent=4)    "
      ]
    },
    {
      "cell_type": "code",
      "execution_count": null,
      "metadata": {
        "id": "6d6EsfM5kTxs"
      },
      "outputs": [],
      "source": [
        "create_bakeoff_submission()"
      ]
    },
    {
      "cell_type": "code",
      "execution_count": null,
      "metadata": {
        "id": "YmS5WxuukTxs"
      },
      "outputs": [],
      "source": [
        "\n"
      ]
    },
    {
      "cell_type": "code",
      "execution_count": null,
      "metadata": {
        "id": "6IR6qr3ckTxs"
      },
      "outputs": [],
      "source": [
        ""
      ]
    }
  ],
  "metadata": {
    "accelerator": "GPU",
    "colab": {
      "name": "My hw_openqa_solved.ipynb",
      "provenance": [],
      "collapsed_sections": [
        "PmURWvoJYre4",
        "zS3G0Ss7Yre4"
      ],
      "machine_shape": "hm",
      "include_colab_link": true
    },
    "interpreter": {
      "hash": "a99ac6d2deb03d0b7ced3594556c328848678d7cea021ae1b9990e15d3ad5c49"
    },
    "kernelspec": {
      "display_name": "Python 3 (ipykernel)",
      "language": "python",
      "name": "python3"
    },
    "language_info": {
      "codemirror_mode": {
        "name": "ipython",
        "version": 3
      },
      "file_extension": ".py",
      "mimetype": "text/x-python",
      "name": "python",
      "nbconvert_exporter": "python",
      "pygments_lexer": "ipython3",
      "version": "3.9.7"
    },
    "widgets": {
      "application/vnd.jupyter.widget-state+json": {
        "60fc978c38de4b7380486c3628a80580": {
          "model_module": "@jupyter-widgets/controls",
          "model_name": "HBoxModel",
          "model_module_version": "1.5.0",
          "state": {
            "_dom_classes": [],
            "_model_module": "@jupyter-widgets/controls",
            "_model_module_version": "1.5.0",
            "_model_name": "HBoxModel",
            "_view_count": null,
            "_view_module": "@jupyter-widgets/controls",
            "_view_module_version": "1.5.0",
            "_view_name": "HBoxView",
            "box_style": "",
            "children": [
              "IPY_MODEL_5f094894e4434ec1b8f3035953a54561",
              "IPY_MODEL_b3ca85c21bc54756a79f47c2a1bd3bf2",
              "IPY_MODEL_3539f428334a48dcbbeb93fd65fd567e"
            ],
            "layout": "IPY_MODEL_0e8a97bab2294583bf0ebf2cb469b404"
          }
        },
        "5f094894e4434ec1b8f3035953a54561": {
          "model_module": "@jupyter-widgets/controls",
          "model_name": "HTMLModel",
          "model_module_version": "1.5.0",
          "state": {
            "_dom_classes": [],
            "_model_module": "@jupyter-widgets/controls",
            "_model_module_version": "1.5.0",
            "_model_name": "HTMLModel",
            "_view_count": null,
            "_view_module": "@jupyter-widgets/controls",
            "_view_module_version": "1.5.0",
            "_view_name": "HTMLView",
            "description": "",
            "description_tooltip": null,
            "layout": "IPY_MODEL_850c7b8b9a7348b7a717b6949c19d975",
            "placeholder": "​",
            "style": "IPY_MODEL_5bad75932665486dab40377b41dcae7e",
            "value": "Downloading: 100%"
          }
        },
        "b3ca85c21bc54756a79f47c2a1bd3bf2": {
          "model_module": "@jupyter-widgets/controls",
          "model_name": "FloatProgressModel",
          "model_module_version": "1.5.0",
          "state": {
            "_dom_classes": [],
            "_model_module": "@jupyter-widgets/controls",
            "_model_module_version": "1.5.0",
            "_model_name": "FloatProgressModel",
            "_view_count": null,
            "_view_module": "@jupyter-widgets/controls",
            "_view_module_version": "1.5.0",
            "_view_name": "ProgressView",
            "bar_style": "success",
            "description": "",
            "description_tooltip": null,
            "layout": "IPY_MODEL_5b3a6c7f95ff4bcfb6a0f6a53e31c363",
            "max": 560,
            "min": 0,
            "orientation": "horizontal",
            "style": "IPY_MODEL_5040f8d0972c4e1b885394b67fdc964b",
            "value": 560
          }
        },
        "3539f428334a48dcbbeb93fd65fd567e": {
          "model_module": "@jupyter-widgets/controls",
          "model_name": "HTMLModel",
          "model_module_version": "1.5.0",
          "state": {
            "_dom_classes": [],
            "_model_module": "@jupyter-widgets/controls",
            "_model_module_version": "1.5.0",
            "_model_name": "HTMLModel",
            "_view_count": null,
            "_view_module": "@jupyter-widgets/controls",
            "_view_module_version": "1.5.0",
            "_view_name": "HTMLView",
            "description": "",
            "description_tooltip": null,
            "layout": "IPY_MODEL_d77e4365e28049ecaef374394eed15ef",
            "placeholder": "​",
            "style": "IPY_MODEL_e97b339812294939be5d6d9870bcbb79",
            "value": " 560/560 [00:00&lt;00:00, 8.81kB/s]"
          }
        },
        "0e8a97bab2294583bf0ebf2cb469b404": {
          "model_module": "@jupyter-widgets/base",
          "model_name": "LayoutModel",
          "model_module_version": "1.2.0",
          "state": {
            "_model_module": "@jupyter-widgets/base",
            "_model_module_version": "1.2.0",
            "_model_name": "LayoutModel",
            "_view_count": null,
            "_view_module": "@jupyter-widgets/base",
            "_view_module_version": "1.2.0",
            "_view_name": "LayoutView",
            "align_content": null,
            "align_items": null,
            "align_self": null,
            "border": null,
            "bottom": null,
            "display": null,
            "flex": null,
            "flex_flow": null,
            "grid_area": null,
            "grid_auto_columns": null,
            "grid_auto_flow": null,
            "grid_auto_rows": null,
            "grid_column": null,
            "grid_gap": null,
            "grid_row": null,
            "grid_template_areas": null,
            "grid_template_columns": null,
            "grid_template_rows": null,
            "height": null,
            "justify_content": null,
            "justify_items": null,
            "left": null,
            "margin": null,
            "max_height": null,
            "max_width": null,
            "min_height": null,
            "min_width": null,
            "object_fit": null,
            "object_position": null,
            "order": null,
            "overflow": null,
            "overflow_x": null,
            "overflow_y": null,
            "padding": null,
            "right": null,
            "top": null,
            "visibility": null,
            "width": null
          }
        },
        "850c7b8b9a7348b7a717b6949c19d975": {
          "model_module": "@jupyter-widgets/base",
          "model_name": "LayoutModel",
          "model_module_version": "1.2.0",
          "state": {
            "_model_module": "@jupyter-widgets/base",
            "_model_module_version": "1.2.0",
            "_model_name": "LayoutModel",
            "_view_count": null,
            "_view_module": "@jupyter-widgets/base",
            "_view_module_version": "1.2.0",
            "_view_name": "LayoutView",
            "align_content": null,
            "align_items": null,
            "align_self": null,
            "border": null,
            "bottom": null,
            "display": null,
            "flex": null,
            "flex_flow": null,
            "grid_area": null,
            "grid_auto_columns": null,
            "grid_auto_flow": null,
            "grid_auto_rows": null,
            "grid_column": null,
            "grid_gap": null,
            "grid_row": null,
            "grid_template_areas": null,
            "grid_template_columns": null,
            "grid_template_rows": null,
            "height": null,
            "justify_content": null,
            "justify_items": null,
            "left": null,
            "margin": null,
            "max_height": null,
            "max_width": null,
            "min_height": null,
            "min_width": null,
            "object_fit": null,
            "object_position": null,
            "order": null,
            "overflow": null,
            "overflow_x": null,
            "overflow_y": null,
            "padding": null,
            "right": null,
            "top": null,
            "visibility": null,
            "width": null
          }
        },
        "5bad75932665486dab40377b41dcae7e": {
          "model_module": "@jupyter-widgets/controls",
          "model_name": "DescriptionStyleModel",
          "model_module_version": "1.5.0",
          "state": {
            "_model_module": "@jupyter-widgets/controls",
            "_model_module_version": "1.5.0",
            "_model_name": "DescriptionStyleModel",
            "_view_count": null,
            "_view_module": "@jupyter-widgets/base",
            "_view_module_version": "1.2.0",
            "_view_name": "StyleView",
            "description_width": ""
          }
        },
        "5b3a6c7f95ff4bcfb6a0f6a53e31c363": {
          "model_module": "@jupyter-widgets/base",
          "model_name": "LayoutModel",
          "model_module_version": "1.2.0",
          "state": {
            "_model_module": "@jupyter-widgets/base",
            "_model_module_version": "1.2.0",
            "_model_name": "LayoutModel",
            "_view_count": null,
            "_view_module": "@jupyter-widgets/base",
            "_view_module_version": "1.2.0",
            "_view_name": "LayoutView",
            "align_content": null,
            "align_items": null,
            "align_self": null,
            "border": null,
            "bottom": null,
            "display": null,
            "flex": null,
            "flex_flow": null,
            "grid_area": null,
            "grid_auto_columns": null,
            "grid_auto_flow": null,
            "grid_auto_rows": null,
            "grid_column": null,
            "grid_gap": null,
            "grid_row": null,
            "grid_template_areas": null,
            "grid_template_columns": null,
            "grid_template_rows": null,
            "height": null,
            "justify_content": null,
            "justify_items": null,
            "left": null,
            "margin": null,
            "max_height": null,
            "max_width": null,
            "min_height": null,
            "min_width": null,
            "object_fit": null,
            "object_position": null,
            "order": null,
            "overflow": null,
            "overflow_x": null,
            "overflow_y": null,
            "padding": null,
            "right": null,
            "top": null,
            "visibility": null,
            "width": null
          }
        },
        "5040f8d0972c4e1b885394b67fdc964b": {
          "model_module": "@jupyter-widgets/controls",
          "model_name": "ProgressStyleModel",
          "model_module_version": "1.5.0",
          "state": {
            "_model_module": "@jupyter-widgets/controls",
            "_model_module_version": "1.5.0",
            "_model_name": "ProgressStyleModel",
            "_view_count": null,
            "_view_module": "@jupyter-widgets/base",
            "_view_module_version": "1.2.0",
            "_view_name": "StyleView",
            "bar_color": null,
            "description_width": ""
          }
        },
        "d77e4365e28049ecaef374394eed15ef": {
          "model_module": "@jupyter-widgets/base",
          "model_name": "LayoutModel",
          "model_module_version": "1.2.0",
          "state": {
            "_model_module": "@jupyter-widgets/base",
            "_model_module_version": "1.2.0",
            "_model_name": "LayoutModel",
            "_view_count": null,
            "_view_module": "@jupyter-widgets/base",
            "_view_module_version": "1.2.0",
            "_view_name": "LayoutView",
            "align_content": null,
            "align_items": null,
            "align_self": null,
            "border": null,
            "bottom": null,
            "display": null,
            "flex": null,
            "flex_flow": null,
            "grid_area": null,
            "grid_auto_columns": null,
            "grid_auto_flow": null,
            "grid_auto_rows": null,
            "grid_column": null,
            "grid_gap": null,
            "grid_row": null,
            "grid_template_areas": null,
            "grid_template_columns": null,
            "grid_template_rows": null,
            "height": null,
            "justify_content": null,
            "justify_items": null,
            "left": null,
            "margin": null,
            "max_height": null,
            "max_width": null,
            "min_height": null,
            "min_width": null,
            "object_fit": null,
            "object_position": null,
            "order": null,
            "overflow": null,
            "overflow_x": null,
            "overflow_y": null,
            "padding": null,
            "right": null,
            "top": null,
            "visibility": null,
            "width": null
          }
        },
        "e97b339812294939be5d6d9870bcbb79": {
          "model_module": "@jupyter-widgets/controls",
          "model_name": "DescriptionStyleModel",
          "model_module_version": "1.5.0",
          "state": {
            "_model_module": "@jupyter-widgets/controls",
            "_model_module_version": "1.5.0",
            "_model_name": "DescriptionStyleModel",
            "_view_count": null,
            "_view_module": "@jupyter-widgets/base",
            "_view_module_version": "1.2.0",
            "_view_name": "StyleView",
            "description_width": ""
          }
        },
        "704775c94eef4ca08e575e08cf6e7549": {
          "model_module": "@jupyter-widgets/controls",
          "model_name": "HBoxModel",
          "model_module_version": "1.5.0",
          "state": {
            "_dom_classes": [],
            "_model_module": "@jupyter-widgets/controls",
            "_model_module_version": "1.5.0",
            "_model_name": "HBoxModel",
            "_view_count": null,
            "_view_module": "@jupyter-widgets/controls",
            "_view_module_version": "1.5.0",
            "_view_name": "HBoxView",
            "box_style": "",
            "children": [
              "IPY_MODEL_2d384da8922040e7a85b99c68aeb8e1e",
              "IPY_MODEL_0052cafd45474bfaaf2356a809b8ab8f",
              "IPY_MODEL_482d529f86864da49a84b7634c164b4f"
            ],
            "layout": "IPY_MODEL_e8152eb7d946460ba1ee26697acd1f28"
          }
        },
        "2d384da8922040e7a85b99c68aeb8e1e": {
          "model_module": "@jupyter-widgets/controls",
          "model_name": "HTMLModel",
          "model_module_version": "1.5.0",
          "state": {
            "_dom_classes": [],
            "_model_module": "@jupyter-widgets/controls",
            "_model_module_version": "1.5.0",
            "_model_name": "HTMLModel",
            "_view_count": null,
            "_view_module": "@jupyter-widgets/controls",
            "_view_module_version": "1.5.0",
            "_view_name": "HTMLView",
            "description": "",
            "description_tooltip": null,
            "layout": "IPY_MODEL_d70ee10baac34852afabb6c5fe377d32",
            "placeholder": "​",
            "style": "IPY_MODEL_28a095b67fdb4e64849114da743a211b",
            "value": "Downloading: 100%"
          }
        },
        "0052cafd45474bfaaf2356a809b8ab8f": {
          "model_module": "@jupyter-widgets/controls",
          "model_name": "FloatProgressModel",
          "model_module_version": "1.5.0",
          "state": {
            "_dom_classes": [],
            "_model_module": "@jupyter-widgets/controls",
            "_model_module_version": "1.5.0",
            "_model_name": "FloatProgressModel",
            "_view_count": null,
            "_view_module": "@jupyter-widgets/controls",
            "_view_module_version": "1.5.0",
            "_view_name": "ProgressView",
            "bar_style": "success",
            "description": "",
            "description_tooltip": null,
            "layout": "IPY_MODEL_746831b8b3b24f79b05eab1ede2931d7",
            "max": 1007,
            "min": 0,
            "orientation": "horizontal",
            "style": "IPY_MODEL_093bf95cbcc9471c9788e4b5e53e74ac",
            "value": 1007
          }
        },
        "482d529f86864da49a84b7634c164b4f": {
          "model_module": "@jupyter-widgets/controls",
          "model_name": "HTMLModel",
          "model_module_version": "1.5.0",
          "state": {
            "_dom_classes": [],
            "_model_module": "@jupyter-widgets/controls",
            "_model_module_version": "1.5.0",
            "_model_name": "HTMLModel",
            "_view_count": null,
            "_view_module": "@jupyter-widgets/controls",
            "_view_module_version": "1.5.0",
            "_view_name": "HTMLView",
            "description": "",
            "description_tooltip": null,
            "layout": "IPY_MODEL_882329f06a884864aed2bbb3ad767bfe",
            "placeholder": "​",
            "style": "IPY_MODEL_2d2aabaf53864d229a24aa4351cde250",
            "value": " 0.98k/0.98k [00:00&lt;00:00, 37.0kB/s]"
          }
        },
        "e8152eb7d946460ba1ee26697acd1f28": {
          "model_module": "@jupyter-widgets/base",
          "model_name": "LayoutModel",
          "model_module_version": "1.2.0",
          "state": {
            "_model_module": "@jupyter-widgets/base",
            "_model_module_version": "1.2.0",
            "_model_name": "LayoutModel",
            "_view_count": null,
            "_view_module": "@jupyter-widgets/base",
            "_view_module_version": "1.2.0",
            "_view_name": "LayoutView",
            "align_content": null,
            "align_items": null,
            "align_self": null,
            "border": null,
            "bottom": null,
            "display": null,
            "flex": null,
            "flex_flow": null,
            "grid_area": null,
            "grid_auto_columns": null,
            "grid_auto_flow": null,
            "grid_auto_rows": null,
            "grid_column": null,
            "grid_gap": null,
            "grid_row": null,
            "grid_template_areas": null,
            "grid_template_columns": null,
            "grid_template_rows": null,
            "height": null,
            "justify_content": null,
            "justify_items": null,
            "left": null,
            "margin": null,
            "max_height": null,
            "max_width": null,
            "min_height": null,
            "min_width": null,
            "object_fit": null,
            "object_position": null,
            "order": null,
            "overflow": null,
            "overflow_x": null,
            "overflow_y": null,
            "padding": null,
            "right": null,
            "top": null,
            "visibility": null,
            "width": null
          }
        },
        "d70ee10baac34852afabb6c5fe377d32": {
          "model_module": "@jupyter-widgets/base",
          "model_name": "LayoutModel",
          "model_module_version": "1.2.0",
          "state": {
            "_model_module": "@jupyter-widgets/base",
            "_model_module_version": "1.2.0",
            "_model_name": "LayoutModel",
            "_view_count": null,
            "_view_module": "@jupyter-widgets/base",
            "_view_module_version": "1.2.0",
            "_view_name": "LayoutView",
            "align_content": null,
            "align_items": null,
            "align_self": null,
            "border": null,
            "bottom": null,
            "display": null,
            "flex": null,
            "flex_flow": null,
            "grid_area": null,
            "grid_auto_columns": null,
            "grid_auto_flow": null,
            "grid_auto_rows": null,
            "grid_column": null,
            "grid_gap": null,
            "grid_row": null,
            "grid_template_areas": null,
            "grid_template_columns": null,
            "grid_template_rows": null,
            "height": null,
            "justify_content": null,
            "justify_items": null,
            "left": null,
            "margin": null,
            "max_height": null,
            "max_width": null,
            "min_height": null,
            "min_width": null,
            "object_fit": null,
            "object_position": null,
            "order": null,
            "overflow": null,
            "overflow_x": null,
            "overflow_y": null,
            "padding": null,
            "right": null,
            "top": null,
            "visibility": null,
            "width": null
          }
        },
        "28a095b67fdb4e64849114da743a211b": {
          "model_module": "@jupyter-widgets/controls",
          "model_name": "DescriptionStyleModel",
          "model_module_version": "1.5.0",
          "state": {
            "_model_module": "@jupyter-widgets/controls",
            "_model_module_version": "1.5.0",
            "_model_name": "DescriptionStyleModel",
            "_view_count": null,
            "_view_module": "@jupyter-widgets/base",
            "_view_module_version": "1.2.0",
            "_view_name": "StyleView",
            "description_width": ""
          }
        },
        "746831b8b3b24f79b05eab1ede2931d7": {
          "model_module": "@jupyter-widgets/base",
          "model_name": "LayoutModel",
          "model_module_version": "1.2.0",
          "state": {
            "_model_module": "@jupyter-widgets/base",
            "_model_module_version": "1.2.0",
            "_model_name": "LayoutModel",
            "_view_count": null,
            "_view_module": "@jupyter-widgets/base",
            "_view_module_version": "1.2.0",
            "_view_name": "LayoutView",
            "align_content": null,
            "align_items": null,
            "align_self": null,
            "border": null,
            "bottom": null,
            "display": null,
            "flex": null,
            "flex_flow": null,
            "grid_area": null,
            "grid_auto_columns": null,
            "grid_auto_flow": null,
            "grid_auto_rows": null,
            "grid_column": null,
            "grid_gap": null,
            "grid_row": null,
            "grid_template_areas": null,
            "grid_template_columns": null,
            "grid_template_rows": null,
            "height": null,
            "justify_content": null,
            "justify_items": null,
            "left": null,
            "margin": null,
            "max_height": null,
            "max_width": null,
            "min_height": null,
            "min_width": null,
            "object_fit": null,
            "object_position": null,
            "order": null,
            "overflow": null,
            "overflow_x": null,
            "overflow_y": null,
            "padding": null,
            "right": null,
            "top": null,
            "visibility": null,
            "width": null
          }
        },
        "093bf95cbcc9471c9788e4b5e53e74ac": {
          "model_module": "@jupyter-widgets/controls",
          "model_name": "ProgressStyleModel",
          "model_module_version": "1.5.0",
          "state": {
            "_model_module": "@jupyter-widgets/controls",
            "_model_module_version": "1.5.0",
            "_model_name": "ProgressStyleModel",
            "_view_count": null,
            "_view_module": "@jupyter-widgets/base",
            "_view_module_version": "1.2.0",
            "_view_name": "StyleView",
            "bar_color": null,
            "description_width": ""
          }
        },
        "882329f06a884864aed2bbb3ad767bfe": {
          "model_module": "@jupyter-widgets/base",
          "model_name": "LayoutModel",
          "model_module_version": "1.2.0",
          "state": {
            "_model_module": "@jupyter-widgets/base",
            "_model_module_version": "1.2.0",
            "_model_name": "LayoutModel",
            "_view_count": null,
            "_view_module": "@jupyter-widgets/base",
            "_view_module_version": "1.2.0",
            "_view_name": "LayoutView",
            "align_content": null,
            "align_items": null,
            "align_self": null,
            "border": null,
            "bottom": null,
            "display": null,
            "flex": null,
            "flex_flow": null,
            "grid_area": null,
            "grid_auto_columns": null,
            "grid_auto_flow": null,
            "grid_auto_rows": null,
            "grid_column": null,
            "grid_gap": null,
            "grid_row": null,
            "grid_template_areas": null,
            "grid_template_columns": null,
            "grid_template_rows": null,
            "height": null,
            "justify_content": null,
            "justify_items": null,
            "left": null,
            "margin": null,
            "max_height": null,
            "max_width": null,
            "min_height": null,
            "min_width": null,
            "object_fit": null,
            "object_position": null,
            "order": null,
            "overflow": null,
            "overflow_x": null,
            "overflow_y": null,
            "padding": null,
            "right": null,
            "top": null,
            "visibility": null,
            "width": null
          }
        },
        "2d2aabaf53864d229a24aa4351cde250": {
          "model_module": "@jupyter-widgets/controls",
          "model_name": "DescriptionStyleModel",
          "model_module_version": "1.5.0",
          "state": {
            "_model_module": "@jupyter-widgets/controls",
            "_model_module_version": "1.5.0",
            "_model_name": "DescriptionStyleModel",
            "_view_count": null,
            "_view_module": "@jupyter-widgets/base",
            "_view_module_version": "1.2.0",
            "_view_name": "StyleView",
            "description_width": ""
          }
        },
        "5f28af2204f44951af30da8ff19607c1": {
          "model_module": "@jupyter-widgets/controls",
          "model_name": "HBoxModel",
          "model_module_version": "1.5.0",
          "state": {
            "_dom_classes": [],
            "_model_module": "@jupyter-widgets/controls",
            "_model_module_version": "1.5.0",
            "_model_name": "HBoxModel",
            "_view_count": null,
            "_view_module": "@jupyter-widgets/controls",
            "_view_module_version": "1.5.0",
            "_view_name": "HBoxView",
            "box_style": "",
            "children": [
              "IPY_MODEL_9affd2c86dab4c1287d858a12bdca36f",
              "IPY_MODEL_2f7e8f2f019f4110b6ff3d2cb1194207",
              "IPY_MODEL_a0b543ae60ae4d8c89bc65fb5e9c2655"
            ],
            "layout": "IPY_MODEL_b32f26847ed74c338b6a1154b1cbf025"
          }
        },
        "9affd2c86dab4c1287d858a12bdca36f": {
          "model_module": "@jupyter-widgets/controls",
          "model_name": "HTMLModel",
          "model_module_version": "1.5.0",
          "state": {
            "_dom_classes": [],
            "_model_module": "@jupyter-widgets/controls",
            "_model_module_version": "1.5.0",
            "_model_name": "HTMLModel",
            "_view_count": null,
            "_view_module": "@jupyter-widgets/controls",
            "_view_module_version": "1.5.0",
            "_view_name": "HTMLView",
            "description": "",
            "description_tooltip": null,
            "layout": "IPY_MODEL_b077e97c40c14df7b24b3b4de5c1c325",
            "placeholder": "​",
            "style": "IPY_MODEL_3603bdf6e1cd4a92be658847cd05d140",
            "value": "Downloading: 100%"
          }
        },
        "2f7e8f2f019f4110b6ff3d2cb1194207": {
          "model_module": "@jupyter-widgets/controls",
          "model_name": "FloatProgressModel",
          "model_module_version": "1.5.0",
          "state": {
            "_dom_classes": [],
            "_model_module": "@jupyter-widgets/controls",
            "_model_module_version": "1.5.0",
            "_model_name": "FloatProgressModel",
            "_view_count": null,
            "_view_module": "@jupyter-widgets/controls",
            "_view_module_version": "1.5.0",
            "_view_name": "ProgressView",
            "bar_style": "success",
            "description": "",
            "description_tooltip": null,
            "layout": "IPY_MODEL_b995d2d434884b95a6ed27ca35f0701e",
            "max": 898669,
            "min": 0,
            "orientation": "horizontal",
            "style": "IPY_MODEL_65dbec85c4c440dc87a2fe83f2c0c6de",
            "value": 898669
          }
        },
        "a0b543ae60ae4d8c89bc65fb5e9c2655": {
          "model_module": "@jupyter-widgets/controls",
          "model_name": "HTMLModel",
          "model_module_version": "1.5.0",
          "state": {
            "_dom_classes": [],
            "_model_module": "@jupyter-widgets/controls",
            "_model_module_version": "1.5.0",
            "_model_name": "HTMLModel",
            "_view_count": null,
            "_view_module": "@jupyter-widgets/controls",
            "_view_module_version": "1.5.0",
            "_view_name": "HTMLView",
            "description": "",
            "description_tooltip": null,
            "layout": "IPY_MODEL_9ebc962deaf241409e2f7807ce42d352",
            "placeholder": "​",
            "style": "IPY_MODEL_e78bad9898274b59b2b187668e3cf86a",
            "value": " 878k/878k [00:01&lt;00:00, 1.21MB/s]"
          }
        },
        "b32f26847ed74c338b6a1154b1cbf025": {
          "model_module": "@jupyter-widgets/base",
          "model_name": "LayoutModel",
          "model_module_version": "1.2.0",
          "state": {
            "_model_module": "@jupyter-widgets/base",
            "_model_module_version": "1.2.0",
            "_model_name": "LayoutModel",
            "_view_count": null,
            "_view_module": "@jupyter-widgets/base",
            "_view_module_version": "1.2.0",
            "_view_name": "LayoutView",
            "align_content": null,
            "align_items": null,
            "align_self": null,
            "border": null,
            "bottom": null,
            "display": null,
            "flex": null,
            "flex_flow": null,
            "grid_area": null,
            "grid_auto_columns": null,
            "grid_auto_flow": null,
            "grid_auto_rows": null,
            "grid_column": null,
            "grid_gap": null,
            "grid_row": null,
            "grid_template_areas": null,
            "grid_template_columns": null,
            "grid_template_rows": null,
            "height": null,
            "justify_content": null,
            "justify_items": null,
            "left": null,
            "margin": null,
            "max_height": null,
            "max_width": null,
            "min_height": null,
            "min_width": null,
            "object_fit": null,
            "object_position": null,
            "order": null,
            "overflow": null,
            "overflow_x": null,
            "overflow_y": null,
            "padding": null,
            "right": null,
            "top": null,
            "visibility": null,
            "width": null
          }
        },
        "b077e97c40c14df7b24b3b4de5c1c325": {
          "model_module": "@jupyter-widgets/base",
          "model_name": "LayoutModel",
          "model_module_version": "1.2.0",
          "state": {
            "_model_module": "@jupyter-widgets/base",
            "_model_module_version": "1.2.0",
            "_model_name": "LayoutModel",
            "_view_count": null,
            "_view_module": "@jupyter-widgets/base",
            "_view_module_version": "1.2.0",
            "_view_name": "LayoutView",
            "align_content": null,
            "align_items": null,
            "align_self": null,
            "border": null,
            "bottom": null,
            "display": null,
            "flex": null,
            "flex_flow": null,
            "grid_area": null,
            "grid_auto_columns": null,
            "grid_auto_flow": null,
            "grid_auto_rows": null,
            "grid_column": null,
            "grid_gap": null,
            "grid_row": null,
            "grid_template_areas": null,
            "grid_template_columns": null,
            "grid_template_rows": null,
            "height": null,
            "justify_content": null,
            "justify_items": null,
            "left": null,
            "margin": null,
            "max_height": null,
            "max_width": null,
            "min_height": null,
            "min_width": null,
            "object_fit": null,
            "object_position": null,
            "order": null,
            "overflow": null,
            "overflow_x": null,
            "overflow_y": null,
            "padding": null,
            "right": null,
            "top": null,
            "visibility": null,
            "width": null
          }
        },
        "3603bdf6e1cd4a92be658847cd05d140": {
          "model_module": "@jupyter-widgets/controls",
          "model_name": "DescriptionStyleModel",
          "model_module_version": "1.5.0",
          "state": {
            "_model_module": "@jupyter-widgets/controls",
            "_model_module_version": "1.5.0",
            "_model_name": "DescriptionStyleModel",
            "_view_count": null,
            "_view_module": "@jupyter-widgets/base",
            "_view_module_version": "1.2.0",
            "_view_name": "StyleView",
            "description_width": ""
          }
        },
        "b995d2d434884b95a6ed27ca35f0701e": {
          "model_module": "@jupyter-widgets/base",
          "model_name": "LayoutModel",
          "model_module_version": "1.2.0",
          "state": {
            "_model_module": "@jupyter-widgets/base",
            "_model_module_version": "1.2.0",
            "_model_name": "LayoutModel",
            "_view_count": null,
            "_view_module": "@jupyter-widgets/base",
            "_view_module_version": "1.2.0",
            "_view_name": "LayoutView",
            "align_content": null,
            "align_items": null,
            "align_self": null,
            "border": null,
            "bottom": null,
            "display": null,
            "flex": null,
            "flex_flow": null,
            "grid_area": null,
            "grid_auto_columns": null,
            "grid_auto_flow": null,
            "grid_auto_rows": null,
            "grid_column": null,
            "grid_gap": null,
            "grid_row": null,
            "grid_template_areas": null,
            "grid_template_columns": null,
            "grid_template_rows": null,
            "height": null,
            "justify_content": null,
            "justify_items": null,
            "left": null,
            "margin": null,
            "max_height": null,
            "max_width": null,
            "min_height": null,
            "min_width": null,
            "object_fit": null,
            "object_position": null,
            "order": null,
            "overflow": null,
            "overflow_x": null,
            "overflow_y": null,
            "padding": null,
            "right": null,
            "top": null,
            "visibility": null,
            "width": null
          }
        },
        "65dbec85c4c440dc87a2fe83f2c0c6de": {
          "model_module": "@jupyter-widgets/controls",
          "model_name": "ProgressStyleModel",
          "model_module_version": "1.5.0",
          "state": {
            "_model_module": "@jupyter-widgets/controls",
            "_model_module_version": "1.5.0",
            "_model_name": "ProgressStyleModel",
            "_view_count": null,
            "_view_module": "@jupyter-widgets/base",
            "_view_module_version": "1.2.0",
            "_view_name": "StyleView",
            "bar_color": null,
            "description_width": ""
          }
        },
        "9ebc962deaf241409e2f7807ce42d352": {
          "model_module": "@jupyter-widgets/base",
          "model_name": "LayoutModel",
          "model_module_version": "1.2.0",
          "state": {
            "_model_module": "@jupyter-widgets/base",
            "_model_module_version": "1.2.0",
            "_model_name": "LayoutModel",
            "_view_count": null,
            "_view_module": "@jupyter-widgets/base",
            "_view_module_version": "1.2.0",
            "_view_name": "LayoutView",
            "align_content": null,
            "align_items": null,
            "align_self": null,
            "border": null,
            "bottom": null,
            "display": null,
            "flex": null,
            "flex_flow": null,
            "grid_area": null,
            "grid_auto_columns": null,
            "grid_auto_flow": null,
            "grid_auto_rows": null,
            "grid_column": null,
            "grid_gap": null,
            "grid_row": null,
            "grid_template_areas": null,
            "grid_template_columns": null,
            "grid_template_rows": null,
            "height": null,
            "justify_content": null,
            "justify_items": null,
            "left": null,
            "margin": null,
            "max_height": null,
            "max_width": null,
            "min_height": null,
            "min_width": null,
            "object_fit": null,
            "object_position": null,
            "order": null,
            "overflow": null,
            "overflow_x": null,
            "overflow_y": null,
            "padding": null,
            "right": null,
            "top": null,
            "visibility": null,
            "width": null
          }
        },
        "e78bad9898274b59b2b187668e3cf86a": {
          "model_module": "@jupyter-widgets/controls",
          "model_name": "DescriptionStyleModel",
          "model_module_version": "1.5.0",
          "state": {
            "_model_module": "@jupyter-widgets/controls",
            "_model_module_version": "1.5.0",
            "_model_name": "DescriptionStyleModel",
            "_view_count": null,
            "_view_module": "@jupyter-widgets/base",
            "_view_module_version": "1.2.0",
            "_view_name": "StyleView",
            "description_width": ""
          }
        },
        "c17cfaba919740b2a0737f6467e401a1": {
          "model_module": "@jupyter-widgets/controls",
          "model_name": "HBoxModel",
          "model_module_version": "1.5.0",
          "state": {
            "_dom_classes": [],
            "_model_module": "@jupyter-widgets/controls",
            "_model_module_version": "1.5.0",
            "_model_name": "HBoxModel",
            "_view_count": null,
            "_view_module": "@jupyter-widgets/controls",
            "_view_module_version": "1.5.0",
            "_view_name": "HBoxView",
            "box_style": "",
            "children": [
              "IPY_MODEL_7693bba999da4a5aa00f8b80b93033ce",
              "IPY_MODEL_8dda0783b61e4fa0b15b067a3edde7ed",
              "IPY_MODEL_2d3531fa44f8443b8bf6db4ce70c28bf"
            ],
            "layout": "IPY_MODEL_2d330683ae74434586f39a079ed602cd"
          }
        },
        "7693bba999da4a5aa00f8b80b93033ce": {
          "model_module": "@jupyter-widgets/controls",
          "model_name": "HTMLModel",
          "model_module_version": "1.5.0",
          "state": {
            "_dom_classes": [],
            "_model_module": "@jupyter-widgets/controls",
            "_model_module_version": "1.5.0",
            "_model_name": "HTMLModel",
            "_view_count": null,
            "_view_module": "@jupyter-widgets/controls",
            "_view_module_version": "1.5.0",
            "_view_name": "HTMLView",
            "description": "",
            "description_tooltip": null,
            "layout": "IPY_MODEL_64b8a98caa574e05898dfab287daaebc",
            "placeholder": "​",
            "style": "IPY_MODEL_39d2bfb749e64f1f895e5a46f9fee71f",
            "value": "Downloading: 100%"
          }
        },
        "8dda0783b61e4fa0b15b067a3edde7ed": {
          "model_module": "@jupyter-widgets/controls",
          "model_name": "FloatProgressModel",
          "model_module_version": "1.5.0",
          "state": {
            "_dom_classes": [],
            "_model_module": "@jupyter-widgets/controls",
            "_model_module_version": "1.5.0",
            "_model_name": "FloatProgressModel",
            "_view_count": null,
            "_view_module": "@jupyter-widgets/controls",
            "_view_module_version": "1.5.0",
            "_view_name": "ProgressView",
            "bar_style": "success",
            "description": "",
            "description_tooltip": null,
            "layout": "IPY_MODEL_ffb346b2be2744568c17588151c53978",
            "max": 456318,
            "min": 0,
            "orientation": "horizontal",
            "style": "IPY_MODEL_c2a9aa86e8c94b38b917584a56d8eb81",
            "value": 456318
          }
        },
        "2d3531fa44f8443b8bf6db4ce70c28bf": {
          "model_module": "@jupyter-widgets/controls",
          "model_name": "HTMLModel",
          "model_module_version": "1.5.0",
          "state": {
            "_dom_classes": [],
            "_model_module": "@jupyter-widgets/controls",
            "_model_module_version": "1.5.0",
            "_model_name": "HTMLModel",
            "_view_count": null,
            "_view_module": "@jupyter-widgets/controls",
            "_view_module_version": "1.5.0",
            "_view_name": "HTMLView",
            "description": "",
            "description_tooltip": null,
            "layout": "IPY_MODEL_c3515c902ab94a57b523e3d5dd1afb10",
            "placeholder": "​",
            "style": "IPY_MODEL_f85bc8c52a5347f6a6e82504b9eebad8",
            "value": " 446k/446k [00:00&lt;00:00, 626kB/s]"
          }
        },
        "2d330683ae74434586f39a079ed602cd": {
          "model_module": "@jupyter-widgets/base",
          "model_name": "LayoutModel",
          "model_module_version": "1.2.0",
          "state": {
            "_model_module": "@jupyter-widgets/base",
            "_model_module_version": "1.2.0",
            "_model_name": "LayoutModel",
            "_view_count": null,
            "_view_module": "@jupyter-widgets/base",
            "_view_module_version": "1.2.0",
            "_view_name": "LayoutView",
            "align_content": null,
            "align_items": null,
            "align_self": null,
            "border": null,
            "bottom": null,
            "display": null,
            "flex": null,
            "flex_flow": null,
            "grid_area": null,
            "grid_auto_columns": null,
            "grid_auto_flow": null,
            "grid_auto_rows": null,
            "grid_column": null,
            "grid_gap": null,
            "grid_row": null,
            "grid_template_areas": null,
            "grid_template_columns": null,
            "grid_template_rows": null,
            "height": null,
            "justify_content": null,
            "justify_items": null,
            "left": null,
            "margin": null,
            "max_height": null,
            "max_width": null,
            "min_height": null,
            "min_width": null,
            "object_fit": null,
            "object_position": null,
            "order": null,
            "overflow": null,
            "overflow_x": null,
            "overflow_y": null,
            "padding": null,
            "right": null,
            "top": null,
            "visibility": null,
            "width": null
          }
        },
        "64b8a98caa574e05898dfab287daaebc": {
          "model_module": "@jupyter-widgets/base",
          "model_name": "LayoutModel",
          "model_module_version": "1.2.0",
          "state": {
            "_model_module": "@jupyter-widgets/base",
            "_model_module_version": "1.2.0",
            "_model_name": "LayoutModel",
            "_view_count": null,
            "_view_module": "@jupyter-widgets/base",
            "_view_module_version": "1.2.0",
            "_view_name": "LayoutView",
            "align_content": null,
            "align_items": null,
            "align_self": null,
            "border": null,
            "bottom": null,
            "display": null,
            "flex": null,
            "flex_flow": null,
            "grid_area": null,
            "grid_auto_columns": null,
            "grid_auto_flow": null,
            "grid_auto_rows": null,
            "grid_column": null,
            "grid_gap": null,
            "grid_row": null,
            "grid_template_areas": null,
            "grid_template_columns": null,
            "grid_template_rows": null,
            "height": null,
            "justify_content": null,
            "justify_items": null,
            "left": null,
            "margin": null,
            "max_height": null,
            "max_width": null,
            "min_height": null,
            "min_width": null,
            "object_fit": null,
            "object_position": null,
            "order": null,
            "overflow": null,
            "overflow_x": null,
            "overflow_y": null,
            "padding": null,
            "right": null,
            "top": null,
            "visibility": null,
            "width": null
          }
        },
        "39d2bfb749e64f1f895e5a46f9fee71f": {
          "model_module": "@jupyter-widgets/controls",
          "model_name": "DescriptionStyleModel",
          "model_module_version": "1.5.0",
          "state": {
            "_model_module": "@jupyter-widgets/controls",
            "_model_module_version": "1.5.0",
            "_model_name": "DescriptionStyleModel",
            "_view_count": null,
            "_view_module": "@jupyter-widgets/base",
            "_view_module_version": "1.2.0",
            "_view_name": "StyleView",
            "description_width": ""
          }
        },
        "ffb346b2be2744568c17588151c53978": {
          "model_module": "@jupyter-widgets/base",
          "model_name": "LayoutModel",
          "model_module_version": "1.2.0",
          "state": {
            "_model_module": "@jupyter-widgets/base",
            "_model_module_version": "1.2.0",
            "_model_name": "LayoutModel",
            "_view_count": null,
            "_view_module": "@jupyter-widgets/base",
            "_view_module_version": "1.2.0",
            "_view_name": "LayoutView",
            "align_content": null,
            "align_items": null,
            "align_self": null,
            "border": null,
            "bottom": null,
            "display": null,
            "flex": null,
            "flex_flow": null,
            "grid_area": null,
            "grid_auto_columns": null,
            "grid_auto_flow": null,
            "grid_auto_rows": null,
            "grid_column": null,
            "grid_gap": null,
            "grid_row": null,
            "grid_template_areas": null,
            "grid_template_columns": null,
            "grid_template_rows": null,
            "height": null,
            "justify_content": null,
            "justify_items": null,
            "left": null,
            "margin": null,
            "max_height": null,
            "max_width": null,
            "min_height": null,
            "min_width": null,
            "object_fit": null,
            "object_position": null,
            "order": null,
            "overflow": null,
            "overflow_x": null,
            "overflow_y": null,
            "padding": null,
            "right": null,
            "top": null,
            "visibility": null,
            "width": null
          }
        },
        "c2a9aa86e8c94b38b917584a56d8eb81": {
          "model_module": "@jupyter-widgets/controls",
          "model_name": "ProgressStyleModel",
          "model_module_version": "1.5.0",
          "state": {
            "_model_module": "@jupyter-widgets/controls",
            "_model_module_version": "1.5.0",
            "_model_name": "ProgressStyleModel",
            "_view_count": null,
            "_view_module": "@jupyter-widgets/base",
            "_view_module_version": "1.2.0",
            "_view_name": "StyleView",
            "bar_color": null,
            "description_width": ""
          }
        },
        "c3515c902ab94a57b523e3d5dd1afb10": {
          "model_module": "@jupyter-widgets/base",
          "model_name": "LayoutModel",
          "model_module_version": "1.2.0",
          "state": {
            "_model_module": "@jupyter-widgets/base",
            "_model_module_version": "1.2.0",
            "_model_name": "LayoutModel",
            "_view_count": null,
            "_view_module": "@jupyter-widgets/base",
            "_view_module_version": "1.2.0",
            "_view_name": "LayoutView",
            "align_content": null,
            "align_items": null,
            "align_self": null,
            "border": null,
            "bottom": null,
            "display": null,
            "flex": null,
            "flex_flow": null,
            "grid_area": null,
            "grid_auto_columns": null,
            "grid_auto_flow": null,
            "grid_auto_rows": null,
            "grid_column": null,
            "grid_gap": null,
            "grid_row": null,
            "grid_template_areas": null,
            "grid_template_columns": null,
            "grid_template_rows": null,
            "height": null,
            "justify_content": null,
            "justify_items": null,
            "left": null,
            "margin": null,
            "max_height": null,
            "max_width": null,
            "min_height": null,
            "min_width": null,
            "object_fit": null,
            "object_position": null,
            "order": null,
            "overflow": null,
            "overflow_x": null,
            "overflow_y": null,
            "padding": null,
            "right": null,
            "top": null,
            "visibility": null,
            "width": null
          }
        },
        "f85bc8c52a5347f6a6e82504b9eebad8": {
          "model_module": "@jupyter-widgets/controls",
          "model_name": "DescriptionStyleModel",
          "model_module_version": "1.5.0",
          "state": {
            "_model_module": "@jupyter-widgets/controls",
            "_model_module_version": "1.5.0",
            "_model_name": "DescriptionStyleModel",
            "_view_count": null,
            "_view_module": "@jupyter-widgets/base",
            "_view_module_version": "1.2.0",
            "_view_name": "StyleView",
            "description_width": ""
          }
        },
        "06101e7ee98b4df49564b6584c68fadc": {
          "model_module": "@jupyter-widgets/controls",
          "model_name": "HBoxModel",
          "model_module_version": "1.5.0",
          "state": {
            "_dom_classes": [],
            "_model_module": "@jupyter-widgets/controls",
            "_model_module_version": "1.5.0",
            "_model_name": "HBoxModel",
            "_view_count": null,
            "_view_module": "@jupyter-widgets/controls",
            "_view_module_version": "1.5.0",
            "_view_name": "HBoxView",
            "box_style": "",
            "children": [
              "IPY_MODEL_383379fe15b94faf8b41e8f275d671e4",
              "IPY_MODEL_32b1008c4e8f4e7682c031b30bf389c4",
              "IPY_MODEL_e2301a6c44144aecadfd64fb2fcbf9a1"
            ],
            "layout": "IPY_MODEL_b0feee66ceaf4132a76d5cc8176e1183"
          }
        },
        "383379fe15b94faf8b41e8f275d671e4": {
          "model_module": "@jupyter-widgets/controls",
          "model_name": "HTMLModel",
          "model_module_version": "1.5.0",
          "state": {
            "_dom_classes": [],
            "_model_module": "@jupyter-widgets/controls",
            "_model_module_version": "1.5.0",
            "_model_name": "HTMLModel",
            "_view_count": null,
            "_view_module": "@jupyter-widgets/controls",
            "_view_module_version": "1.5.0",
            "_view_name": "HTMLView",
            "description": "",
            "description_tooltip": null,
            "layout": "IPY_MODEL_31e5a2f3fc6044ac8a08c5286338307e",
            "placeholder": "​",
            "style": "IPY_MODEL_3ddcad33566f44c4886629e1b09f0163",
            "value": "Downloading: 100%"
          }
        },
        "32b1008c4e8f4e7682c031b30bf389c4": {
          "model_module": "@jupyter-widgets/controls",
          "model_name": "FloatProgressModel",
          "model_module_version": "1.5.0",
          "state": {
            "_dom_classes": [],
            "_model_module": "@jupyter-widgets/controls",
            "_model_module_version": "1.5.0",
            "_model_name": "FloatProgressModel",
            "_view_count": null,
            "_view_module": "@jupyter-widgets/controls",
            "_view_module_version": "1.5.0",
            "_view_name": "ProgressView",
            "bar_style": "success",
            "description": "",
            "description_tooltip": null,
            "layout": "IPY_MODEL_fbd037a19b0245f3ae0bea1a42e126da",
            "max": 357,
            "min": 0,
            "orientation": "horizontal",
            "style": "IPY_MODEL_00ee280de0df457ab2927172e86589a9",
            "value": 357
          }
        },
        "e2301a6c44144aecadfd64fb2fcbf9a1": {
          "model_module": "@jupyter-widgets/controls",
          "model_name": "HTMLModel",
          "model_module_version": "1.5.0",
          "state": {
            "_dom_classes": [],
            "_model_module": "@jupyter-widgets/controls",
            "_model_module_version": "1.5.0",
            "_model_name": "HTMLModel",
            "_view_count": null,
            "_view_module": "@jupyter-widgets/controls",
            "_view_module_version": "1.5.0",
            "_view_name": "HTMLView",
            "description": "",
            "description_tooltip": null,
            "layout": "IPY_MODEL_b4ee18523e4f4c369b2464abd406057e",
            "placeholder": "​",
            "style": "IPY_MODEL_271abe49dc054863a07a7d4dea6c0865",
            "value": " 357/357 [00:00&lt;00:00, 12.1kB/s]"
          }
        },
        "b0feee66ceaf4132a76d5cc8176e1183": {
          "model_module": "@jupyter-widgets/base",
          "model_name": "LayoutModel",
          "model_module_version": "1.2.0",
          "state": {
            "_model_module": "@jupyter-widgets/base",
            "_model_module_version": "1.2.0",
            "_model_name": "LayoutModel",
            "_view_count": null,
            "_view_module": "@jupyter-widgets/base",
            "_view_module_version": "1.2.0",
            "_view_name": "LayoutView",
            "align_content": null,
            "align_items": null,
            "align_self": null,
            "border": null,
            "bottom": null,
            "display": null,
            "flex": null,
            "flex_flow": null,
            "grid_area": null,
            "grid_auto_columns": null,
            "grid_auto_flow": null,
            "grid_auto_rows": null,
            "grid_column": null,
            "grid_gap": null,
            "grid_row": null,
            "grid_template_areas": null,
            "grid_template_columns": null,
            "grid_template_rows": null,
            "height": null,
            "justify_content": null,
            "justify_items": null,
            "left": null,
            "margin": null,
            "max_height": null,
            "max_width": null,
            "min_height": null,
            "min_width": null,
            "object_fit": null,
            "object_position": null,
            "order": null,
            "overflow": null,
            "overflow_x": null,
            "overflow_y": null,
            "padding": null,
            "right": null,
            "top": null,
            "visibility": null,
            "width": null
          }
        },
        "31e5a2f3fc6044ac8a08c5286338307e": {
          "model_module": "@jupyter-widgets/base",
          "model_name": "LayoutModel",
          "model_module_version": "1.2.0",
          "state": {
            "_model_module": "@jupyter-widgets/base",
            "_model_module_version": "1.2.0",
            "_model_name": "LayoutModel",
            "_view_count": null,
            "_view_module": "@jupyter-widgets/base",
            "_view_module_version": "1.2.0",
            "_view_name": "LayoutView",
            "align_content": null,
            "align_items": null,
            "align_self": null,
            "border": null,
            "bottom": null,
            "display": null,
            "flex": null,
            "flex_flow": null,
            "grid_area": null,
            "grid_auto_columns": null,
            "grid_auto_flow": null,
            "grid_auto_rows": null,
            "grid_column": null,
            "grid_gap": null,
            "grid_row": null,
            "grid_template_areas": null,
            "grid_template_columns": null,
            "grid_template_rows": null,
            "height": null,
            "justify_content": null,
            "justify_items": null,
            "left": null,
            "margin": null,
            "max_height": null,
            "max_width": null,
            "min_height": null,
            "min_width": null,
            "object_fit": null,
            "object_position": null,
            "order": null,
            "overflow": null,
            "overflow_x": null,
            "overflow_y": null,
            "padding": null,
            "right": null,
            "top": null,
            "visibility": null,
            "width": null
          }
        },
        "3ddcad33566f44c4886629e1b09f0163": {
          "model_module": "@jupyter-widgets/controls",
          "model_name": "DescriptionStyleModel",
          "model_module_version": "1.5.0",
          "state": {
            "_model_module": "@jupyter-widgets/controls",
            "_model_module_version": "1.5.0",
            "_model_name": "DescriptionStyleModel",
            "_view_count": null,
            "_view_module": "@jupyter-widgets/base",
            "_view_module_version": "1.2.0",
            "_view_name": "StyleView",
            "description_width": ""
          }
        },
        "fbd037a19b0245f3ae0bea1a42e126da": {
          "model_module": "@jupyter-widgets/base",
          "model_name": "LayoutModel",
          "model_module_version": "1.2.0",
          "state": {
            "_model_module": "@jupyter-widgets/base",
            "_model_module_version": "1.2.0",
            "_model_name": "LayoutModel",
            "_view_count": null,
            "_view_module": "@jupyter-widgets/base",
            "_view_module_version": "1.2.0",
            "_view_name": "LayoutView",
            "align_content": null,
            "align_items": null,
            "align_self": null,
            "border": null,
            "bottom": null,
            "display": null,
            "flex": null,
            "flex_flow": null,
            "grid_area": null,
            "grid_auto_columns": null,
            "grid_auto_flow": null,
            "grid_auto_rows": null,
            "grid_column": null,
            "grid_gap": null,
            "grid_row": null,
            "grid_template_areas": null,
            "grid_template_columns": null,
            "grid_template_rows": null,
            "height": null,
            "justify_content": null,
            "justify_items": null,
            "left": null,
            "margin": null,
            "max_height": null,
            "max_width": null,
            "min_height": null,
            "min_width": null,
            "object_fit": null,
            "object_position": null,
            "order": null,
            "overflow": null,
            "overflow_x": null,
            "overflow_y": null,
            "padding": null,
            "right": null,
            "top": null,
            "visibility": null,
            "width": null
          }
        },
        "00ee280de0df457ab2927172e86589a9": {
          "model_module": "@jupyter-widgets/controls",
          "model_name": "ProgressStyleModel",
          "model_module_version": "1.5.0",
          "state": {
            "_model_module": "@jupyter-widgets/controls",
            "_model_module_version": "1.5.0",
            "_model_name": "ProgressStyleModel",
            "_view_count": null,
            "_view_module": "@jupyter-widgets/base",
            "_view_module_version": "1.2.0",
            "_view_name": "StyleView",
            "bar_color": null,
            "description_width": ""
          }
        },
        "b4ee18523e4f4c369b2464abd406057e": {
          "model_module": "@jupyter-widgets/base",
          "model_name": "LayoutModel",
          "model_module_version": "1.2.0",
          "state": {
            "_model_module": "@jupyter-widgets/base",
            "_model_module_version": "1.2.0",
            "_model_name": "LayoutModel",
            "_view_count": null,
            "_view_module": "@jupyter-widgets/base",
            "_view_module_version": "1.2.0",
            "_view_name": "LayoutView",
            "align_content": null,
            "align_items": null,
            "align_self": null,
            "border": null,
            "bottom": null,
            "display": null,
            "flex": null,
            "flex_flow": null,
            "grid_area": null,
            "grid_auto_columns": null,
            "grid_auto_flow": null,
            "grid_auto_rows": null,
            "grid_column": null,
            "grid_gap": null,
            "grid_row": null,
            "grid_template_areas": null,
            "grid_template_columns": null,
            "grid_template_rows": null,
            "height": null,
            "justify_content": null,
            "justify_items": null,
            "left": null,
            "margin": null,
            "max_height": null,
            "max_width": null,
            "min_height": null,
            "min_width": null,
            "object_fit": null,
            "object_position": null,
            "order": null,
            "overflow": null,
            "overflow_x": null,
            "overflow_y": null,
            "padding": null,
            "right": null,
            "top": null,
            "visibility": null,
            "width": null
          }
        },
        "271abe49dc054863a07a7d4dea6c0865": {
          "model_module": "@jupyter-widgets/controls",
          "model_name": "DescriptionStyleModel",
          "model_module_version": "1.5.0",
          "state": {
            "_model_module": "@jupyter-widgets/controls",
            "_model_module_version": "1.5.0",
            "_model_name": "DescriptionStyleModel",
            "_view_count": null,
            "_view_module": "@jupyter-widgets/base",
            "_view_module_version": "1.2.0",
            "_view_name": "StyleView",
            "description_width": ""
          }
        },
        "a7df7dfb55a9475692c3f4cc52619613": {
          "model_module": "@jupyter-widgets/controls",
          "model_name": "HBoxModel",
          "model_module_version": "1.5.0",
          "state": {
            "_dom_classes": [],
            "_model_module": "@jupyter-widgets/controls",
            "_model_module_version": "1.5.0",
            "_model_name": "HBoxModel",
            "_view_count": null,
            "_view_module": "@jupyter-widgets/controls",
            "_view_module_version": "1.5.0",
            "_view_name": "HBoxView",
            "box_style": "",
            "children": [
              "IPY_MODEL_c3ddf5db64aa4914b0a56b749ce504ee",
              "IPY_MODEL_488959fbdb9c4fe999284e4d09e094c4",
              "IPY_MODEL_66d57124c640469aae66a6e4104a87a6"
            ],
            "layout": "IPY_MODEL_91f38f5c3ccb4195b610db621fc17a85"
          }
        },
        "c3ddf5db64aa4914b0a56b749ce504ee": {
          "model_module": "@jupyter-widgets/controls",
          "model_name": "HTMLModel",
          "model_module_version": "1.5.0",
          "state": {
            "_dom_classes": [],
            "_model_module": "@jupyter-widgets/controls",
            "_model_module_version": "1.5.0",
            "_model_name": "HTMLModel",
            "_view_count": null,
            "_view_module": "@jupyter-widgets/controls",
            "_view_module_version": "1.5.0",
            "_view_name": "HTMLView",
            "description": "",
            "description_tooltip": null,
            "layout": "IPY_MODEL_d27d7971acee4e5ba6d532e743be97f2",
            "placeholder": "​",
            "style": "IPY_MODEL_78a391fb49444ef5a982e7cceafa9d56",
            "value": "Downloading: 100%"
          }
        },
        "488959fbdb9c4fe999284e4d09e094c4": {
          "model_module": "@jupyter-widgets/controls",
          "model_name": "FloatProgressModel",
          "model_module_version": "1.5.0",
          "state": {
            "_dom_classes": [],
            "_model_module": "@jupyter-widgets/controls",
            "_model_module_version": "1.5.0",
            "_model_name": "FloatProgressModel",
            "_view_count": null,
            "_view_module": "@jupyter-widgets/controls",
            "_view_module_version": "1.5.0",
            "_view_name": "ProgressView",
            "bar_style": "success",
            "description": "",
            "description_tooltip": null,
            "layout": "IPY_MODEL_c89addfe272a44d8adc56424f95459f3",
            "max": 526017373,
            "min": 0,
            "orientation": "horizontal",
            "style": "IPY_MODEL_73a63281463b47c09aba00b2e086cd71",
            "value": 526017373
          }
        },
        "66d57124c640469aae66a6e4104a87a6": {
          "model_module": "@jupyter-widgets/controls",
          "model_name": "HTMLModel",
          "model_module_version": "1.5.0",
          "state": {
            "_dom_classes": [],
            "_model_module": "@jupyter-widgets/controls",
            "_model_module_version": "1.5.0",
            "_model_name": "HTMLModel",
            "_view_count": null,
            "_view_module": "@jupyter-widgets/controls",
            "_view_module_version": "1.5.0",
            "_view_name": "HTMLView",
            "description": "",
            "description_tooltip": null,
            "layout": "IPY_MODEL_5912f66fcd664f5193c2912559c34572",
            "placeholder": "​",
            "style": "IPY_MODEL_170b400de66c4da4af17b5a567b2d326",
            "value": " 502M/502M [00:32&lt;00:00, 15.5MB/s]"
          }
        },
        "91f38f5c3ccb4195b610db621fc17a85": {
          "model_module": "@jupyter-widgets/base",
          "model_name": "LayoutModel",
          "model_module_version": "1.2.0",
          "state": {
            "_model_module": "@jupyter-widgets/base",
            "_model_module_version": "1.2.0",
            "_model_name": "LayoutModel",
            "_view_count": null,
            "_view_module": "@jupyter-widgets/base",
            "_view_module_version": "1.2.0",
            "_view_name": "LayoutView",
            "align_content": null,
            "align_items": null,
            "align_self": null,
            "border": null,
            "bottom": null,
            "display": null,
            "flex": null,
            "flex_flow": null,
            "grid_area": null,
            "grid_auto_columns": null,
            "grid_auto_flow": null,
            "grid_auto_rows": null,
            "grid_column": null,
            "grid_gap": null,
            "grid_row": null,
            "grid_template_areas": null,
            "grid_template_columns": null,
            "grid_template_rows": null,
            "height": null,
            "justify_content": null,
            "justify_items": null,
            "left": null,
            "margin": null,
            "max_height": null,
            "max_width": null,
            "min_height": null,
            "min_width": null,
            "object_fit": null,
            "object_position": null,
            "order": null,
            "overflow": null,
            "overflow_x": null,
            "overflow_y": null,
            "padding": null,
            "right": null,
            "top": null,
            "visibility": null,
            "width": null
          }
        },
        "d27d7971acee4e5ba6d532e743be97f2": {
          "model_module": "@jupyter-widgets/base",
          "model_name": "LayoutModel",
          "model_module_version": "1.2.0",
          "state": {
            "_model_module": "@jupyter-widgets/base",
            "_model_module_version": "1.2.0",
            "_model_name": "LayoutModel",
            "_view_count": null,
            "_view_module": "@jupyter-widgets/base",
            "_view_module_version": "1.2.0",
            "_view_name": "LayoutView",
            "align_content": null,
            "align_items": null,
            "align_self": null,
            "border": null,
            "bottom": null,
            "display": null,
            "flex": null,
            "flex_flow": null,
            "grid_area": null,
            "grid_auto_columns": null,
            "grid_auto_flow": null,
            "grid_auto_rows": null,
            "grid_column": null,
            "grid_gap": null,
            "grid_row": null,
            "grid_template_areas": null,
            "grid_template_columns": null,
            "grid_template_rows": null,
            "height": null,
            "justify_content": null,
            "justify_items": null,
            "left": null,
            "margin": null,
            "max_height": null,
            "max_width": null,
            "min_height": null,
            "min_width": null,
            "object_fit": null,
            "object_position": null,
            "order": null,
            "overflow": null,
            "overflow_x": null,
            "overflow_y": null,
            "padding": null,
            "right": null,
            "top": null,
            "visibility": null,
            "width": null
          }
        },
        "78a391fb49444ef5a982e7cceafa9d56": {
          "model_module": "@jupyter-widgets/controls",
          "model_name": "DescriptionStyleModel",
          "model_module_version": "1.5.0",
          "state": {
            "_model_module": "@jupyter-widgets/controls",
            "_model_module_version": "1.5.0",
            "_model_name": "DescriptionStyleModel",
            "_view_count": null,
            "_view_module": "@jupyter-widgets/base",
            "_view_module_version": "1.2.0",
            "_view_name": "StyleView",
            "description_width": ""
          }
        },
        "c89addfe272a44d8adc56424f95459f3": {
          "model_module": "@jupyter-widgets/base",
          "model_name": "LayoutModel",
          "model_module_version": "1.2.0",
          "state": {
            "_model_module": "@jupyter-widgets/base",
            "_model_module_version": "1.2.0",
            "_model_name": "LayoutModel",
            "_view_count": null,
            "_view_module": "@jupyter-widgets/base",
            "_view_module_version": "1.2.0",
            "_view_name": "LayoutView",
            "align_content": null,
            "align_items": null,
            "align_self": null,
            "border": null,
            "bottom": null,
            "display": null,
            "flex": null,
            "flex_flow": null,
            "grid_area": null,
            "grid_auto_columns": null,
            "grid_auto_flow": null,
            "grid_auto_rows": null,
            "grid_column": null,
            "grid_gap": null,
            "grid_row": null,
            "grid_template_areas": null,
            "grid_template_columns": null,
            "grid_template_rows": null,
            "height": null,
            "justify_content": null,
            "justify_items": null,
            "left": null,
            "margin": null,
            "max_height": null,
            "max_width": null,
            "min_height": null,
            "min_width": null,
            "object_fit": null,
            "object_position": null,
            "order": null,
            "overflow": null,
            "overflow_x": null,
            "overflow_y": null,
            "padding": null,
            "right": null,
            "top": null,
            "visibility": null,
            "width": null
          }
        },
        "73a63281463b47c09aba00b2e086cd71": {
          "model_module": "@jupyter-widgets/controls",
          "model_name": "ProgressStyleModel",
          "model_module_version": "1.5.0",
          "state": {
            "_model_module": "@jupyter-widgets/controls",
            "_model_module_version": "1.5.0",
            "_model_name": "ProgressStyleModel",
            "_view_count": null,
            "_view_module": "@jupyter-widgets/base",
            "_view_module_version": "1.2.0",
            "_view_name": "StyleView",
            "bar_color": null,
            "description_width": ""
          }
        },
        "5912f66fcd664f5193c2912559c34572": {
          "model_module": "@jupyter-widgets/base",
          "model_name": "LayoutModel",
          "model_module_version": "1.2.0",
          "state": {
            "_model_module": "@jupyter-widgets/base",
            "_model_module_version": "1.2.0",
            "_model_name": "LayoutModel",
            "_view_count": null,
            "_view_module": "@jupyter-widgets/base",
            "_view_module_version": "1.2.0",
            "_view_name": "LayoutView",
            "align_content": null,
            "align_items": null,
            "align_self": null,
            "border": null,
            "bottom": null,
            "display": null,
            "flex": null,
            "flex_flow": null,
            "grid_area": null,
            "grid_auto_columns": null,
            "grid_auto_flow": null,
            "grid_auto_rows": null,
            "grid_column": null,
            "grid_gap": null,
            "grid_row": null,
            "grid_template_areas": null,
            "grid_template_columns": null,
            "grid_template_rows": null,
            "height": null,
            "justify_content": null,
            "justify_items": null,
            "left": null,
            "margin": null,
            "max_height": null,
            "max_width": null,
            "min_height": null,
            "min_width": null,
            "object_fit": null,
            "object_position": null,
            "order": null,
            "overflow": null,
            "overflow_x": null,
            "overflow_y": null,
            "padding": null,
            "right": null,
            "top": null,
            "visibility": null,
            "width": null
          }
        },
        "170b400de66c4da4af17b5a567b2d326": {
          "model_module": "@jupyter-widgets/controls",
          "model_name": "DescriptionStyleModel",
          "model_module_version": "1.5.0",
          "state": {
            "_model_module": "@jupyter-widgets/controls",
            "_model_module_version": "1.5.0",
            "_model_name": "DescriptionStyleModel",
            "_view_count": null,
            "_view_module": "@jupyter-widgets/base",
            "_view_module_version": "1.2.0",
            "_view_name": "StyleView",
            "description_width": ""
          }
        },
        "dcf8888f65804746ab82fe710f4fb802": {
          "model_module": "@jupyter-widgets/controls",
          "model_name": "HBoxModel",
          "model_module_version": "1.5.0",
          "state": {
            "_dom_classes": [],
            "_model_module": "@jupyter-widgets/controls",
            "_model_module_version": "1.5.0",
            "_model_name": "HBoxModel",
            "_view_count": null,
            "_view_module": "@jupyter-widgets/controls",
            "_view_module_version": "1.5.0",
            "_view_name": "HBoxView",
            "box_style": "",
            "children": [
              "IPY_MODEL_fb3294da25154337928648dc383cfbc2",
              "IPY_MODEL_79f5e9c31414450fa1bdc87e85d7cd81",
              "IPY_MODEL_d9778ea303b04613a4905d8162237de9"
            ],
            "layout": "IPY_MODEL_92e56b2f192849ddb95df3c7d2952d87"
          }
        },
        "fb3294da25154337928648dc383cfbc2": {
          "model_module": "@jupyter-widgets/controls",
          "model_name": "HTMLModel",
          "model_module_version": "1.5.0",
          "state": {
            "_dom_classes": [],
            "_model_module": "@jupyter-widgets/controls",
            "_model_module_version": "1.5.0",
            "_model_name": "HTMLModel",
            "_view_count": null,
            "_view_module": "@jupyter-widgets/controls",
            "_view_module_version": "1.5.0",
            "_view_name": "HTMLView",
            "description": "",
            "description_tooltip": null,
            "layout": "IPY_MODEL_04af85837415483f95446c4d836a25f9",
            "placeholder": "​",
            "style": "IPY_MODEL_e4b4e5bcf80a4e14843a68a9f6ce9bf8",
            "value": "Downloading builder script: "
          }
        },
        "79f5e9c31414450fa1bdc87e85d7cd81": {
          "model_module": "@jupyter-widgets/controls",
          "model_name": "FloatProgressModel",
          "model_module_version": "1.5.0",
          "state": {
            "_dom_classes": [],
            "_model_module": "@jupyter-widgets/controls",
            "_model_module_version": "1.5.0",
            "_model_name": "FloatProgressModel",
            "_view_count": null,
            "_view_module": "@jupyter-widgets/controls",
            "_view_module_version": "1.5.0",
            "_view_name": "ProgressView",
            "bar_style": "success",
            "description": "",
            "description_tooltip": null,
            "layout": "IPY_MODEL_3d38e26c3e924ceca651d0e66f03072d",
            "max": 1967,
            "min": 0,
            "orientation": "horizontal",
            "style": "IPY_MODEL_783246b48afb49c99a1ad4afe4841f32",
            "value": 1967
          }
        },
        "d9778ea303b04613a4905d8162237de9": {
          "model_module": "@jupyter-widgets/controls",
          "model_name": "HTMLModel",
          "model_module_version": "1.5.0",
          "state": {
            "_dom_classes": [],
            "_model_module": "@jupyter-widgets/controls",
            "_model_module_version": "1.5.0",
            "_model_name": "HTMLModel",
            "_view_count": null,
            "_view_module": "@jupyter-widgets/controls",
            "_view_module_version": "1.5.0",
            "_view_name": "HTMLView",
            "description": "",
            "description_tooltip": null,
            "layout": "IPY_MODEL_e3388b84ea4947f1850922ffd27f5e0f",
            "placeholder": "​",
            "style": "IPY_MODEL_7bee678f05884ad8b38049bf72d4619a",
            "value": " 5.27k/? [00:00&lt;00:00, 147kB/s]"
          }
        },
        "92e56b2f192849ddb95df3c7d2952d87": {
          "model_module": "@jupyter-widgets/base",
          "model_name": "LayoutModel",
          "model_module_version": "1.2.0",
          "state": {
            "_model_module": "@jupyter-widgets/base",
            "_model_module_version": "1.2.0",
            "_model_name": "LayoutModel",
            "_view_count": null,
            "_view_module": "@jupyter-widgets/base",
            "_view_module_version": "1.2.0",
            "_view_name": "LayoutView",
            "align_content": null,
            "align_items": null,
            "align_self": null,
            "border": null,
            "bottom": null,
            "display": null,
            "flex": null,
            "flex_flow": null,
            "grid_area": null,
            "grid_auto_columns": null,
            "grid_auto_flow": null,
            "grid_auto_rows": null,
            "grid_column": null,
            "grid_gap": null,
            "grid_row": null,
            "grid_template_areas": null,
            "grid_template_columns": null,
            "grid_template_rows": null,
            "height": null,
            "justify_content": null,
            "justify_items": null,
            "left": null,
            "margin": null,
            "max_height": null,
            "max_width": null,
            "min_height": null,
            "min_width": null,
            "object_fit": null,
            "object_position": null,
            "order": null,
            "overflow": null,
            "overflow_x": null,
            "overflow_y": null,
            "padding": null,
            "right": null,
            "top": null,
            "visibility": null,
            "width": null
          }
        },
        "04af85837415483f95446c4d836a25f9": {
          "model_module": "@jupyter-widgets/base",
          "model_name": "LayoutModel",
          "model_module_version": "1.2.0",
          "state": {
            "_model_module": "@jupyter-widgets/base",
            "_model_module_version": "1.2.0",
            "_model_name": "LayoutModel",
            "_view_count": null,
            "_view_module": "@jupyter-widgets/base",
            "_view_module_version": "1.2.0",
            "_view_name": "LayoutView",
            "align_content": null,
            "align_items": null,
            "align_self": null,
            "border": null,
            "bottom": null,
            "display": null,
            "flex": null,
            "flex_flow": null,
            "grid_area": null,
            "grid_auto_columns": null,
            "grid_auto_flow": null,
            "grid_auto_rows": null,
            "grid_column": null,
            "grid_gap": null,
            "grid_row": null,
            "grid_template_areas": null,
            "grid_template_columns": null,
            "grid_template_rows": null,
            "height": null,
            "justify_content": null,
            "justify_items": null,
            "left": null,
            "margin": null,
            "max_height": null,
            "max_width": null,
            "min_height": null,
            "min_width": null,
            "object_fit": null,
            "object_position": null,
            "order": null,
            "overflow": null,
            "overflow_x": null,
            "overflow_y": null,
            "padding": null,
            "right": null,
            "top": null,
            "visibility": null,
            "width": null
          }
        },
        "e4b4e5bcf80a4e14843a68a9f6ce9bf8": {
          "model_module": "@jupyter-widgets/controls",
          "model_name": "DescriptionStyleModel",
          "model_module_version": "1.5.0",
          "state": {
            "_model_module": "@jupyter-widgets/controls",
            "_model_module_version": "1.5.0",
            "_model_name": "DescriptionStyleModel",
            "_view_count": null,
            "_view_module": "@jupyter-widgets/base",
            "_view_module_version": "1.2.0",
            "_view_name": "StyleView",
            "description_width": ""
          }
        },
        "3d38e26c3e924ceca651d0e66f03072d": {
          "model_module": "@jupyter-widgets/base",
          "model_name": "LayoutModel",
          "model_module_version": "1.2.0",
          "state": {
            "_model_module": "@jupyter-widgets/base",
            "_model_module_version": "1.2.0",
            "_model_name": "LayoutModel",
            "_view_count": null,
            "_view_module": "@jupyter-widgets/base",
            "_view_module_version": "1.2.0",
            "_view_name": "LayoutView",
            "align_content": null,
            "align_items": null,
            "align_self": null,
            "border": null,
            "bottom": null,
            "display": null,
            "flex": null,
            "flex_flow": null,
            "grid_area": null,
            "grid_auto_columns": null,
            "grid_auto_flow": null,
            "grid_auto_rows": null,
            "grid_column": null,
            "grid_gap": null,
            "grid_row": null,
            "grid_template_areas": null,
            "grid_template_columns": null,
            "grid_template_rows": null,
            "height": null,
            "justify_content": null,
            "justify_items": null,
            "left": null,
            "margin": null,
            "max_height": null,
            "max_width": null,
            "min_height": null,
            "min_width": null,
            "object_fit": null,
            "object_position": null,
            "order": null,
            "overflow": null,
            "overflow_x": null,
            "overflow_y": null,
            "padding": null,
            "right": null,
            "top": null,
            "visibility": null,
            "width": null
          }
        },
        "783246b48afb49c99a1ad4afe4841f32": {
          "model_module": "@jupyter-widgets/controls",
          "model_name": "ProgressStyleModel",
          "model_module_version": "1.5.0",
          "state": {
            "_model_module": "@jupyter-widgets/controls",
            "_model_module_version": "1.5.0",
            "_model_name": "ProgressStyleModel",
            "_view_count": null,
            "_view_module": "@jupyter-widgets/base",
            "_view_module_version": "1.2.0",
            "_view_name": "StyleView",
            "bar_color": null,
            "description_width": ""
          }
        },
        "e3388b84ea4947f1850922ffd27f5e0f": {
          "model_module": "@jupyter-widgets/base",
          "model_name": "LayoutModel",
          "model_module_version": "1.2.0",
          "state": {
            "_model_module": "@jupyter-widgets/base",
            "_model_module_version": "1.2.0",
            "_model_name": "LayoutModel",
            "_view_count": null,
            "_view_module": "@jupyter-widgets/base",
            "_view_module_version": "1.2.0",
            "_view_name": "LayoutView",
            "align_content": null,
            "align_items": null,
            "align_self": null,
            "border": null,
            "bottom": null,
            "display": null,
            "flex": null,
            "flex_flow": null,
            "grid_area": null,
            "grid_auto_columns": null,
            "grid_auto_flow": null,
            "grid_auto_rows": null,
            "grid_column": null,
            "grid_gap": null,
            "grid_row": null,
            "grid_template_areas": null,
            "grid_template_columns": null,
            "grid_template_rows": null,
            "height": null,
            "justify_content": null,
            "justify_items": null,
            "left": null,
            "margin": null,
            "max_height": null,
            "max_width": null,
            "min_height": null,
            "min_width": null,
            "object_fit": null,
            "object_position": null,
            "order": null,
            "overflow": null,
            "overflow_x": null,
            "overflow_y": null,
            "padding": null,
            "right": null,
            "top": null,
            "visibility": null,
            "width": null
          }
        },
        "7bee678f05884ad8b38049bf72d4619a": {
          "model_module": "@jupyter-widgets/controls",
          "model_name": "DescriptionStyleModel",
          "model_module_version": "1.5.0",
          "state": {
            "_model_module": "@jupyter-widgets/controls",
            "_model_module_version": "1.5.0",
            "_model_name": "DescriptionStyleModel",
            "_view_count": null,
            "_view_module": "@jupyter-widgets/base",
            "_view_module_version": "1.2.0",
            "_view_name": "StyleView",
            "description_width": ""
          }
        },
        "770f7af20b134e149ef191368d53a7c2": {
          "model_module": "@jupyter-widgets/controls",
          "model_name": "HBoxModel",
          "model_module_version": "1.5.0",
          "state": {
            "_dom_classes": [],
            "_model_module": "@jupyter-widgets/controls",
            "_model_module_version": "1.5.0",
            "_model_name": "HBoxModel",
            "_view_count": null,
            "_view_module": "@jupyter-widgets/controls",
            "_view_module_version": "1.5.0",
            "_view_name": "HBoxView",
            "box_style": "",
            "children": [
              "IPY_MODEL_91439e97fc164007913518ccfa8123da",
              "IPY_MODEL_25dd9e12b53f406bb9a5adb2f3b98c2d",
              "IPY_MODEL_afb666cd8f9540cbb27c41a2c0e81df8"
            ],
            "layout": "IPY_MODEL_24575e527f924499b044de5bde74a945"
          }
        },
        "91439e97fc164007913518ccfa8123da": {
          "model_module": "@jupyter-widgets/controls",
          "model_name": "HTMLModel",
          "model_module_version": "1.5.0",
          "state": {
            "_dom_classes": [],
            "_model_module": "@jupyter-widgets/controls",
            "_model_module_version": "1.5.0",
            "_model_name": "HTMLModel",
            "_view_count": null,
            "_view_module": "@jupyter-widgets/controls",
            "_view_module_version": "1.5.0",
            "_view_name": "HTMLView",
            "description": "",
            "description_tooltip": null,
            "layout": "IPY_MODEL_f1cb78bced00432aa33f424bfba79b42",
            "placeholder": "​",
            "style": "IPY_MODEL_a3dd59a1fd574da6b8736a974b3b5256",
            "value": "Downloading metadata: "
          }
        },
        "25dd9e12b53f406bb9a5adb2f3b98c2d": {
          "model_module": "@jupyter-widgets/controls",
          "model_name": "FloatProgressModel",
          "model_module_version": "1.5.0",
          "state": {
            "_dom_classes": [],
            "_model_module": "@jupyter-widgets/controls",
            "_model_module_version": "1.5.0",
            "_model_name": "FloatProgressModel",
            "_view_count": null,
            "_view_module": "@jupyter-widgets/controls",
            "_view_module_version": "1.5.0",
            "_view_name": "ProgressView",
            "bar_style": "success",
            "description": "",
            "description_tooltip": null,
            "layout": "IPY_MODEL_431241e7a3c94fdaaa4fd64734e185a1",
            "max": 1021,
            "min": 0,
            "orientation": "horizontal",
            "style": "IPY_MODEL_6477c9cf54ea49e08c5ea84e7e66e287",
            "value": 1021
          }
        },
        "afb666cd8f9540cbb27c41a2c0e81df8": {
          "model_module": "@jupyter-widgets/controls",
          "model_name": "HTMLModel",
          "model_module_version": "1.5.0",
          "state": {
            "_dom_classes": [],
            "_model_module": "@jupyter-widgets/controls",
            "_model_module_version": "1.5.0",
            "_model_name": "HTMLModel",
            "_view_count": null,
            "_view_module": "@jupyter-widgets/controls",
            "_view_module_version": "1.5.0",
            "_view_name": "HTMLView",
            "description": "",
            "description_tooltip": null,
            "layout": "IPY_MODEL_d84a9976e78f43658a45561e7f250672",
            "placeholder": "​",
            "style": "IPY_MODEL_80f679e373ce438ab1a9dc7bb1b293a1",
            "value": " 2.36k/? [00:00&lt;00:00, 83.5kB/s]"
          }
        },
        "24575e527f924499b044de5bde74a945": {
          "model_module": "@jupyter-widgets/base",
          "model_name": "LayoutModel",
          "model_module_version": "1.2.0",
          "state": {
            "_model_module": "@jupyter-widgets/base",
            "_model_module_version": "1.2.0",
            "_model_name": "LayoutModel",
            "_view_count": null,
            "_view_module": "@jupyter-widgets/base",
            "_view_module_version": "1.2.0",
            "_view_name": "LayoutView",
            "align_content": null,
            "align_items": null,
            "align_self": null,
            "border": null,
            "bottom": null,
            "display": null,
            "flex": null,
            "flex_flow": null,
            "grid_area": null,
            "grid_auto_columns": null,
            "grid_auto_flow": null,
            "grid_auto_rows": null,
            "grid_column": null,
            "grid_gap": null,
            "grid_row": null,
            "grid_template_areas": null,
            "grid_template_columns": null,
            "grid_template_rows": null,
            "height": null,
            "justify_content": null,
            "justify_items": null,
            "left": null,
            "margin": null,
            "max_height": null,
            "max_width": null,
            "min_height": null,
            "min_width": null,
            "object_fit": null,
            "object_position": null,
            "order": null,
            "overflow": null,
            "overflow_x": null,
            "overflow_y": null,
            "padding": null,
            "right": null,
            "top": null,
            "visibility": null,
            "width": null
          }
        },
        "f1cb78bced00432aa33f424bfba79b42": {
          "model_module": "@jupyter-widgets/base",
          "model_name": "LayoutModel",
          "model_module_version": "1.2.0",
          "state": {
            "_model_module": "@jupyter-widgets/base",
            "_model_module_version": "1.2.0",
            "_model_name": "LayoutModel",
            "_view_count": null,
            "_view_module": "@jupyter-widgets/base",
            "_view_module_version": "1.2.0",
            "_view_name": "LayoutView",
            "align_content": null,
            "align_items": null,
            "align_self": null,
            "border": null,
            "bottom": null,
            "display": null,
            "flex": null,
            "flex_flow": null,
            "grid_area": null,
            "grid_auto_columns": null,
            "grid_auto_flow": null,
            "grid_auto_rows": null,
            "grid_column": null,
            "grid_gap": null,
            "grid_row": null,
            "grid_template_areas": null,
            "grid_template_columns": null,
            "grid_template_rows": null,
            "height": null,
            "justify_content": null,
            "justify_items": null,
            "left": null,
            "margin": null,
            "max_height": null,
            "max_width": null,
            "min_height": null,
            "min_width": null,
            "object_fit": null,
            "object_position": null,
            "order": null,
            "overflow": null,
            "overflow_x": null,
            "overflow_y": null,
            "padding": null,
            "right": null,
            "top": null,
            "visibility": null,
            "width": null
          }
        },
        "a3dd59a1fd574da6b8736a974b3b5256": {
          "model_module": "@jupyter-widgets/controls",
          "model_name": "DescriptionStyleModel",
          "model_module_version": "1.5.0",
          "state": {
            "_model_module": "@jupyter-widgets/controls",
            "_model_module_version": "1.5.0",
            "_model_name": "DescriptionStyleModel",
            "_view_count": null,
            "_view_module": "@jupyter-widgets/base",
            "_view_module_version": "1.2.0",
            "_view_name": "StyleView",
            "description_width": ""
          }
        },
        "431241e7a3c94fdaaa4fd64734e185a1": {
          "model_module": "@jupyter-widgets/base",
          "model_name": "LayoutModel",
          "model_module_version": "1.2.0",
          "state": {
            "_model_module": "@jupyter-widgets/base",
            "_model_module_version": "1.2.0",
            "_model_name": "LayoutModel",
            "_view_count": null,
            "_view_module": "@jupyter-widgets/base",
            "_view_module_version": "1.2.0",
            "_view_name": "LayoutView",
            "align_content": null,
            "align_items": null,
            "align_self": null,
            "border": null,
            "bottom": null,
            "display": null,
            "flex": null,
            "flex_flow": null,
            "grid_area": null,
            "grid_auto_columns": null,
            "grid_auto_flow": null,
            "grid_auto_rows": null,
            "grid_column": null,
            "grid_gap": null,
            "grid_row": null,
            "grid_template_areas": null,
            "grid_template_columns": null,
            "grid_template_rows": null,
            "height": null,
            "justify_content": null,
            "justify_items": null,
            "left": null,
            "margin": null,
            "max_height": null,
            "max_width": null,
            "min_height": null,
            "min_width": null,
            "object_fit": null,
            "object_position": null,
            "order": null,
            "overflow": null,
            "overflow_x": null,
            "overflow_y": null,
            "padding": null,
            "right": null,
            "top": null,
            "visibility": null,
            "width": null
          }
        },
        "6477c9cf54ea49e08c5ea84e7e66e287": {
          "model_module": "@jupyter-widgets/controls",
          "model_name": "ProgressStyleModel",
          "model_module_version": "1.5.0",
          "state": {
            "_model_module": "@jupyter-widgets/controls",
            "_model_module_version": "1.5.0",
            "_model_name": "ProgressStyleModel",
            "_view_count": null,
            "_view_module": "@jupyter-widgets/base",
            "_view_module_version": "1.2.0",
            "_view_name": "StyleView",
            "bar_color": null,
            "description_width": ""
          }
        },
        "d84a9976e78f43658a45561e7f250672": {
          "model_module": "@jupyter-widgets/base",
          "model_name": "LayoutModel",
          "model_module_version": "1.2.0",
          "state": {
            "_model_module": "@jupyter-widgets/base",
            "_model_module_version": "1.2.0",
            "_model_name": "LayoutModel",
            "_view_count": null,
            "_view_module": "@jupyter-widgets/base",
            "_view_module_version": "1.2.0",
            "_view_name": "LayoutView",
            "align_content": null,
            "align_items": null,
            "align_self": null,
            "border": null,
            "bottom": null,
            "display": null,
            "flex": null,
            "flex_flow": null,
            "grid_area": null,
            "grid_auto_columns": null,
            "grid_auto_flow": null,
            "grid_auto_rows": null,
            "grid_column": null,
            "grid_gap": null,
            "grid_row": null,
            "grid_template_areas": null,
            "grid_template_columns": null,
            "grid_template_rows": null,
            "height": null,
            "justify_content": null,
            "justify_items": null,
            "left": null,
            "margin": null,
            "max_height": null,
            "max_width": null,
            "min_height": null,
            "min_width": null,
            "object_fit": null,
            "object_position": null,
            "order": null,
            "overflow": null,
            "overflow_x": null,
            "overflow_y": null,
            "padding": null,
            "right": null,
            "top": null,
            "visibility": null,
            "width": null
          }
        },
        "80f679e373ce438ab1a9dc7bb1b293a1": {
          "model_module": "@jupyter-widgets/controls",
          "model_name": "DescriptionStyleModel",
          "model_module_version": "1.5.0",
          "state": {
            "_model_module": "@jupyter-widgets/controls",
            "_model_module_version": "1.5.0",
            "_model_name": "DescriptionStyleModel",
            "_view_count": null,
            "_view_module": "@jupyter-widgets/base",
            "_view_module_version": "1.2.0",
            "_view_name": "StyleView",
            "description_width": ""
          }
        },
        "e9716f312dbd400ab0c1f70376de05f2": {
          "model_module": "@jupyter-widgets/controls",
          "model_name": "HBoxModel",
          "model_module_version": "1.5.0",
          "state": {
            "_dom_classes": [],
            "_model_module": "@jupyter-widgets/controls",
            "_model_module_version": "1.5.0",
            "_model_name": "HBoxModel",
            "_view_count": null,
            "_view_module": "@jupyter-widgets/controls",
            "_view_module_version": "1.5.0",
            "_view_name": "HBoxView",
            "box_style": "",
            "children": [
              "IPY_MODEL_d0eeb84d289d4b6983fadd33761233e0",
              "IPY_MODEL_c7c10f7e5d07497e8c3b6ad4fe1d474d",
              "IPY_MODEL_3d42feaa07614c3bb7f3f5da271d0c95"
            ],
            "layout": "IPY_MODEL_67e11c695a1c404883ee0d8a9f2cea19"
          }
        },
        "d0eeb84d289d4b6983fadd33761233e0": {
          "model_module": "@jupyter-widgets/controls",
          "model_name": "HTMLModel",
          "model_module_version": "1.5.0",
          "state": {
            "_dom_classes": [],
            "_model_module": "@jupyter-widgets/controls",
            "_model_module_version": "1.5.0",
            "_model_name": "HTMLModel",
            "_view_count": null,
            "_view_module": "@jupyter-widgets/controls",
            "_view_module_version": "1.5.0",
            "_view_name": "HTMLView",
            "description": "",
            "description_tooltip": null,
            "layout": "IPY_MODEL_ebe45364fe19440db63d7e6f0f9d7d36",
            "placeholder": "​",
            "style": "IPY_MODEL_f8c5e5f38e1a4d7fb2460375158185c9",
            "value": "Downloading data files: 100%"
          }
        },
        "c7c10f7e5d07497e8c3b6ad4fe1d474d": {
          "model_module": "@jupyter-widgets/controls",
          "model_name": "FloatProgressModel",
          "model_module_version": "1.5.0",
          "state": {
            "_dom_classes": [],
            "_model_module": "@jupyter-widgets/controls",
            "_model_module_version": "1.5.0",
            "_model_name": "FloatProgressModel",
            "_view_count": null,
            "_view_module": "@jupyter-widgets/controls",
            "_view_module_version": "1.5.0",
            "_view_name": "ProgressView",
            "bar_style": "success",
            "description": "",
            "description_tooltip": null,
            "layout": "IPY_MODEL_deb0c13909444632b8300e49faeb5bd5",
            "max": 2,
            "min": 0,
            "orientation": "horizontal",
            "style": "IPY_MODEL_eb94eb8b113f45d6901be947f52f3202",
            "value": 2
          }
        },
        "3d42feaa07614c3bb7f3f5da271d0c95": {
          "model_module": "@jupyter-widgets/controls",
          "model_name": "HTMLModel",
          "model_module_version": "1.5.0",
          "state": {
            "_dom_classes": [],
            "_model_module": "@jupyter-widgets/controls",
            "_model_module_version": "1.5.0",
            "_model_name": "HTMLModel",
            "_view_count": null,
            "_view_module": "@jupyter-widgets/controls",
            "_view_module_version": "1.5.0",
            "_view_name": "HTMLView",
            "description": "",
            "description_tooltip": null,
            "layout": "IPY_MODEL_f3d5cc9f5cf542229fbfcc1e69c38e4c",
            "placeholder": "​",
            "style": "IPY_MODEL_595710ae339844c4ad94e075e3ed83e1",
            "value": " 2/2 [00:02&lt;00:00,  1.22s/it]"
          }
        },
        "67e11c695a1c404883ee0d8a9f2cea19": {
          "model_module": "@jupyter-widgets/base",
          "model_name": "LayoutModel",
          "model_module_version": "1.2.0",
          "state": {
            "_model_module": "@jupyter-widgets/base",
            "_model_module_version": "1.2.0",
            "_model_name": "LayoutModel",
            "_view_count": null,
            "_view_module": "@jupyter-widgets/base",
            "_view_module_version": "1.2.0",
            "_view_name": "LayoutView",
            "align_content": null,
            "align_items": null,
            "align_self": null,
            "border": null,
            "bottom": null,
            "display": null,
            "flex": null,
            "flex_flow": null,
            "grid_area": null,
            "grid_auto_columns": null,
            "grid_auto_flow": null,
            "grid_auto_rows": null,
            "grid_column": null,
            "grid_gap": null,
            "grid_row": null,
            "grid_template_areas": null,
            "grid_template_columns": null,
            "grid_template_rows": null,
            "height": null,
            "justify_content": null,
            "justify_items": null,
            "left": null,
            "margin": null,
            "max_height": null,
            "max_width": null,
            "min_height": null,
            "min_width": null,
            "object_fit": null,
            "object_position": null,
            "order": null,
            "overflow": null,
            "overflow_x": null,
            "overflow_y": null,
            "padding": null,
            "right": null,
            "top": null,
            "visibility": null,
            "width": null
          }
        },
        "ebe45364fe19440db63d7e6f0f9d7d36": {
          "model_module": "@jupyter-widgets/base",
          "model_name": "LayoutModel",
          "model_module_version": "1.2.0",
          "state": {
            "_model_module": "@jupyter-widgets/base",
            "_model_module_version": "1.2.0",
            "_model_name": "LayoutModel",
            "_view_count": null,
            "_view_module": "@jupyter-widgets/base",
            "_view_module_version": "1.2.0",
            "_view_name": "LayoutView",
            "align_content": null,
            "align_items": null,
            "align_self": null,
            "border": null,
            "bottom": null,
            "display": null,
            "flex": null,
            "flex_flow": null,
            "grid_area": null,
            "grid_auto_columns": null,
            "grid_auto_flow": null,
            "grid_auto_rows": null,
            "grid_column": null,
            "grid_gap": null,
            "grid_row": null,
            "grid_template_areas": null,
            "grid_template_columns": null,
            "grid_template_rows": null,
            "height": null,
            "justify_content": null,
            "justify_items": null,
            "left": null,
            "margin": null,
            "max_height": null,
            "max_width": null,
            "min_height": null,
            "min_width": null,
            "object_fit": null,
            "object_position": null,
            "order": null,
            "overflow": null,
            "overflow_x": null,
            "overflow_y": null,
            "padding": null,
            "right": null,
            "top": null,
            "visibility": null,
            "width": null
          }
        },
        "f8c5e5f38e1a4d7fb2460375158185c9": {
          "model_module": "@jupyter-widgets/controls",
          "model_name": "DescriptionStyleModel",
          "model_module_version": "1.5.0",
          "state": {
            "_model_module": "@jupyter-widgets/controls",
            "_model_module_version": "1.5.0",
            "_model_name": "DescriptionStyleModel",
            "_view_count": null,
            "_view_module": "@jupyter-widgets/base",
            "_view_module_version": "1.2.0",
            "_view_name": "StyleView",
            "description_width": ""
          }
        },
        "deb0c13909444632b8300e49faeb5bd5": {
          "model_module": "@jupyter-widgets/base",
          "model_name": "LayoutModel",
          "model_module_version": "1.2.0",
          "state": {
            "_model_module": "@jupyter-widgets/base",
            "_model_module_version": "1.2.0",
            "_model_name": "LayoutModel",
            "_view_count": null,
            "_view_module": "@jupyter-widgets/base",
            "_view_module_version": "1.2.0",
            "_view_name": "LayoutView",
            "align_content": null,
            "align_items": null,
            "align_self": null,
            "border": null,
            "bottom": null,
            "display": null,
            "flex": null,
            "flex_flow": null,
            "grid_area": null,
            "grid_auto_columns": null,
            "grid_auto_flow": null,
            "grid_auto_rows": null,
            "grid_column": null,
            "grid_gap": null,
            "grid_row": null,
            "grid_template_areas": null,
            "grid_template_columns": null,
            "grid_template_rows": null,
            "height": null,
            "justify_content": null,
            "justify_items": null,
            "left": null,
            "margin": null,
            "max_height": null,
            "max_width": null,
            "min_height": null,
            "min_width": null,
            "object_fit": null,
            "object_position": null,
            "order": null,
            "overflow": null,
            "overflow_x": null,
            "overflow_y": null,
            "padding": null,
            "right": null,
            "top": null,
            "visibility": null,
            "width": null
          }
        },
        "eb94eb8b113f45d6901be947f52f3202": {
          "model_module": "@jupyter-widgets/controls",
          "model_name": "ProgressStyleModel",
          "model_module_version": "1.5.0",
          "state": {
            "_model_module": "@jupyter-widgets/controls",
            "_model_module_version": "1.5.0",
            "_model_name": "ProgressStyleModel",
            "_view_count": null,
            "_view_module": "@jupyter-widgets/base",
            "_view_module_version": "1.2.0",
            "_view_name": "StyleView",
            "bar_color": null,
            "description_width": ""
          }
        },
        "f3d5cc9f5cf542229fbfcc1e69c38e4c": {
          "model_module": "@jupyter-widgets/base",
          "model_name": "LayoutModel",
          "model_module_version": "1.2.0",
          "state": {
            "_model_module": "@jupyter-widgets/base",
            "_model_module_version": "1.2.0",
            "_model_name": "LayoutModel",
            "_view_count": null,
            "_view_module": "@jupyter-widgets/base",
            "_view_module_version": "1.2.0",
            "_view_name": "LayoutView",
            "align_content": null,
            "align_items": null,
            "align_self": null,
            "border": null,
            "bottom": null,
            "display": null,
            "flex": null,
            "flex_flow": null,
            "grid_area": null,
            "grid_auto_columns": null,
            "grid_auto_flow": null,
            "grid_auto_rows": null,
            "grid_column": null,
            "grid_gap": null,
            "grid_row": null,
            "grid_template_areas": null,
            "grid_template_columns": null,
            "grid_template_rows": null,
            "height": null,
            "justify_content": null,
            "justify_items": null,
            "left": null,
            "margin": null,
            "max_height": null,
            "max_width": null,
            "min_height": null,
            "min_width": null,
            "object_fit": null,
            "object_position": null,
            "order": null,
            "overflow": null,
            "overflow_x": null,
            "overflow_y": null,
            "padding": null,
            "right": null,
            "top": null,
            "visibility": null,
            "width": null
          }
        },
        "595710ae339844c4ad94e075e3ed83e1": {
          "model_module": "@jupyter-widgets/controls",
          "model_name": "DescriptionStyleModel",
          "model_module_version": "1.5.0",
          "state": {
            "_model_module": "@jupyter-widgets/controls",
            "_model_module_version": "1.5.0",
            "_model_name": "DescriptionStyleModel",
            "_view_count": null,
            "_view_module": "@jupyter-widgets/base",
            "_view_module_version": "1.2.0",
            "_view_name": "StyleView",
            "description_width": ""
          }
        },
        "ab53fad46ce541c491e49f1efadb0de1": {
          "model_module": "@jupyter-widgets/controls",
          "model_name": "HBoxModel",
          "model_module_version": "1.5.0",
          "state": {
            "_dom_classes": [],
            "_model_module": "@jupyter-widgets/controls",
            "_model_module_version": "1.5.0",
            "_model_name": "HBoxModel",
            "_view_count": null,
            "_view_module": "@jupyter-widgets/controls",
            "_view_module_version": "1.5.0",
            "_view_name": "HBoxView",
            "box_style": "",
            "children": [
              "IPY_MODEL_666dc948c9e643d484e64649574d492b",
              "IPY_MODEL_58c0bac5ee6049b49efb0da75bb12462",
              "IPY_MODEL_7a260735b0ff4e4eb8aa68f860ef7a17"
            ],
            "layout": "IPY_MODEL_513efc44b3904e62b1baec643245ba52"
          }
        },
        "666dc948c9e643d484e64649574d492b": {
          "model_module": "@jupyter-widgets/controls",
          "model_name": "HTMLModel",
          "model_module_version": "1.5.0",
          "state": {
            "_dom_classes": [],
            "_model_module": "@jupyter-widgets/controls",
            "_model_module_version": "1.5.0",
            "_model_name": "HTMLModel",
            "_view_count": null,
            "_view_module": "@jupyter-widgets/controls",
            "_view_module_version": "1.5.0",
            "_view_name": "HTMLView",
            "description": "",
            "description_tooltip": null,
            "layout": "IPY_MODEL_8d3f177e95154af88f30f835a4a1a63b",
            "placeholder": "​",
            "style": "IPY_MODEL_e30f075812d94530b66f2fd4067c2fb1",
            "value": "Downloading data: "
          }
        },
        "58c0bac5ee6049b49efb0da75bb12462": {
          "model_module": "@jupyter-widgets/controls",
          "model_name": "FloatProgressModel",
          "model_module_version": "1.5.0",
          "state": {
            "_dom_classes": [],
            "_model_module": "@jupyter-widgets/controls",
            "_model_module_version": "1.5.0",
            "_model_name": "FloatProgressModel",
            "_view_count": null,
            "_view_module": "@jupyter-widgets/controls",
            "_view_module_version": "1.5.0",
            "_view_name": "ProgressView",
            "bar_style": "success",
            "description": "",
            "description_tooltip": null,
            "layout": "IPY_MODEL_9e791918b23b4ee1a8f17808c41a6bd8",
            "max": 8116577,
            "min": 0,
            "orientation": "horizontal",
            "style": "IPY_MODEL_7e9ae5a7bbc847f7aabb3a752f19c1f7",
            "value": 8116577
          }
        },
        "7a260735b0ff4e4eb8aa68f860ef7a17": {
          "model_module": "@jupyter-widgets/controls",
          "model_name": "HTMLModel",
          "model_module_version": "1.5.0",
          "state": {
            "_dom_classes": [],
            "_model_module": "@jupyter-widgets/controls",
            "_model_module_version": "1.5.0",
            "_model_name": "HTMLModel",
            "_view_count": null,
            "_view_module": "@jupyter-widgets/controls",
            "_view_module_version": "1.5.0",
            "_view_name": "HTMLView",
            "description": "",
            "description_tooltip": null,
            "layout": "IPY_MODEL_4d985c5892e44fb8979fc878964de8af",
            "placeholder": "​",
            "style": "IPY_MODEL_f41eebc1bde943a3b064876397daf477",
            "value": " 30.3M/? [00:00&lt;00:00, 70.8MB/s]"
          }
        },
        "513efc44b3904e62b1baec643245ba52": {
          "model_module": "@jupyter-widgets/base",
          "model_name": "LayoutModel",
          "model_module_version": "1.2.0",
          "state": {
            "_model_module": "@jupyter-widgets/base",
            "_model_module_version": "1.2.0",
            "_model_name": "LayoutModel",
            "_view_count": null,
            "_view_module": "@jupyter-widgets/base",
            "_view_module_version": "1.2.0",
            "_view_name": "LayoutView",
            "align_content": null,
            "align_items": null,
            "align_self": null,
            "border": null,
            "bottom": null,
            "display": null,
            "flex": null,
            "flex_flow": null,
            "grid_area": null,
            "grid_auto_columns": null,
            "grid_auto_flow": null,
            "grid_auto_rows": null,
            "grid_column": null,
            "grid_gap": null,
            "grid_row": null,
            "grid_template_areas": null,
            "grid_template_columns": null,
            "grid_template_rows": null,
            "height": null,
            "justify_content": null,
            "justify_items": null,
            "left": null,
            "margin": null,
            "max_height": null,
            "max_width": null,
            "min_height": null,
            "min_width": null,
            "object_fit": null,
            "object_position": null,
            "order": null,
            "overflow": null,
            "overflow_x": null,
            "overflow_y": null,
            "padding": null,
            "right": null,
            "top": null,
            "visibility": null,
            "width": null
          }
        },
        "8d3f177e95154af88f30f835a4a1a63b": {
          "model_module": "@jupyter-widgets/base",
          "model_name": "LayoutModel",
          "model_module_version": "1.2.0",
          "state": {
            "_model_module": "@jupyter-widgets/base",
            "_model_module_version": "1.2.0",
            "_model_name": "LayoutModel",
            "_view_count": null,
            "_view_module": "@jupyter-widgets/base",
            "_view_module_version": "1.2.0",
            "_view_name": "LayoutView",
            "align_content": null,
            "align_items": null,
            "align_self": null,
            "border": null,
            "bottom": null,
            "display": null,
            "flex": null,
            "flex_flow": null,
            "grid_area": null,
            "grid_auto_columns": null,
            "grid_auto_flow": null,
            "grid_auto_rows": null,
            "grid_column": null,
            "grid_gap": null,
            "grid_row": null,
            "grid_template_areas": null,
            "grid_template_columns": null,
            "grid_template_rows": null,
            "height": null,
            "justify_content": null,
            "justify_items": null,
            "left": null,
            "margin": null,
            "max_height": null,
            "max_width": null,
            "min_height": null,
            "min_width": null,
            "object_fit": null,
            "object_position": null,
            "order": null,
            "overflow": null,
            "overflow_x": null,
            "overflow_y": null,
            "padding": null,
            "right": null,
            "top": null,
            "visibility": null,
            "width": null
          }
        },
        "e30f075812d94530b66f2fd4067c2fb1": {
          "model_module": "@jupyter-widgets/controls",
          "model_name": "DescriptionStyleModel",
          "model_module_version": "1.5.0",
          "state": {
            "_model_module": "@jupyter-widgets/controls",
            "_model_module_version": "1.5.0",
            "_model_name": "DescriptionStyleModel",
            "_view_count": null,
            "_view_module": "@jupyter-widgets/base",
            "_view_module_version": "1.2.0",
            "_view_name": "StyleView",
            "description_width": ""
          }
        },
        "9e791918b23b4ee1a8f17808c41a6bd8": {
          "model_module": "@jupyter-widgets/base",
          "model_name": "LayoutModel",
          "model_module_version": "1.2.0",
          "state": {
            "_model_module": "@jupyter-widgets/base",
            "_model_module_version": "1.2.0",
            "_model_name": "LayoutModel",
            "_view_count": null,
            "_view_module": "@jupyter-widgets/base",
            "_view_module_version": "1.2.0",
            "_view_name": "LayoutView",
            "align_content": null,
            "align_items": null,
            "align_self": null,
            "border": null,
            "bottom": null,
            "display": null,
            "flex": null,
            "flex_flow": null,
            "grid_area": null,
            "grid_auto_columns": null,
            "grid_auto_flow": null,
            "grid_auto_rows": null,
            "grid_column": null,
            "grid_gap": null,
            "grid_row": null,
            "grid_template_areas": null,
            "grid_template_columns": null,
            "grid_template_rows": null,
            "height": null,
            "justify_content": null,
            "justify_items": null,
            "left": null,
            "margin": null,
            "max_height": null,
            "max_width": null,
            "min_height": null,
            "min_width": null,
            "object_fit": null,
            "object_position": null,
            "order": null,
            "overflow": null,
            "overflow_x": null,
            "overflow_y": null,
            "padding": null,
            "right": null,
            "top": null,
            "visibility": null,
            "width": null
          }
        },
        "7e9ae5a7bbc847f7aabb3a752f19c1f7": {
          "model_module": "@jupyter-widgets/controls",
          "model_name": "ProgressStyleModel",
          "model_module_version": "1.5.0",
          "state": {
            "_model_module": "@jupyter-widgets/controls",
            "_model_module_version": "1.5.0",
            "_model_name": "ProgressStyleModel",
            "_view_count": null,
            "_view_module": "@jupyter-widgets/base",
            "_view_module_version": "1.2.0",
            "_view_name": "StyleView",
            "bar_color": null,
            "description_width": ""
          }
        },
        "4d985c5892e44fb8979fc878964de8af": {
          "model_module": "@jupyter-widgets/base",
          "model_name": "LayoutModel",
          "model_module_version": "1.2.0",
          "state": {
            "_model_module": "@jupyter-widgets/base",
            "_model_module_version": "1.2.0",
            "_model_name": "LayoutModel",
            "_view_count": null,
            "_view_module": "@jupyter-widgets/base",
            "_view_module_version": "1.2.0",
            "_view_name": "LayoutView",
            "align_content": null,
            "align_items": null,
            "align_self": null,
            "border": null,
            "bottom": null,
            "display": null,
            "flex": null,
            "flex_flow": null,
            "grid_area": null,
            "grid_auto_columns": null,
            "grid_auto_flow": null,
            "grid_auto_rows": null,
            "grid_column": null,
            "grid_gap": null,
            "grid_row": null,
            "grid_template_areas": null,
            "grid_template_columns": null,
            "grid_template_rows": null,
            "height": null,
            "justify_content": null,
            "justify_items": null,
            "left": null,
            "margin": null,
            "max_height": null,
            "max_width": null,
            "min_height": null,
            "min_width": null,
            "object_fit": null,
            "object_position": null,
            "order": null,
            "overflow": null,
            "overflow_x": null,
            "overflow_y": null,
            "padding": null,
            "right": null,
            "top": null,
            "visibility": null,
            "width": null
          }
        },
        "f41eebc1bde943a3b064876397daf477": {
          "model_module": "@jupyter-widgets/controls",
          "model_name": "DescriptionStyleModel",
          "model_module_version": "1.5.0",
          "state": {
            "_model_module": "@jupyter-widgets/controls",
            "_model_module_version": "1.5.0",
            "_model_name": "DescriptionStyleModel",
            "_view_count": null,
            "_view_module": "@jupyter-widgets/base",
            "_view_module_version": "1.2.0",
            "_view_name": "StyleView",
            "description_width": ""
          }
        },
        "87597c08c77b474d8eb8687b332a12bb": {
          "model_module": "@jupyter-widgets/controls",
          "model_name": "HBoxModel",
          "model_module_version": "1.5.0",
          "state": {
            "_dom_classes": [],
            "_model_module": "@jupyter-widgets/controls",
            "_model_module_version": "1.5.0",
            "_model_name": "HBoxModel",
            "_view_count": null,
            "_view_module": "@jupyter-widgets/controls",
            "_view_module_version": "1.5.0",
            "_view_name": "HBoxView",
            "box_style": "",
            "children": [
              "IPY_MODEL_9876071515cf48b59ddeb4d3ea32ca70",
              "IPY_MODEL_c99a500560664175ae18e60f5bd27d8d",
              "IPY_MODEL_fe214c211317419cb6c944cdc3a9ec2c"
            ],
            "layout": "IPY_MODEL_b6d62d4ae8a8403b9cf48b8f73253824"
          }
        },
        "9876071515cf48b59ddeb4d3ea32ca70": {
          "model_module": "@jupyter-widgets/controls",
          "model_name": "HTMLModel",
          "model_module_version": "1.5.0",
          "state": {
            "_dom_classes": [],
            "_model_module": "@jupyter-widgets/controls",
            "_model_module_version": "1.5.0",
            "_model_name": "HTMLModel",
            "_view_count": null,
            "_view_module": "@jupyter-widgets/controls",
            "_view_module_version": "1.5.0",
            "_view_name": "HTMLView",
            "description": "",
            "description_tooltip": null,
            "layout": "IPY_MODEL_3a1cca62d50d4eccb10f95161ac061ce",
            "placeholder": "​",
            "style": "IPY_MODEL_c79ebb1ad08b4b21b8293b87910cf817",
            "value": "Downloading data: "
          }
        },
        "c99a500560664175ae18e60f5bd27d8d": {
          "model_module": "@jupyter-widgets/controls",
          "model_name": "FloatProgressModel",
          "model_module_version": "1.5.0",
          "state": {
            "_dom_classes": [],
            "_model_module": "@jupyter-widgets/controls",
            "_model_module_version": "1.5.0",
            "_model_name": "FloatProgressModel",
            "_view_count": null,
            "_view_module": "@jupyter-widgets/controls",
            "_view_module_version": "1.5.0",
            "_view_name": "ProgressView",
            "bar_style": "success",
            "description": "",
            "description_tooltip": null,
            "layout": "IPY_MODEL_7ff8fbb702a5414ea22815a249477a27",
            "max": 1054280,
            "min": 0,
            "orientation": "horizontal",
            "style": "IPY_MODEL_99173eb1bb114c638e9424253f7272d8",
            "value": 1054280
          }
        },
        "fe214c211317419cb6c944cdc3a9ec2c": {
          "model_module": "@jupyter-widgets/controls",
          "model_name": "HTMLModel",
          "model_module_version": "1.5.0",
          "state": {
            "_dom_classes": [],
            "_model_module": "@jupyter-widgets/controls",
            "_model_module_version": "1.5.0",
            "_model_name": "HTMLModel",
            "_view_count": null,
            "_view_module": "@jupyter-widgets/controls",
            "_view_module_version": "1.5.0",
            "_view_name": "HTMLView",
            "description": "",
            "description_tooltip": null,
            "layout": "IPY_MODEL_62034a69044640a28a71c606494691af",
            "placeholder": "​",
            "style": "IPY_MODEL_6e20c273f0d24081bcae949189fb36e2",
            "value": " 4.85M/? [00:00&lt;00:00, 36.8MB/s]"
          }
        },
        "b6d62d4ae8a8403b9cf48b8f73253824": {
          "model_module": "@jupyter-widgets/base",
          "model_name": "LayoutModel",
          "model_module_version": "1.2.0",
          "state": {
            "_model_module": "@jupyter-widgets/base",
            "_model_module_version": "1.2.0",
            "_model_name": "LayoutModel",
            "_view_count": null,
            "_view_module": "@jupyter-widgets/base",
            "_view_module_version": "1.2.0",
            "_view_name": "LayoutView",
            "align_content": null,
            "align_items": null,
            "align_self": null,
            "border": null,
            "bottom": null,
            "display": null,
            "flex": null,
            "flex_flow": null,
            "grid_area": null,
            "grid_auto_columns": null,
            "grid_auto_flow": null,
            "grid_auto_rows": null,
            "grid_column": null,
            "grid_gap": null,
            "grid_row": null,
            "grid_template_areas": null,
            "grid_template_columns": null,
            "grid_template_rows": null,
            "height": null,
            "justify_content": null,
            "justify_items": null,
            "left": null,
            "margin": null,
            "max_height": null,
            "max_width": null,
            "min_height": null,
            "min_width": null,
            "object_fit": null,
            "object_position": null,
            "order": null,
            "overflow": null,
            "overflow_x": null,
            "overflow_y": null,
            "padding": null,
            "right": null,
            "top": null,
            "visibility": null,
            "width": null
          }
        },
        "3a1cca62d50d4eccb10f95161ac061ce": {
          "model_module": "@jupyter-widgets/base",
          "model_name": "LayoutModel",
          "model_module_version": "1.2.0",
          "state": {
            "_model_module": "@jupyter-widgets/base",
            "_model_module_version": "1.2.0",
            "_model_name": "LayoutModel",
            "_view_count": null,
            "_view_module": "@jupyter-widgets/base",
            "_view_module_version": "1.2.0",
            "_view_name": "LayoutView",
            "align_content": null,
            "align_items": null,
            "align_self": null,
            "border": null,
            "bottom": null,
            "display": null,
            "flex": null,
            "flex_flow": null,
            "grid_area": null,
            "grid_auto_columns": null,
            "grid_auto_flow": null,
            "grid_auto_rows": null,
            "grid_column": null,
            "grid_gap": null,
            "grid_row": null,
            "grid_template_areas": null,
            "grid_template_columns": null,
            "grid_template_rows": null,
            "height": null,
            "justify_content": null,
            "justify_items": null,
            "left": null,
            "margin": null,
            "max_height": null,
            "max_width": null,
            "min_height": null,
            "min_width": null,
            "object_fit": null,
            "object_position": null,
            "order": null,
            "overflow": null,
            "overflow_x": null,
            "overflow_y": null,
            "padding": null,
            "right": null,
            "top": null,
            "visibility": null,
            "width": null
          }
        },
        "c79ebb1ad08b4b21b8293b87910cf817": {
          "model_module": "@jupyter-widgets/controls",
          "model_name": "DescriptionStyleModel",
          "model_module_version": "1.5.0",
          "state": {
            "_model_module": "@jupyter-widgets/controls",
            "_model_module_version": "1.5.0",
            "_model_name": "DescriptionStyleModel",
            "_view_count": null,
            "_view_module": "@jupyter-widgets/base",
            "_view_module_version": "1.2.0",
            "_view_name": "StyleView",
            "description_width": ""
          }
        },
        "7ff8fbb702a5414ea22815a249477a27": {
          "model_module": "@jupyter-widgets/base",
          "model_name": "LayoutModel",
          "model_module_version": "1.2.0",
          "state": {
            "_model_module": "@jupyter-widgets/base",
            "_model_module_version": "1.2.0",
            "_model_name": "LayoutModel",
            "_view_count": null,
            "_view_module": "@jupyter-widgets/base",
            "_view_module_version": "1.2.0",
            "_view_name": "LayoutView",
            "align_content": null,
            "align_items": null,
            "align_self": null,
            "border": null,
            "bottom": null,
            "display": null,
            "flex": null,
            "flex_flow": null,
            "grid_area": null,
            "grid_auto_columns": null,
            "grid_auto_flow": null,
            "grid_auto_rows": null,
            "grid_column": null,
            "grid_gap": null,
            "grid_row": null,
            "grid_template_areas": null,
            "grid_template_columns": null,
            "grid_template_rows": null,
            "height": null,
            "justify_content": null,
            "justify_items": null,
            "left": null,
            "margin": null,
            "max_height": null,
            "max_width": null,
            "min_height": null,
            "min_width": null,
            "object_fit": null,
            "object_position": null,
            "order": null,
            "overflow": null,
            "overflow_x": null,
            "overflow_y": null,
            "padding": null,
            "right": null,
            "top": null,
            "visibility": null,
            "width": null
          }
        },
        "99173eb1bb114c638e9424253f7272d8": {
          "model_module": "@jupyter-widgets/controls",
          "model_name": "ProgressStyleModel",
          "model_module_version": "1.5.0",
          "state": {
            "_model_module": "@jupyter-widgets/controls",
            "_model_module_version": "1.5.0",
            "_model_name": "ProgressStyleModel",
            "_view_count": null,
            "_view_module": "@jupyter-widgets/base",
            "_view_module_version": "1.2.0",
            "_view_name": "StyleView",
            "bar_color": null,
            "description_width": ""
          }
        },
        "62034a69044640a28a71c606494691af": {
          "model_module": "@jupyter-widgets/base",
          "model_name": "LayoutModel",
          "model_module_version": "1.2.0",
          "state": {
            "_model_module": "@jupyter-widgets/base",
            "_model_module_version": "1.2.0",
            "_model_name": "LayoutModel",
            "_view_count": null,
            "_view_module": "@jupyter-widgets/base",
            "_view_module_version": "1.2.0",
            "_view_name": "LayoutView",
            "align_content": null,
            "align_items": null,
            "align_self": null,
            "border": null,
            "bottom": null,
            "display": null,
            "flex": null,
            "flex_flow": null,
            "grid_area": null,
            "grid_auto_columns": null,
            "grid_auto_flow": null,
            "grid_auto_rows": null,
            "grid_column": null,
            "grid_gap": null,
            "grid_row": null,
            "grid_template_areas": null,
            "grid_template_columns": null,
            "grid_template_rows": null,
            "height": null,
            "justify_content": null,
            "justify_items": null,
            "left": null,
            "margin": null,
            "max_height": null,
            "max_width": null,
            "min_height": null,
            "min_width": null,
            "object_fit": null,
            "object_position": null,
            "order": null,
            "overflow": null,
            "overflow_x": null,
            "overflow_y": null,
            "padding": null,
            "right": null,
            "top": null,
            "visibility": null,
            "width": null
          }
        },
        "6e20c273f0d24081bcae949189fb36e2": {
          "model_module": "@jupyter-widgets/controls",
          "model_name": "DescriptionStyleModel",
          "model_module_version": "1.5.0",
          "state": {
            "_model_module": "@jupyter-widgets/controls",
            "_model_module_version": "1.5.0",
            "_model_name": "DescriptionStyleModel",
            "_view_count": null,
            "_view_module": "@jupyter-widgets/base",
            "_view_module_version": "1.2.0",
            "_view_name": "StyleView",
            "description_width": ""
          }
        },
        "fc87e6fce133476489a9ea5aa913da66": {
          "model_module": "@jupyter-widgets/controls",
          "model_name": "HBoxModel",
          "model_module_version": "1.5.0",
          "state": {
            "_dom_classes": [],
            "_model_module": "@jupyter-widgets/controls",
            "_model_module_version": "1.5.0",
            "_model_name": "HBoxModel",
            "_view_count": null,
            "_view_module": "@jupyter-widgets/controls",
            "_view_module_version": "1.5.0",
            "_view_name": "HBoxView",
            "box_style": "",
            "children": [
              "IPY_MODEL_af57711dc4094ce2b116bea227a60c6e",
              "IPY_MODEL_ca4e5f7fa2bc44dd9060df515fe56e96",
              "IPY_MODEL_476a9a23231349a1bd2c819be7d8a674"
            ],
            "layout": "IPY_MODEL_f155f61f1bd84b6fb95037e8406d1ee1"
          }
        },
        "af57711dc4094ce2b116bea227a60c6e": {
          "model_module": "@jupyter-widgets/controls",
          "model_name": "HTMLModel",
          "model_module_version": "1.5.0",
          "state": {
            "_dom_classes": [],
            "_model_module": "@jupyter-widgets/controls",
            "_model_module_version": "1.5.0",
            "_model_name": "HTMLModel",
            "_view_count": null,
            "_view_module": "@jupyter-widgets/controls",
            "_view_module_version": "1.5.0",
            "_view_name": "HTMLView",
            "description": "",
            "description_tooltip": null,
            "layout": "IPY_MODEL_d2d6ff6efda241589fee2b8333be14c7",
            "placeholder": "​",
            "style": "IPY_MODEL_7436125859d74df7adb340cccc4c87ea",
            "value": "Extracting data files: 100%"
          }
        },
        "ca4e5f7fa2bc44dd9060df515fe56e96": {
          "model_module": "@jupyter-widgets/controls",
          "model_name": "FloatProgressModel",
          "model_module_version": "1.5.0",
          "state": {
            "_dom_classes": [],
            "_model_module": "@jupyter-widgets/controls",
            "_model_module_version": "1.5.0",
            "_model_name": "FloatProgressModel",
            "_view_count": null,
            "_view_module": "@jupyter-widgets/controls",
            "_view_module_version": "1.5.0",
            "_view_name": "ProgressView",
            "bar_style": "success",
            "description": "",
            "description_tooltip": null,
            "layout": "IPY_MODEL_4defed4d176c4872a192df0b8823361e",
            "max": 2,
            "min": 0,
            "orientation": "horizontal",
            "style": "IPY_MODEL_2f6678c015dd4ff5a455f4703c248a8d",
            "value": 2
          }
        },
        "476a9a23231349a1bd2c819be7d8a674": {
          "model_module": "@jupyter-widgets/controls",
          "model_name": "HTMLModel",
          "model_module_version": "1.5.0",
          "state": {
            "_dom_classes": [],
            "_model_module": "@jupyter-widgets/controls",
            "_model_module_version": "1.5.0",
            "_model_name": "HTMLModel",
            "_view_count": null,
            "_view_module": "@jupyter-widgets/controls",
            "_view_module_version": "1.5.0",
            "_view_name": "HTMLView",
            "description": "",
            "description_tooltip": null,
            "layout": "IPY_MODEL_e26043198cfc40ef93a9e037f37499d4",
            "placeholder": "​",
            "style": "IPY_MODEL_9e74b10a95b64186a554b912d42c66ea",
            "value": " 2/2 [00:00&lt;00:00, 51.63it/s]"
          }
        },
        "f155f61f1bd84b6fb95037e8406d1ee1": {
          "model_module": "@jupyter-widgets/base",
          "model_name": "LayoutModel",
          "model_module_version": "1.2.0",
          "state": {
            "_model_module": "@jupyter-widgets/base",
            "_model_module_version": "1.2.0",
            "_model_name": "LayoutModel",
            "_view_count": null,
            "_view_module": "@jupyter-widgets/base",
            "_view_module_version": "1.2.0",
            "_view_name": "LayoutView",
            "align_content": null,
            "align_items": null,
            "align_self": null,
            "border": null,
            "bottom": null,
            "display": null,
            "flex": null,
            "flex_flow": null,
            "grid_area": null,
            "grid_auto_columns": null,
            "grid_auto_flow": null,
            "grid_auto_rows": null,
            "grid_column": null,
            "grid_gap": null,
            "grid_row": null,
            "grid_template_areas": null,
            "grid_template_columns": null,
            "grid_template_rows": null,
            "height": null,
            "justify_content": null,
            "justify_items": null,
            "left": null,
            "margin": null,
            "max_height": null,
            "max_width": null,
            "min_height": null,
            "min_width": null,
            "object_fit": null,
            "object_position": null,
            "order": null,
            "overflow": null,
            "overflow_x": null,
            "overflow_y": null,
            "padding": null,
            "right": null,
            "top": null,
            "visibility": null,
            "width": null
          }
        },
        "d2d6ff6efda241589fee2b8333be14c7": {
          "model_module": "@jupyter-widgets/base",
          "model_name": "LayoutModel",
          "model_module_version": "1.2.0",
          "state": {
            "_model_module": "@jupyter-widgets/base",
            "_model_module_version": "1.2.0",
            "_model_name": "LayoutModel",
            "_view_count": null,
            "_view_module": "@jupyter-widgets/base",
            "_view_module_version": "1.2.0",
            "_view_name": "LayoutView",
            "align_content": null,
            "align_items": null,
            "align_self": null,
            "border": null,
            "bottom": null,
            "display": null,
            "flex": null,
            "flex_flow": null,
            "grid_area": null,
            "grid_auto_columns": null,
            "grid_auto_flow": null,
            "grid_auto_rows": null,
            "grid_column": null,
            "grid_gap": null,
            "grid_row": null,
            "grid_template_areas": null,
            "grid_template_columns": null,
            "grid_template_rows": null,
            "height": null,
            "justify_content": null,
            "justify_items": null,
            "left": null,
            "margin": null,
            "max_height": null,
            "max_width": null,
            "min_height": null,
            "min_width": null,
            "object_fit": null,
            "object_position": null,
            "order": null,
            "overflow": null,
            "overflow_x": null,
            "overflow_y": null,
            "padding": null,
            "right": null,
            "top": null,
            "visibility": null,
            "width": null
          }
        },
        "7436125859d74df7adb340cccc4c87ea": {
          "model_module": "@jupyter-widgets/controls",
          "model_name": "DescriptionStyleModel",
          "model_module_version": "1.5.0",
          "state": {
            "_model_module": "@jupyter-widgets/controls",
            "_model_module_version": "1.5.0",
            "_model_name": "DescriptionStyleModel",
            "_view_count": null,
            "_view_module": "@jupyter-widgets/base",
            "_view_module_version": "1.2.0",
            "_view_name": "StyleView",
            "description_width": ""
          }
        },
        "4defed4d176c4872a192df0b8823361e": {
          "model_module": "@jupyter-widgets/base",
          "model_name": "LayoutModel",
          "model_module_version": "1.2.0",
          "state": {
            "_model_module": "@jupyter-widgets/base",
            "_model_module_version": "1.2.0",
            "_model_name": "LayoutModel",
            "_view_count": null,
            "_view_module": "@jupyter-widgets/base",
            "_view_module_version": "1.2.0",
            "_view_name": "LayoutView",
            "align_content": null,
            "align_items": null,
            "align_self": null,
            "border": null,
            "bottom": null,
            "display": null,
            "flex": null,
            "flex_flow": null,
            "grid_area": null,
            "grid_auto_columns": null,
            "grid_auto_flow": null,
            "grid_auto_rows": null,
            "grid_column": null,
            "grid_gap": null,
            "grid_row": null,
            "grid_template_areas": null,
            "grid_template_columns": null,
            "grid_template_rows": null,
            "height": null,
            "justify_content": null,
            "justify_items": null,
            "left": null,
            "margin": null,
            "max_height": null,
            "max_width": null,
            "min_height": null,
            "min_width": null,
            "object_fit": null,
            "object_position": null,
            "order": null,
            "overflow": null,
            "overflow_x": null,
            "overflow_y": null,
            "padding": null,
            "right": null,
            "top": null,
            "visibility": null,
            "width": null
          }
        },
        "2f6678c015dd4ff5a455f4703c248a8d": {
          "model_module": "@jupyter-widgets/controls",
          "model_name": "ProgressStyleModel",
          "model_module_version": "1.5.0",
          "state": {
            "_model_module": "@jupyter-widgets/controls",
            "_model_module_version": "1.5.0",
            "_model_name": "ProgressStyleModel",
            "_view_count": null,
            "_view_module": "@jupyter-widgets/base",
            "_view_module_version": "1.2.0",
            "_view_name": "StyleView",
            "bar_color": null,
            "description_width": ""
          }
        },
        "e26043198cfc40ef93a9e037f37499d4": {
          "model_module": "@jupyter-widgets/base",
          "model_name": "LayoutModel",
          "model_module_version": "1.2.0",
          "state": {
            "_model_module": "@jupyter-widgets/base",
            "_model_module_version": "1.2.0",
            "_model_name": "LayoutModel",
            "_view_count": null,
            "_view_module": "@jupyter-widgets/base",
            "_view_module_version": "1.2.0",
            "_view_name": "LayoutView",
            "align_content": null,
            "align_items": null,
            "align_self": null,
            "border": null,
            "bottom": null,
            "display": null,
            "flex": null,
            "flex_flow": null,
            "grid_area": null,
            "grid_auto_columns": null,
            "grid_auto_flow": null,
            "grid_auto_rows": null,
            "grid_column": null,
            "grid_gap": null,
            "grid_row": null,
            "grid_template_areas": null,
            "grid_template_columns": null,
            "grid_template_rows": null,
            "height": null,
            "justify_content": null,
            "justify_items": null,
            "left": null,
            "margin": null,
            "max_height": null,
            "max_width": null,
            "min_height": null,
            "min_width": null,
            "object_fit": null,
            "object_position": null,
            "order": null,
            "overflow": null,
            "overflow_x": null,
            "overflow_y": null,
            "padding": null,
            "right": null,
            "top": null,
            "visibility": null,
            "width": null
          }
        },
        "9e74b10a95b64186a554b912d42c66ea": {
          "model_module": "@jupyter-widgets/controls",
          "model_name": "DescriptionStyleModel",
          "model_module_version": "1.5.0",
          "state": {
            "_model_module": "@jupyter-widgets/controls",
            "_model_module_version": "1.5.0",
            "_model_name": "DescriptionStyleModel",
            "_view_count": null,
            "_view_module": "@jupyter-widgets/base",
            "_view_module_version": "1.2.0",
            "_view_name": "StyleView",
            "description_width": ""
          }
        },
        "ee49908639d442338e3f1b5dcdce3ee9": {
          "model_module": "@jupyter-widgets/controls",
          "model_name": "HBoxModel",
          "model_module_version": "1.5.0",
          "state": {
            "_dom_classes": [],
            "_model_module": "@jupyter-widgets/controls",
            "_model_module_version": "1.5.0",
            "_model_name": "HBoxModel",
            "_view_count": null,
            "_view_module": "@jupyter-widgets/controls",
            "_view_module_version": "1.5.0",
            "_view_name": "HBoxView",
            "box_style": "",
            "children": [
              "IPY_MODEL_b05fa8d522ea4e23a269efa72fe10cd1",
              "IPY_MODEL_7eb034baa7834f9bbeac0193e9532348",
              "IPY_MODEL_c5084d2fc36740f5beee9ce3fc09a68a"
            ],
            "layout": "IPY_MODEL_4c154002f7884ac490b11d4ce6f259e6"
          }
        },
        "b05fa8d522ea4e23a269efa72fe10cd1": {
          "model_module": "@jupyter-widgets/controls",
          "model_name": "HTMLModel",
          "model_module_version": "1.5.0",
          "state": {
            "_dom_classes": [],
            "_model_module": "@jupyter-widgets/controls",
            "_model_module_version": "1.5.0",
            "_model_name": "HTMLModel",
            "_view_count": null,
            "_view_module": "@jupyter-widgets/controls",
            "_view_module_version": "1.5.0",
            "_view_name": "HTMLView",
            "description": "",
            "description_tooltip": null,
            "layout": "IPY_MODEL_b41ef3c8011a4399996c0c4c144bb61d",
            "placeholder": "​",
            "style": "IPY_MODEL_1c5f6be1173d42118fab7580c12b574c",
            "value": "Generating train split:  99%"
          }
        },
        "7eb034baa7834f9bbeac0193e9532348": {
          "model_module": "@jupyter-widgets/controls",
          "model_name": "FloatProgressModel",
          "model_module_version": "1.5.0",
          "state": {
            "_dom_classes": [],
            "_model_module": "@jupyter-widgets/controls",
            "_model_module_version": "1.5.0",
            "_model_name": "FloatProgressModel",
            "_view_count": null,
            "_view_module": "@jupyter-widgets/controls",
            "_view_module_version": "1.5.0",
            "_view_name": "ProgressView",
            "bar_style": "",
            "description": "",
            "description_tooltip": null,
            "layout": "IPY_MODEL_7718d3e5084e4653b5346c04847fc7f1",
            "max": 87599,
            "min": 0,
            "orientation": "horizontal",
            "style": "IPY_MODEL_f969a33a7dec4391a8e39be9dbe7ffa9",
            "value": 87599
          }
        },
        "c5084d2fc36740f5beee9ce3fc09a68a": {
          "model_module": "@jupyter-widgets/controls",
          "model_name": "HTMLModel",
          "model_module_version": "1.5.0",
          "state": {
            "_dom_classes": [],
            "_model_module": "@jupyter-widgets/controls",
            "_model_module_version": "1.5.0",
            "_model_name": "HTMLModel",
            "_view_count": null,
            "_view_module": "@jupyter-widgets/controls",
            "_view_module_version": "1.5.0",
            "_view_name": "HTMLView",
            "description": "",
            "description_tooltip": null,
            "layout": "IPY_MODEL_0e389620aea8454e8d7d14b794b3e169",
            "placeholder": "​",
            "style": "IPY_MODEL_47b25c6e4f0c432b89d0422edcd2b8fb",
            "value": " 86611/87599 [00:09&lt;00:00, 11040.05 examples/s]"
          }
        },
        "4c154002f7884ac490b11d4ce6f259e6": {
          "model_module": "@jupyter-widgets/base",
          "model_name": "LayoutModel",
          "model_module_version": "1.2.0",
          "state": {
            "_model_module": "@jupyter-widgets/base",
            "_model_module_version": "1.2.0",
            "_model_name": "LayoutModel",
            "_view_count": null,
            "_view_module": "@jupyter-widgets/base",
            "_view_module_version": "1.2.0",
            "_view_name": "LayoutView",
            "align_content": null,
            "align_items": null,
            "align_self": null,
            "border": null,
            "bottom": null,
            "display": null,
            "flex": null,
            "flex_flow": null,
            "grid_area": null,
            "grid_auto_columns": null,
            "grid_auto_flow": null,
            "grid_auto_rows": null,
            "grid_column": null,
            "grid_gap": null,
            "grid_row": null,
            "grid_template_areas": null,
            "grid_template_columns": null,
            "grid_template_rows": null,
            "height": null,
            "justify_content": null,
            "justify_items": null,
            "left": null,
            "margin": null,
            "max_height": null,
            "max_width": null,
            "min_height": null,
            "min_width": null,
            "object_fit": null,
            "object_position": null,
            "order": null,
            "overflow": null,
            "overflow_x": null,
            "overflow_y": null,
            "padding": null,
            "right": null,
            "top": null,
            "visibility": null,
            "width": null
          }
        },
        "b41ef3c8011a4399996c0c4c144bb61d": {
          "model_module": "@jupyter-widgets/base",
          "model_name": "LayoutModel",
          "model_module_version": "1.2.0",
          "state": {
            "_model_module": "@jupyter-widgets/base",
            "_model_module_version": "1.2.0",
            "_model_name": "LayoutModel",
            "_view_count": null,
            "_view_module": "@jupyter-widgets/base",
            "_view_module_version": "1.2.0",
            "_view_name": "LayoutView",
            "align_content": null,
            "align_items": null,
            "align_self": null,
            "border": null,
            "bottom": null,
            "display": null,
            "flex": null,
            "flex_flow": null,
            "grid_area": null,
            "grid_auto_columns": null,
            "grid_auto_flow": null,
            "grid_auto_rows": null,
            "grid_column": null,
            "grid_gap": null,
            "grid_row": null,
            "grid_template_areas": null,
            "grid_template_columns": null,
            "grid_template_rows": null,
            "height": null,
            "justify_content": null,
            "justify_items": null,
            "left": null,
            "margin": null,
            "max_height": null,
            "max_width": null,
            "min_height": null,
            "min_width": null,
            "object_fit": null,
            "object_position": null,
            "order": null,
            "overflow": null,
            "overflow_x": null,
            "overflow_y": null,
            "padding": null,
            "right": null,
            "top": null,
            "visibility": null,
            "width": null
          }
        },
        "1c5f6be1173d42118fab7580c12b574c": {
          "model_module": "@jupyter-widgets/controls",
          "model_name": "DescriptionStyleModel",
          "model_module_version": "1.5.0",
          "state": {
            "_model_module": "@jupyter-widgets/controls",
            "_model_module_version": "1.5.0",
            "_model_name": "DescriptionStyleModel",
            "_view_count": null,
            "_view_module": "@jupyter-widgets/base",
            "_view_module_version": "1.2.0",
            "_view_name": "StyleView",
            "description_width": ""
          }
        },
        "7718d3e5084e4653b5346c04847fc7f1": {
          "model_module": "@jupyter-widgets/base",
          "model_name": "LayoutModel",
          "model_module_version": "1.2.0",
          "state": {
            "_model_module": "@jupyter-widgets/base",
            "_model_module_version": "1.2.0",
            "_model_name": "LayoutModel",
            "_view_count": null,
            "_view_module": "@jupyter-widgets/base",
            "_view_module_version": "1.2.0",
            "_view_name": "LayoutView",
            "align_content": null,
            "align_items": null,
            "align_self": null,
            "border": null,
            "bottom": null,
            "display": null,
            "flex": null,
            "flex_flow": null,
            "grid_area": null,
            "grid_auto_columns": null,
            "grid_auto_flow": null,
            "grid_auto_rows": null,
            "grid_column": null,
            "grid_gap": null,
            "grid_row": null,
            "grid_template_areas": null,
            "grid_template_columns": null,
            "grid_template_rows": null,
            "height": null,
            "justify_content": null,
            "justify_items": null,
            "left": null,
            "margin": null,
            "max_height": null,
            "max_width": null,
            "min_height": null,
            "min_width": null,
            "object_fit": null,
            "object_position": null,
            "order": null,
            "overflow": null,
            "overflow_x": null,
            "overflow_y": null,
            "padding": null,
            "right": null,
            "top": null,
            "visibility": null,
            "width": null
          }
        },
        "f969a33a7dec4391a8e39be9dbe7ffa9": {
          "model_module": "@jupyter-widgets/controls",
          "model_name": "ProgressStyleModel",
          "model_module_version": "1.5.0",
          "state": {
            "_model_module": "@jupyter-widgets/controls",
            "_model_module_version": "1.5.0",
            "_model_name": "ProgressStyleModel",
            "_view_count": null,
            "_view_module": "@jupyter-widgets/base",
            "_view_module_version": "1.2.0",
            "_view_name": "StyleView",
            "bar_color": null,
            "description_width": ""
          }
        },
        "0e389620aea8454e8d7d14b794b3e169": {
          "model_module": "@jupyter-widgets/base",
          "model_name": "LayoutModel",
          "model_module_version": "1.2.0",
          "state": {
            "_model_module": "@jupyter-widgets/base",
            "_model_module_version": "1.2.0",
            "_model_name": "LayoutModel",
            "_view_count": null,
            "_view_module": "@jupyter-widgets/base",
            "_view_module_version": "1.2.0",
            "_view_name": "LayoutView",
            "align_content": null,
            "align_items": null,
            "align_self": null,
            "border": null,
            "bottom": null,
            "display": null,
            "flex": null,
            "flex_flow": null,
            "grid_area": null,
            "grid_auto_columns": null,
            "grid_auto_flow": null,
            "grid_auto_rows": null,
            "grid_column": null,
            "grid_gap": null,
            "grid_row": null,
            "grid_template_areas": null,
            "grid_template_columns": null,
            "grid_template_rows": null,
            "height": null,
            "justify_content": null,
            "justify_items": null,
            "left": null,
            "margin": null,
            "max_height": null,
            "max_width": null,
            "min_height": null,
            "min_width": null,
            "object_fit": null,
            "object_position": null,
            "order": null,
            "overflow": null,
            "overflow_x": null,
            "overflow_y": null,
            "padding": null,
            "right": null,
            "top": null,
            "visibility": null,
            "width": null
          }
        },
        "47b25c6e4f0c432b89d0422edcd2b8fb": {
          "model_module": "@jupyter-widgets/controls",
          "model_name": "DescriptionStyleModel",
          "model_module_version": "1.5.0",
          "state": {
            "_model_module": "@jupyter-widgets/controls",
            "_model_module_version": "1.5.0",
            "_model_name": "DescriptionStyleModel",
            "_view_count": null,
            "_view_module": "@jupyter-widgets/base",
            "_view_module_version": "1.2.0",
            "_view_name": "StyleView",
            "description_width": ""
          }
        },
        "747ed3afe4be4bc8b2e08c93f132aabf": {
          "model_module": "@jupyter-widgets/controls",
          "model_name": "HBoxModel",
          "model_module_version": "1.5.0",
          "state": {
            "_dom_classes": [],
            "_model_module": "@jupyter-widgets/controls",
            "_model_module_version": "1.5.0",
            "_model_name": "HBoxModel",
            "_view_count": null,
            "_view_module": "@jupyter-widgets/controls",
            "_view_module_version": "1.5.0",
            "_view_name": "HBoxView",
            "box_style": "",
            "children": [
              "IPY_MODEL_a91f71472bee4769835435efd9bfd8cb",
              "IPY_MODEL_8ae566d8e41e404a98e9cee40ab29170",
              "IPY_MODEL_3ad092805a7d42418e38f72f975f2c57"
            ],
            "layout": "IPY_MODEL_40804ba8572642ffac9f91a6af22e246"
          }
        },
        "a91f71472bee4769835435efd9bfd8cb": {
          "model_module": "@jupyter-widgets/controls",
          "model_name": "HTMLModel",
          "model_module_version": "1.5.0",
          "state": {
            "_dom_classes": [],
            "_model_module": "@jupyter-widgets/controls",
            "_model_module_version": "1.5.0",
            "_model_name": "HTMLModel",
            "_view_count": null,
            "_view_module": "@jupyter-widgets/controls",
            "_view_module_version": "1.5.0",
            "_view_name": "HTMLView",
            "description": "",
            "description_tooltip": null,
            "layout": "IPY_MODEL_210a5a7925dd4648bf3916ebf960aeab",
            "placeholder": "​",
            "style": "IPY_MODEL_d85d657df0394d208bd06069fcf07fd0",
            "value": "Generating validation split:  95%"
          }
        },
        "8ae566d8e41e404a98e9cee40ab29170": {
          "model_module": "@jupyter-widgets/controls",
          "model_name": "FloatProgressModel",
          "model_module_version": "1.5.0",
          "state": {
            "_dom_classes": [],
            "_model_module": "@jupyter-widgets/controls",
            "_model_module_version": "1.5.0",
            "_model_name": "FloatProgressModel",
            "_view_count": null,
            "_view_module": "@jupyter-widgets/controls",
            "_view_module_version": "1.5.0",
            "_view_name": "ProgressView",
            "bar_style": "",
            "description": "",
            "description_tooltip": null,
            "layout": "IPY_MODEL_b0fe589bc3844f28b5eb1e921b577df8",
            "max": 10570,
            "min": 0,
            "orientation": "horizontal",
            "style": "IPY_MODEL_ab69c313cf524cf7bd3ee466bd4b651e",
            "value": 10570
          }
        },
        "3ad092805a7d42418e38f72f975f2c57": {
          "model_module": "@jupyter-widgets/controls",
          "model_name": "HTMLModel",
          "model_module_version": "1.5.0",
          "state": {
            "_dom_classes": [],
            "_model_module": "@jupyter-widgets/controls",
            "_model_module_version": "1.5.0",
            "_model_name": "HTMLModel",
            "_view_count": null,
            "_view_module": "@jupyter-widgets/controls",
            "_view_module_version": "1.5.0",
            "_view_name": "HTMLView",
            "description": "",
            "description_tooltip": null,
            "layout": "IPY_MODEL_51e375e9671f480b89b4479c41b92ecf",
            "placeholder": "​",
            "style": "IPY_MODEL_558ed1dedf4845f8b2d81fbd248b2f8b",
            "value": " 10061/10570 [00:01&lt;00:00, 7584.33 examples/s]"
          }
        },
        "40804ba8572642ffac9f91a6af22e246": {
          "model_module": "@jupyter-widgets/base",
          "model_name": "LayoutModel",
          "model_module_version": "1.2.0",
          "state": {
            "_model_module": "@jupyter-widgets/base",
            "_model_module_version": "1.2.0",
            "_model_name": "LayoutModel",
            "_view_count": null,
            "_view_module": "@jupyter-widgets/base",
            "_view_module_version": "1.2.0",
            "_view_name": "LayoutView",
            "align_content": null,
            "align_items": null,
            "align_self": null,
            "border": null,
            "bottom": null,
            "display": null,
            "flex": null,
            "flex_flow": null,
            "grid_area": null,
            "grid_auto_columns": null,
            "grid_auto_flow": null,
            "grid_auto_rows": null,
            "grid_column": null,
            "grid_gap": null,
            "grid_row": null,
            "grid_template_areas": null,
            "grid_template_columns": null,
            "grid_template_rows": null,
            "height": null,
            "justify_content": null,
            "justify_items": null,
            "left": null,
            "margin": null,
            "max_height": null,
            "max_width": null,
            "min_height": null,
            "min_width": null,
            "object_fit": null,
            "object_position": null,
            "order": null,
            "overflow": null,
            "overflow_x": null,
            "overflow_y": null,
            "padding": null,
            "right": null,
            "top": null,
            "visibility": null,
            "width": null
          }
        },
        "210a5a7925dd4648bf3916ebf960aeab": {
          "model_module": "@jupyter-widgets/base",
          "model_name": "LayoutModel",
          "model_module_version": "1.2.0",
          "state": {
            "_model_module": "@jupyter-widgets/base",
            "_model_module_version": "1.2.0",
            "_model_name": "LayoutModel",
            "_view_count": null,
            "_view_module": "@jupyter-widgets/base",
            "_view_module_version": "1.2.0",
            "_view_name": "LayoutView",
            "align_content": null,
            "align_items": null,
            "align_self": null,
            "border": null,
            "bottom": null,
            "display": null,
            "flex": null,
            "flex_flow": null,
            "grid_area": null,
            "grid_auto_columns": null,
            "grid_auto_flow": null,
            "grid_auto_rows": null,
            "grid_column": null,
            "grid_gap": null,
            "grid_row": null,
            "grid_template_areas": null,
            "grid_template_columns": null,
            "grid_template_rows": null,
            "height": null,
            "justify_content": null,
            "justify_items": null,
            "left": null,
            "margin": null,
            "max_height": null,
            "max_width": null,
            "min_height": null,
            "min_width": null,
            "object_fit": null,
            "object_position": null,
            "order": null,
            "overflow": null,
            "overflow_x": null,
            "overflow_y": null,
            "padding": null,
            "right": null,
            "top": null,
            "visibility": null,
            "width": null
          }
        },
        "d85d657df0394d208bd06069fcf07fd0": {
          "model_module": "@jupyter-widgets/controls",
          "model_name": "DescriptionStyleModel",
          "model_module_version": "1.5.0",
          "state": {
            "_model_module": "@jupyter-widgets/controls",
            "_model_module_version": "1.5.0",
            "_model_name": "DescriptionStyleModel",
            "_view_count": null,
            "_view_module": "@jupyter-widgets/base",
            "_view_module_version": "1.2.0",
            "_view_name": "StyleView",
            "description_width": ""
          }
        },
        "b0fe589bc3844f28b5eb1e921b577df8": {
          "model_module": "@jupyter-widgets/base",
          "model_name": "LayoutModel",
          "model_module_version": "1.2.0",
          "state": {
            "_model_module": "@jupyter-widgets/base",
            "_model_module_version": "1.2.0",
            "_model_name": "LayoutModel",
            "_view_count": null,
            "_view_module": "@jupyter-widgets/base",
            "_view_module_version": "1.2.0",
            "_view_name": "LayoutView",
            "align_content": null,
            "align_items": null,
            "align_self": null,
            "border": null,
            "bottom": null,
            "display": null,
            "flex": null,
            "flex_flow": null,
            "grid_area": null,
            "grid_auto_columns": null,
            "grid_auto_flow": null,
            "grid_auto_rows": null,
            "grid_column": null,
            "grid_gap": null,
            "grid_row": null,
            "grid_template_areas": null,
            "grid_template_columns": null,
            "grid_template_rows": null,
            "height": null,
            "justify_content": null,
            "justify_items": null,
            "left": null,
            "margin": null,
            "max_height": null,
            "max_width": null,
            "min_height": null,
            "min_width": null,
            "object_fit": null,
            "object_position": null,
            "order": null,
            "overflow": null,
            "overflow_x": null,
            "overflow_y": null,
            "padding": null,
            "right": null,
            "top": null,
            "visibility": null,
            "width": null
          }
        },
        "ab69c313cf524cf7bd3ee466bd4b651e": {
          "model_module": "@jupyter-widgets/controls",
          "model_name": "ProgressStyleModel",
          "model_module_version": "1.5.0",
          "state": {
            "_model_module": "@jupyter-widgets/controls",
            "_model_module_version": "1.5.0",
            "_model_name": "ProgressStyleModel",
            "_view_count": null,
            "_view_module": "@jupyter-widgets/base",
            "_view_module_version": "1.2.0",
            "_view_name": "StyleView",
            "bar_color": null,
            "description_width": ""
          }
        },
        "51e375e9671f480b89b4479c41b92ecf": {
          "model_module": "@jupyter-widgets/base",
          "model_name": "LayoutModel",
          "model_module_version": "1.2.0",
          "state": {
            "_model_module": "@jupyter-widgets/base",
            "_model_module_version": "1.2.0",
            "_model_name": "LayoutModel",
            "_view_count": null,
            "_view_module": "@jupyter-widgets/base",
            "_view_module_version": "1.2.0",
            "_view_name": "LayoutView",
            "align_content": null,
            "align_items": null,
            "align_self": null,
            "border": null,
            "bottom": null,
            "display": null,
            "flex": null,
            "flex_flow": null,
            "grid_area": null,
            "grid_auto_columns": null,
            "grid_auto_flow": null,
            "grid_auto_rows": null,
            "grid_column": null,
            "grid_gap": null,
            "grid_row": null,
            "grid_template_areas": null,
            "grid_template_columns": null,
            "grid_template_rows": null,
            "height": null,
            "justify_content": null,
            "justify_items": null,
            "left": null,
            "margin": null,
            "max_height": null,
            "max_width": null,
            "min_height": null,
            "min_width": null,
            "object_fit": null,
            "object_position": null,
            "order": null,
            "overflow": null,
            "overflow_x": null,
            "overflow_y": null,
            "padding": null,
            "right": null,
            "top": null,
            "visibility": null,
            "width": null
          }
        },
        "558ed1dedf4845f8b2d81fbd248b2f8b": {
          "model_module": "@jupyter-widgets/controls",
          "model_name": "DescriptionStyleModel",
          "model_module_version": "1.5.0",
          "state": {
            "_model_module": "@jupyter-widgets/controls",
            "_model_module_version": "1.5.0",
            "_model_name": "DescriptionStyleModel",
            "_view_count": null,
            "_view_module": "@jupyter-widgets/base",
            "_view_module_version": "1.2.0",
            "_view_name": "StyleView",
            "description_width": ""
          }
        },
        "e8797e81652c47c5b5ea068e9a1c2b23": {
          "model_module": "@jupyter-widgets/controls",
          "model_name": "HBoxModel",
          "model_module_version": "1.5.0",
          "state": {
            "_dom_classes": [],
            "_model_module": "@jupyter-widgets/controls",
            "_model_module_version": "1.5.0",
            "_model_name": "HBoxModel",
            "_view_count": null,
            "_view_module": "@jupyter-widgets/controls",
            "_view_module_version": "1.5.0",
            "_view_name": "HBoxView",
            "box_style": "",
            "children": [
              "IPY_MODEL_fb1d5dac9f3b494c978a383fd3683dc2",
              "IPY_MODEL_f3c1b941be974312b4c06cb050eafa5c",
              "IPY_MODEL_c7e748b9ec1d43e3abbf3c3f2c51bcee"
            ],
            "layout": "IPY_MODEL_72b6e86f46fa489caed5c5c19647145d"
          }
        },
        "fb1d5dac9f3b494c978a383fd3683dc2": {
          "model_module": "@jupyter-widgets/controls",
          "model_name": "HTMLModel",
          "model_module_version": "1.5.0",
          "state": {
            "_dom_classes": [],
            "_model_module": "@jupyter-widgets/controls",
            "_model_module_version": "1.5.0",
            "_model_name": "HTMLModel",
            "_view_count": null,
            "_view_module": "@jupyter-widgets/controls",
            "_view_module_version": "1.5.0",
            "_view_name": "HTMLView",
            "description": "",
            "description_tooltip": null,
            "layout": "IPY_MODEL_fd40da80aa7748a5b1ce56cc0b6ed4e7",
            "placeholder": "​",
            "style": "IPY_MODEL_7b6fdc7715164c49b242286367aa60e3",
            "value": "100%"
          }
        },
        "f3c1b941be974312b4c06cb050eafa5c": {
          "model_module": "@jupyter-widgets/controls",
          "model_name": "FloatProgressModel",
          "model_module_version": "1.5.0",
          "state": {
            "_dom_classes": [],
            "_model_module": "@jupyter-widgets/controls",
            "_model_module_version": "1.5.0",
            "_model_name": "FloatProgressModel",
            "_view_count": null,
            "_view_module": "@jupyter-widgets/controls",
            "_view_module_version": "1.5.0",
            "_view_name": "ProgressView",
            "bar_style": "success",
            "description": "",
            "description_tooltip": null,
            "layout": "IPY_MODEL_a2bfee7a046f48acb790a6558aacaece",
            "max": 2,
            "min": 0,
            "orientation": "horizontal",
            "style": "IPY_MODEL_195845f78def457bb91910a5f2218a9a",
            "value": 2
          }
        },
        "c7e748b9ec1d43e3abbf3c3f2c51bcee": {
          "model_module": "@jupyter-widgets/controls",
          "model_name": "HTMLModel",
          "model_module_version": "1.5.0",
          "state": {
            "_dom_classes": [],
            "_model_module": "@jupyter-widgets/controls",
            "_model_module_version": "1.5.0",
            "_model_name": "HTMLModel",
            "_view_count": null,
            "_view_module": "@jupyter-widgets/controls",
            "_view_module_version": "1.5.0",
            "_view_name": "HTMLView",
            "description": "",
            "description_tooltip": null,
            "layout": "IPY_MODEL_36571c9b608a47fe91c4d6b69ae750a3",
            "placeholder": "​",
            "style": "IPY_MODEL_b05da7c559f44998a1dfc90be5a26c82",
            "value": " 2/2 [00:00&lt;00:00, 53.97it/s]"
          }
        },
        "72b6e86f46fa489caed5c5c19647145d": {
          "model_module": "@jupyter-widgets/base",
          "model_name": "LayoutModel",
          "model_module_version": "1.2.0",
          "state": {
            "_model_module": "@jupyter-widgets/base",
            "_model_module_version": "1.2.0",
            "_model_name": "LayoutModel",
            "_view_count": null,
            "_view_module": "@jupyter-widgets/base",
            "_view_module_version": "1.2.0",
            "_view_name": "LayoutView",
            "align_content": null,
            "align_items": null,
            "align_self": null,
            "border": null,
            "bottom": null,
            "display": null,
            "flex": null,
            "flex_flow": null,
            "grid_area": null,
            "grid_auto_columns": null,
            "grid_auto_flow": null,
            "grid_auto_rows": null,
            "grid_column": null,
            "grid_gap": null,
            "grid_row": null,
            "grid_template_areas": null,
            "grid_template_columns": null,
            "grid_template_rows": null,
            "height": null,
            "justify_content": null,
            "justify_items": null,
            "left": null,
            "margin": null,
            "max_height": null,
            "max_width": null,
            "min_height": null,
            "min_width": null,
            "object_fit": null,
            "object_position": null,
            "order": null,
            "overflow": null,
            "overflow_x": null,
            "overflow_y": null,
            "padding": null,
            "right": null,
            "top": null,
            "visibility": null,
            "width": null
          }
        },
        "fd40da80aa7748a5b1ce56cc0b6ed4e7": {
          "model_module": "@jupyter-widgets/base",
          "model_name": "LayoutModel",
          "model_module_version": "1.2.0",
          "state": {
            "_model_module": "@jupyter-widgets/base",
            "_model_module_version": "1.2.0",
            "_model_name": "LayoutModel",
            "_view_count": null,
            "_view_module": "@jupyter-widgets/base",
            "_view_module_version": "1.2.0",
            "_view_name": "LayoutView",
            "align_content": null,
            "align_items": null,
            "align_self": null,
            "border": null,
            "bottom": null,
            "display": null,
            "flex": null,
            "flex_flow": null,
            "grid_area": null,
            "grid_auto_columns": null,
            "grid_auto_flow": null,
            "grid_auto_rows": null,
            "grid_column": null,
            "grid_gap": null,
            "grid_row": null,
            "grid_template_areas": null,
            "grid_template_columns": null,
            "grid_template_rows": null,
            "height": null,
            "justify_content": null,
            "justify_items": null,
            "left": null,
            "margin": null,
            "max_height": null,
            "max_width": null,
            "min_height": null,
            "min_width": null,
            "object_fit": null,
            "object_position": null,
            "order": null,
            "overflow": null,
            "overflow_x": null,
            "overflow_y": null,
            "padding": null,
            "right": null,
            "top": null,
            "visibility": null,
            "width": null
          }
        },
        "7b6fdc7715164c49b242286367aa60e3": {
          "model_module": "@jupyter-widgets/controls",
          "model_name": "DescriptionStyleModel",
          "model_module_version": "1.5.0",
          "state": {
            "_model_module": "@jupyter-widgets/controls",
            "_model_module_version": "1.5.0",
            "_model_name": "DescriptionStyleModel",
            "_view_count": null,
            "_view_module": "@jupyter-widgets/base",
            "_view_module_version": "1.2.0",
            "_view_name": "StyleView",
            "description_width": ""
          }
        },
        "a2bfee7a046f48acb790a6558aacaece": {
          "model_module": "@jupyter-widgets/base",
          "model_name": "LayoutModel",
          "model_module_version": "1.2.0",
          "state": {
            "_model_module": "@jupyter-widgets/base",
            "_model_module_version": "1.2.0",
            "_model_name": "LayoutModel",
            "_view_count": null,
            "_view_module": "@jupyter-widgets/base",
            "_view_module_version": "1.2.0",
            "_view_name": "LayoutView",
            "align_content": null,
            "align_items": null,
            "align_self": null,
            "border": null,
            "bottom": null,
            "display": null,
            "flex": null,
            "flex_flow": null,
            "grid_area": null,
            "grid_auto_columns": null,
            "grid_auto_flow": null,
            "grid_auto_rows": null,
            "grid_column": null,
            "grid_gap": null,
            "grid_row": null,
            "grid_template_areas": null,
            "grid_template_columns": null,
            "grid_template_rows": null,
            "height": null,
            "justify_content": null,
            "justify_items": null,
            "left": null,
            "margin": null,
            "max_height": null,
            "max_width": null,
            "min_height": null,
            "min_width": null,
            "object_fit": null,
            "object_position": null,
            "order": null,
            "overflow": null,
            "overflow_x": null,
            "overflow_y": null,
            "padding": null,
            "right": null,
            "top": null,
            "visibility": null,
            "width": null
          }
        },
        "195845f78def457bb91910a5f2218a9a": {
          "model_module": "@jupyter-widgets/controls",
          "model_name": "ProgressStyleModel",
          "model_module_version": "1.5.0",
          "state": {
            "_model_module": "@jupyter-widgets/controls",
            "_model_module_version": "1.5.0",
            "_model_name": "ProgressStyleModel",
            "_view_count": null,
            "_view_module": "@jupyter-widgets/base",
            "_view_module_version": "1.2.0",
            "_view_name": "StyleView",
            "bar_color": null,
            "description_width": ""
          }
        },
        "36571c9b608a47fe91c4d6b69ae750a3": {
          "model_module": "@jupyter-widgets/base",
          "model_name": "LayoutModel",
          "model_module_version": "1.2.0",
          "state": {
            "_model_module": "@jupyter-widgets/base",
            "_model_module_version": "1.2.0",
            "_model_name": "LayoutModel",
            "_view_count": null,
            "_view_module": "@jupyter-widgets/base",
            "_view_module_version": "1.2.0",
            "_view_name": "LayoutView",
            "align_content": null,
            "align_items": null,
            "align_self": null,
            "border": null,
            "bottom": null,
            "display": null,
            "flex": null,
            "flex_flow": null,
            "grid_area": null,
            "grid_auto_columns": null,
            "grid_auto_flow": null,
            "grid_auto_rows": null,
            "grid_column": null,
            "grid_gap": null,
            "grid_row": null,
            "grid_template_areas": null,
            "grid_template_columns": null,
            "grid_template_rows": null,
            "height": null,
            "justify_content": null,
            "justify_items": null,
            "left": null,
            "margin": null,
            "max_height": null,
            "max_width": null,
            "min_height": null,
            "min_width": null,
            "object_fit": null,
            "object_position": null,
            "order": null,
            "overflow": null,
            "overflow_x": null,
            "overflow_y": null,
            "padding": null,
            "right": null,
            "top": null,
            "visibility": null,
            "width": null
          }
        },
        "b05da7c559f44998a1dfc90be5a26c82": {
          "model_module": "@jupyter-widgets/controls",
          "model_name": "DescriptionStyleModel",
          "model_module_version": "1.5.0",
          "state": {
            "_model_module": "@jupyter-widgets/controls",
            "_model_module_version": "1.5.0",
            "_model_name": "DescriptionStyleModel",
            "_view_count": null,
            "_view_module": "@jupyter-widgets/base",
            "_view_module_version": "1.2.0",
            "_view_name": "StyleView",
            "description_width": ""
          }
        }
      }
    }
  },
  "nbformat": 4,
  "nbformat_minor": 0
}