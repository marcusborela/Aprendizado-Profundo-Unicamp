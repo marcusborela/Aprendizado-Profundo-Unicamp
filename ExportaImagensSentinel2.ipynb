{
  "nbformat": 4,
  "nbformat_minor": 0,
  "metadata": {
    "colab": {
      "name": "ExportaImagensSentinel2.ipynb",
      "provenance": [],
      "collapsed_sections": [],
      "include_colab_link": true
    },
    "kernelspec": {
      "name": "python3",
      "display_name": "Python 3"
    }
  },
  "cells": [
    {
      "cell_type": "markdown",
      "metadata": {
        "id": "view-in-github",
        "colab_type": "text"
      },
      "source": [
        "<a href=\"https://colab.research.google.com/github/marcusborela/Aprendizado-Profundo-Unicamp/blob/main/ExportaImagensSentinel2.ipynb\" target=\"_parent\"><img src=\"https://colab.research.google.com/assets/colab-badge.svg\" alt=\"Open In Colab\"/></a>"
      ]
    },
    {
      "cell_type": "markdown",
      "metadata": {
        "id": "9eysUOMdrzPq"
      },
      "source": [
        "# Criando amostras de imagens do Sentinel 2\n",
        "\n",
        "Remis Balaniuk, PhD\n",
        "\n",
        "Este script é parte do curso de Sensoriamento Remoto e Deep Learning.\n",
        "\n",
        "Seu objetivo é a automatização do procedimento de seleção, recorte e exportação de imagens processadas da constelação Sentinel 2 utilizando a API do Google Earth Engine."
      ]
    },
    {
      "cell_type": "code",
      "metadata": {
        "id": "vE1lo3lKgL3p",
        "colab": {
          "base_uri": "https://localhost:8080/"
        },
        "outputId": "1ba41ae0-873e-4e75-d355-fea6b01231b2"
      },
      "source": [
        "!pip install earthengine-api\n",
        "!pip install geopandas\n",
        "import os\n",
        "import sys\n",
        "import math"
      ],
      "execution_count": 1,
      "outputs": [
        {
          "output_type": "stream",
          "name": "stdout",
          "text": [
            "Looking in indexes: https://pypi.org/simple, https://us-python.pkg.dev/colab-wheels/public/simple/\n",
            "Requirement already satisfied: earthengine-api in /usr/local/lib/python3.7/dist-packages (0.1.312)\n",
            "Requirement already satisfied: google-cloud-storage in /usr/local/lib/python3.7/dist-packages (from earthengine-api) (1.18.1)\n",
            "Requirement already satisfied: future in /usr/local/lib/python3.7/dist-packages (from earthengine-api) (0.16.0)\n",
            "Requirement already satisfied: google-auth>=1.4.1 in /usr/local/lib/python3.7/dist-packages (from earthengine-api) (1.35.0)\n",
            "Requirement already satisfied: httplib2<1dev,>=0.9.2 in /usr/local/lib/python3.7/dist-packages (from earthengine-api) (0.17.4)\n",
            "Requirement already satisfied: httplib2shim in /usr/local/lib/python3.7/dist-packages (from earthengine-api) (0.0.3)\n",
            "Requirement already satisfied: six in /usr/local/lib/python3.7/dist-packages (from earthengine-api) (1.15.0)\n",
            "Requirement already satisfied: google-api-python-client<2,>=1.12.1 in /usr/local/lib/python3.7/dist-packages (from earthengine-api) (1.12.11)\n",
            "Requirement already satisfied: google-auth-httplib2>=0.0.3 in /usr/local/lib/python3.7/dist-packages (from earthengine-api) (0.0.4)\n",
            "Requirement already satisfied: uritemplate<4dev,>=3.0.0 in /usr/local/lib/python3.7/dist-packages (from google-api-python-client<2,>=1.12.1->earthengine-api) (3.0.1)\n",
            "Requirement already satisfied: google-api-core<3dev,>=1.21.0 in /usr/local/lib/python3.7/dist-packages (from google-api-python-client<2,>=1.12.1->earthengine-api) (1.31.6)\n",
            "Requirement already satisfied: requests<3.0.0dev,>=2.18.0 in /usr/local/lib/python3.7/dist-packages (from google-api-core<3dev,>=1.21.0->google-api-python-client<2,>=1.12.1->earthengine-api) (2.23.0)\n",
            "Requirement already satisfied: packaging>=14.3 in /usr/local/lib/python3.7/dist-packages (from google-api-core<3dev,>=1.21.0->google-api-python-client<2,>=1.12.1->earthengine-api) (21.3)\n",
            "Requirement already satisfied: setuptools>=40.3.0 in /usr/local/lib/python3.7/dist-packages (from google-api-core<3dev,>=1.21.0->google-api-python-client<2,>=1.12.1->earthengine-api) (57.4.0)\n",
            "Requirement already satisfied: googleapis-common-protos<2.0dev,>=1.6.0 in /usr/local/lib/python3.7/dist-packages (from google-api-core<3dev,>=1.21.0->google-api-python-client<2,>=1.12.1->earthengine-api) (1.56.2)\n",
            "Requirement already satisfied: pytz in /usr/local/lib/python3.7/dist-packages (from google-api-core<3dev,>=1.21.0->google-api-python-client<2,>=1.12.1->earthengine-api) (2022.1)\n",
            "Requirement already satisfied: protobuf<4.0.0dev,>=3.12.0 in /usr/local/lib/python3.7/dist-packages (from google-api-core<3dev,>=1.21.0->google-api-python-client<2,>=1.12.1->earthengine-api) (3.17.3)\n",
            "Requirement already satisfied: cachetools<5.0,>=2.0.0 in /usr/local/lib/python3.7/dist-packages (from google-auth>=1.4.1->earthengine-api) (4.2.4)\n",
            "Requirement already satisfied: pyasn1-modules>=0.2.1 in /usr/local/lib/python3.7/dist-packages (from google-auth>=1.4.1->earthengine-api) (0.2.8)\n",
            "Requirement already satisfied: rsa<5,>=3.1.4 in /usr/local/lib/python3.7/dist-packages (from google-auth>=1.4.1->earthengine-api) (4.8)\n",
            "Requirement already satisfied: pyparsing!=3.0.5,>=2.0.2 in /usr/local/lib/python3.7/dist-packages (from packaging>=14.3->google-api-core<3dev,>=1.21.0->google-api-python-client<2,>=1.12.1->earthengine-api) (3.0.9)\n",
            "Requirement already satisfied: pyasn1<0.5.0,>=0.4.6 in /usr/local/lib/python3.7/dist-packages (from pyasn1-modules>=0.2.1->google-auth>=1.4.1->earthengine-api) (0.4.8)\n",
            "Requirement already satisfied: urllib3!=1.25.0,!=1.25.1,<1.26,>=1.21.1 in /usr/local/lib/python3.7/dist-packages (from requests<3.0.0dev,>=2.18.0->google-api-core<3dev,>=1.21.0->google-api-python-client<2,>=1.12.1->earthengine-api) (1.24.3)\n",
            "Requirement already satisfied: idna<3,>=2.5 in /usr/local/lib/python3.7/dist-packages (from requests<3.0.0dev,>=2.18.0->google-api-core<3dev,>=1.21.0->google-api-python-client<2,>=1.12.1->earthengine-api) (2.10)\n",
            "Requirement already satisfied: chardet<4,>=3.0.2 in /usr/local/lib/python3.7/dist-packages (from requests<3.0.0dev,>=2.18.0->google-api-core<3dev,>=1.21.0->google-api-python-client<2,>=1.12.1->earthengine-api) (3.0.4)\n",
            "Requirement already satisfied: certifi>=2017.4.17 in /usr/local/lib/python3.7/dist-packages (from requests<3.0.0dev,>=2.18.0->google-api-core<3dev,>=1.21.0->google-api-python-client<2,>=1.12.1->earthengine-api) (2022.5.18.1)\n",
            "Requirement already satisfied: google-cloud-core<2.0dev,>=1.0.0 in /usr/local/lib/python3.7/dist-packages (from google-cloud-storage->earthengine-api) (1.0.3)\n",
            "Requirement already satisfied: google-resumable-media<0.5.0dev,>=0.3.1 in /usr/local/lib/python3.7/dist-packages (from google-cloud-storage->earthengine-api) (0.4.1)\n",
            "Looking in indexes: https://pypi.org/simple, https://us-python.pkg.dev/colab-wheels/public/simple/\n",
            "Collecting geopandas\n",
            "  Downloading geopandas-0.10.2-py2.py3-none-any.whl (1.0 MB)\n",
            "\u001b[K     |████████████████████████████████| 1.0 MB 4.9 MB/s \n",
            "\u001b[?25hRequirement already satisfied: shapely>=1.6 in /usr/local/lib/python3.7/dist-packages (from geopandas) (1.8.2)\n",
            "Collecting pyproj>=2.2.0\n",
            "  Downloading pyproj-3.2.1-cp37-cp37m-manylinux2010_x86_64.whl (6.3 MB)\n",
            "\u001b[K     |████████████████████████████████| 6.3 MB 39.4 MB/s \n",
            "\u001b[?25hRequirement already satisfied: pandas>=0.25.0 in /usr/local/lib/python3.7/dist-packages (from geopandas) (1.3.5)\n",
            "Collecting fiona>=1.8\n",
            "  Downloading Fiona-1.8.21-cp37-cp37m-manylinux2014_x86_64.whl (16.7 MB)\n",
            "\u001b[K     |████████████████████████████████| 16.7 MB 1.5 MB/s \n",
            "\u001b[?25hRequirement already satisfied: attrs>=17 in /usr/local/lib/python3.7/dist-packages (from fiona>=1.8->geopandas) (21.4.0)\n",
            "Requirement already satisfied: six>=1.7 in /usr/local/lib/python3.7/dist-packages (from fiona>=1.8->geopandas) (1.15.0)\n",
            "Collecting cligj>=0.5\n",
            "  Downloading cligj-0.7.2-py3-none-any.whl (7.1 kB)\n",
            "Requirement already satisfied: click>=4.0 in /usr/local/lib/python3.7/dist-packages (from fiona>=1.8->geopandas) (7.1.2)\n",
            "Collecting munch\n",
            "  Downloading munch-2.5.0-py2.py3-none-any.whl (10 kB)\n",
            "Collecting click-plugins>=1.0\n",
            "  Downloading click_plugins-1.1.1-py2.py3-none-any.whl (7.5 kB)\n",
            "Requirement already satisfied: certifi in /usr/local/lib/python3.7/dist-packages (from fiona>=1.8->geopandas) (2022.5.18.1)\n",
            "Requirement already satisfied: setuptools in /usr/local/lib/python3.7/dist-packages (from fiona>=1.8->geopandas) (57.4.0)\n",
            "Requirement already satisfied: pytz>=2017.3 in /usr/local/lib/python3.7/dist-packages (from pandas>=0.25.0->geopandas) (2022.1)\n",
            "Requirement already satisfied: numpy>=1.17.3 in /usr/local/lib/python3.7/dist-packages (from pandas>=0.25.0->geopandas) (1.21.6)\n",
            "Requirement already satisfied: python-dateutil>=2.7.3 in /usr/local/lib/python3.7/dist-packages (from pandas>=0.25.0->geopandas) (2.8.2)\n",
            "Installing collected packages: munch, cligj, click-plugins, pyproj, fiona, geopandas\n",
            "Successfully installed click-plugins-1.1.1 cligj-0.7.2 fiona-1.8.21 geopandas-0.10.2 munch-2.5.0 pyproj-3.2.1\n"
          ]
        }
      ]
    },
    {
      "cell_type": "markdown",
      "metadata": {
        "id": "MtPTLWyssv-t"
      },
      "source": [
        "O usuário deve possuir uma conta Google (gmail) e ter se habilitado junto ao Google Earth Engine (see https://earthengine.google.com/)."
      ]
    },
    {
      "cell_type": "code",
      "metadata": {
        "id": "-5HIkyT5gWKW",
        "outputId": "b2240106-5be8-4d8a-eb6b-8e9026787ab3",
        "colab": {
          "base_uri": "https://localhost:8080/"
        }
      },
      "source": [
        "# Import the Earth Engine library.\n",
        "import ee\n",
        "\n",
        "# Trigger the authentication flow.\n",
        "ee.Authenticate()"
      ],
      "execution_count": 2,
      "outputs": [
        {
          "output_type": "stream",
          "name": "stdout",
          "text": [
            "To authorize access needed by Earth Engine, open the following URL in a web browser and follow the instructions. If the web browser does not start automatically, please manually browse the URL below.\n",
            "\n",
            "    https://code.earthengine.google.com/client-auth?scopes=https%3A//www.googleapis.com/auth/earthengine%20https%3A//www.googleapis.com/auth/devstorage.full_control&request_id=hWa9yovtkTMhVldoR3d13jKg73Cnw9bsWSVnZK6OFcE&tc=gI5mU9iNxFFuNdkJxWLfPOz-yfWFW28bzHYHBdnLaTY&cc=yEKpF5ILdLvNG6w8h8CsNZaMIks9Y-P9XnbXFKku5PU\n",
            "\n",
            "The authorization workflow will generate a code, which you should paste in the box below. \n",
            "Enter verification code: 4/1AX4XfWjCNBcEd6sOHWnt-O7qJAE7sA6MtQ72f4r7rQYc5WT-H9Esh70k5zw\n",
            "\n",
            "Successfully saved authorization token.\n"
          ]
        }
      ]
    },
    {
      "cell_type": "markdown",
      "metadata": {
        "id": "tO2PBWWCDih8"
      },
      "source": [
        "As amostras de imagem serão salvas no Google Drive do usuário. A unidade deve ser montada antes de prosseguir."
      ]
    },
    {
      "cell_type": "code",
      "metadata": {
        "id": "XAoS6bhLgXI-",
        "colab": {
          "base_uri": "https://localhost:8080/"
        },
        "outputId": "e9dcd6ed-4240-4ba6-e377-8ba7b1f2bc27"
      },
      "source": [
        "from google.colab import drive\n",
        "drive.mount('/content/drive')"
      ],
      "execution_count": 3,
      "outputs": [
        {
          "output_type": "stream",
          "name": "stdout",
          "text": [
            "Mounted at /content/drive\n"
          ]
        }
      ]
    },
    {
      "cell_type": "code",
      "metadata": {
        "id": "ekYAZNg2gvte"
      },
      "source": [
        "# Importando o pacote Python do Earth Engine\n",
        "import ee\n",
        "import pandas as pd\n",
        "import numpy as np\n",
        "import geopandas as gpd"
      ],
      "execution_count": 4,
      "outputs": []
    },
    {
      "cell_type": "code",
      "metadata": {
        "id": "S5lgF-yhEC-n"
      },
      "source": [
        "# Inicializando o objeto Earth Engine usando as credenciais de autenticação.\n",
        "ee.Initialize()"
      ],
      "execution_count": 5,
      "outputs": []
    },
    {
      "cell_type": "code",
      "metadata": {
        "id": "OXGrWxx9ibuL"
      },
      "source": [
        "# Função de Cloud masking no Sentinel-2.\n",
        "def maskS2clouds(image):\n",
        "  cloudShadowBitMask = ee.Number(2).pow(3).int()\n",
        "  cloudsBitMask = ee.Number(2).pow(5).int()\n",
        "  qa = image.select('QA60')\n",
        "  mask = qa.bitwiseAnd(cloudShadowBitMask).eq(0).And(\n",
        "    qa.bitwiseAnd(cloudsBitMask).eq(0))\n",
        "  return image.updateMask(mask).select(bands).divide(10000)\n"
      ],
      "execution_count": 6,
      "outputs": []
    },
    {
      "cell_type": "markdown",
      "metadata": {
        "id": "QaROQmT4Oyw4"
      },
      "source": [
        "Editando a próxima célula o usuário pode selecionar as bandas espectrais a serem incluídas nos patches da imagem."
      ]
    },
    {
      "cell_type": "code",
      "metadata": {
        "id": "zlg6wqlsiU4p"
      },
      "source": [
        "# Use essas bandas para previsão.\n",
        "#bands = ['B1', 'B2', 'B3', 'B4', 'B5','B6', 'B7', 'B8', 'B9', 'B10', 'B11', 'B12']\n",
        "\n",
        "bands = ['B2', 'B3', 'B4', 'B5', 'B7', 'B8', 'B11']\n",
        "\n",
        "# Use os dados de refletância de superfície do Sentinel 2.\n",
        "sentinel = ee.ImageCollection(\"COPERNICUS/S2\")\n"
      ],
      "execution_count": 7,
      "outputs": []
    },
    {
      "cell_type": "markdown",
      "metadata": {
        "id": "NfKWam0gHuMu"
      },
      "source": [
        "Editando a próxima célula o usuário pode selecionar o intervalo de tempo (filterDate) e a porcentagem de cobertura de nuvens ('CLOUDY_PIXEL_PERCENTAGE') para filtrar as imagens utilizadas na composição dos patches. Quanto menor o intervalo, maiores as chances de ter pixels sem dados para exibir. Regiões com cobertura de nuvens frequente, como a floresta tropical, exigirão um longo intervalo para garantir um conjunto completo de pixels."
      ]
    },
    {
      "cell_type": "code",
      "metadata": {
        "id": "fwlGdgKLjFwW"
      },
      "source": [
        "# Os dados de entrada de imagem são compostos medianos mascarados em nuvem.\n",
        "# imageantes = sentinel.filterDate('2019-07-01','2019-12-01').filter(ee.Filter.lte('CLOUDY_PIXEL_PERCENTAGE', 20)).map(maskS2clouds).median().toFloat()\n",
        "# imagedepois = sentinel.filterDate('2021-07-01','2021-12-01').filter(ee.Filter.lte('CLOUDY_PIXEL_PERCENTAGE', 20)).map(maskS2clouds).median().toFloat()\n",
        "\n",
        "# empilhando imagens\n",
        "#image = ee.Image.cat(imageantes,imagedepois)\n",
        "\n",
        "\n",
        "# Lixão\n",
        "image = sentinel.filterDate('2021-07-01','2022-06-01').filter(ee.Filter.lte('CLOUDY_PIXEL_PERCENTAGE', 20)).map(maskS2clouds).median().toFloat()\n",
        "\n",
        "\n"
      ],
      "execution_count": 25,
      "outputs": []
    },
    {
      "cell_type": "markdown",
      "metadata": {
        "id": "xJIw1aFOD2ZE"
      },
      "source": [
        "A seguir, o usuário poderá escolher um arquivo csv de sua raiz do Google Drive contendo as coordenadas (latitude e longitude) dos pontos dos quais deseja extrair os patches da imagem. Além disso, ele será solicitado a informar o separador de colunas utilizado no arquivo csv.\n",
        "\n",
        "Os polígonos que delimitam as áreas de interesse descritas no arquivo csv podem ser definidos usando um dos seguintes esquemas:\n",
        "\n",
        "1: usando dois pares de coordenadas indicando os cantos inferior esquerdo (sudoeste) e superior direito (nordeste) do polígono;\n",
        "\n",
        "2: definir as coordenadas de um ponto central e o comprimento do lado de um quadrado definido em torno desse ponto.\n",
        "\n",
        "O usuário será solicitado a informar qual esquema deve ser utilizado para ler o arquivo csv (todos os registros do arquivo devem utilizar o mesmo esquema).\n",
        "\n",
        "Uma última coluna no arquivo csv deve ser usada para informar o nome da classe para a amostra. Este nome de classe será usado como prefixo para nomear os arquivos de imagem.\n",
        "\n",
        "Os registros csv devem ficar assim:\n",
        "\n",
        "####-separador de colunas =';' e esquema 1:\n",
        "\n",
        "> latitude do canto inferior esquerdo; longitude do canto inferior esquerdo; latitude do canto superior direito; longitude do canto superior direito;  classe\n",
        "\n",
        "> -20.893706;-45.271998;-18.854222;-41.958905;mina\n",
        "\n",
        "\n",
        "####-separador de colunas =';' e esquema 2:\n",
        "> latitude do ponto central; longitude do ponto central>; nome da classe\n",
        "\n",
        ">-23.82113889;-50.42022222;mina\n",
        "\n"
      ]
    },
    {
      "cell_type": "code",
      "metadata": {
        "id": "iTOhU5NdjMzU"
      },
      "source": [
        "def offset(lat,lon,x,y):\n",
        "\n",
        "\t#raio da terra, esfera\n",
        "\tR=6378137\n",
        "\n",
        "\t# offsets das coordenadas calculados em radianos\n",
        "\t# deslocamento angular l = theta*r so theta = l/r (radians)\n",
        "\t#  https://www.google.com/search?q=how+to+compute+displacements+in+radians&rlz=1C1GCEA_enBR896BR896&oq=how+to+compute+displacements+in+radians&aqs=chrome..69i57j0i22i30l2.17447j0j9&sourceid=chrome&ie=UTF-8#kpvalbx=_XEeGYvSCPZed5OUPkeaP8AQ32\n",
        "\tdLat = x/R\n",
        "\tdLon = y/(R*math.cos(math.pi*lat/180))\n",
        "\n",
        "\treturn lat + dLat * 180/math.pi, lon + dLon * 180/math.pi\n",
        " \n",
        "\n",
        "def exportImage(data,scheme,size=0,labelbase = None):\n",
        "\n",
        "\t# carrega o arquivo csv\n",
        "\n",
        "\tfor d in range(len(data)):\n",
        "\n",
        "\t\tif scheme == 2:\t\n",
        "\t\t\tx = data.values[d][0]\n",
        "\t\t\ty = data.values[d][1]\n",
        "\n",
        "\t\t\tllx , lly = offset(x,y,-size/2,-size/2)\n",
        "\t\t\turx , ury = offset(x,y,size/2,\tsize/2)\n",
        "\n",
        "\t\t\t#if label is None:\n",
        "\t\t\tlabel = labelbase + str(data.loc[d,data.columns[-1]])\n",
        "\t \n",
        "\t\telse:\n",
        "\n",
        "\t\t\tllx = data.values[d][0]\n",
        "\t\t\tlly = data.values[d][1]\n",
        "\t\t\turx = data.values[d][2]\n",
        "\t\t\tury = data.values[d][3]\t\n",
        "\n",
        "\t\t\t#if label is None:\n",
        "\t\t\tlabel = labelbase + str(data.loc[d,data.columns[-1]])\t\n",
        "\n",
        "\t\tgeometry = [[llx,lly], [llx,ury], [urx,ury], [urx,lly]]\n",
        "\n",
        "\t\ttask_config = {\n",
        "\t    'scale':  10 ,\n",
        "\t    'region': geometry\n",
        "\t    }\n",
        "\t\t\n",
        "\t\t#print(label,d,geometry)\n",
        "\t\tname = label + str(d)\n",
        "\t\t# Create a task.\n",
        "\t\ttask = ee.batch.Export.image(image, name, task_config)\n",
        "\n",
        "\t\t# Send the task to the earth engine.\n",
        "\t\ttask.start() \n",
        "\t\t"
      ],
      "execution_count": 9,
      "outputs": []
    },
    {
      "cell_type": "code",
      "source": [
        "path_ref = './curso_analise_imagens_satelite/FinalLixoes/'"
      ],
      "metadata": {
        "id": "CvIusD9rf-NE"
      },
      "execution_count": 10,
      "outputs": []
    },
    {
      "cell_type": "code",
      "source": [
        "%cd \"content/drive/curso_analise_imagens_satelite/FinalLixoes/\""
      ],
      "metadata": {
        "colab": {
          "base_uri": "https://localhost:8080/"
        },
        "id": "4e0DZYSY_JWF",
        "outputId": "de0e594b-9f97-4d83-a683-b2b7c3e4ed55"
      },
      "execution_count": 15,
      "outputs": [
        {
          "output_type": "stream",
          "name": "stdout",
          "text": [
            "[Errno 2] No such file or directory: 'content/drive/curso_analise_imagens_satelite/FinalLixoes/'\n",
            "/content\n"
          ]
        }
      ]
    },
    {
      "cell_type": "code",
      "source": [
        " %cd /content/drive/My Drive/curso_analise_imagens_satelite/FinalLixoes/"
      ],
      "metadata": {
        "colab": {
          "base_uri": "https://localhost:8080/"
        },
        "id": "FMmT2ZEWgZJC",
        "outputId": "21777786-04cf-4e0f-ff28-c82cfedfb4b1"
      },
      "execution_count": 18,
      "outputs": [
        {
          "output_type": "stream",
          "name": "stdout",
          "text": [
            "/content/drive/My Drive/curso_analise_imagens_satelite/FinalLixoes\n"
          ]
        }
      ]
    },
    {
      "cell_type": "code",
      "source": [
        "%ls\n"
      ],
      "metadata": {
        "colab": {
          "base_uri": "https://localhost:8080/"
        },
        "id": "aoh3yU3EgCRL",
        "outputId": "dd516a6c-2f8b-4b22-8d62-030fe3ab43b2"
      },
      "execution_count": 31,
      "outputs": [
        {
          "output_type": "stream",
          "name": "stdout",
          "text": [
            "'coordenadas lixoes.csv'   coordenadas_nao_lixoes.csv\n"
          ]
        }
      ]
    },
    {
      "cell_type": "code",
      "source": [
        "data = pd.read_csv('./Data/coordenadas_nao_lixoes.csv', sep= ';')"
      ],
      "metadata": {
        "id": "9l5tEZQsNgHT"
      },
      "execution_count": 20,
      "outputs": []
    },
    {
      "cell_type": "code",
      "source": [
        "data[:3]"
      ],
      "metadata": {
        "colab": {
          "base_uri": "https://localhost:8080/",
          "height": 143
        },
        "id": "Fnh95LeaNz4T",
        "outputId": "81030e68-fa35-479f-93ce-9dc8a61c8798"
      },
      "execution_count": 21,
      "outputs": [
        {
          "output_type": "execute_result",
          "data": {
            "text/plain": [
              "           X          Y         Id\n",
              "0 -51.310442  -7.457399  nao_lixao\n",
              "1 -55.397888 -12.524384  nao_lixao\n",
              "2 -64.140542  -4.009832  nao_lixao"
            ],
            "text/html": [
              "\n",
              "  <div id=\"df-1c798270-4a74-4495-a0f5-4ad1c27f0481\">\n",
              "    <div class=\"colab-df-container\">\n",
              "      <div>\n",
              "<style scoped>\n",
              "    .dataframe tbody tr th:only-of-type {\n",
              "        vertical-align: middle;\n",
              "    }\n",
              "\n",
              "    .dataframe tbody tr th {\n",
              "        vertical-align: top;\n",
              "    }\n",
              "\n",
              "    .dataframe thead th {\n",
              "        text-align: right;\n",
              "    }\n",
              "</style>\n",
              "<table border=\"1\" class=\"dataframe\">\n",
              "  <thead>\n",
              "    <tr style=\"text-align: right;\">\n",
              "      <th></th>\n",
              "      <th>X</th>\n",
              "      <th>Y</th>\n",
              "      <th>Id</th>\n",
              "    </tr>\n",
              "  </thead>\n",
              "  <tbody>\n",
              "    <tr>\n",
              "      <th>0</th>\n",
              "      <td>-51.310442</td>\n",
              "      <td>-7.457399</td>\n",
              "      <td>nao_lixao</td>\n",
              "    </tr>\n",
              "    <tr>\n",
              "      <th>1</th>\n",
              "      <td>-55.397888</td>\n",
              "      <td>-12.524384</td>\n",
              "      <td>nao_lixao</td>\n",
              "    </tr>\n",
              "    <tr>\n",
              "      <th>2</th>\n",
              "      <td>-64.140542</td>\n",
              "      <td>-4.009832</td>\n",
              "      <td>nao_lixao</td>\n",
              "    </tr>\n",
              "  </tbody>\n",
              "</table>\n",
              "</div>\n",
              "      <button class=\"colab-df-convert\" onclick=\"convertToInteractive('df-1c798270-4a74-4495-a0f5-4ad1c27f0481')\"\n",
              "              title=\"Convert this dataframe to an interactive table.\"\n",
              "              style=\"display:none;\">\n",
              "        \n",
              "  <svg xmlns=\"http://www.w3.org/2000/svg\" height=\"24px\"viewBox=\"0 0 24 24\"\n",
              "       width=\"24px\">\n",
              "    <path d=\"M0 0h24v24H0V0z\" fill=\"none\"/>\n",
              "    <path d=\"M18.56 5.44l.94 2.06.94-2.06 2.06-.94-2.06-.94-.94-2.06-.94 2.06-2.06.94zm-11 1L8.5 8.5l.94-2.06 2.06-.94-2.06-.94L8.5 2.5l-.94 2.06-2.06.94zm10 10l.94 2.06.94-2.06 2.06-.94-2.06-.94-.94-2.06-.94 2.06-2.06.94z\"/><path d=\"M17.41 7.96l-1.37-1.37c-.4-.4-.92-.59-1.43-.59-.52 0-1.04.2-1.43.59L10.3 9.45l-7.72 7.72c-.78.78-.78 2.05 0 2.83L4 21.41c.39.39.9.59 1.41.59.51 0 1.02-.2 1.41-.59l7.78-7.78 2.81-2.81c.8-.78.8-2.07 0-2.86zM5.41 20L4 18.59l7.72-7.72 1.47 1.35L5.41 20z\"/>\n",
              "  </svg>\n",
              "      </button>\n",
              "      \n",
              "  <style>\n",
              "    .colab-df-container {\n",
              "      display:flex;\n",
              "      flex-wrap:wrap;\n",
              "      gap: 12px;\n",
              "    }\n",
              "\n",
              "    .colab-df-convert {\n",
              "      background-color: #E8F0FE;\n",
              "      border: none;\n",
              "      border-radius: 50%;\n",
              "      cursor: pointer;\n",
              "      display: none;\n",
              "      fill: #1967D2;\n",
              "      height: 32px;\n",
              "      padding: 0 0 0 0;\n",
              "      width: 32px;\n",
              "    }\n",
              "\n",
              "    .colab-df-convert:hover {\n",
              "      background-color: #E2EBFA;\n",
              "      box-shadow: 0px 1px 2px rgba(60, 64, 67, 0.3), 0px 1px 3px 1px rgba(60, 64, 67, 0.15);\n",
              "      fill: #174EA6;\n",
              "    }\n",
              "\n",
              "    [theme=dark] .colab-df-convert {\n",
              "      background-color: #3B4455;\n",
              "      fill: #D2E3FC;\n",
              "    }\n",
              "\n",
              "    [theme=dark] .colab-df-convert:hover {\n",
              "      background-color: #434B5C;\n",
              "      box-shadow: 0px 1px 3px 1px rgba(0, 0, 0, 0.15);\n",
              "      filter: drop-shadow(0px 1px 2px rgba(0, 0, 0, 0.3));\n",
              "      fill: #FFFFFF;\n",
              "    }\n",
              "  </style>\n",
              "\n",
              "      <script>\n",
              "        const buttonEl =\n",
              "          document.querySelector('#df-1c798270-4a74-4495-a0f5-4ad1c27f0481 button.colab-df-convert');\n",
              "        buttonEl.style.display =\n",
              "          google.colab.kernel.accessAllowed ? 'block' : 'none';\n",
              "\n",
              "        async function convertToInteractive(key) {\n",
              "          const element = document.querySelector('#df-1c798270-4a74-4495-a0f5-4ad1c27f0481');\n",
              "          const dataTable =\n",
              "            await google.colab.kernel.invokeFunction('convertToInteractive',\n",
              "                                                     [key], {});\n",
              "          if (!dataTable) return;\n",
              "\n",
              "          const docLinkHtml = 'Like what you see? Visit the ' +\n",
              "            '<a target=\"_blank\" href=https://colab.research.google.com/notebooks/data_table.ipynb>data table notebook</a>'\n",
              "            + ' to learn more about interactive tables.';\n",
              "          element.innerHTML = '';\n",
              "          dataTable['output_type'] = 'display_data';\n",
              "          await google.colab.output.renderOutput(dataTable, element);\n",
              "          const docLink = document.createElement('div');\n",
              "          docLink.innerHTML = docLinkHtml;\n",
              "          element.appendChild(docLink);\n",
              "        }\n",
              "      </script>\n",
              "    </div>\n",
              "  </div>\n",
              "  "
            ]
          },
          "metadata": {},
          "execution_count": 21
        }
      ]
    },
    {
      "cell_type": "code",
      "source": [
        ""
      ],
      "metadata": {
        "id": "sT7km0Calvvt"
      },
      "execution_count": null,
      "outputs": []
    },
    {
      "cell_type": "code",
      "source": [
        "data = pd.read_csv('coordenadas_lixoes.csv', sep= ';')"
      ],
      "metadata": {
        "id": "Z5Wvtmvulv4i"
      },
      "execution_count": 38,
      "outputs": []
    },
    {
      "cell_type": "code",
      "source": [
        "data[:3]"
      ],
      "metadata": {
        "colab": {
          "base_uri": "https://localhost:8080/",
          "height": 143
        },
        "outputId": "e9db5744-dcdd-484c-9eb4-3a54173507a3",
        "id": "-H9gZNwolv4i"
      },
      "execution_count": 39,
      "outputs": [
        {
          "output_type": "execute_result",
          "data": {
            "text/plain": [
              "           X          Y     id\n",
              "0 -37.656223  -7.732032  lixao\n",
              "1 -35.962344  -7.040988  lixao\n",
              "2 -53.480445 -24.384909  lixao"
            ],
            "text/html": [
              "\n",
              "  <div id=\"df-5a8d9714-7c48-432b-9f0a-3e6b711115d6\">\n",
              "    <div class=\"colab-df-container\">\n",
              "      <div>\n",
              "<style scoped>\n",
              "    .dataframe tbody tr th:only-of-type {\n",
              "        vertical-align: middle;\n",
              "    }\n",
              "\n",
              "    .dataframe tbody tr th {\n",
              "        vertical-align: top;\n",
              "    }\n",
              "\n",
              "    .dataframe thead th {\n",
              "        text-align: right;\n",
              "    }\n",
              "</style>\n",
              "<table border=\"1\" class=\"dataframe\">\n",
              "  <thead>\n",
              "    <tr style=\"text-align: right;\">\n",
              "      <th></th>\n",
              "      <th>X</th>\n",
              "      <th>Y</th>\n",
              "      <th>id</th>\n",
              "    </tr>\n",
              "  </thead>\n",
              "  <tbody>\n",
              "    <tr>\n",
              "      <th>0</th>\n",
              "      <td>-37.656223</td>\n",
              "      <td>-7.732032</td>\n",
              "      <td>lixao</td>\n",
              "    </tr>\n",
              "    <tr>\n",
              "      <th>1</th>\n",
              "      <td>-35.962344</td>\n",
              "      <td>-7.040988</td>\n",
              "      <td>lixao</td>\n",
              "    </tr>\n",
              "    <tr>\n",
              "      <th>2</th>\n",
              "      <td>-53.480445</td>\n",
              "      <td>-24.384909</td>\n",
              "      <td>lixao</td>\n",
              "    </tr>\n",
              "  </tbody>\n",
              "</table>\n",
              "</div>\n",
              "      <button class=\"colab-df-convert\" onclick=\"convertToInteractive('df-5a8d9714-7c48-432b-9f0a-3e6b711115d6')\"\n",
              "              title=\"Convert this dataframe to an interactive table.\"\n",
              "              style=\"display:none;\">\n",
              "        \n",
              "  <svg xmlns=\"http://www.w3.org/2000/svg\" height=\"24px\"viewBox=\"0 0 24 24\"\n",
              "       width=\"24px\">\n",
              "    <path d=\"M0 0h24v24H0V0z\" fill=\"none\"/>\n",
              "    <path d=\"M18.56 5.44l.94 2.06.94-2.06 2.06-.94-2.06-.94-.94-2.06-.94 2.06-2.06.94zm-11 1L8.5 8.5l.94-2.06 2.06-.94-2.06-.94L8.5 2.5l-.94 2.06-2.06.94zm10 10l.94 2.06.94-2.06 2.06-.94-2.06-.94-.94-2.06-.94 2.06-2.06.94z\"/><path d=\"M17.41 7.96l-1.37-1.37c-.4-.4-.92-.59-1.43-.59-.52 0-1.04.2-1.43.59L10.3 9.45l-7.72 7.72c-.78.78-.78 2.05 0 2.83L4 21.41c.39.39.9.59 1.41.59.51 0 1.02-.2 1.41-.59l7.78-7.78 2.81-2.81c.8-.78.8-2.07 0-2.86zM5.41 20L4 18.59l7.72-7.72 1.47 1.35L5.41 20z\"/>\n",
              "  </svg>\n",
              "      </button>\n",
              "      \n",
              "  <style>\n",
              "    .colab-df-container {\n",
              "      display:flex;\n",
              "      flex-wrap:wrap;\n",
              "      gap: 12px;\n",
              "    }\n",
              "\n",
              "    .colab-df-convert {\n",
              "      background-color: #E8F0FE;\n",
              "      border: none;\n",
              "      border-radius: 50%;\n",
              "      cursor: pointer;\n",
              "      display: none;\n",
              "      fill: #1967D2;\n",
              "      height: 32px;\n",
              "      padding: 0 0 0 0;\n",
              "      width: 32px;\n",
              "    }\n",
              "\n",
              "    .colab-df-convert:hover {\n",
              "      background-color: #E2EBFA;\n",
              "      box-shadow: 0px 1px 2px rgba(60, 64, 67, 0.3), 0px 1px 3px 1px rgba(60, 64, 67, 0.15);\n",
              "      fill: #174EA6;\n",
              "    }\n",
              "\n",
              "    [theme=dark] .colab-df-convert {\n",
              "      background-color: #3B4455;\n",
              "      fill: #D2E3FC;\n",
              "    }\n",
              "\n",
              "    [theme=dark] .colab-df-convert:hover {\n",
              "      background-color: #434B5C;\n",
              "      box-shadow: 0px 1px 3px 1px rgba(0, 0, 0, 0.15);\n",
              "      filter: drop-shadow(0px 1px 2px rgba(0, 0, 0, 0.3));\n",
              "      fill: #FFFFFF;\n",
              "    }\n",
              "  </style>\n",
              "\n",
              "      <script>\n",
              "        const buttonEl =\n",
              "          document.querySelector('#df-5a8d9714-7c48-432b-9f0a-3e6b711115d6 button.colab-df-convert');\n",
              "        buttonEl.style.display =\n",
              "          google.colab.kernel.accessAllowed ? 'block' : 'none';\n",
              "\n",
              "        async function convertToInteractive(key) {\n",
              "          const element = document.querySelector('#df-5a8d9714-7c48-432b-9f0a-3e6b711115d6');\n",
              "          const dataTable =\n",
              "            await google.colab.kernel.invokeFunction('convertToInteractive',\n",
              "                                                     [key], {});\n",
              "          if (!dataTable) return;\n",
              "\n",
              "          const docLinkHtml = 'Like what you see? Visit the ' +\n",
              "            '<a target=\"_blank\" href=https://colab.research.google.com/notebooks/data_table.ipynb>data table notebook</a>'\n",
              "            + ' to learn more about interactive tables.';\n",
              "          element.innerHTML = '';\n",
              "          dataTable['output_type'] = 'display_data';\n",
              "          await google.colab.output.renderOutput(dataTable, element);\n",
              "          const docLink = document.createElement('div');\n",
              "          docLink.innerHTML = docLinkHtml;\n",
              "          element.appendChild(docLink);\n",
              "        }\n",
              "      </script>\n",
              "    </div>\n",
              "  </div>\n",
              "  "
            ]
          },
          "metadata": {},
          "execution_count": 39
        }
      ]
    },
    {
      "cell_type": "code",
      "source": [
        "%cd Data"
      ],
      "metadata": {
        "colab": {
          "base_uri": "https://localhost:8080/"
        },
        "id": "qk7DWMqXhze5",
        "outputId": "eff0663b-2e0e-43d8-a474-d0ef4927ff09"
      },
      "execution_count": 23,
      "outputs": [
        {
          "output_type": "stream",
          "name": "stdout",
          "text": [
            "/content/drive/MyDrive/curso_analise_imagens_satelite/FinalLixoes/Data\n"
          ]
        }
      ]
    },
    {
      "cell_type": "code",
      "metadata": {
        "id": "a7rA0mUOdVo0",
        "colab": {
          "base_uri": "https://localhost:8080/"
        },
        "outputId": "9f748e5a-c4cf-4b76-e059-f40225a517ae"
      },
      "source": [
        "#MAIN WORKFLOW\n",
        "\n",
        "# aassumindo o arquivo csv na pasta raiz Minha unidade (altere o %cd se não for o caso)\n",
        "#%cd /content/drive/My Drive/\n",
        "files = []\n",
        "count=0\n",
        "for f in os.listdir('./'):\n",
        "  name, ext = os.path.splitext(f)\n",
        "  if ext == '.csv':\n",
        "    files.append(f)\n",
        "    count+=1\n",
        "    print(count,\":\",f)\n",
        "\n",
        "print(\"Choose your file:\")\n",
        "try:\n",
        "  r=int(input('Input:'))\n",
        "except ValueError:\n",
        "  print(\"Not a number\")\n",
        "\n",
        "print(\"csv separator? (typically ';' or ',')\")\n",
        "sep=input('Input:')\n",
        "\n",
        "data = pd.read_csv(files[r-1], sep= sep)# .sample(200) # .reset_index(drop=True)\n",
        "name, ext = os.path.splitext(files[r-1])\n",
        "\n",
        "print(len(data),\"records with\",len(data.columns),\"columns\")\n",
        "\n",
        "print(name,data[:3])\n",
        "\n",
        "if len(data.columns)==3:\n",
        "  print(\"Central point scheme. Please inform the square side length (in meters):\")\n",
        "  try:\n",
        "    size=int(input('Input:'))\n",
        "  except ValueError:\n",
        "    print(\"Not a number\")\n",
        "  exportImage(data,2,size,name)\n",
        "elif data.shape[1]==5:\n",
        "  exportImage(data,1,name)\n",
        "else:\n",
        "  print(\"Invalid csv file!\")\n",
        "  sys.exit(0)"
      ],
      "execution_count": 40,
      "outputs": [
        {
          "name": "stdout",
          "output_type": "stream",
          "text": [
            "1 : coordenadas_nao_lixoes.csv\n",
            "2 : coordenadas_lixoes.csv\n",
            "Choose your file:\n",
            "Input:2\n",
            "csv separator? (typically ';' or ',')\n",
            "Input:;\n",
            "270 records with 3 columns\n",
            "coordenadas_lixoes            X          Y     id\n",
            "0 -37.656223  -7.732032  lixao\n",
            "1 -35.962344  -7.040988  lixao\n",
            "2 -53.480445 -24.384909  lixao\n",
            "Central point scheme. Please inform the square side length (in meters):\n",
            "Input:400\n"
          ]
        }
      ]
    },
    {
      "cell_type": "markdown",
      "metadata": {
        "id": "mBTSvF9jyJ4D"
      },
      "source": [
        "Se o script foi bem-sucedido, as tarefas devem estar visíveis na interface do editor de código do Google Earth Engine (https://code.earthengine.google.com/). O usuário deve efetuar logon para autorizar a execução das tarefas."
      ]
    },
    {
      "cell_type": "code",
      "source": [
        "%cd .."
      ],
      "metadata": {
        "colab": {
          "base_uri": "https://localhost:8080/"
        },
        "id": "QW0kr3pSPH3w",
        "outputId": "41804641-a073-4613-9962-a3d6f61f9dce"
      },
      "execution_count": 44,
      "outputs": [
        {
          "output_type": "stream",
          "name": "stdout",
          "text": [
            "/content/drive/MyDrive\n"
          ]
        }
      ]
    },
    {
      "cell_type": "code",
      "source": [
        "%ls coordenadas_nao_lixoes*.*"
      ],
      "metadata": {
        "id": "Rn6eXeePQl7w",
        "colab": {
          "base_uri": "https://localhost:8080/"
        },
        "outputId": "cdda2c7e-5096-41ee-9d00-705415cb1a2e"
      },
      "execution_count": 45,
      "outputs": [
        {
          "output_type": "stream",
          "name": "stdout",
          "text": [
            "coordenadas_nao_lixoesnao_lixao0.tif    coordenadas_nao_lixoesnao_lixao20.tif\n",
            "coordenadas_nao_lixoesnao_lixao100.tif  coordenadas_nao_lixoesnao_lixao21.tif\n",
            "coordenadas_nao_lixoesnao_lixao101.tif  coordenadas_nao_lixoesnao_lixao22.tif\n",
            "coordenadas_nao_lixoesnao_lixao102.tif  coordenadas_nao_lixoesnao_lixao23.tif\n",
            "coordenadas_nao_lixoesnao_lixao103.tif  coordenadas_nao_lixoesnao_lixao24.tif\n",
            "coordenadas_nao_lixoesnao_lixao104.tif  coordenadas_nao_lixoesnao_lixao25.tif\n",
            "coordenadas_nao_lixoesnao_lixao105.tif  coordenadas_nao_lixoesnao_lixao26.tif\n",
            "coordenadas_nao_lixoesnao_lixao106.tif  coordenadas_nao_lixoesnao_lixao27.tif\n",
            "coordenadas_nao_lixoesnao_lixao107.tif  coordenadas_nao_lixoesnao_lixao28.tif\n",
            "coordenadas_nao_lixoesnao_lixao108.tif  coordenadas_nao_lixoesnao_lixao29.tif\n",
            "coordenadas_nao_lixoesnao_lixao109.tif  coordenadas_nao_lixoesnao_lixao2.tif\n",
            "coordenadas_nao_lixoesnao_lixao10.tif   coordenadas_nao_lixoesnao_lixao30.tif\n",
            "coordenadas_nao_lixoesnao_lixao110.tif  coordenadas_nao_lixoesnao_lixao31.tif\n",
            "coordenadas_nao_lixoesnao_lixao111.tif  coordenadas_nao_lixoesnao_lixao32.tif\n",
            "coordenadas_nao_lixoesnao_lixao112.tif  coordenadas_nao_lixoesnao_lixao33.tif\n",
            "coordenadas_nao_lixoesnao_lixao113.tif  coordenadas_nao_lixoesnao_lixao34.tif\n",
            "coordenadas_nao_lixoesnao_lixao114.tif  coordenadas_nao_lixoesnao_lixao35.tif\n",
            "coordenadas_nao_lixoesnao_lixao115.tif  coordenadas_nao_lixoesnao_lixao36.tif\n",
            "coordenadas_nao_lixoesnao_lixao116.tif  coordenadas_nao_lixoesnao_lixao37.tif\n",
            "coordenadas_nao_lixoesnao_lixao117.tif  coordenadas_nao_lixoesnao_lixao38.tif\n",
            "coordenadas_nao_lixoesnao_lixao118.tif  coordenadas_nao_lixoesnao_lixao39.tif\n",
            "coordenadas_nao_lixoesnao_lixao119.tif  coordenadas_nao_lixoesnao_lixao3.tif\n",
            "coordenadas_nao_lixoesnao_lixao11.tif   coordenadas_nao_lixoesnao_lixao40.tif\n",
            "coordenadas_nao_lixoesnao_lixao120.tif  coordenadas_nao_lixoesnao_lixao41.tif\n",
            "coordenadas_nao_lixoesnao_lixao121.tif  coordenadas_nao_lixoesnao_lixao42.tif\n",
            "coordenadas_nao_lixoesnao_lixao122.tif  coordenadas_nao_lixoesnao_lixao43.tif\n",
            "coordenadas_nao_lixoesnao_lixao123.tif  coordenadas_nao_lixoesnao_lixao44.tif\n",
            "coordenadas_nao_lixoesnao_lixao124.tif  coordenadas_nao_lixoesnao_lixao45.tif\n",
            "coordenadas_nao_lixoesnao_lixao125.tif  coordenadas_nao_lixoesnao_lixao46.tif\n",
            "coordenadas_nao_lixoesnao_lixao126.tif  coordenadas_nao_lixoesnao_lixao47.tif\n",
            "coordenadas_nao_lixoesnao_lixao127.tif  coordenadas_nao_lixoesnao_lixao48.tif\n",
            "coordenadas_nao_lixoesnao_lixao128.tif  coordenadas_nao_lixoesnao_lixao49.tif\n",
            "coordenadas_nao_lixoesnao_lixao129.tif  coordenadas_nao_lixoesnao_lixao4.tif\n",
            "coordenadas_nao_lixoesnao_lixao12.tif   coordenadas_nao_lixoesnao_lixao50.tif\n",
            "coordenadas_nao_lixoesnao_lixao130.tif  coordenadas_nao_lixoesnao_lixao51.tif\n",
            "coordenadas_nao_lixoesnao_lixao131.tif  coordenadas_nao_lixoesnao_lixao52.tif\n",
            "coordenadas_nao_lixoesnao_lixao132.tif  coordenadas_nao_lixoesnao_lixao53.tif\n",
            "coordenadas_nao_lixoesnao_lixao133.tif  coordenadas_nao_lixoesnao_lixao54.tif\n",
            "coordenadas_nao_lixoesnao_lixao134.tif  coordenadas_nao_lixoesnao_lixao55.tif\n",
            "coordenadas_nao_lixoesnao_lixao135.tif  coordenadas_nao_lixoesnao_lixao56.tif\n",
            "coordenadas_nao_lixoesnao_lixao136.tif  coordenadas_nao_lixoesnao_lixao57.tif\n",
            "coordenadas_nao_lixoesnao_lixao137.tif  coordenadas_nao_lixoesnao_lixao58.tif\n",
            "coordenadas_nao_lixoesnao_lixao138.tif  coordenadas_nao_lixoesnao_lixao59.tif\n",
            "coordenadas_nao_lixoesnao_lixao139.tif  coordenadas_nao_lixoesnao_lixao5.tif\n",
            "coordenadas_nao_lixoesnao_lixao13.tif   coordenadas_nao_lixoesnao_lixao60.tif\n",
            "coordenadas_nao_lixoesnao_lixao140.tif  coordenadas_nao_lixoesnao_lixao61.tif\n",
            "coordenadas_nao_lixoesnao_lixao141.tif  coordenadas_nao_lixoesnao_lixao62.tif\n",
            "coordenadas_nao_lixoesnao_lixao142.tif  coordenadas_nao_lixoesnao_lixao63.tif\n",
            "coordenadas_nao_lixoesnao_lixao143.tif  coordenadas_nao_lixoesnao_lixao64.tif\n",
            "coordenadas_nao_lixoesnao_lixao144.tif  coordenadas_nao_lixoesnao_lixao65.tif\n",
            "coordenadas_nao_lixoesnao_lixao145.tif  coordenadas_nao_lixoesnao_lixao66.tif\n",
            "coordenadas_nao_lixoesnao_lixao146.tif  coordenadas_nao_lixoesnao_lixao67.tif\n",
            "coordenadas_nao_lixoesnao_lixao147.tif  coordenadas_nao_lixoesnao_lixao68.tif\n",
            "coordenadas_nao_lixoesnao_lixao148.tif  coordenadas_nao_lixoesnao_lixao69.tif\n",
            "coordenadas_nao_lixoesnao_lixao149.tif  coordenadas_nao_lixoesnao_lixao6.tif\n",
            "coordenadas_nao_lixoesnao_lixao14.tif   coordenadas_nao_lixoesnao_lixao70.tif\n",
            "coordenadas_nao_lixoesnao_lixao150.tif  coordenadas_nao_lixoesnao_lixao71.tif\n",
            "coordenadas_nao_lixoesnao_lixao151.tif  coordenadas_nao_lixoesnao_lixao72.tif\n",
            "coordenadas_nao_lixoesnao_lixao152.tif  coordenadas_nao_lixoesnao_lixao73.tif\n",
            "coordenadas_nao_lixoesnao_lixao153.tif  coordenadas_nao_lixoesnao_lixao74.tif\n",
            "coordenadas_nao_lixoesnao_lixao154.tif  coordenadas_nao_lixoesnao_lixao75.tif\n",
            "coordenadas_nao_lixoesnao_lixao155.tif  coordenadas_nao_lixoesnao_lixao76.tif\n",
            "coordenadas_nao_lixoesnao_lixao156.tif  coordenadas_nao_lixoesnao_lixao77.tif\n",
            "coordenadas_nao_lixoesnao_lixao157.tif  coordenadas_nao_lixoesnao_lixao78.tif\n",
            "coordenadas_nao_lixoesnao_lixao158.tif  coordenadas_nao_lixoesnao_lixao79.tif\n",
            "coordenadas_nao_lixoesnao_lixao159.tif  coordenadas_nao_lixoesnao_lixao7.tif\n",
            "coordenadas_nao_lixoesnao_lixao15.tif   coordenadas_nao_lixoesnao_lixao80.tif\n",
            "coordenadas_nao_lixoesnao_lixao160.tif  coordenadas_nao_lixoesnao_lixao81.tif\n",
            "coordenadas_nao_lixoesnao_lixao161.tif  coordenadas_nao_lixoesnao_lixao82.tif\n",
            "coordenadas_nao_lixoesnao_lixao162.tif  coordenadas_nao_lixoesnao_lixao83.tif\n",
            "coordenadas_nao_lixoesnao_lixao163.tif  coordenadas_nao_lixoesnao_lixao84.tif\n",
            "coordenadas_nao_lixoesnao_lixao164.tif  coordenadas_nao_lixoesnao_lixao85.tif\n",
            "coordenadas_nao_lixoesnao_lixao165.tif  coordenadas_nao_lixoesnao_lixao86.tif\n",
            "coordenadas_nao_lixoesnao_lixao166.tif  coordenadas_nao_lixoesnao_lixao87.tif\n",
            "coordenadas_nao_lixoesnao_lixao167.tif  coordenadas_nao_lixoesnao_lixao88.tif\n",
            "coordenadas_nao_lixoesnao_lixao168.tif  coordenadas_nao_lixoesnao_lixao89.tif\n",
            "coordenadas_nao_lixoesnao_lixao169.tif  coordenadas_nao_lixoesnao_lixao8.tif\n",
            "coordenadas_nao_lixoesnao_lixao16.tif   coordenadas_nao_lixoesnao_lixao90.tif\n",
            "coordenadas_nao_lixoesnao_lixao170.tif  coordenadas_nao_lixoesnao_lixao91.tif\n",
            "coordenadas_nao_lixoesnao_lixao171.tif  coordenadas_nao_lixoesnao_lixao92.tif\n",
            "coordenadas_nao_lixoesnao_lixao172.tif  coordenadas_nao_lixoesnao_lixao93.tif\n",
            "coordenadas_nao_lixoesnao_lixao173.tif  coordenadas_nao_lixoesnao_lixao94.tif\n",
            "coordenadas_nao_lixoesnao_lixao174.tif  coordenadas_nao_lixoesnao_lixao95.tif\n",
            "coordenadas_nao_lixoesnao_lixao175.tif  coordenadas_nao_lixoesnao_lixao96.tif\n",
            "coordenadas_nao_lixoesnao_lixao17.tif   coordenadas_nao_lixoesnao_lixao97.tif\n",
            "coordenadas_nao_lixoesnao_lixao18.tif   coordenadas_nao_lixoesnao_lixao98.tif\n",
            "coordenadas_nao_lixoesnao_lixao19.tif   coordenadas_nao_lixoesnao_lixao99.tif\n",
            "coordenadas_nao_lixoesnao_lixao1.tif    coordenadas_nao_lixoesnao_lixao9.tif\n"
          ]
        }
      ]
    },
    {
      "cell_type": "code",
      "source": [
        "%mv coordenadas_nao_lixoes*.tif curso_analise_imagens_satelite/FinalLixoes/Data/train/naolixao"
      ],
      "metadata": {
        "id": "wLM93B5yPRJc"
      },
      "execution_count": 46,
      "outputs": []
    },
    {
      "cell_type": "code",
      "source": [
        "%mv coordenadas_lixoes*.tif curso_analise_imagens_satelite/FinalLixoes/Data/train/lixao"
      ],
      "metadata": {
        "id": "1jwH_gRfQwMw"
      },
      "execution_count": 47,
      "outputs": []
    },
    {
      "cell_type": "code",
      "source": [
        ""
      ],
      "metadata": {
        "id": "uGgfovDlrFmw"
      },
      "execution_count": null,
      "outputs": []
    }
  ]
}