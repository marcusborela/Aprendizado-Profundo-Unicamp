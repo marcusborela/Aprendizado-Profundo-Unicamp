{
  "nbformat": 4,
  "nbformat_minor": 0,
  "metadata": {
    "colab": {
      "name": "Analise Imagens Satelite - Introdução ao Deep Learning",
      "provenance": [],
      "collapsed_sections": [],
      "include_colab_link": true
    },
    "kernelspec": {
      "name": "python3",
      "display_name": "Python 3"
    },
    "accelerator": "GPU"
  },
  "cells": [
    {
      "cell_type": "markdown",
      "metadata": {
        "id": "view-in-github",
        "colab_type": "text"
      },
      "source": [
        "<a href=\"https://colab.research.google.com/github/marcusborela/Aprendizado-Profundo-Unicamp/blob/main/Analise_Imagens_Satelite_Introdu%C3%A7%C3%A3o_ao_Deep_Learning.ipynb\" target=\"_parent\"><img src=\"https://colab.research.google.com/assets/colab-badge.svg\" alt=\"Open In Colab\"/></a>"
      ]
    },
    {
      "cell_type": "markdown",
      "metadata": {
        "id": "7_9LwAb9XHnS"
      },
      "source": [
        "# Introdução ao Deep Learning\n",
        "\n",
        "## Remis Balaniuk, PhD\n",
        "\n",
        "O aprendizado de máquina fez um progresso notável nos últimos anos. Passamos da fala e do reconhecimento de imagem quase inutilizáveis ​​para uma precisão quase humana. Passamos de máquinas que não conseguiam vencer um jogador sério de Go para derrotar um campeão mundial. Por trás desse progresso está o Deep Learning - uma combinação de avanços de engenharia, práticas recomendadas e teoria que permite uma grande variedade de aplicativos inteligentes antes impossíveis.\n",
        "\n",
        "\"*Nos últimos anos, a inteligência artificial (IA) tem sido alvo de intensa campanha publicitária na mídia. Aprendizado de máquina, aprendizado profundo e IA aparecem em incontáveis ​​artigos, geralmente fora de publicações voltadas para tecnologia. Temos a promessa de um futuro de chatbots inteligentes, carros autônomos e assistentes virtuais - um futuro às vezes pintado sob uma luz sombria e outras vezes utópico, onde os empregos humanos serão escassos e a maior parte da atividade econômica será administrada por robôs ou IA agentes. Para um praticante futuro ou atual do aprendizado de máquina, é importante ser capaz de reconhecer o sinal do ruído para que você possa distinguir os desenvolvimentos que mudam o mundo a partir de comunicados à imprensa exagerados. Nosso futuro está em jogo, e é um futuro no qual você tem um papel ativo a desempenhar.*\"\n",
        "\n",
        "Deep Learning with Python \n",
        "François Chollet\n",
        "November 2017  ISBN 9781617294433  \n",
        "\n",
        "https://livebook.manning.com/book/deep-learning-with-python/chapter-1/1\n",
        "\n"
      ]
    },
    {
      "cell_type": "markdown",
      "metadata": {
        "id": "q0Pf8P5AZtfN"
      },
      "source": [
        "O Deep learning é um subcampo específico do aprendizado de máquina: uma nova abordagem sobre a aprendizagem de representações a partir de dados que enfatiza o aprendizado de camadas sucessivas de representações cada vez mais significativas. \n",
        "\n",
        "![](https://drek4537l1klr.cloudfront.net/chollet/Figures/01fig06_alt.jpg)\n",
        "\n",
        "O aprendizado profundo não é uma referência a qualquer tipo de compreensão mais profunda alcançada pela abordagem; em vez disso, representa essa ideia de camadas sucessivas de representações. Quantas camadas contribuem para um modelo de dados é chamado de profundidade do modelo. Outros nomes apropriados para o campo poderiam ser aprendizagem de representações em camadas e aprendizagem de representações hierárquicas. \n",
        "\n",
        "O aprendizado profundo moderno frequentemente envolve dezenas ou até centenas de camadas sucessivas de representações - e todas são aprendidas automaticamente com a exposição aos dados de treinamento. Enquanto isso, outras abordagens de aprendizado de máquina tendem a se concentrar no aprendizado de apenas uma ou duas camadas de representações dos dados; portanto, às vezes são chamados de aprendizado superficial (shallow learning).\n",
        "\n",
        "Modelos mais recentes de redes neurais podem conter bilhões de parâmetros:\n",
        "\n",
        "![](https://miro.medium.com/max/875/1*KkG-n0N1pG5nNdUgh4tkOg.png)\n",
        "\n",
        "\n"
      ]
    },
    {
      "cell_type": "markdown",
      "metadata": {
        "id": "oAwjHLoLyGTO"
      },
      "source": [
        "# Rede Neural convencional versus a Rede Neural profunda\n",
        "\n",
        "Deep Learning é o nome dado a um conjunto de técnicas de redes neurais com múltiplas camadas.\n",
        "\n",
        "![](https://cdn-images-1.medium.com/max/1600/1*dnvGC-PORSoCo7VXT3PV_A.png)"
      ]
    },
    {
      "cell_type": "markdown",
      "metadata": {
        "id": "fMuZ4RtXamwi"
      },
      "source": [
        "## Resumo do funcionamento de uma rede neural (inclusive as profundas):\n",
        "\n",
        "A especificação do que uma camada faz com seus dados de entrada é armazenada nos pesos da camada, que em essência são parâmetros. Em termos técnicos, diríamos que a transformação implementada por uma camada é parametrizada por seus pesos.\n",
        "\n",
        "Aprendizagem nesse contexto significa encontrar um conjunto de valores para os pesos de todas as camadas em uma rede, de modo que a rede mapeie corretamente as entradas de exemplo para seus alvos associados. Uma rede neural profunda pode conter dezenas de milhões de parâmetros.\n",
        "\n",
        "![](https://drek4537l1klr.cloudfront.net/chollet/Figures/01fig09.jpg)\n",
        "\n",
        "Inicialmente, os pesos da rede são atribuídos a valores aleatórios, então a rede apenas implementa uma série de transformações aleatórias. Naturalmente, sua produção está longe do que deveria ser, e a pontuação de perda é, portanto, muito alta. Mas a cada exemplo de processo de rede, os pesos são ajustados um pouco na direção correta, e a pontuação de perda diminui. Este é o loop de treinamento, que, repetido um número suficiente de vezes (normalmente dezenas de iterações em milhares de exemplos), produz valores de peso que minimizam a função de perda. Uma rede com uma perda mínima é aquela para a qual as saídas são o mais próximo possível dos alvos: uma rede treinada. Mais uma vez, é um mecanismo simples que, uma vez dimensionado, acaba parecendo mágico."
      ]
    },
    {
      "cell_type": "markdown",
      "metadata": {
        "id": "lhTMfE3dccEg"
      },
      "source": [
        "## O que faz o Deep Learning ser diferente de outras técnicas de ML?\n",
        "\n",
        "O principal motivo pelo qual o aprendizado profundo decolou tão rapidamente é que ele ofereceu melhor desempenho em muitos problemas. Mas essa não é a única razão. O aprendizado profundo também torna a solução de problemas muito mais fácil, porque automatiza completamente o que costumava ser a etapa mais crucial em um fluxo de trabalho de aprendizado de máquina: a engenharia de atributos (feature engineering).\n",
        "\n",
        "As técnicas anteriores de aprendizado de máquina - shallow - envolviam apenas a transformação dos dados de entrada em um ou dois espaços de representação sucessivos, geralmente por meio de transformações simples, como projeções não lineares de alta dimensão (SVMs) ou árvores de decisão. Mas as representações refinadas exigidas por problemas complexos geralmente não podem ser obtidas por tais técnicas. Como tal, os humanos tiveram que ir longe para tornar os dados de entrada iniciais mais acessíveis ao processamento por esses métodos: eles tiveram que criar manualmente boas camadas de representações para seus dados. Isso é chamado de engenharia de atributos. \n",
        "\n",
        "O aprendizado profundo, por outro lado, automatiza completamente essa etapa: com o aprendizado profundo, você aprende todos os recursos em uma única passagem, em vez de ter que projetá-los sozinho. Isso simplificou muito os fluxos de trabalho de aprendizado de máquina, muitas vezes substituindo pipelines sofisticados de vários estágios por um modelo de aprendizado profundo único, simples e completo.\n",
        "\n",
        "![](https://semiengineering.com/wp-content/uploads/2018/01/MLvsDL.png) "
      ]
    },
    {
      "cell_type": "markdown",
      "metadata": {
        "id": "JMEs50IRsE-Y"
      },
      "source": [
        "## Uma primeira olhada em uma rede neural\n",
        "\n",
        "Nesses cadernos onde estudaremos o Deep learing os exemplos de código usam Keras (https://keras.io). Keras é uma\n",
        "framework de aprendizado profundo para Python que fornece uma maneira conveniente de definir e\n",
        "treinar quase qualquer tipo de modelo de aprendizado profundo. \n",
        "\n",
        "Keras foi inicialmente desenvolvido para\n",
        "pesquisadores, com o objetivo de possibilitar uma experimentação rápida.\n",
        " \n",
        "Keras tem os seguintes recursos principais:\n",
        "- Permite que o mesmo código seja executado perfeitamente na CPU ou GPU.\n",
        "- Possui uma API amigável que facilita a criação rápida de protótipos de aprendizado profundo\n",
        "modelos.\n",
        "- Possui suporte integrado para redes convolucionais (para visão computacional), redes recorrentes (para processamento de sequência) e qualquer combinação de ambas.\n",
        "- Suporta arquiteturas de rede arbitrárias: modelos de múltiplas entradas ou saídas,\n",
        "compartilhamento de camada, compartilhamento de modelo e assim por diante. Isso significa que Keras é apropriado para\n",
        "construir essencialmente qualquer modelo de aprendizado profundo, de uma rede adversária geradora a uma máquina de Turing neural."
      ]
    },
    {
      "cell_type": "markdown",
      "metadata": {
        "id": "H08Lb5MAWLE5"
      },
      "source": [
        "Keras é uma biblioteca de nível de modelo, fornecendo blocos de construção de alto nível para o desenvolvimento\n",
        "modelos de aprendizagem profunda. \n",
        "\n",
        "Ele não lida com operações de baixo nível, como manipulação e diferenciação de matrizes, aqui chamadas de tensores. Em vez disso, ela depende de uma biblioteca especializada e bem otimizada para fazer isso, servindo como o mecanismo de back-end do Keras. \n",
        "\n",
        "Em vez de escolher uma única\n",
        "biblioteca de manipulação de tensores e vinculando a implementação de Keras a essa biblioteca, Keras lida com o\n",
        "problema de forma modular; assim, vários motores de back-end diferentes podem\n",
        "ser conectado perfeitamente ao Keras. \n",
        "\n",
        "Atualmente, as três implementações de back-end existentes são o back-end TensorFlow, o back-end Theano e o Microsoft Cognitive\n",
        "Back-end do Toolkit (CNTK).\n",
        "![](https://www.digikey.com/maker-media/6c3d4f5f-98e0-4104-ad8c-fb0b47000109)\n"
      ]
    },
    {
      "cell_type": "markdown",
      "metadata": {
        "id": "MfJDZbghLHt1"
      },
      "source": [
        "## Primeiros passos no TensorFlow\n",
        "\n",
        "O TensorFlow foi desenvolvido pelo Google especificamente com o propósito de construir modelos de aprendizado de máquina (embora você possa usá-lo para muitas outras tarefas), continuando as ideias da (agora descontinuada) biblioteca Theano.\n",
        "\n",
        "Um dos principais argumentos de venda do TensorFlow é que ele pode diferenciar os cálculos automaticamente. Este é um recurso essencial para o aprendizado profundo, que usa otimização baseada em gradiente (retropropagação), e significa que você pode escrever o que quiser para calcular e o TensorFlow descobrirá os gradientes por si mesmo.\n",
        "\n",
        "O TensorFlow oferece computação de GPU com CUDA pronto para uso.\n",
        "\n",
        "O TensorFlow integra muito mais funcionalidade que não é estritamente manipulação de array na própria biblioteca, como manipulação de imagem e utilitários comuns de rede neural.\n",
        "\n",
        "O TensorFlow e o NumPy também funcionam razoavelmente bem juntos, especialmente no modo 'eager', em que qualquer tensor do TensorFlow pode ser convertido diretamente em uma matriz NumPy."
      ]
    },
    {
      "cell_type": "markdown",
      "metadata": {
        "id": "Yo0hFv-4LHt1"
      },
      "source": [
        "#### Constant tensors e Variables"
      ]
    },
    {
      "cell_type": "markdown",
      "metadata": {
        "id": "cxcvMnymLHt2"
      },
      "source": [
        "**All-ones ou all-zeros tensors**"
      ]
    },
    {
      "cell_type": "code",
      "metadata": {
        "id": "IXw-qw2gLHt2",
        "colab": {
          "base_uri": "https://localhost:8080/"
        },
        "outputId": "107f3fdb-1939-4b5d-e8d5-63266a84b557"
      },
      "source": [
        "import tensorflow as tf\n",
        "x = tf.ones(shape=(2, 1))\n",
        "print(x)"
      ],
      "execution_count": null,
      "outputs": [
        {
          "output_type": "stream",
          "name": "stdout",
          "text": [
            "tf.Tensor(\n",
            "[[1.]\n",
            " [1.]], shape=(2, 1), dtype=float32)\n"
          ]
        }
      ]
    },
    {
      "cell_type": "code",
      "metadata": {
        "colab": {
          "base_uri": "https://localhost:8080/",
          "height": 163
        },
        "id": "37V13T-DiAxQ",
        "outputId": "68969b6a-f67c-4b8b-8dcc-3995c0f9e012"
      },
      "source": [
        "x[0] = 0"
      ],
      "execution_count": null,
      "outputs": [
        {
          "output_type": "error",
          "ename": "TypeError",
          "evalue": "ignored",
          "traceback": [
            "\u001b[0;31m---------------------------------------------------------------------------\u001b[0m",
            "\u001b[0;31mTypeError\u001b[0m                                 Traceback (most recent call last)",
            "\u001b[0;32m<ipython-input-3-44eee3ca341c>\u001b[0m in \u001b[0;36m<module>\u001b[0;34m()\u001b[0m\n\u001b[0;32m----> 1\u001b[0;31m \u001b[0mx\u001b[0m\u001b[0;34m[\u001b[0m\u001b[0;36m0\u001b[0m\u001b[0;34m]\u001b[0m \u001b[0;34m=\u001b[0m \u001b[0;36m0\u001b[0m\u001b[0;34m\u001b[0m\u001b[0;34m\u001b[0m\u001b[0m\n\u001b[0m",
            "\u001b[0;31mTypeError\u001b[0m: 'tensorflow.python.framework.ops.EagerTensor' object does not support item assignment"
          ]
        }
      ]
    },
    {
      "cell_type": "markdown",
      "metadata": {
        "id": "xV80wz14LHt3"
      },
      "source": [
        "**NumPy arrays são modificáveis**"
      ]
    },
    {
      "cell_type": "code",
      "metadata": {
        "id": "IZd0YEUULHt4"
      },
      "source": [
        "import numpy as np\n",
        "y = np.ones(shape=(2, 2))\n",
        "y[0, 0] = 0."
      ],
      "execution_count": null,
      "outputs": []
    },
    {
      "cell_type": "code",
      "metadata": {
        "id": "iwSE1fjfjKtd"
      },
      "source": [
        ""
      ],
      "execution_count": null,
      "outputs": []
    },
    {
      "cell_type": "markdown",
      "metadata": {
        "id": "YGeEZGnOjLP1"
      },
      "source": [
        "**Convertendo um tensor em array numpy**"
      ]
    },
    {
      "cell_type": "code",
      "metadata": {
        "colab": {
          "base_uri": "https://localhost:8080/"
        },
        "id": "23jHYOVgiLbO",
        "outputId": "040ddd86-0d20-4d06-af45-90fb5e8a3606"
      },
      "source": [
        "import numpy as np\n",
        "\n",
        "a = np.array(x)\n",
        "print(a)"
      ],
      "execution_count": null,
      "outputs": [
        {
          "output_type": "stream",
          "text": [
            "[[1.]\n",
            " [1.]]\n"
          ],
          "name": "stdout"
        }
      ]
    },
    {
      "cell_type": "code",
      "metadata": {
        "colab": {
          "base_uri": "https://localhost:8080/"
        },
        "id": "fIoFp-UHilbt",
        "outputId": "1b0d4815-b3c6-4170-c3f8-cec5d47b20d6"
      },
      "source": [
        "a[0] = 0\n",
        "print(a)"
      ],
      "execution_count": null,
      "outputs": [
        {
          "output_type": "stream",
          "text": [
            "[[0.]\n",
            " [1.]]\n"
          ],
          "name": "stdout"
        }
      ]
    },
    {
      "cell_type": "code",
      "metadata": {
        "id": "pwz07PqoLHt2",
        "colab": {
          "base_uri": "https://localhost:8080/"
        },
        "outputId": "9e39b310-4270-44b8-9be8-661e9e898e8d"
      },
      "source": [
        "x = tf.zeros(shape=(2, 1))\n",
        "print(x)"
      ],
      "execution_count": null,
      "outputs": [
        {
          "output_type": "stream",
          "text": [
            "tf.Tensor(\n",
            "[[0.]\n",
            " [0.]], shape=(2, 1), dtype=float32)\n"
          ],
          "name": "stdout"
        }
      ]
    },
    {
      "cell_type": "markdown",
      "metadata": {
        "id": "Kf8TCyThLHt3"
      },
      "source": [
        "**Random tensors**"
      ]
    },
    {
      "cell_type": "code",
      "metadata": {
        "id": "0N-pdppPLHt3",
        "colab": {
          "base_uri": "https://localhost:8080/"
        },
        "outputId": "6ceaff9a-218b-4233-fe64-f420cc3fd5b6"
      },
      "source": [
        "x = tf.random.normal(shape=(3, 1), mean=0., stddev=1.)\n",
        "print(x)"
      ],
      "execution_count": null,
      "outputs": [
        {
          "output_type": "stream",
          "text": [
            "tf.Tensor(\n",
            "[[ 1.221559  ]\n",
            " [-0.07293689]\n",
            " [-0.0342241 ]], shape=(3, 1), dtype=float32)\n"
          ],
          "name": "stdout"
        }
      ]
    },
    {
      "cell_type": "code",
      "metadata": {
        "id": "Rt2px3clLHt3",
        "colab": {
          "base_uri": "https://localhost:8080/"
        },
        "outputId": "7213be85-6880-4a6f-f33a-10e1ed45f198"
      },
      "source": [
        "x = tf.random.uniform(shape=(3, 1), minval=0., maxval=1.)\n",
        "print(x)"
      ],
      "execution_count": null,
      "outputs": [
        {
          "output_type": "stream",
          "text": [
            "tf.Tensor(\n",
            "[[0.6165911 ]\n",
            " [0.14645839]\n",
            " [0.32695222]], shape=(3, 1), dtype=float32)\n"
          ],
          "name": "stdout"
        }
      ]
    },
    {
      "cell_type": "markdown",
      "metadata": {
        "id": "Jea1p4q7LHt4"
      },
      "source": [
        "**Criando uma variável**"
      ]
    },
    {
      "cell_type": "code",
      "metadata": {
        "id": "gKPR1BrqLHt4",
        "colab": {
          "base_uri": "https://localhost:8080/"
        },
        "outputId": "c1c77916-e22e-451b-836e-64ea3d646b61"
      },
      "source": [
        "v = tf.Variable(initial_value=tf.random.normal(shape=(3, 1)))\n",
        "print(v)"
      ],
      "execution_count": null,
      "outputs": [
        {
          "output_type": "stream",
          "text": [
            "<tf.Variable 'Variable:0' shape=(3, 1) dtype=float32, numpy=\n",
            "array([[ 0.75377685],\n",
            "       [-0.66553897],\n",
            "       [-0.4850018 ]], dtype=float32)>\n"
          ],
          "name": "stdout"
        }
      ]
    },
    {
      "cell_type": "markdown",
      "metadata": {
        "id": "Ssyr289mLHt5"
      },
      "source": [
        "**Atribuindo um valor a uma variável**"
      ]
    },
    {
      "cell_type": "code",
      "metadata": {
        "id": "aaAPHNpDLHt5",
        "colab": {
          "base_uri": "https://localhost:8080/"
        },
        "outputId": "d2062a50-7652-4c2a-ad19-9708e34b5d96"
      },
      "source": [
        "v.assign(tf.ones((3, 1)))"
      ],
      "execution_count": null,
      "outputs": [
        {
          "output_type": "execute_result",
          "data": {
            "text/plain": [
              "<tf.Variable 'UnreadVariable' shape=(3, 1) dtype=float32, numpy=\n",
              "array([[1.],\n",
              "       [1.],\n",
              "       [1.]], dtype=float32)>"
            ]
          },
          "metadata": {
            "tags": []
          },
          "execution_count": 12
        }
      ]
    },
    {
      "cell_type": "markdown",
      "metadata": {
        "id": "AK_ImSJzLHt6"
      },
      "source": [
        "**Atribuindo um valor a um subconjunto de uma variável**"
      ]
    },
    {
      "cell_type": "code",
      "metadata": {
        "id": "NElXfQZsLHt6",
        "colab": {
          "base_uri": "https://localhost:8080/"
        },
        "outputId": "a4335873-6383-4000-ed93-153722fad823"
      },
      "source": [
        "v[0, 0].assign(3.)"
      ],
      "execution_count": null,
      "outputs": [
        {
          "output_type": "execute_result",
          "data": {
            "text/plain": [
              "<tf.Variable 'UnreadVariable' shape=(3, 1) dtype=float32, numpy=\n",
              "array([[ 3.        ],\n",
              "       [-0.66553897],\n",
              "       [-0.4850018 ]], dtype=float32)>"
            ]
          },
          "metadata": {
            "tags": []
          },
          "execution_count": 10
        }
      ]
    },
    {
      "cell_type": "markdown",
      "metadata": {
        "id": "gFTngQh8LHt6"
      },
      "source": [
        "**Usando o assign_add**"
      ]
    },
    {
      "cell_type": "code",
      "metadata": {
        "id": "BLk4Jl-qLHt7",
        "colab": {
          "base_uri": "https://localhost:8080/"
        },
        "outputId": "2fb4ca1e-dd31-4e8d-9107-ea5a0a524d70"
      },
      "source": [
        "v.assign_add(tf.ones((3, 1)))"
      ],
      "execution_count": null,
      "outputs": [
        {
          "output_type": "execute_result",
          "data": {
            "text/plain": [
              "<tf.Variable 'UnreadVariable' shape=(3, 1) dtype=float32, numpy=\n",
              "array([[4.],\n",
              "       [2.],\n",
              "       [2.]], dtype=float32)>"
            ]
          },
          "metadata": {
            "tags": []
          },
          "execution_count": 14
        }
      ]
    },
    {
      "cell_type": "markdown",
      "metadata": {
        "id": "u3dv5rhbLHt7"
      },
      "source": [
        "#### Tensor operations: operações matemáticas no TensorFlow"
      ]
    },
    {
      "cell_type": "markdown",
      "metadata": {
        "id": "KavMI7OZLHt8"
      },
      "source": [
        "**Operações básicas**"
      ]
    },
    {
      "cell_type": "code",
      "metadata": {
        "id": "tpfvPpUkLHt8"
      },
      "source": [
        "a = tf.ones((2, 2))\n",
        "b = tf.square(a)\n",
        "c = tf.sqrt(a)\n",
        "d = b + c\n",
        "e = tf.matmul(a, b)\n",
        "e *= d"
      ],
      "execution_count": null,
      "outputs": []
    },
    {
      "cell_type": "code",
      "metadata": {
        "colab": {
          "base_uri": "https://localhost:8080/"
        },
        "id": "q32rtSP7kPbC",
        "outputId": "dd395355-96a7-4df4-da5f-ce19dc63bacc"
      },
      "source": [
        "print(a,b,c,d,e)"
      ],
      "execution_count": null,
      "outputs": [
        {
          "output_type": "stream",
          "text": [
            "tf.Tensor(\n",
            "[[1. 1.]\n",
            " [1. 1.]], shape=(2, 2), dtype=float32) tf.Tensor(\n",
            "[[1. 1.]\n",
            " [1. 1.]], shape=(2, 2), dtype=float32) tf.Tensor(\n",
            "[[1. 1.]\n",
            " [1. 1.]], shape=(2, 2), dtype=float32) tf.Tensor(\n",
            "[[2. 2.]\n",
            " [2. 2.]], shape=(2, 2), dtype=float32) tf.Tensor(\n",
            "[[4. 4.]\n",
            " [4. 4.]], shape=(2, 2), dtype=float32)\n"
          ],
          "name": "stdout"
        }
      ]
    },
    {
      "cell_type": "markdown",
      "metadata": {
        "id": "T7T0-8_JsE-Y"
      },
      "source": [
        "**Carregando o MNIST dataset no Keras**\n",
        "\n",
        "Para ilustrar o uso do Keras com o Tensorflow vamos fazer um pequeno exercício de classificação."
      ]
    },
    {
      "cell_type": "code",
      "metadata": {
        "colab": {
          "base_uri": "https://localhost:8080/"
        },
        "id": "Ps3VmKv1sE-Z",
        "outputId": "8c104f79-ddde-4edd-e6d7-df9d4980bf7c"
      },
      "source": [
        "from tensorflow.keras.datasets import mnist\n",
        "\n",
        "(train_images, train_labels), (test_images, test_labels) = mnist.load_data()"
      ],
      "execution_count": null,
      "outputs": [
        {
          "output_type": "stream",
          "name": "stdout",
          "text": [
            "Downloading data from https://storage.googleapis.com/tensorflow/tf-keras-datasets/mnist.npz\n",
            "11493376/11490434 [==============================] - 0s 0us/step\n",
            "11501568/11490434 [==============================] - 0s 0us/step\n"
          ]
        }
      ]
    },
    {
      "cell_type": "code",
      "metadata": {
        "colab": {
          "base_uri": "https://localhost:8080/"
        },
        "id": "ivsspuA8sE-a",
        "outputId": "c25e8be3-ef63-4974-85cf-d087e3fffa9b"
      },
      "source": [
        "train_images.shape"
      ],
      "execution_count": null,
      "outputs": [
        {
          "output_type": "execute_result",
          "data": {
            "text/plain": [
              "(60000, 28, 28)"
            ]
          },
          "metadata": {},
          "execution_count": 2
        }
      ]
    },
    {
      "cell_type": "code",
      "metadata": {
        "colab": {
          "base_uri": "https://localhost:8080/"
        },
        "id": "VOr33QU8sE-a",
        "outputId": "2c119f86-cbf5-4991-b1ea-a116afb87d2f"
      },
      "source": [
        "len(train_labels)"
      ],
      "execution_count": null,
      "outputs": [
        {
          "output_type": "execute_result",
          "data": {
            "text/plain": [
              "60000"
            ]
          },
          "metadata": {},
          "execution_count": 5
        }
      ]
    },
    {
      "cell_type": "code",
      "metadata": {
        "colab": {
          "base_uri": "https://localhost:8080/"
        },
        "id": "KCtC7Sz6sE-a",
        "outputId": "78e700cf-a944-4af4-d406-e4a0a842fd68"
      },
      "source": [
        "train_labels"
      ],
      "execution_count": null,
      "outputs": [
        {
          "output_type": "execute_result",
          "data": {
            "text/plain": [
              "array([5, 0, 4, ..., 5, 6, 8], dtype=uint8)"
            ]
          },
          "metadata": {},
          "execution_count": 6
        }
      ]
    },
    {
      "cell_type": "code",
      "metadata": {
        "colab": {
          "base_uri": "https://localhost:8080/"
        },
        "id": "AneYQPcKsE-b",
        "outputId": "84b90c40-d9aa-4bd3-817a-69958310743b"
      },
      "source": [
        "test_images.shape"
      ],
      "execution_count": null,
      "outputs": [
        {
          "output_type": "execute_result",
          "data": {
            "text/plain": [
              "(10000, 28, 28)"
            ]
          },
          "metadata": {
            "tags": []
          },
          "execution_count": 18
        }
      ]
    },
    {
      "cell_type": "code",
      "metadata": {
        "colab": {
          "base_uri": "https://localhost:8080/"
        },
        "id": "cKVnsepEsE-b",
        "outputId": "1896e43c-ea52-4647-f9b7-968fa9a04031"
      },
      "source": [
        "len(test_labels)"
      ],
      "execution_count": null,
      "outputs": [
        {
          "output_type": "execute_result",
          "data": {
            "text/plain": [
              "10000"
            ]
          },
          "metadata": {},
          "execution_count": 7
        }
      ]
    },
    {
      "cell_type": "code",
      "metadata": {
        "colab": {
          "base_uri": "https://localhost:8080/"
        },
        "id": "i_wZsOQKsE-c",
        "outputId": "952b5877-1f44-4bff-f15f-3008f0708ef9"
      },
      "source": [
        "test_labels"
      ],
      "execution_count": null,
      "outputs": [
        {
          "output_type": "execute_result",
          "data": {
            "text/plain": [
              "array([7, 2, 1, ..., 4, 5, 6], dtype=uint8)"
            ]
          },
          "metadata": {
            "tags": []
          },
          "execution_count": 20
        }
      ]
    },
    {
      "cell_type": "code",
      "metadata": {
        "colab": {
          "base_uri": "https://localhost:8080/",
          "height": 265
        },
        "id": "vI6ppXsvHO8F",
        "outputId": "f1080eaf-6e02-4049-9e8b-73c4df85b0de"
      },
      "source": [
        "digit = train_images[4]\n",
        "import matplotlib.pyplot as plt\n",
        "plt.imshow(digit, cmap=plt.cm.binary)\n",
        "plt.show()"
      ],
      "execution_count": null,
      "outputs": [
        {
          "output_type": "display_data",
          "data": {
            "text/plain": [
              "<Figure size 432x288 with 1 Axes>"
            ],
            "image/png": "[encoded data removed]"
          },
          "metadata": {
            "needs_background": "light"
          }
        }
      ]
    },
    {
      "cell_type": "markdown",
      "metadata": {
        "id": "SPNG8TSXsE-c"
      },
      "source": [
        "**Definindo a arquitetura da rede**\n",
        "\n",
        "O bloco de construção central das redes neurais é a camada, um módulo de processamento de dados que você pode considerar um filtro de dados. Alguns dados entram e saem de uma forma mais útil. Especificamente, as camadas extraem representações dos dados alimentados nelas - com sorte, representações que são mais significativas para o problema em questão. \n",
        "\n",
        "A maior parte do aprendizado profundo consiste em encadear camadas simples que implementarão uma forma de destilação progressiva de dados. Um modelo de aprendizado profundo é como uma peneira para processamento de dados, feita de uma sucessão de filtros de dados cada vez mais refinados - as camadas.\n",
        "\n",
        "Aqui, nossa rede consiste em uma sequência de duas camadas densas, que são camadas neurais densamente conectadas (também chamadas de totalmente conectadas. A segunda (e última) camada é uma camada softmax de 10 vias, o que significa que ela retornará uma matriz de 10 pontuações de probabilidade (somando 1). Cada pontuação será a probabilidade de que a imagem do dígito atual pertença a uma de nossas classes de 10 dígitos."
      ]
    },
    {
      "cell_type": "code",
      "metadata": {
        "id": "A-RqL7qpsE-c"
      },
      "source": [
        "from tensorflow.keras import models\n",
        "from tensorflow.keras import layers\n",
        "model = models.Sequential([\n",
        "    layers.Dense(512, activation=\"relu\"),\n",
        "    layers.Dense(10, activation=\"softmax\")\n",
        "])"
      ],
      "execution_count": null,
      "outputs": []
    },
    {
      "cell_type": "markdown",
      "metadata": {
        "id": "zAyuK7xasE-d"
      },
      "source": [
        "**Compilando a rede**\n",
        "\n",
        "Para preparar a rede para o treinamento, precisamos escolher mais três coisas, como parte da etapa de compilação:\n",
        "\n",
        "- Uma função de perda - como a rede será capaz de medir seu desempenho nos dados de treinamento e, portanto, como será capaz de se orientar na direção certa.\n",
        "\n",
        "- Um otimizador - o mecanismo pelo qual a rede se atualiza com base nos dados que vê e em sua função de perda.\n",
        "\n",
        "- Métricas a serem monitoradas durante o treinamento e teste\n",
        "  - Aqui, vamos nos preocupar apenas com a precisão (a fração das imagens que foram classificadas corretamente).\n"
      ]
    },
    {
      "cell_type": "code",
      "metadata": {
        "id": "-wIToPKGsE-d"
      },
      "source": [
        "model.compile(optimizer=\"rmsprop\",\n",
        "              loss=\"sparse_categorical_crossentropy\",\n",
        "              metrics=[\"accuracy\"])"
      ],
      "execution_count": null,
      "outputs": []
    },
    {
      "cell_type": "markdown",
      "metadata": {
        "id": "vETWkpMTsE-d"
      },
      "source": [
        "**Preparando as imagens**\n",
        "\n",
        "Antes do treinamento, iremos pré-processar os dados remodelando-os para a forma que a rede espera e escalonando-os de forma que todos os valores estejam no intervalo [0, 1]. Anteriormente, nossas imagens de treinamento, por exemplo, eram armazenadas em uma matriz de forma (60.000, 28, 28) do tipo\n",
        "uint8 com valores no intervalo [0, 255]. Nós o transformamos em uma matriz float32 de forma (60000, 28 * 28) com valores entre 0 e 1."
      ]
    },
    {
      "cell_type": "code",
      "metadata": {
        "id": "teOib6UqsE-e"
      },
      "source": [
        "train_images = train_images.reshape((60000, 28 * 28))\n",
        "train_images = train_images.astype(\"float32\") / 255\n",
        "test_images = test_images.reshape((10000, 28 * 28))\n",
        "test_images = test_images.astype(\"float32\") / 255"
      ],
      "execution_count": null,
      "outputs": []
    },
    {
      "cell_type": "markdown",
      "metadata": {
        "id": "WNP6qQqBsE-e"
      },
      "source": [
        "**Treinando o modelo**\n",
        "\n",
        "Agora estamos prontos para treinar a rede, o que em Keras é feito por meio de uma chamada para o método fit da rede - ajustamos o modelo aos dados de treinamento"
      ]
    },
    {
      "cell_type": "code",
      "metadata": {
        "colab": {
          "base_uri": "https://localhost:8080/"
        },
        "id": "IN0uhbTlsE-e",
        "outputId": "20bc05e3-0ad2-4c68-f814-a9082ef8dd93"
      },
      "source": [
        "model.fit(train_images, train_labels, epochs=5, batch_size=128)"
      ],
      "execution_count": null,
      "outputs": [
        {
          "output_type": "stream",
          "name": "stdout",
          "text": [
            "Epoch 1/5\n",
            "469/469 [==============================] - 5s 3ms/step - loss: 0.2571 - accuracy: 0.9249\n",
            "Epoch 2/5\n",
            "469/469 [==============================] - 1s 3ms/step - loss: 0.1038 - accuracy: 0.9692\n",
            "Epoch 3/5\n",
            "469/469 [==============================] - 1s 3ms/step - loss: 0.0685 - accuracy: 0.9795\n",
            "Epoch 4/5\n",
            "469/469 [==============================] - 1s 3ms/step - loss: 0.0481 - accuracy: 0.9854\n",
            "Epoch 5/5\n",
            "469/469 [==============================] - 1s 3ms/step - loss: 0.0373 - accuracy: 0.9889\n"
          ]
        },
        {
          "output_type": "execute_result",
          "data": {
            "text/plain": [
              "<keras.callbacks.History at 0x7f41e61e3350>"
            ]
          },
          "metadata": {},
          "execution_count": 12
        }
      ]
    },
    {
      "cell_type": "markdown",
      "metadata": {
        "id": "azADevpDOUck"
      },
      "source": [
        "Duas quantidades são exibidas durante o treinamento: a perda (erro médio ) da rede durante nos dados de treinamento e a precisão da rede sobre os dados de treinamento.\n",
        "\n",
        " Rapidamente alcançamos uma precisão de 0,989 (98,9%) nos dados de treinamento. \n",
        " \n",
        " Agora vamos verificar se o modelo tem um bom desempenho no conjunto de teste também."
      ]
    },
    {
      "cell_type": "markdown",
      "metadata": {
        "id": "2pt420uVsE-e"
      },
      "source": [
        "**Usando o modelo para fazer predições**"
      ]
    },
    {
      "cell_type": "code",
      "metadata": {
        "colab": {
          "base_uri": "https://localhost:8080/"
        },
        "id": "JP-XDdIOsE-f",
        "outputId": "0c7b39ec-4789-4f1a-b4b3-072d2c944f9e"
      },
      "source": [
        "test_digits = test_images[0:10]\n",
        "predictions = model.predict(test_digits)\n",
        "predictions[0]"
      ],
      "execution_count": null,
      "outputs": [
        {
          "output_type": "execute_result",
          "data": {
            "text/plain": [
              "array([7.9388656e-09, 2.2240799e-10, 3.8368691e-07, 4.5272768e-06,\n",
              "       4.4278481e-13, 1.7505711e-07, 2.2935276e-15, 9.9999380e-01,\n",
              "       1.6153791e-08, 1.1793563e-06], dtype=float32)"
            ]
          },
          "metadata": {},
          "execution_count": 14
        }
      ]
    },
    {
      "cell_type": "code",
      "metadata": {
        "colab": {
          "base_uri": "https://localhost:8080/",
          "height": 265
        },
        "id": "CVLRnIAcjsC-",
        "outputId": "6ec040ad-447d-4b97-83e8-29316d310603"
      },
      "source": [
        "digit = test_images[0].reshape((28 , 28))\n",
        "import matplotlib.pyplot as plt\n",
        "plt.imshow(digit, cmap=plt.cm.binary)\n",
        "plt.show()"
      ],
      "execution_count": null,
      "outputs": [
        {
          "output_type": "display_data",
          "data": {
            "text/plain": [
              "<Figure size 432x288 with 1 Axes>"
            ],
            "image/png": "[encoded data removed]"
          },
          "metadata": {
            "needs_background": "light"
          }
        }
      ]
    },
    {
      "cell_type": "code",
      "metadata": {
        "colab": {
          "base_uri": "https://localhost:8080/"
        },
        "id": "4gDoVMvEsE-f",
        "outputId": "d71a4f3a-ef09-4b4e-e003-bb12372630b2"
      },
      "source": [
        "predictions[0].argmax()"
      ],
      "execution_count": null,
      "outputs": [
        {
          "output_type": "execute_result",
          "data": {
            "text/plain": [
              "7"
            ]
          },
          "metadata": {},
          "execution_count": 16
        }
      ]
    },
    {
      "cell_type": "code",
      "metadata": {
        "colab": {
          "base_uri": "https://localhost:8080/"
        },
        "id": "hLK0jNEwsE-f",
        "outputId": "9a87a6fd-9faf-421e-b82b-8e7052bb8676"
      },
      "source": [
        "predictions[0][7]"
      ],
      "execution_count": null,
      "outputs": [
        {
          "output_type": "execute_result",
          "data": {
            "text/plain": [
              "0.9999938"
            ]
          },
          "metadata": {},
          "execution_count": 17
        }
      ]
    },
    {
      "cell_type": "code",
      "metadata": {
        "colab": {
          "base_uri": "https://localhost:8080/"
        },
        "id": "9B6EEa7ysE-f",
        "outputId": "3ecd9b83-b019-4bb5-acfe-f38d9aff9de9"
      },
      "source": [
        "test_labels[0]"
      ],
      "execution_count": null,
      "outputs": [
        {
          "output_type": "execute_result",
          "data": {
            "text/plain": [
              "7"
            ]
          },
          "metadata": {},
          "execution_count": 18
        }
      ]
    },
    {
      "cell_type": "markdown",
      "metadata": {
        "id": "yqv_aAgwsE-g"
      },
      "source": [
        "**Testando o modelo em novas imagens**"
      ]
    },
    {
      "cell_type": "code",
      "metadata": {
        "colab": {
          "base_uri": "https://localhost:8080/"
        },
        "id": "gsE-pJTlsE-g",
        "outputId": "0ba6aa33-8c8e-4ef4-bb94-567ead03627c"
      },
      "source": [
        "test_loss, test_acc = model.evaluate(test_images, test_labels)\n",
        "print(f\"test_acc: {test_acc}\")"
      ],
      "execution_count": null,
      "outputs": [
        {
          "output_type": "stream",
          "name": "stdout",
          "text": [
            "313/313 [==============================] - 1s 2ms/step - loss: 0.0697 - accuracy: 0.9782\n",
            "test_acc: 0.9782000184059143\n"
          ]
        }
      ]
    },
    {
      "cell_type": "markdown",
      "metadata": {
        "id": "8rgFEPJ5PG6i"
      },
      "source": [
        "A precisão do conjunto de teste acabou sendo 98,07% - o que é um pouco menor do que na base de treinamento. Esta lacuna entre a precisão do treinamento e a precisão do teste é um exemplo de\n",
        "overfitting: o fato de que os modelos de aprendizado de máquina tendem a ter um desempenho pior em novos dados\n",
        "do que em seus dados de treinamento, que nesse caso foi bem sutil;"
      ]
    },
    {
      "cell_type": "markdown",
      "metadata": {
        "id": "910PAecYPdba"
      },
      "source": [
        "# Exercício\n",
        "\n",
        "Use o código visto até aqui numa base de dados sintética gerada utilizando o make_classification. "
      ]
    },
    {
      "cell_type": "code",
      "metadata": {
        "colab": {
          "base_uri": "https://localhost:8080/"
        },
        "id": "iMMHwr3kbspt",
        "outputId": "3fc419ee-cfde-47a8-e076-23f66ca6f7a4"
      },
      "source": [
        "# dataset sintético para classficação\n",
        "from sklearn.datasets import make_classification\n",
        "# define dataset\n",
        "X, y = make_classification(n_samples=100000, n_features=100, n_classes= 10, n_informative = 20, random_state=5)\n",
        "# summarize the dataset\n",
        "print(X.shape, y.shape)\n"
      ],
      "execution_count": null,
      "outputs": [
        {
          "output_type": "stream",
          "text": [
            "(100000, 100) (100000,)\n"
          ],
          "name": "stdout"
        }
      ]
    },
    {
      "cell_type": "code",
      "metadata": {
        "id": "U0TWJgVTcuny"
      },
      "source": [
        "from sklearn.model_selection import train_test_split\n",
        "\n",
        "# Dividir nossos dados\n",
        "train, test, train_labels, test_labels = train_test_split(X,\n",
        "                                                          y,\n",
        "                                                          test_size=0.33,\n",
        "                                                          random_state=42)"
      ],
      "execution_count": null,
      "outputs": []
    },
    {
      "cell_type": "code",
      "metadata": {
        "id": "x_3oabprPx5B"
      },
      "source": [
        "from tensorflow.keras import models\n",
        "from tensorflow.keras import layers\n",
        "model = models.Sequential([\n",
        "    layers.Dense(512, activation=\"relu\"),\n",
        "    layers.Dense(10, activation=\"softmax\")\n",
        "])"
      ],
      "execution_count": null,
      "outputs": []
    },
    {
      "cell_type": "code",
      "metadata": {
        "id": "TaJoF91kc6v_"
      },
      "source": [
        "model.compile(optimizer=\"rmsprop\",\n",
        "              loss=\"sparse_categorical_crossentropy\",\n",
        "              metrics=[\"accuracy\"])"
      ],
      "execution_count": null,
      "outputs": []
    },
    {
      "cell_type": "code",
      "metadata": {
        "colab": {
          "base_uri": "https://localhost:8080/"
        },
        "id": "iWTLO1ZPd0Jn",
        "outputId": "ce2498ad-9492-481f-ca2a-ba97519c1664"
      },
      "source": [
        "model.fit(train, train_labels, epochs=10, batch_size=128)"
      ],
      "execution_count": null,
      "outputs": [
        {
          "output_type": "stream",
          "text": [
            "Epoch 1/10\n",
            "524/524 [==============================] - 4s 2ms/step - loss: 1.0730 - accuracy: 0.6412\n",
            "Epoch 2/10\n",
            "524/524 [==============================] - 1s 2ms/step - loss: 0.5683 - accuracy: 0.8214\n",
            "Epoch 3/10\n",
            "524/524 [==============================] - 1s 2ms/step - loss: 0.4491 - accuracy: 0.8610\n",
            "Epoch 4/10\n",
            "524/524 [==============================] - 1s 2ms/step - loss: 0.3895 - accuracy: 0.8836\n",
            "Epoch 5/10\n",
            "524/524 [==============================] - 1s 2ms/step - loss: 0.3488 - accuracy: 0.8996\n",
            "Epoch 6/10\n",
            "524/524 [==============================] - 1s 2ms/step - loss: 0.3192 - accuracy: 0.9100\n",
            "Epoch 7/10\n",
            "524/524 [==============================] - 1s 2ms/step - loss: 0.2939 - accuracy: 0.9199\n",
            "Epoch 8/10\n",
            "524/524 [==============================] - 1s 2ms/step - loss: 0.2732 - accuracy: 0.9273\n",
            "Epoch 9/10\n",
            "524/524 [==============================] - 1s 2ms/step - loss: 0.2544 - accuracy: 0.9342\n",
            "Epoch 10/10\n",
            "524/524 [==============================] - 1s 2ms/step - loss: 0.2383 - accuracy: 0.9398\n"
          ],
          "name": "stdout"
        },
        {
          "output_type": "execute_result",
          "data": {
            "text/plain": [
              "<tensorflow.python.keras.callbacks.History at 0x7f10b8737bd0>"
            ]
          },
          "metadata": {
            "tags": []
          },
          "execution_count": 14
        }
      ]
    },
    {
      "cell_type": "code",
      "metadata": {
        "id": "aQeCBPwoejT1"
      },
      "source": [
        "preds = model.predict(test)"
      ],
      "execution_count": null,
      "outputs": []
    },
    {
      "cell_type": "code",
      "metadata": {
        "colab": {
          "base_uri": "https://localhost:8080/"
        },
        "id": "voiS8-EVe_Tt",
        "outputId": "7795bbb3-7812-4a59-b0db-9c8829375c36"
      },
      "source": [
        "test_labels[:10]"
      ],
      "execution_count": null,
      "outputs": [
        {
          "output_type": "execute_result",
          "data": {
            "text/plain": [
              "array([8, 8, 5, 7, 0, 8, 7, 4, 7, 6])"
            ]
          },
          "metadata": {
            "tags": []
          },
          "execution_count": 20
        }
      ]
    },
    {
      "cell_type": "code",
      "metadata": {
        "colab": {
          "base_uri": "https://localhost:8080/"
        },
        "id": "mhreUsbefQFk",
        "outputId": "05165dae-6925-4c39-c49c-b745b27906f3"
      },
      "source": [
        "preds[:5]"
      ],
      "execution_count": null,
      "outputs": [
        {
          "output_type": "execute_result",
          "data": {
            "text/plain": [
              "array([[2.6539600e-04, 2.9648078e-05, 4.9026846e-03, 6.0330235e-10,\n",
              "        4.7561836e-01, 1.1641368e-06, 1.4172497e-04, 1.6447382e-02,\n",
              "        4.9684677e-01, 5.7467939e-03],\n",
              "       [7.7615259e-04, 2.7066149e-05, 7.3576368e-05, 9.0608210e-06,\n",
              "        2.5655231e-02, 4.5478344e-04, 1.1864101e-06, 1.8634420e-08,\n",
              "        9.7292691e-01, 7.6011034e-05],\n",
              "       [6.4072618e-09, 1.1620522e-08, 2.8583406e-18, 1.0506806e-07,\n",
              "        1.6035730e-11, 9.9967527e-01, 1.6919602e-06, 4.5500248e-05,\n",
              "        2.6899662e-14, 2.7745406e-04],\n",
              "       [1.1544945e-05, 2.1816203e-12, 2.4614495e-05, 1.0183786e-12,\n",
              "        3.6719797e-05, 6.9304099e-07, 1.0344958e-10, 9.9992645e-01,\n",
              "        4.5392195e-08, 3.7588802e-10],\n",
              "       [9.7497195e-01, 2.0042644e-10, 2.5025696e-02, 1.8153773e-10,\n",
              "        1.3419905e-10, 1.8346548e-06, 6.1692723e-10, 4.5486567e-07,\n",
              "        2.2434948e-08, 7.9637685e-10]], dtype=float32)"
            ]
          },
          "metadata": {
            "tags": []
          },
          "execution_count": 25
        }
      ]
    },
    {
      "cell_type": "code",
      "metadata": {
        "colab": {
          "base_uri": "https://localhost:8080/"
        },
        "id": "k-cbSHhMfDd2",
        "outputId": "cb30b3e9-9427-4d48-a455-5e79af7d2856"
      },
      "source": [
        "preds[:10].argmax(axis=1)"
      ],
      "execution_count": null,
      "outputs": [
        {
          "output_type": "execute_result",
          "data": {
            "text/plain": [
              "array([8, 8, 5, 7, 0, 6, 7, 4, 5, 6])"
            ]
          },
          "metadata": {
            "tags": []
          },
          "execution_count": 26
        }
      ]
    },
    {
      "cell_type": "code",
      "metadata": {
        "colab": {
          "base_uri": "https://localhost:8080/"
        },
        "id": "mOhnQsNuge9B",
        "outputId": "46a70a1a-12c2-41cc-81e2-392cb127e0f9"
      },
      "source": [
        "type(test_labels[0])"
      ],
      "execution_count": null,
      "outputs": [
        {
          "output_type": "execute_result",
          "data": {
            "text/plain": [
              "numpy.int64"
            ]
          },
          "metadata": {
            "tags": []
          },
          "execution_count": 33
        }
      ]
    },
    {
      "cell_type": "code",
      "metadata": {
        "colab": {
          "base_uri": "https://localhost:8080/"
        },
        "id": "P9ELel2pepol",
        "outputId": "4d022b8d-e905-4fc9-9c9f-f4a194e9561e"
      },
      "source": [
        "from sklearn.metrics import classification_report\n",
        "print(classification_report(test_labels, preds.argmax(axis=1)))"
      ],
      "execution_count": null,
      "outputs": [
        {
          "output_type": "stream",
          "text": [
            "              precision    recall  f1-score   support\n",
            "\n",
            "           0       0.89      0.80      0.84      3334\n",
            "           1       0.88      0.79      0.83      3276\n",
            "           2       0.79      0.92      0.85      3277\n",
            "           3       0.84      0.87      0.86      3202\n",
            "           4       0.86      0.87      0.87      3402\n",
            "           5       0.89      0.85      0.87      3443\n",
            "           6       0.85      0.84      0.84      3227\n",
            "           7       0.84      0.89      0.87      3235\n",
            "           8       0.89      0.84      0.86      3333\n",
            "           9       0.82      0.84      0.83      3271\n",
            "\n",
            "    accuracy                           0.85     33000\n",
            "   macro avg       0.85      0.85      0.85     33000\n",
            "weighted avg       0.85      0.85      0.85     33000\n",
            "\n"
          ],
          "name": "stdout"
        }
      ]
    },
    {
      "cell_type": "code",
      "metadata": {
        "id": "Q9eaTOfP-IZe"
      },
      "source": [
        "from sklearn.svm import SVC\n",
        "svc=SVC()"
      ],
      "execution_count": null,
      "outputs": []
    },
    {
      "cell_type": "code",
      "metadata": {
        "id": "KtWgjPgH7sV-",
        "colab": {
          "base_uri": "https://localhost:8080/"
        },
        "outputId": "c94e4868-29e2-45c6-a9c3-7fd8169b198a"
      },
      "source": [
        "# ATENÇÃO : DEMORADO...\n",
        "svc.fit(train,train_labels)"
      ],
      "execution_count": null,
      "outputs": [
        {
          "output_type": "execute_result",
          "data": {
            "text/plain": [
              "SVC(C=1.0, break_ties=False, cache_size=200, class_weight=None, coef0=0.0,\n",
              "    decision_function_shape='ovr', degree=3, gamma='scale', kernel='rbf',\n",
              "    max_iter=-1, probability=False, random_state=None, shrinking=True,\n",
              "    tol=0.001, verbose=False)"
            ]
          },
          "metadata": {
            "tags": []
          },
          "execution_count": 6
        }
      ]
    },
    {
      "cell_type": "code",
      "metadata": {
        "id": "HioaIza6EqsS"
      },
      "source": [
        "svcpreds = svc.predict(test)"
      ],
      "execution_count": null,
      "outputs": []
    },
    {
      "cell_type": "code",
      "metadata": {
        "colab": {
          "base_uri": "https://localhost:8080/"
        },
        "id": "hRaKLQYWhH8g",
        "outputId": "7128e16a-eac0-456e-c847-9b1db468bae1"
      },
      "source": [
        "from sklearn.metrics import classification_report\n",
        "print(classification_report(test_labels, svcpreds))"
      ],
      "execution_count": null,
      "outputs": [
        {
          "output_type": "stream",
          "text": [
            "              precision    recall  f1-score   support\n",
            "\n",
            "           0       0.85      0.83      0.84      3334\n",
            "           1       0.86      0.87      0.86      3276\n",
            "           2       0.87      0.87      0.87      3277\n",
            "           3       0.83      0.88      0.86      3202\n",
            "           4       0.87      0.87      0.87      3402\n",
            "           5       0.89      0.86      0.87      3443\n",
            "           6       0.88      0.86      0.87      3227\n",
            "           7       0.85      0.88      0.86      3235\n",
            "           8       0.89      0.89      0.89      3333\n",
            "           9       0.86      0.82      0.84      3271\n",
            "\n",
            "    accuracy                           0.86     33000\n",
            "   macro avg       0.86      0.86      0.86     33000\n",
            "weighted avg       0.86      0.86      0.86     33000\n",
            "\n"
          ],
          "name": "stdout"
        }
      ]
    },
    {
      "cell_type": "markdown",
      "metadata": {
        "id": "F2luu7isstcx"
      },
      "source": [
        "# Exercício\n",
        "\n",
        "Altere a arquitetura da sua rede aumentando uma camada densa."
      ]
    },
    {
      "cell_type": "code",
      "metadata": {
        "id": "wwRQmY1Ng0zM"
      },
      "source": [
        "from tensorflow.keras import models\n",
        "from tensorflow.keras import layers\n",
        "model = models.Sequential([\n",
        "    layers.Dense(512, activation=\"relu\"),\n",
        "    layers.Dense(512, activation=\"relu\"),\n",
        "    layers.Dense(10, activation=\"softmax\")\n",
        "])"
      ],
      "execution_count": null,
      "outputs": []
    },
    {
      "cell_type": "code",
      "metadata": {
        "id": "AWVFmH_71P1R"
      },
      "source": [
        "model.compile(optimizer=\"rmsprop\",\n",
        "              loss=\"sparse_categorical_crossentropy\",\n",
        "              metrics=[\"accuracy\"])"
      ],
      "execution_count": null,
      "outputs": []
    },
    {
      "cell_type": "code",
      "metadata": {
        "colab": {
          "base_uri": "https://localhost:8080/"
        },
        "id": "o3UH2keT1P1e",
        "outputId": "026cb8a0-4c9c-4d8e-8903-7ac596f16ff5"
      },
      "source": [
        "model.fit(train, train_labels, epochs=10, batch_size=128)"
      ],
      "execution_count": null,
      "outputs": [
        {
          "output_type": "stream",
          "text": [
            "Epoch 1/10\n",
            "524/524 [==============================] - 4s 2ms/step - loss: 0.8416 - accuracy: 0.7197\n",
            "Epoch 2/10\n",
            "524/524 [==============================] - 1s 2ms/step - loss: 0.4032 - accuracy: 0.8774\n",
            "Epoch 3/10\n",
            "524/524 [==============================] - 1s 2ms/step - loss: 0.2936 - accuracy: 0.9195\n",
            "Epoch 4/10\n",
            "524/524 [==============================] - 1s 2ms/step - loss: 0.2305 - accuracy: 0.9414\n",
            "Epoch 5/10\n",
            "524/524 [==============================] - 1s 2ms/step - loss: 0.1883 - accuracy: 0.9538\n",
            "Epoch 6/10\n",
            "524/524 [==============================] - 1s 2ms/step - loss: 0.1545 - accuracy: 0.9622\n",
            "Epoch 7/10\n",
            "524/524 [==============================] - 1s 2ms/step - loss: 0.1272 - accuracy: 0.9695\n",
            "Epoch 8/10\n",
            "524/524 [==============================] - 1s 2ms/step - loss: 0.1026 - accuracy: 0.9746\n",
            "Epoch 9/10\n",
            "524/524 [==============================] - 1s 2ms/step - loss: 0.0836 - accuracy: 0.9786\n",
            "Epoch 10/10\n",
            "524/524 [==============================] - 1s 2ms/step - loss: 0.0687 - accuracy: 0.9807\n"
          ],
          "name": "stdout"
        },
        {
          "output_type": "execute_result",
          "data": {
            "text/plain": [
              "<tensorflow.python.keras.callbacks.History at 0x7fabd03a98d0>"
            ]
          },
          "metadata": {
            "tags": []
          },
          "execution_count": 12
        }
      ]
    },
    {
      "cell_type": "code",
      "metadata": {
        "id": "24lSRog71P1f"
      },
      "source": [
        "preds = model.predict(test)"
      ],
      "execution_count": null,
      "outputs": []
    },
    {
      "cell_type": "code",
      "metadata": {
        "colab": {
          "base_uri": "https://localhost:8080/"
        },
        "id": "eKDl0KN91P1h",
        "outputId": "208a4469-0e6c-44be-b733-3d27a99ac09a"
      },
      "source": [
        "from sklearn.metrics import classification_report\n",
        "print(classification_report(test_labels, preds.argmax(axis=1)))"
      ],
      "execution_count": null,
      "outputs": [
        {
          "output_type": "stream",
          "text": [
            "              precision    recall  f1-score   support\n",
            "\n",
            "           0       0.84      0.91      0.88      3334\n",
            "           1       0.93      0.87      0.90      3276\n",
            "           2       0.91      0.90      0.91      3277\n",
            "           3       0.92      0.86      0.89      3202\n",
            "           4       0.86      0.94      0.90      3402\n",
            "           5       0.93      0.88      0.90      3443\n",
            "           6       0.92      0.89      0.90      3227\n",
            "           7       0.91      0.89      0.90      3235\n",
            "           8       0.89      0.94      0.91      3333\n",
            "           9       0.89      0.90      0.90      3271\n",
            "\n",
            "    accuracy                           0.90     33000\n",
            "   macro avg       0.90      0.90      0.90     33000\n",
            "weighted avg       0.90      0.90      0.90     33000\n",
            "\n"
          ],
          "name": "stdout"
        }
      ]
    },
    {
      "cell_type": "markdown",
      "metadata": {
        "id": "c0qtrwVaR2wr"
      },
      "source": [
        "# Prevendo preços de casas: um exemplo de regressão\n",
        "\n",
        "As redes neurais são bem conhecidas por problemas de classificação, por exemplo, são usadas na classificação de dígitos manuscritos, mas a questão é: será que será proveitoso se as usarmos para problemas de regressão?"
      ]
    },
    {
      "cell_type": "markdown",
      "metadata": {
        "id": "hIoxAo9gR2wr"
      },
      "source": [
        "### The Boston Housing Price dataset"
      ]
    },
    {
      "cell_type": "markdown",
      "metadata": {
        "id": "u9Ltcm0ZR2ws"
      },
      "source": [
        "**Carregando o Boston housing dataset**\n",
        "\n",
        "Esse problema, já visto anteriormente, busca prever o preço médio das casas em um determinado subúrbio de Boston no\n",
        "meados da década de 1970, a partir de dados sobre o subúrbio da época, como a taxa de criminalidade,\n",
        "taxa de imposto sobre a propriedade local e assim por diante. \n",
        "\n",
        "O conjunto de dados que você usará tem uma diferença interessante\n",
        "dos dois exemplos anteriores. Tem relativamente poucos pontos de dados: apenas 506, dividido\n",
        "entre 404 amostras de treinamento e 102 amostras de teste. E cada recurso nos dados de entrada\n",
        "(por exemplo, a taxa de criminalidade) tem uma escala diferente. Por exemplo, alguns valores são proporções, que assumem valores entre 0 e 1; outros assumem valores entre 1 e 12, outros entre 0 e 100, e assim por diante."
      ]
    },
    {
      "cell_type": "code",
      "metadata": {
        "id": "S_kPFtnkR2ws",
        "colab": {
          "base_uri": "https://localhost:8080/"
        },
        "outputId": "3cf52663-fce2-4470-9d75-84808f44b5fc"
      },
      "source": [
        "from tensorflow.keras.datasets import boston_housing\n",
        "(train_data, train_targets), (test_data, test_targets) = boston_housing.load_data()"
      ],
      "execution_count": null,
      "outputs": [
        {
          "output_type": "stream",
          "text": [
            "Downloading data from https://storage.googleapis.com/tensorflow/tf-keras-datasets/boston_housing.npz\n",
            "57344/57026 [==============================] - 0s 0us/step\n"
          ],
          "name": "stdout"
        }
      ]
    },
    {
      "cell_type": "code",
      "metadata": {
        "id": "z7-_3KECR2ws",
        "colab": {
          "base_uri": "https://localhost:8080/"
        },
        "outputId": "ce9a2847-244d-480e-94e3-b98ae0ecf2ae"
      },
      "source": [
        "train_data.shape"
      ],
      "execution_count": null,
      "outputs": [
        {
          "output_type": "execute_result",
          "data": {
            "text/plain": [
              "(404, 13)"
            ]
          },
          "metadata": {
            "tags": []
          },
          "execution_count": 2
        }
      ]
    },
    {
      "cell_type": "code",
      "metadata": {
        "id": "lRoSCHtWR2ws",
        "colab": {
          "base_uri": "https://localhost:8080/"
        },
        "outputId": "1df10d21-a50d-4423-cab4-09374307f720"
      },
      "source": [
        "test_data.shape"
      ],
      "execution_count": null,
      "outputs": [
        {
          "output_type": "execute_result",
          "data": {
            "text/plain": [
              "(102, 13)"
            ]
          },
          "metadata": {
            "tags": []
          },
          "execution_count": 3
        }
      ]
    },
    {
      "cell_type": "markdown",
      "metadata": {
        "id": "0pmr_bS3o_EB"
      },
      "source": [
        "Como você pode ver, você tem 404 amostras de treinamento e 102 amostras de teste, cada uma com 13\n",
        "características numéricas, como taxa de criminalidade per capita, número médio de cômodos por residência, acessibilidade a rodovias e assim por diante.\n",
        "\n",
        "Os targets são os valores medianos de casas ocupadas pelo proprietário, em milhares de\n",
        "dólares."
      ]
    },
    {
      "cell_type": "code",
      "metadata": {
        "id": "SGYVlCIcR2ws",
        "colab": {
          "base_uri": "https://localhost:8080/"
        },
        "outputId": "a3ef6e3f-f323-4fa8-c942-bbe415df0942"
      },
      "source": [
        "train_targets[:10]"
      ],
      "execution_count": null,
      "outputs": [
        {
          "output_type": "execute_result",
          "data": {
            "text/plain": [
              "array([15.2, 42.3, 50. , 21.1, 17.7, 18.5, 11.3, 15.6, 15.6, 14.4])"
            ]
          },
          "metadata": {
            "tags": []
          },
          "execution_count": 4
        }
      ]
    },
    {
      "cell_type": "markdown",
      "metadata": {
        "id": "yke3jOaoR2wt"
      },
      "source": [
        "### Preparando os dados\n",
        "\n",
        "Seria problemático alimentar uma rede neural com valores que assumissem faixas totalmente diferentes. A rede pode ser capaz de se adaptar automaticamente a tal heterogênea\n",
        "dados, mas definitivamente tornaria o aprendizado mais difícil. \n",
        "\n",
        "Uma prática recomendada amplamente difundida, como já visto, é\n",
        "fazer a normalização : para cada atributo na entrada\n",
        " (uma coluna na matriz de dados de entrada), você subtrai a média do atributo e\n",
        "divide pelo desvio padrão, de modo que o atributo seja centralizado em torno de 0 e tenha um\n",
        "desvio padrão de uma unidade."
      ]
    },
    {
      "cell_type": "markdown",
      "metadata": {
        "id": "0fQoad_aR2wt"
      },
      "source": [
        "**Normalizando**"
      ]
    },
    {
      "cell_type": "code",
      "metadata": {
        "id": "VwQkEfj-R2wt"
      },
      "source": [
        "mean = train_data.mean(axis=0)\n",
        "train_data -= mean\n",
        "std = train_data.std(axis=0)\n",
        "train_data /= std\n",
        "test_data -= mean\n",
        "test_data /= std"
      ],
      "execution_count": null,
      "outputs": []
    },
    {
      "cell_type": "markdown",
      "metadata": {
        "id": "VDkLUxRZR2wt"
      },
      "source": [
        "### Construindo o modelo\n",
        "\n",
        "Como poucos exemplos estão disponíveis, usaremos uma rede pequena com duas\n",
        "camadas, cada uma com 64 unidades. Em geral, quanto menos dados de treinamento você tiver, pior será o overfitting, e usar uma rede pequena é uma maneira de mitigar o sobreajuste."
      ]
    },
    {
      "cell_type": "code",
      "metadata": {
        "id": "ao9g8pCrR2wu"
      },
      "source": [
        "from tensorflow.keras import models\n",
        "from tensorflow.keras import layers\n",
        "def build_model():\n",
        "    model = models.Sequential([\n",
        "        layers.Dense(64, activation=\"relu\"),\n",
        "        layers.Dense(64, activation=\"relu\"),\n",
        "        layers.Dense(1)\n",
        "    ])\n",
        "    model.compile(optimizer=\"rmsprop\", loss=\"mse\", metrics=[\"mae\"])\n",
        "    return model"
      ],
      "execution_count": null,
      "outputs": []
    },
    {
      "cell_type": "markdown",
      "metadata": {
        "id": "i7fj8wjrrNrD"
      },
      "source": [
        "A rede termina com uma única unidade e sem ativação (será uma camada linear). \n",
        "\n",
        "Isso é\n",
        "uma configuração típica para regressão escalar (uma regressão onde você está tentando prever um único\n",
        "valor contínuo). \n",
        "\n",
        "Aplicar uma função de ativação restringiria o intervalo que a saída pode atingir; por exemplo, se você aplicou uma função de ativação sigmóide à última camada,\n",
        "a rede só poderia aprender a prever valores entre 0 e 1. \n",
        "\n",
        "Aqui, porque o último\n",
        "camada é puramente linear, a rede é livre para aprender a prever valores em qualquer faixa.\n",
        "\n",
        "Observe que compilamos a rede com a função de perda mse - erro quadrático médio,\n",
        "o quadrado da diferença entre as previsões e os alvos. Essa é uma\n",
        "função de perda amplamente usada para problemas de regressão.\n",
        " \n",
        " Estamos também monitorando uma nova métrica durante o treinamento: erro médio absoluto (MAE). É\n",
        "o valor absoluto da diferença entre as previsões e os alvos. \n",
        "\n",
        "Por exemplo, dado que os valores de saída estão em milhares de dólares, um MAE de 0.5 neste problema significaria que suas previsões estão erradas em 500 dólares na média."
      ]
    },
    {
      "cell_type": "markdown",
      "metadata": {
        "id": "E8flrkWzrxUn"
      },
      "source": [
        "**Treinando o modelo com 10 épocas**"
      ]
    },
    {
      "cell_type": "code",
      "metadata": {
        "colab": {
          "base_uri": "https://localhost:8080/"
        },
        "id": "XNwfwCdkrxU4",
        "outputId": "f917fc1a-7750-46fb-8150-41c91a3ab371"
      },
      "source": [
        "model = build_model()\n",
        "model.fit(train_data, train_targets,\n",
        "          epochs=10, batch_size=16, verbose=1)\n",
        "test_mse_score, test_mae_score = model.evaluate(test_data, test_targets)"
      ],
      "execution_count": null,
      "outputs": [
        {
          "output_type": "stream",
          "text": [
            "Epoch 1/10\n",
            "26/26 [==============================] - 1s 3ms/step - loss: 493.6822 - mae: 20.2157\n",
            "Epoch 2/10\n",
            "26/26 [==============================] - 0s 3ms/step - loss: 329.9137 - mae: 15.8200\n",
            "Epoch 3/10\n",
            "26/26 [==============================] - 0s 3ms/step - loss: 165.7915 - mae: 10.5153\n",
            "Epoch 4/10\n",
            "26/26 [==============================] - 0s 3ms/step - loss: 72.0470 - mae: 6.4346\n",
            "Epoch 5/10\n",
            "26/26 [==============================] - 0s 3ms/step - loss: 43.3742 - mae: 4.7927\n",
            "Epoch 6/10\n",
            "26/26 [==============================] - 0s 3ms/step - loss: 30.5893 - mae: 3.9170\n",
            "Epoch 7/10\n",
            "26/26 [==============================] - 0s 3ms/step - loss: 24.5408 - mae: 3.4698\n",
            "Epoch 8/10\n",
            "26/26 [==============================] - 0s 3ms/step - loss: 21.0748 - mae: 3.1628\n",
            "Epoch 9/10\n",
            "26/26 [==============================] - 0s 3ms/step - loss: 19.0601 - mae: 3.0032\n",
            "Epoch 10/10\n",
            "26/26 [==============================] - 0s 3ms/step - loss: 17.1227 - mae: 2.8493\n",
            "4/4 [==============================] - 0s 3ms/step - loss: 22.8591 - mae: 3.5096\n"
          ],
          "name": "stdout"
        }
      ]
    },
    {
      "cell_type": "code",
      "metadata": {
        "colab": {
          "base_uri": "https://localhost:8080/"
        },
        "id": "FfbPvOOFrxU5",
        "outputId": "6e9e19e1-ba70-408e-b9ce-f5fa07f8ca08"
      },
      "source": [
        "test_mae_score"
      ],
      "execution_count": null,
      "outputs": [
        {
          "output_type": "execute_result",
          "data": {
            "text/plain": [
              "3.509565830230713"
            ]
          },
          "metadata": {
            "tags": []
          },
          "execution_count": 12
        }
      ]
    },
    {
      "cell_type": "markdown",
      "metadata": {
        "id": "c2sUVM3nizOe"
      },
      "source": [
        "**Treinando o modelo com 100 épocas**"
      ]
    },
    {
      "cell_type": "code",
      "metadata": {
        "colab": {
          "base_uri": "https://localhost:8080/"
        },
        "id": "Pn5IXvCTiCmB",
        "outputId": "d0ef05bd-46c5-4be7-e0f9-91a65a11fb88"
      },
      "source": [
        "model.fit(train_data, train_targets,\n",
        "          epochs=100, batch_size=16, verbose=0)\n",
        "test_mse_score, test_mae_score = model.evaluate(test_data, test_targets)"
      ],
      "execution_count": null,
      "outputs": [
        {
          "output_type": "stream",
          "text": [
            "4/4 [==============================] - 0s 3ms/step - loss: 15.5279 - mae: 2.5047\n"
          ],
          "name": "stdout"
        }
      ]
    },
    {
      "cell_type": "code",
      "metadata": {
        "colab": {
          "base_uri": "https://localhost:8080/"
        },
        "id": "eRGewv6Xi8pG",
        "outputId": "6ab89a83-142f-40d9-b256-730ab0efffa2"
      },
      "source": [
        "test_mae_score"
      ],
      "execution_count": null,
      "outputs": [
        {
          "output_type": "execute_result",
          "data": {
            "text/plain": [
              "2.504748582839966"
            ]
          },
          "metadata": {
            "tags": []
          },
          "execution_count": 14
        }
      ]
    },
    {
      "cell_type": "markdown",
      "metadata": {
        "id": "krYQsarYrxU6"
      },
      "source": [
        "### Predições em novos dados"
      ]
    },
    {
      "cell_type": "code",
      "metadata": {
        "colab": {
          "base_uri": "https://localhost:8080/"
        },
        "id": "UhiLMDZKrxU6",
        "outputId": "edb03300-7507-49ad-8465-c07849d24ba4"
      },
      "source": [
        "predictions = model.predict(test_data)\n",
        "predictions[0]"
      ],
      "execution_count": null,
      "outputs": [
        {
          "output_type": "execute_result",
          "data": {
            "text/plain": [
              "array([8.718698], dtype=float32)"
            ]
          },
          "metadata": {
            "tags": []
          },
          "execution_count": 15
        }
      ]
    },
    {
      "cell_type": "markdown",
      "metadata": {
        "id": "b-hAQhpTR2wu"
      },
      "source": [
        "### Validação usando o K-fold validation\n",
        "\n",
        "Para ajustar os hiperparâmetros do modelo é aconselhável fazer um teste usando o k-fold validation."
      ]
    },
    {
      "cell_type": "code",
      "metadata": {
        "id": "d7P_meLCR2wu",
        "colab": {
          "base_uri": "https://localhost:8080/"
        },
        "outputId": "5dd01b53-a015-47fc-cfc4-1b58cb2a3209"
      },
      "source": [
        "import numpy as np\n",
        "\n",
        "k = 4\n",
        "num_val_samples = len(train_data) // k\n",
        "num_epochs = 100\n",
        "all_scores = []\n",
        "for i in range(k):\n",
        "    print(f\"Processing fold #{i}\")\n",
        "    val_data = train_data[i * num_val_samples: (i + 1) * num_val_samples]\n",
        "    val_targets = train_targets[i * num_val_samples: (i + 1) * num_val_samples]\n",
        "    partial_train_data = np.concatenate(\n",
        "        [train_data[:i * num_val_samples],\n",
        "         train_data[(i + 1) * num_val_samples:]],\n",
        "        axis=0)\n",
        "    partial_train_targets = np.concatenate(\n",
        "        [train_targets[:i * num_val_samples],\n",
        "         train_targets[(i + 1) * num_val_samples:]],\n",
        "        axis=0)\n",
        "    model = build_model()\n",
        "    model.fit(partial_train_data, partial_train_targets,\n",
        "              epochs=num_epochs, batch_size=1, verbose=0)\n",
        "    val_mse, val_mae = model.evaluate(val_data, val_targets, verbose=0)\n",
        "    all_scores.append(val_mae)"
      ],
      "execution_count": null,
      "outputs": [
        {
          "output_type": "stream",
          "text": [
            "Processing fold #0\n",
            "Processing fold #1\n",
            "Processing fold #2\n",
            "Processing fold #3\n"
          ],
          "name": "stdout"
        }
      ]
    },
    {
      "cell_type": "code",
      "metadata": {
        "id": "MCHlVgzER2wu",
        "colab": {
          "base_uri": "https://localhost:8080/"
        },
        "outputId": "873f4aff-6ca4-4415-ec43-6dba24dd5db9"
      },
      "source": [
        "all_scores"
      ],
      "execution_count": null,
      "outputs": [
        {
          "output_type": "execute_result",
          "data": {
            "text/plain": [
              "[2.1919538974761963, 2.791109800338745, 2.5777032375335693, 2.555673360824585]"
            ]
          },
          "metadata": {
            "tags": []
          },
          "execution_count": 18
        }
      ]
    },
    {
      "cell_type": "code",
      "metadata": {
        "id": "fHzvyUkVR2wv",
        "colab": {
          "base_uri": "https://localhost:8080/"
        },
        "outputId": "a7caa403-f7fc-4371-e88a-56fd33ae47d0"
      },
      "source": [
        "np.mean(all_scores)"
      ],
      "execution_count": null,
      "outputs": [
        {
          "output_type": "execute_result",
          "data": {
            "text/plain": [
              "2.529110074043274"
            ]
          },
          "metadata": {
            "tags": []
          },
          "execution_count": 19
        }
      ]
    },
    {
      "cell_type": "markdown",
      "metadata": {
        "id": "B5EBWMwgtBgk"
      },
      "source": [
        "As diferentes execuções mostram, de fato, pontuações de validação bastante diferentes, de 1.9 a 2.92.\n",
        "\n",
        "A média (2.4) é uma métrica muito mais confiável do que qualquer pontuação única. \n",
        "\n",
        "Neste caso, você estamos com um erro de 2400 dolares em média,\n",
        "o que é significativo considerando que os preços variam de 10000 a 50000.\n",
        " \n",
        "Vamos tentar treinar a rede um pouco mais: 500 épocas. \n",
        "\n",
        "Para manter um registro de quão bem o modelo faz em cada época, modificaremos o loop de treinamento para salvar o log de pontuação de validação por época."
      ]
    },
    {
      "cell_type": "markdown",
      "metadata": {
        "id": "QH_xtg3kR2wv"
      },
      "source": [
        "**Salvando os logs de validação de cada fold**"
      ]
    },
    {
      "cell_type": "code",
      "metadata": {
        "id": "1u_U31TxR2wv",
        "colab": {
          "base_uri": "https://localhost:8080/"
        },
        "outputId": "32179d92-b981-4c12-d7fa-15e6a73a1daf"
      },
      "source": [
        "# MUIIIITO DEMORADO...\n",
        "num_epochs = 500\n",
        "all_mae_histories = []\n",
        "for i in range(k):\n",
        "    print(f\"Processing fold #{i}\")\n",
        "    val_data = train_data[i * num_val_samples: (i + 1) * num_val_samples]\n",
        "    val_targets = train_targets[i * num_val_samples: (i + 1) * num_val_samples]\n",
        "    partial_train_data = np.concatenate(\n",
        "        [train_data[:i * num_val_samples],\n",
        "         train_data[(i + 1) * num_val_samples:]],\n",
        "        axis=0)\n",
        "    partial_train_targets = np.concatenate(\n",
        "        [train_targets[:i * num_val_samples],\n",
        "         train_targets[(i + 1) * num_val_samples:]],\n",
        "        axis=0)\n",
        "    model = build_model()\n",
        "    history = model.fit(partial_train_data, partial_train_targets,\n",
        "                        validation_data=(val_data, val_targets),\n",
        "                        epochs=num_epochs, batch_size=1, verbose=0)\n",
        "    mae_history = history.history[\"val_mae\"]\n",
        "    all_mae_histories.append(mae_history)"
      ],
      "execution_count": null,
      "outputs": [
        {
          "output_type": "stream",
          "text": [
            "Processing fold #0\n",
            "Processing fold #1\n",
            "Processing fold #2\n",
            "Processing fold #3\n"
          ],
          "name": "stdout"
        }
      ]
    },
    {
      "cell_type": "markdown",
      "metadata": {
        "id": "mtKCL4evR2wv"
      },
      "source": [
        "**Construindo a história de sucessivas pontuações médias de validação K-fold**"
      ]
    },
    {
      "cell_type": "code",
      "metadata": {
        "id": "8RvFkHEUR2ww"
      },
      "source": [
        "average_mae_history = [\n",
        "    np.mean([x[i] for x in all_mae_histories]) for i in range(num_epochs)]"
      ],
      "execution_count": null,
      "outputs": []
    },
    {
      "cell_type": "markdown",
      "metadata": {
        "id": "81BW4KZ5R2ww"
      },
      "source": [
        "**Plotando as pontuações das validações**"
      ]
    },
    {
      "cell_type": "code",
      "metadata": {
        "id": "Jgu9KQxiR2ww",
        "colab": {
          "base_uri": "https://localhost:8080/",
          "height": 279
        },
        "outputId": "a79827dd-121c-42c3-bb92-827922a310e0"
      },
      "source": [
        "import matplotlib.pyplot as plt\n",
        "plt.plot(range(1, len(average_mae_history) + 1), average_mae_history)\n",
        "plt.xlabel(\"Epochs\")\n",
        "plt.ylabel(\"Validation MAE\")\n",
        "plt.show()"
      ],
      "execution_count": null,
      "outputs": [
        {
          "output_type": "display_data",
          "data": {
            "image/png": "[encoded data removed]",
            "text/plain": [
              "<Figure size 432x288 with 1 Axes>"
            ]
          },
          "metadata": {
            "tags": [],
            "needs_background": "light"
          }
        }
      ]
    },
    {
      "cell_type": "markdown",
      "metadata": {
        "id": "DYz9hYDAR2ww"
      },
      "source": [
        "**Plotando pontuações de validação suavizadas, excluindo os primeiros 10 pontos de dados**"
      ]
    },
    {
      "cell_type": "code",
      "metadata": {
        "id": "edUC0RPJR2ww",
        "colab": {
          "base_uri": "https://localhost:8080/",
          "height": 279
        },
        "outputId": "03155ea0-a0e5-4561-d9e8-4449115138f6"
      },
      "source": [
        "def smooth_curve(points, factor=0.9):\n",
        "    smoothed_points = []\n",
        "    for point in points:\n",
        "        if smoothed_points:\n",
        "            previous = smoothed_points[-1]\n",
        "            smoothed_points.append(previous * factor + point * (1 - factor))\n",
        "        else:\n",
        "            smoothed_points.append(point)\n",
        "    return smoothed_points\n",
        "smooth_mae_history = smooth_curve(average_mae_history[10:])\n",
        "plt.plot(range(1, len(smooth_mae_history) + 1), smooth_mae_history)\n",
        "plt.xlabel(\"Epochs\")\n",
        "plt.ylabel(\"Validation MAE\")\n",
        "plt.show()"
      ],
      "execution_count": null,
      "outputs": [
        {
          "output_type": "display_data",
          "data": {
            "image/png": "[encoded data removed]",
            "text/plain": [
              "<Figure size 432x288 with 1 Axes>"
            ]
          },
          "metadata": {
            "tags": [],
            "needs_background": "light"
          }
        }
      ]
    },
    {
      "cell_type": "markdown",
      "metadata": {
        "id": "2LMDScyktzeZ"
      },
      "source": [
        "De acordo com este gráfico, a validação MAE para de melhorar significativamente após 80 épocas.\n",
        "\n",
        "Depois desse ponto, você começa a ajustar-se excessivamente.\n",
        "\n",
        "Assim que terminar de ajustar outros parâmetros do modelo (além do\n",
        "número de épocas, você também pode ajustar o tamanho das camadas ocultas), você pode treinar um\n",
        "modelo de produção final em todos os dados de treinamento, com os melhores parâmetros, e então\n",
        "olhe seu desempenho nos dados de teste."
      ]
    },
    {
      "cell_type": "markdown",
      "metadata": {
        "id": "0OfP7jy_R2wx"
      },
      "source": [
        "**Treinando o modelo final**"
      ]
    },
    {
      "cell_type": "code",
      "metadata": {
        "id": "FbkYjnngR2wx",
        "colab": {
          "base_uri": "https://localhost:8080/"
        },
        "outputId": "4c98a5fc-c2b2-488a-fc90-ee8735051ac7"
      },
      "source": [
        "model = build_model()\n",
        "model.fit(train_data, train_targets,\n",
        "          epochs=80, batch_size=16, verbose=0)\n",
        "test_mse_score, test_mae_score = model.evaluate(test_data, test_targets)"
      ],
      "execution_count": null,
      "outputs": [
        {
          "output_type": "stream",
          "text": [
            "4/4 [==============================] - 0s 3ms/step - loss: 19.3469 - mae: 2.8898\n"
          ],
          "name": "stdout"
        }
      ]
    },
    {
      "cell_type": "code",
      "metadata": {
        "id": "W6d7p_P3R2wx",
        "colab": {
          "base_uri": "https://localhost:8080/"
        },
        "outputId": "3cf2f834-3717-4ba3-8a66-75cfd72936b2"
      },
      "source": [
        "test_mae_score"
      ],
      "execution_count": null,
      "outputs": [
        {
          "output_type": "execute_result",
          "data": {
            "text/plain": [
              "2.8898303508758545"
            ]
          },
          "metadata": {
            "tags": []
          },
          "execution_count": 26
        }
      ]
    },
    {
      "cell_type": "markdown",
      "metadata": {
        "id": "PjD3sr7mR2wx"
      },
      "source": [
        "### Predições em novos dados"
      ]
    },
    {
      "cell_type": "code",
      "metadata": {
        "id": "WKwocbaER2wx",
        "colab": {
          "base_uri": "https://localhost:8080/"
        },
        "outputId": "45777fe0-1fa3-4195-f9a8-2aaf0218d6c0"
      },
      "source": [
        "predictions = model.predict(test_data)\n",
        "predictions[0]"
      ],
      "execution_count": null,
      "outputs": [
        {
          "output_type": "execute_result",
          "data": {
            "text/plain": [
              "array([8.861489], dtype=float32)"
            ]
          },
          "metadata": {
            "tags": []
          },
          "execution_count": 27
        }
      ]
    },
    {
      "cell_type": "markdown",
      "metadata": {
        "id": "WzfP7rcSsRLI"
      },
      "source": [
        "# Exercício \n",
        "\n",
        "Execute a análise de regressão num problema sintético usando o make_regression do sklearn."
      ]
    },
    {
      "cell_type": "code",
      "metadata": {
        "id": "iUEORxtJqpbR"
      },
      "source": [
        "from tensorflow.keras import models\n",
        "from tensorflow.keras import layers\n",
        "def build_model():\n",
        "    model = models.Sequential([\n",
        "        layers.Dense(64, activation=\"relu\"),\n",
        "        layers.Dense(64, activation=\"relu\"),\n",
        "        layers.Dense(1)\n",
        "    ])\n",
        "    model.compile(optimizer=\"rmsprop\", loss=\"mse\", metrics=[\"mae\"])\n",
        "    return model"
      ],
      "execution_count": null,
      "outputs": []
    },
    {
      "cell_type": "code",
      "metadata": {
        "id": "I_vKQ1xnrIeW"
      },
      "source": [
        "from sklearn.model_selection import train_test_split\n",
        "from sklearn.datasets import make_regression\n",
        "n_samples = 1000\n",
        "n_outliers = 50\n",
        "\n",
        "X, y, coef = make_regression(n_samples=n_samples, n_features=1,\n",
        "                                      n_informative=1, noise=10,\n",
        "                                      coef=True, random_state=0)\n",
        "\n",
        "# incluindo outliers \n",
        "np.random.seed(0)\n",
        "X[:n_outliers] = 3 + 0.5 * np.random.normal(size=(n_outliers, 1))\n",
        "y[:n_outliers] = -3 + 10 * np.random.normal(size=n_outliers)\n"
      ],
      "execution_count": null,
      "outputs": []
    },
    {
      "cell_type": "code",
      "metadata": {
        "id": "PF8rYw19sj_g",
        "colab": {
          "base_uri": "https://localhost:8080/",
          "height": 656
        },
        "outputId": "1ce59903-742e-438d-91a2-7d7fecb7c7c7"
      },
      "source": [
        "from sklearn import linear_model\n",
        "\n",
        "# regressão linear para com´paração\n",
        "lr = linear_model.LinearRegression()\n",
        "lr.fit(X, y)\n",
        "\n",
        "# usando o keras\n",
        "model = build_model()\n",
        "model.fit(X, y,\n",
        "          epochs=10, batch_size=16, verbose=1)\n",
        "\n",
        "# predizendo dados com os modelos\n",
        "line_X = np.arange(X.min(), X.max())[:, np.newaxis]\n",
        "line_y = lr.predict(line_X)\n",
        "line_y_nn = model.predict(line_X)\n",
        "\n",
        "lw = 2\n",
        "plt.scatter(X[:n_outliers], y[:n_outliers], color='yellowgreen', marker='.',\n",
        "            label='Inliers')\n",
        "plt.scatter(X[n_outliers:], y[n_outliers:], color='gold', marker='.',\n",
        "            label='Outliers')\n",
        "plt.plot(line_X, line_y, color='navy', linewidth=lw, label='Linear regressor')\n",
        "plt.plot(line_X, line_y_nn, color='cornflowerblue', linewidth=lw,\n",
        "         label='Neural Network')\n",
        "plt.legend(loc='lower right')\n",
        "plt.xlabel(\"Entrada\")\n",
        "plt.ylabel(\"Resposta\")\n",
        "plt.show()"
      ],
      "execution_count": null,
      "outputs": [
        {
          "output_type": "stream",
          "text": [
            "Epoch 1/10\n",
            "63/63 [==============================] - 1s 3ms/step - loss: 6156.7500 - mae: 61.2482\n",
            "Epoch 2/10\n",
            "63/63 [==============================] - 0s 3ms/step - loss: 5621.7432 - mae: 58.5633\n",
            "Epoch 3/10\n",
            "63/63 [==============================] - 0s 3ms/step - loss: 4723.9795 - mae: 53.6614\n",
            "Epoch 4/10\n",
            "63/63 [==============================] - 0s 3ms/step - loss: 3610.6118 - mae: 46.3460\n",
            "Epoch 5/10\n",
            "63/63 [==============================] - 0s 3ms/step - loss: 2573.5225 - mae: 37.3862\n",
            "Epoch 6/10\n",
            "63/63 [==============================] - 0s 2ms/step - loss: 1812.5303 - mae: 28.8451\n",
            "Epoch 7/10\n",
            "63/63 [==============================] - 0s 3ms/step - loss: 1463.1157 - mae: 23.8870\n",
            "Epoch 8/10\n",
            "63/63 [==============================] - 0s 3ms/step - loss: 1369.2826 - mae: 22.4954\n",
            "Epoch 9/10\n",
            "63/63 [==============================] - 0s 3ms/step - loss: 1337.6538 - mae: 21.7520\n",
            "Epoch 10/10\n",
            "63/63 [==============================] - 0s 3ms/step - loss: 1311.8712 - mae: 21.3331\n",
            "WARNING:tensorflow:5 out of the last 11 calls to <function Model.make_predict_function.<locals>.predict_function at 0x7f1e3a7769e0> triggered tf.function retracing. Tracing is expensive and the excessive number of tracings could be due to (1) creating @tf.function repeatedly in a loop, (2) passing tensors with different shapes, (3) passing Python objects instead of tensors. For (1), please define your @tf.function outside of the loop. For (2), @tf.function has experimental_relax_shapes=True option that relaxes argument shapes that can avoid unnecessary retracing. For (3), please refer to https://www.tensorflow.org/guide/function#controlling_retracing and https://www.tensorflow.org/api_docs/python/tf/function for  more details.\n"
          ],
          "name": "stdout"
        },
        {
          "output_type": "display_data",
          "data": {
            "image/png": "[encoded data removed]",
            "text/plain": [
              "<Figure size 432x288 with 1 Axes>"
            ]
          },
          "metadata": {
            "tags": [],
            "needs_background": "light"
          }
        }
      ]
    },
    {
      "cell_type": "markdown",
      "metadata": {
        "id": "LWfFdDY0TEIp"
      },
      "source": [
        "# Referências\n",
        "\n",
        "https://www.tensorflow.org/get_started/\n",
        "\n",
        "https://github.com/tensorflow/tensorflow\n",
        "\n",
        "https://cloud.google.com/ml-engine/docs/tensorflow/getting-started-training-prediction\n",
        "\n",
        "Deep Neural Networks for Regression Problems\n",
        "\n",
        "https://towardsdatascience.com/deep-neural-networks-for-regression-problems-81321897ca33\n"
      ]
    }
  ]
}